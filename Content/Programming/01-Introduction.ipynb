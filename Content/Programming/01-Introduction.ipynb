{
 "cells": [
  {
   "cell_type": "markdown",
   "metadata": {},
   "source": [
    "# Introduction"
   ]
  },
  {
   "cell_type": "markdown",
   "metadata": {},
   "source": [
    "**Learning Objective:** Learn how to use Python effectively for data science."
   ]
  },
  {
   "cell_type": "markdown",
   "metadata": {},
   "source": [
    "A prerequisite for this course is that you already know how to program, and hopefully already in Python. However, many of you may be rusty with Python and some of you might not have worked in Python yet. Lastly, many of you may have learned Python outside of the context of data science. To bring everyone up to the same level with using Python for data science, we begin with a brief tour of Python for data science. For this purpose we will use Jake VanderPlas's excellent [Whirlwind Tour of Python](../WhirlwindTourOfPython/00-Introduction.ipynb).\n",
    "\n",
    "This book is available on GitHub at https://github.com/jakevdp/WhirlwindTourOfPython and is included in this repository as a Git submodule."
   ]
  }
 ],
 "metadata": {
  "kernelspec": {
   "display_name": "Python 3",
   "language": "python",
   "name": "python3"
  },
  "language_info": {
   "codemirror_mode": {
    "name": "ipython",
    "version": 3
   },
   "file_extension": ".py",
   "mimetype": "text/x-python",
   "name": "python",
   "nbconvert_exporter": "python",
   "pygments_lexer": "ipython3",
   "version": "3.5.2"
  }
 },
 "nbformat": 4,
 "nbformat_minor": 2
}
