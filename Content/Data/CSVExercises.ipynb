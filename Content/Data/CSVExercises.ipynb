{
 "metadata": {
  "language_info": {
   "codemirror_mode": {
    "name": "ipython",
    "version": 2
   },
   "mimetype": "text/x-python",
   "name": "python",
   "pygments_lexer": "ipython2"
  },
  "name": "",
  "signature": "sha256:1ccb3140730821675874a24411383ceea1fbdc326cafdb32c69cf025edfede41"
 },
 "nbformat": 3,
 "nbformat_minor": 0,
 "worksheets": [
  {
   "cells": [
    {
     "cell_type": "markdown",
     "metadata": {},
     "source": [
      "# CSV Exercises"
     ]
    },
    {
     "cell_type": "code",
     "collapsed": true,
     "input": [
      "%matplotlib inline\n",
      "import matplotlib.pyplot as plt\n",
      "import numpy as np\n",
      "import pandas as pd"
     ],
     "language": "python",
     "metadata": {},
     "outputs": [],
     "prompt_number": 1
    },
    {
     "cell_type": "markdown",
     "metadata": {},
     "source": [
      "## 2014 SF Giants"
     ]
    },
    {
     "cell_type": "markdown",
     "metadata": {},
     "source": [
      "The website http://www.baseball-reference.com/teams has a a large and up to date set of baseball statistics available as CSV files.\n",
      "\n",
      "* Find the team batting statistics for the 2014 SF Giants.\n",
      "* Download the table as a CSV files and put it next to this notebook.\n",
      "* Read the CSV file into a `DataFrame` named `giants`."
     ]
    },
    {
     "cell_type": "markdown",
     "metadata": {},
     "source": [
      "This data set has the column headers repeated in various rows. While this makes the table easier to read for humans, it makes analysis more difficult. Clear out the rows that have the repeatd columns names."
     ]
    },
    {
     "cell_type": "code",
     "collapsed": true,
     "input": [],
     "language": "python",
     "metadata": {},
     "outputs": []
    },
    {
     "cell_type": "markdown",
     "metadata": {},
     "source": [
      "Remove the last few rows of the table that has team totals."
     ]
    },
    {
     "cell_type": "code",
     "collapsed": true,
     "input": [],
     "language": "python",
     "metadata": {},
     "outputs": []
    },
    {
     "cell_type": "markdown",
     "metadata": {},
     "source": [
      "Convert the Runs (`R`) and Hits (`H`) columns to floats and build histograms showing their distribution."
     ]
    },
    {
     "cell_type": "code",
     "collapsed": true,
     "input": [],
     "language": "python",
     "metadata": {},
     "outputs": []
    },
    {
     "cell_type": "markdown",
     "metadata": {},
     "source": [
      "Create a horizontal bar chart showing the top 10 players and the number of hits they had in 2014."
     ]
    },
    {
     "cell_type": "code",
     "collapsed": true,
     "input": [],
     "language": "python",
     "metadata": {},
     "outputs": []
    }
   ],
   "metadata": {}
  }
 ]
}