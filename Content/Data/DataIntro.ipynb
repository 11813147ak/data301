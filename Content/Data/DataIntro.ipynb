{
 "metadata": {
  "kernelspec": {
   "codemirror_mode": {
    "name": "ipython",
    "version": 2
   },
   "display_name": "IPython (Python 2)",
   "language": "python",
   "name": "python2"
  },
  "name": "",
  "signature": "sha256:156bf3d0d107b2ca651c039bbb31329d15085b879e07a61ba1d16f1f1b2a58c4"
 },
 "nbformat": 3,
 "nbformat_minor": 0,
 "worksheets": [
  {
   "cells": [
    {
     "cell_type": "markdown",
     "metadata": {},
     "source": [
      "# Data 1: Introduction to Data"
     ]
    },
    {
     "cell_type": "markdown",
     "metadata": {},
     "source": [
      "## Types of data"
     ]
    },
    {
     "cell_type": "markdown",
     "metadata": {},
     "source": [
      "In this section, when I talk about the \"type\" of the data, I am not talking about the `dtype` (`int`, `float`, `bool`, `str`) used to represent the data in a NumPy array or Pandas DataFrame. In this context the \"type\" of the data is used in a more abstract sense."
     ]
    },
    {
     "cell_type": "markdown",
     "metadata": {},
     "source": [
      "### Nominal"
     ]
    },
    {
     "cell_type": "markdown",
     "metadata": {},
     "source": [
      "* Non-numerical\n",
      "* Usually, but not always strings\n",
      "* Non-ordered\n",
      "* Cannot be averaged\n",
      "* Examples:\n",
      "  - \"Oregon,\" \"California,\" \"Texas,\" \"Colorado,\" etc.\n",
      "  - \"produce,\" \"dairy,\" \"frozen,\" etc.\n",
      "  - \"male,\" \"female\""
     ]
    },
    {
     "cell_type": "markdown",
     "metadata": {},
     "source": [
      "### Ordinal"
     ]
    },
    {
     "cell_type": "markdown",
     "metadata": {},
     "source": [
      "* Non-numerical\n",
      "* Usually, but not always strings\n",
      "* Natural ordering\n",
      "* Sometimes can be averaged\n",
      "* Can assign numerical scale, but it will be arbitrary\n",
      "* Examples:\n",
      "  - \u201cstrongly disagree,\u201d \u201cdisagree,\u201d \"neutral,\u201d \u201cagree,\u201d \u201cstrongly agree\u201d\n",
      "  - \"cold,\" \"hot\"\n",
      "  - \"short,\" \"medium,\" \"tall\""
     ]
    },
    {
     "cell_type": "markdown",
     "metadata": {},
     "source": [
      "### Interval"
     ]
    },
    {
     "cell_type": "markdown",
     "metadata": {},
     "source": [
      "* Equally spaced numerical data\n",
      "* Ordered\n",
      "* Can either be discrete (int) or continuous (float)\n",
      "* No meaningful zero point\n",
      "* Examples:\n",
      "  - Temperature in F or C\n",
      "  - Calendar year (2001)"
     ]
    },
    {
     "cell_type": "markdown",
     "metadata": {},
     "source": [
      "### Ratio"
     ]
    },
    {
     "cell_type": "markdown",
     "metadata": {},
     "source": [
      "* Equally spaced, ordered numerical data\n",
      "* Can either be discrete or continuous\n",
      "* Meaningful zero point that indicates an absence of the measured entity\n",
      "* Examples:\n",
      "  - Age in years\n",
      "  - Height in inches"
     ]
    },
    {
     "cell_type": "markdown",
     "metadata": {},
     "source": [
      "### Categorical\n",
      "\n",
      "* Data is labelled by well separated categories\n",
      "* Often used as an umbrella for nominal and ordinal, which are unordered and ordered categorical data types respectively."
     ]
    },
    {
     "cell_type": "markdown",
     "metadata": {},
     "source": [
      "## Variables"
     ]
    },
    {
     "cell_type": "markdown",
     "metadata": {},
     "source": [
      "* A **variable** is some quantity that is measured, such as \"age\"\n",
      "* A single variable can be measured in different ways that give different data types:\n",
      "  - \"young\" or \"old\" = ordinal\n",
      "  - Age ranges (0-9, 10-19, ...) = ordinal\n",
      "  - Age in years = ratio"
     ]
    },
    {
     "cell_type": "markdown",
     "metadata": {},
     "source": [
      "## Records and data sets\n",
      "\n",
      " * A **record** or **sample** is one measurement of a set of variables\n",
      " * A **data set** is a set of records that measure the same set of variables in the same way"
     ]
    },
    {
     "cell_type": "markdown",
     "metadata": {},
     "source": [
      "## Resources"
     ]
    },
    {
     "cell_type": "markdown",
     "metadata": {},
     "source": [
      "* [Data+Design](https://infoactive.co/data-design) online book, Infoactive, RJI."
     ]
    }
   ],
   "metadata": {}
  }
 ]
}