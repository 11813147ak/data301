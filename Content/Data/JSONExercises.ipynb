{
 "metadata": {
  "kernelspec": {
   "codemirror_mode": {
    "name": "ipython",
    "version": 2
   },
   "display_name": "IPython (Python 2)",
   "language": "python",
   "name": "python2"
  },
  "name": "",
  "signature": "sha256:70b3bb3fbbb2b8cfc1346bcae5ea6ab2d157684f39e99d6daa9267be98865cd9"
 },
 "nbformat": 3,
 "nbformat_minor": 0,
 "worksheets": [
  {
   "cells": [
    {
     "cell_type": "markdown",
     "metadata": {},
     "source": [
      "# Working with JSON Exercises"
     ]
    },
    {
     "cell_type": "code",
     "collapsed": false,
     "input": [
      "%matplotlib inline\n",
      "import matplotlib.pyplot as plt\n",
      "import numpy as np\n",
      "import pandas as pd"
     ],
     "language": "python",
     "metadata": {},
     "outputs": []
    },
    {
     "cell_type": "markdown",
     "metadata": {},
     "source": [
      "This will style matplotlib figures nicely:"
     ]
    },
    {
     "cell_type": "code",
     "collapsed": false,
     "input": [
      "import seaborn\n",
      "seaborn.set_style('whitegrid')\n",
      "seaborn.set_context('notebook')"
     ],
     "language": "python",
     "metadata": {},
     "outputs": [],
     "prompt_number": 87
    },
    {
     "cell_type": "markdown",
     "metadata": {},
     "source": [
      "# Using JSON to find your location"
     ]
    },
    {
     "cell_type": "markdown",
     "metadata": {},
     "source": [
      "In this exercises you will get make a HTTP request to a service that returns your location as JSON data by looking at your IP address.\n",
      "\n",
      "1. Read the documentation of the Python `requests` library [here](http://docs.python-requests.org/en/latest/) to learn how to make an HTTP `GET` request. A `GET` request is the most basic way of downloading something from the web. Your web browser does this everytime you visit a page.\n",
      "2. Find the right URL to make a JSON GeoIP request from this service: http://docs.python-requests.org/en/latest/\n",
      "3. Make the request using `request.get`, and parse the `.text` attribute of the response using `json.loads`.\n",
      "4. Use the resulting Python dict to print your latitute and logitude.\n",
      "5. For extra credit try to use the `json` method of the response."
     ]
    },
    {
     "cell_type": "code",
     "collapsed": false,
     "input": [
      "import requests\n",
      "import json"
     ],
     "language": "python",
     "metadata": {},
     "outputs": [],
     "prompt_number": 47
    },
    {
     "cell_type": "code",
     "collapsed": false,
     "input": [],
     "language": "python",
     "metadata": {},
     "outputs": []
    },
    {
     "cell_type": "code",
     "collapsed": false,
     "input": [],
     "language": "python",
     "metadata": {},
     "outputs": []
    },
    {
     "cell_type": "code",
     "collapsed": false,
     "input": [],
     "language": "python",
     "metadata": {},
     "outputs": []
    },
    {
     "cell_type": "markdown",
     "metadata": {},
     "source": [
      "## Find documentation for a public JSON REST API"
     ]
    },
    {
     "cell_type": "markdown",
     "metadata": {},
     "source": [
      "Find the online documentation for the REST APIs of two of the following companies:\n",
      "\n",
      "* Twitter\n",
      "* Facebook\n",
      "* New York Times\n",
      "* Wikipedia\n",
      "* Amazon Web Services\n",
      "\n",
      "Often times, companies or individuals have written custom Python packages that make using their REST APIs easier. Which of the above web services have Python packages available for them?\n",
      "\n",
      "Can you find other companies that offer REST APIs?"
     ]
    },
    {
     "cell_type": "markdown",
     "metadata": {},
     "source": [
      "## California home prices using Quandl"
     ]
    },
    {
     "cell_type": "markdown",
     "metadata": {},
     "source": [
      "The website http://quandl.com is an absolutely spectacular source of open data. It provides millions of data sets, on a wide range of topics in a range of formats (CSV, JSON, Excel). For the purpose of this exercise you are going to learn how to search Quandl for a data set and then load that data set into a `DataFrame` using `requests`.\n",
      "\n",
      "1. Search http://quandl.com to find their data set on the historical home prices in California. This is part of their Zillow collection. You are looking for a data set that has two columns: i) \"Date\" which is a monthly date ii) \"Value\" which is the average home value for that month.\n",
      "2. Click of the JSON button and copy the URL that is shown into a Python variable.\n",
      "3. Make an HTTP `GET` request to that URL using `requests`.\n",
      "4. Parse the resulting JSON data and look at it.\n",
      "5. Use the `data` and `column_names` fields of the resulting JSON data to build a `DataFrame` that has those two columns.\n",
      "6. Sort the `DataFrame` by the date column (most recent date last)\n",
      "7. Plot the data using the `.plot(x=\"Date\", y=\"Value)` method call on the `DataFrame`."
     ]
    },
    {
     "cell_type": "code",
     "collapsed": false,
     "input": [],
     "language": "python",
     "metadata": {},
     "outputs": []
    },
    {
     "cell_type": "code",
     "collapsed": false,
     "input": [],
     "language": "python",
     "metadata": {},
     "outputs": []
    },
    {
     "cell_type": "code",
     "collapsed": false,
     "input": [],
     "language": "python",
     "metadata": {},
     "outputs": []
    }
   ],
   "metadata": {}
  }
 ]
}