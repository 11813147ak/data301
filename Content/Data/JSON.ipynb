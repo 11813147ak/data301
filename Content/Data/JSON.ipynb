{
 "metadata": {
  "kernelspec": {
   "display_name": "IPython (Python 2)",
   "name": "python2"
  },
  "language_info": {
   "codemirror_mode": {
    "name": "ipython",
    "version": 2
   },
   "mimetype": "text/x-python",
   "name": "python",
   "pygments_lexer": "ipython2"
  },
  "name": "",
  "signature": "sha256:e3bc82abcc4e5679cc0b6243140ad2e89c036fba185cce14e6fcc086528295f9"
 },
 "nbformat": 3,
 "nbformat_minor": 0,
 "worksheets": [
  {
   "cells": [
    {
     "cell_type": "markdown",
     "metadata": {},
     "source": [
      "# Working With JSON Data"
     ]
    },
    {
     "cell_type": "markdown",
     "metadata": {},
     "source": [
      "**Learning Objectives:** Learn how to find and download JSON data from the web and work with it in Python and Pandas."
     ]
    },
    {
     "cell_type": "code",
     "collapsed": false,
     "input": [
      "%matplotlib inline\n",
      "import matplotlib.pyplot as plt\n",
      "import numpy as np\n",
      "import pandas as pd"
     ],
     "language": "python",
     "metadata": {},
     "outputs": [],
     "prompt_number": 1
    },
    {
     "cell_type": "markdown",
     "metadata": {},
     "source": [
      "## About JSON"
     ]
    },
    {
     "cell_type": "markdown",
     "metadata": {},
     "source": [
      "JSON stands for \"JavaScript Object Notation\". In spite of the \"JavaScript\" in its name, JSON has become the universal data format of the web. Every modern programming language has the ability to read and write JSON data and most data focused companies provide data in the JSON format.\n",
      "\n",
      "From the perspective of Python, JSON has the ability to encode the following types of data:\n",
      "\n",
      "* `dict`\n",
      "* `list` and `tuple`\n",
      "* `str`\n",
      "* `float`\n",
      "* `int`\n",
      "* `bool`\n",
      "* `None` and `NaN` as `null`\n",
      "\n",
      "Much of the modern web is built out of JSON based web services. These web services are often referred to as RESTful (Representational State Transfer) APIs. These types of APIs are used by:\n",
      "\n",
      "* Facebook\n",
      "* Twitter\n",
      "* LinkedIn\n",
      "* Wikipedia\n",
      "* Amazon\n",
      "* New York Times\n",
      "* ..."
     ]
    },
    {
     "cell_type": "markdown",
     "metadata": {},
     "source": [
      "## Basic JSON data"
     ]
    },
    {
     "cell_type": "markdown",
     "metadata": {},
     "source": [
      "There are a number of Python libraries capable of working with JSON data. In this case we will use the `json` package from the standard library:"
     ]
    },
    {
     "cell_type": "code",
     "collapsed": false,
     "input": [
      "import json"
     ],
     "language": "python",
     "metadata": {},
     "outputs": [],
     "prompt_number": 2
    },
    {
     "cell_type": "markdown",
     "metadata": {},
     "source": [
      "In Python, JSON data isn't special at all. It is just regular Python data types (see above):"
     ]
    },
    {
     "cell_type": "code",
     "collapsed": false,
     "input": [
      "data1 = {'a': 100, 'b': None, 'c': np.nan, 'd': range(10)}"
     ],
     "language": "python",
     "metadata": {},
     "outputs": [],
     "prompt_number": 3
    },
    {
     "cell_type": "code",
     "collapsed": false,
     "input": [
      "data1"
     ],
     "language": "python",
     "metadata": {},
     "outputs": [
      {
       "metadata": {},
       "output_type": "pyout",
       "prompt_number": 4,
       "text": [
        "{'a': 100, 'b': None, 'c': nan, 'd': [0, 1, 2, 3, 4, 5, 6, 7, 8, 9]}"
       ]
      }
     ],
     "prompt_number": 4
    },
    {
     "cell_type": "markdown",
     "metadata": {},
     "source": [
      "To create the JSON representation of this data, we use the `json.dumps` function:"
     ]
    },
    {
     "cell_type": "code",
     "collapsed": false,
     "input": [
      "j = json.dumps(data1)"
     ],
     "language": "python",
     "metadata": {},
     "outputs": [],
     "prompt_number": 5
    },
    {
     "cell_type": "markdown",
     "metadata": {},
     "source": [
      "This creates a Python string with the JSON data inside:"
     ]
    },
    {
     "cell_type": "code",
     "collapsed": false,
     "input": [
      "type(j)"
     ],
     "language": "python",
     "metadata": {},
     "outputs": [
      {
       "metadata": {},
       "output_type": "pyout",
       "prompt_number": 6,
       "text": [
        "str"
       ]
      }
     ],
     "prompt_number": 6
    },
    {
     "cell_type": "markdown",
     "metadata": {},
     "source": [
      "Note how the JSON representation looks almost identical to the Python representation. JSON is super simple way of converting objects into a string!"
     ]
    },
    {
     "cell_type": "code",
     "collapsed": false,
     "input": [
      "j"
     ],
     "language": "python",
     "metadata": {},
     "outputs": [
      {
       "metadata": {},
       "output_type": "pyout",
       "prompt_number": 8,
       "text": [
        "'{\"a\": 100, \"c\": NaN, \"b\": null, \"d\": [0, 1, 2, 3, 4, 5, 6, 7, 8, 9]}'"
       ]
      }
     ],
     "prompt_number": 8
    },
    {
     "cell_type": "markdown",
     "metadata": {},
     "source": [
      "To convert a JSON string back to the corresponding Python objects, use the `json.loads` function:"
     ]
    },
    {
     "cell_type": "code",
     "collapsed": false,
     "input": [
      "data2 = json.loads(j)"
     ],
     "language": "python",
     "metadata": {},
     "outputs": [],
     "prompt_number": 9
    },
    {
     "cell_type": "code",
     "collapsed": false,
     "input": [
      "data2"
     ],
     "language": "python",
     "metadata": {},
     "outputs": [
      {
       "metadata": {},
       "output_type": "pyout",
       "prompt_number": 10,
       "text": [
        "{u'a': 100, u'b': None, u'c': nan, u'd': [0, 1, 2, 3, 4, 5, 6, 7, 8, 9]}"
       ]
      }
     ],
     "prompt_number": 10
    },
    {
     "cell_type": "markdown",
     "metadata": {},
     "source": [
      "## Pandas and JSON"
     ]
    },
    {
     "cell_type": "markdown",
     "metadata": {},
     "source": [
      "Pandas has a set of very flexible functions and methods for working with JSON data.\n",
      "\n",
      "Here is a simple `DataFrame` we will use to demonstrate Pandas's JSON handling:"
     ]
    },
    {
     "cell_type": "code",
     "collapsed": false,
     "input": [
      "df = pd.DataFrame({'age': np.random.randint(0,100,5),\n",
      "                   'gender': np.random.choice(['m','f'],5,p=[0.3,0.7])})"
     ],
     "language": "python",
     "metadata": {},
     "outputs": [],
     "prompt_number": 11
    },
    {
     "cell_type": "code",
     "collapsed": false,
     "input": [
      "df"
     ],
     "language": "python",
     "metadata": {},
     "outputs": [
      {
       "html": [
        "<div style=\"max-height:1000px;max-width:1500px;overflow:auto;\">\n",
        "<table border=\"1\" class=\"dataframe\">\n",
        "  <thead>\n",
        "    <tr style=\"text-align: right;\">\n",
        "      <th></th>\n",
        "      <th>age</th>\n",
        "      <th>gender</th>\n",
        "    </tr>\n",
        "  </thead>\n",
        "  <tbody>\n",
        "    <tr>\n",
        "      <th>0</th>\n",
        "      <td> 86</td>\n",
        "      <td> f</td>\n",
        "    </tr>\n",
        "    <tr>\n",
        "      <th>1</th>\n",
        "      <td> 85</td>\n",
        "      <td> f</td>\n",
        "    </tr>\n",
        "    <tr>\n",
        "      <th>2</th>\n",
        "      <td> 94</td>\n",
        "      <td> m</td>\n",
        "    </tr>\n",
        "    <tr>\n",
        "      <th>3</th>\n",
        "      <td>  2</td>\n",
        "      <td> f</td>\n",
        "    </tr>\n",
        "    <tr>\n",
        "      <th>4</th>\n",
        "      <td> 36</td>\n",
        "      <td> m</td>\n",
        "    </tr>\n",
        "  </tbody>\n",
        "</table>\n",
        "</div>"
       ],
       "metadata": {},
       "output_type": "pyout",
       "prompt_number": 12,
       "text": [
        "   age gender\n",
        "0   86      f\n",
        "1   85      f\n",
        "2   94      m\n",
        "3    2      f\n",
        "4   36      m"
       ]
      }
     ],
     "prompt_number": 12
    },
    {
     "cell_type": "markdown",
     "metadata": {},
     "source": [
      "The `to_json` method will convert any `DataFrame` to a JSON string:"
     ]
    },
    {
     "cell_type": "code",
     "collapsed": false,
     "input": [
      "j1 = df.to_json()"
     ],
     "language": "python",
     "metadata": {},
     "outputs": [],
     "prompt_number": 13
    },
    {
     "cell_type": "code",
     "collapsed": false,
     "input": [
      "j1"
     ],
     "language": "python",
     "metadata": {},
     "outputs": [
      {
       "metadata": {},
       "output_type": "pyout",
       "prompt_number": 14,
       "text": [
        "'{\"age\":{\"0\":86,\"1\":85,\"2\":94,\"3\":2,\"4\":36},\"gender\":{\"0\":\"f\",\"1\":\"f\",\"2\":\"m\",\"3\":\"f\",\"4\":\"m\"}}'"
       ]
      }
     ],
     "prompt_number": 14
    },
    {
     "cell_type": "markdown",
     "metadata": {},
     "source": [
      "Likewise the `read_json` method goes the other way:"
     ]
    },
    {
     "cell_type": "code",
     "collapsed": false,
     "input": [
      "pd.read_json(j1)"
     ],
     "language": "python",
     "metadata": {},
     "outputs": [
      {
       "html": [
        "<div style=\"max-height:1000px;max-width:1500px;overflow:auto;\">\n",
        "<table border=\"1\" class=\"dataframe\">\n",
        "  <thead>\n",
        "    <tr style=\"text-align: right;\">\n",
        "      <th></th>\n",
        "      <th>age</th>\n",
        "      <th>gender</th>\n",
        "    </tr>\n",
        "  </thead>\n",
        "  <tbody>\n",
        "    <tr>\n",
        "      <th>0</th>\n",
        "      <td> 86</td>\n",
        "      <td> f</td>\n",
        "    </tr>\n",
        "    <tr>\n",
        "      <th>1</th>\n",
        "      <td> 85</td>\n",
        "      <td> f</td>\n",
        "    </tr>\n",
        "    <tr>\n",
        "      <th>2</th>\n",
        "      <td> 94</td>\n",
        "      <td> m</td>\n",
        "    </tr>\n",
        "    <tr>\n",
        "      <th>3</th>\n",
        "      <td>  2</td>\n",
        "      <td> f</td>\n",
        "    </tr>\n",
        "    <tr>\n",
        "      <th>4</th>\n",
        "      <td> 36</td>\n",
        "      <td> m</td>\n",
        "    </tr>\n",
        "  </tbody>\n",
        "</table>\n",
        "</div>"
       ],
       "metadata": {},
       "output_type": "pyout",
       "prompt_number": 15,
       "text": [
        "   age gender\n",
        "0   86      f\n",
        "1   85      f\n",
        "2   94      m\n",
        "3    2      f\n",
        "4   36      m"
       ]
      }
     ],
     "prompt_number": 15
    },
    {
     "cell_type": "markdown",
     "metadata": {},
     "source": [
      "The `to_json` and `read_json` calls take an `orient` keyword argument that determines how the `DataFrame` will be converted to JSON data. Here is the `index` variant:"
     ]
    },
    {
     "cell_type": "code",
     "collapsed": false,
     "input": [
      "j2 = df.to_json(orient='index')"
     ],
     "language": "python",
     "metadata": {},
     "outputs": [],
     "prompt_number": 16
    },
    {
     "cell_type": "code",
     "collapsed": false,
     "input": [
      "j2"
     ],
     "language": "python",
     "metadata": {},
     "outputs": [
      {
       "metadata": {},
       "output_type": "pyout",
       "prompt_number": 17,
       "text": [
        "'{\"0\":{\"age\":86,\"gender\":\"f\"},\"1\":{\"age\":85,\"gender\":\"f\"},\"2\":{\"age\":94,\"gender\":\"m\"},\"3\":{\"age\":2,\"gender\":\"f\"},\"4\":{\"age\":36,\"gender\":\"m\"}}'"
       ]
      }
     ],
     "prompt_number": 17
    },
    {
     "cell_type": "code",
     "collapsed": false,
     "input": [
      "pd.read_json(j2, orient='index')"
     ],
     "language": "python",
     "metadata": {},
     "outputs": [
      {
       "html": [
        "<div style=\"max-height:1000px;max-width:1500px;overflow:auto;\">\n",
        "<table border=\"1\" class=\"dataframe\">\n",
        "  <thead>\n",
        "    <tr style=\"text-align: right;\">\n",
        "      <th></th>\n",
        "      <th>age</th>\n",
        "      <th>gender</th>\n",
        "    </tr>\n",
        "  </thead>\n",
        "  <tbody>\n",
        "    <tr>\n",
        "      <th>0</th>\n",
        "      <td> 86</td>\n",
        "      <td> f</td>\n",
        "    </tr>\n",
        "    <tr>\n",
        "      <th>1</th>\n",
        "      <td> 85</td>\n",
        "      <td> f</td>\n",
        "    </tr>\n",
        "    <tr>\n",
        "      <th>2</th>\n",
        "      <td> 94</td>\n",
        "      <td> m</td>\n",
        "    </tr>\n",
        "    <tr>\n",
        "      <th>3</th>\n",
        "      <td>  2</td>\n",
        "      <td> f</td>\n",
        "    </tr>\n",
        "    <tr>\n",
        "      <th>4</th>\n",
        "      <td> 36</td>\n",
        "      <td> m</td>\n",
        "    </tr>\n",
        "  </tbody>\n",
        "</table>\n",
        "</div>"
       ],
       "metadata": {},
       "output_type": "pyout",
       "prompt_number": 18,
       "text": [
        "   age gender\n",
        "0   86      f\n",
        "1   85      f\n",
        "2   94      m\n",
        "3    2      f\n",
        "4   36      m"
       ]
      }
     ],
     "prompt_number": 18
    },
    {
     "cell_type": "markdown",
     "metadata": {},
     "source": [
      "Notice that if we don't pass `orient=index` to `read_json` we don't get back what we expect:"
     ]
    },
    {
     "cell_type": "code",
     "collapsed": false,
     "input": [
      "pd.read_json(j2)"
     ],
     "language": "python",
     "metadata": {},
     "outputs": [
      {
       "html": [
        "<div style=\"max-height:1000px;max-width:1500px;overflow:auto;\">\n",
        "<table border=\"1\" class=\"dataframe\">\n",
        "  <thead>\n",
        "    <tr style=\"text-align: right;\">\n",
        "      <th></th>\n",
        "      <th>0.0</th>\n",
        "      <th>1.0</th>\n",
        "      <th>2.0</th>\n",
        "      <th>3.0</th>\n",
        "      <th>4.0</th>\n",
        "    </tr>\n",
        "  </thead>\n",
        "  <tbody>\n",
        "    <tr>\n",
        "      <th>age</th>\n",
        "      <td> 86</td>\n",
        "      <td> 85</td>\n",
        "      <td> 94</td>\n",
        "      <td> 2</td>\n",
        "      <td> 36</td>\n",
        "    </tr>\n",
        "    <tr>\n",
        "      <th>gender</th>\n",
        "      <td>  f</td>\n",
        "      <td>  f</td>\n",
        "      <td>  m</td>\n",
        "      <td> f</td>\n",
        "      <td>  m</td>\n",
        "    </tr>\n",
        "  </tbody>\n",
        "</table>\n",
        "</div>"
       ],
       "metadata": {},
       "output_type": "pyout",
       "prompt_number": 19,
       "text": [
        "         0   1   2  3   4\n",
        "age     86  85  94  2  36\n",
        "gender   f   f   m  f   m"
       ]
      }
     ],
     "prompt_number": 19
    },
    {
     "cell_type": "markdown",
     "metadata": {},
     "source": [
      "The final variant is `orient=records`. In this case we are using"
     ]
    },
    {
     "cell_type": "code",
     "collapsed": false,
     "input": [
      "j3 = df.to_json(orient='records')"
     ],
     "language": "python",
     "metadata": {},
     "outputs": [],
     "prompt_number": 20
    },
    {
     "cell_type": "code",
     "collapsed": false,
     "input": [
      "j3"
     ],
     "language": "python",
     "metadata": {},
     "outputs": [
      {
       "metadata": {},
       "output_type": "pyout",
       "prompt_number": 21,
       "text": [
        "'[{\"age\":86,\"gender\":\"f\"},{\"age\":85,\"gender\":\"f\"},{\"age\":94,\"gender\":\"m\"},{\"age\":2,\"gender\":\"f\"},{\"age\":36,\"gender\":\"m\"}]'"
       ]
      }
     ],
     "prompt_number": 21
    },
    {
     "cell_type": "markdown",
     "metadata": {},
     "source": [
      "All of these functions work with:\n",
      "\n",
      "* Python strings\n",
      "* Filenames\n",
      "* URLs"
     ]
    },
    {
     "cell_type": "code",
     "collapsed": false,
     "input": [
      "with open('people.json', 'w') as f:\n",
      "    f.write(j3)"
     ],
     "language": "python",
     "metadata": {},
     "outputs": [],
     "prompt_number": 22
    },
    {
     "cell_type": "code",
     "collapsed": false,
     "input": [
      "pd.read_json('people.json')"
     ],
     "language": "python",
     "metadata": {},
     "outputs": [
      {
       "html": [
        "<div style=\"max-height:1000px;max-width:1500px;overflow:auto;\">\n",
        "<table border=\"1\" class=\"dataframe\">\n",
        "  <thead>\n",
        "    <tr style=\"text-align: right;\">\n",
        "      <th></th>\n",
        "      <th>age</th>\n",
        "      <th>gender</th>\n",
        "    </tr>\n",
        "  </thead>\n",
        "  <tbody>\n",
        "    <tr>\n",
        "      <th>0</th>\n",
        "      <td> 86</td>\n",
        "      <td> f</td>\n",
        "    </tr>\n",
        "    <tr>\n",
        "      <th>1</th>\n",
        "      <td> 85</td>\n",
        "      <td> f</td>\n",
        "    </tr>\n",
        "    <tr>\n",
        "      <th>2</th>\n",
        "      <td> 94</td>\n",
        "      <td> m</td>\n",
        "    </tr>\n",
        "    <tr>\n",
        "      <th>3</th>\n",
        "      <td>  2</td>\n",
        "      <td> f</td>\n",
        "    </tr>\n",
        "    <tr>\n",
        "      <th>4</th>\n",
        "      <td> 36</td>\n",
        "      <td> m</td>\n",
        "    </tr>\n",
        "  </tbody>\n",
        "</table>\n",
        "</div>"
       ],
       "metadata": {},
       "output_type": "pyout",
       "prompt_number": 23,
       "text": [
        "   age gender\n",
        "0   86      f\n",
        "1   85      f\n",
        "2   94      m\n",
        "3    2      f\n",
        "4   36      m"
       ]
      }
     ],
     "prompt_number": 23
    },
    {
     "cell_type": "markdown",
     "metadata": {},
     "source": [
      "## Resources"
     ]
    },
    {
     "cell_type": "markdown",
     "metadata": {},
     "source": [
      "* [JSON Format](http://en.wikipedia.org/wiki/JSON#Data_types.2C_syntax_and_example).\n",
      "* [Representational State Transfer](http://en.wikipedia.org/wiki/Representational_state_transfer)"
     ]
    }
   ],
   "metadata": {}
  }
 ]
}