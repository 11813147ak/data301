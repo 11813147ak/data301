{
 "metadata": {
  "language_info": {
   "codemirror_mode": {
    "name": "ipython",
    "version": 2
   },
   "mimetype": "text/x-python",
   "name": "python",
   "pygments_lexer": "ipython2"
  },
  "name": "",
  "signature": "sha256:1944a5a0f6d76d55bc4f568782ce47cc0916a70165c9c0555bbebf15e81d2727"
 },
 "nbformat": 3,
 "nbformat_minor": 0,
 "worksheets": [
  {
   "cells": [
    {
     "cell_type": "markdown",
     "metadata": {},
     "source": [
      "# Data Science Process"
     ]
    },
    {
     "cell_type": "markdown",
     "metadata": {},
     "source": [
      "**Learning Objective:** understand the overall process and workflow used in Data Science."
     ]
    },
    {
     "cell_type": "markdown",
     "metadata": {},
     "source": [
      "An operational definition of Data Science answers the question, \"what do Data Scientists do?\". Over the last few years, the community of Data Scientists have been building a concensus answer to this question. The different activities involved in Data Science are linked together to form the Data Science **process** or **workflow**. By looking at the descriptions of the Data Science process by a few individuals, we can start to see a clear picture emerging.\n",
      "\n",
      "* [A Data Science Taxonomy](http://www.dataists.com/2010/09/a-taxonomy-of-data-science/), Hilary Mason (2012):\n",
      "  - Obtain\n",
      "  - Scrub\n",
      "  - Explore\n",
      "  - Model\n",
      "  - Interpret\n",
      "* [The Data Science Process](http://columbiadatascience.com/2012/09/24/reflections-after-jakes-lecture/), Rachel Shutt (2012):\n",
      "  - Observation and collection\n",
      "  - Processing\n",
      "  - Exploratory data analysis\n",
      "  - Modeling: Stats, ML\n",
      "  - Build data product\n",
      "  - Communicate\n",
      "  - Make decisions\n",
      "* [Introduction to Data Science 2.0](http://columbiadatascience.com/2013/09/16/introduction-to-data-science-version-2-0/), Rachel Shutt (2013):\n",
      "  - Gather and observe\n",
      "  - Process\n",
      "  - Modeling: Stats, ML\n",
      "  - Summarize, communicate, build\n",
      "  - Decide, interact\n",
      "* [Data Science Workflow: Overview and Challenges ](http://cacm.acm.org/blogs/blog-cacm/169199-data-science-workflow-overview-and-challenges/fulltext), Philip Guo (2014):\n",
      "  - Preparation\n",
      "  - Analysis\n",
      "  - Reflection\n",
      "  - Dissemination"
     ]
    }
   ],
   "metadata": {}
  }
 ]
}