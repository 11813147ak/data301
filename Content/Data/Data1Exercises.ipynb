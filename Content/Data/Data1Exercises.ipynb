{
 "metadata": {
  "kernelspec": {
   "codemirror_mode": {
    "name": "ipython",
    "version": 2
   },
   "display_name": "IPython (Python 2)",
   "language": "python",
   "name": "python2"
  },
  "name": "",
  "signature": "sha256:338465f58420d2a97aa5e56a0f0808aeb5fffc59ff0032f6e36edc073aab4d30"
 },
 "nbformat": 3,
 "nbformat_minor": 0,
 "worksheets": [
  {
   "cells": [
    {
     "cell_type": "markdown",
     "metadata": {},
     "source": [
      "# Data 1: Introduction to Data Exercises"
     ]
    },
    {
     "cell_type": "markdown",
     "metadata": {},
     "source": [
      "## Identifying types of data"
     ]
    },
    {
     "cell_type": "markdown",
     "metadata": {},
     "source": [
      "Identify the type of the following data (nominal, ordinal, interval, ratio):\n",
      "\n",
      "* Zip code (93402)\n",
      "* Temperature in K\n",
      "* Income in \\$\n",
      "* Brand of cell phone\n",
      "* Highest educational degree\n",
      "* Has someone traveled to Europe"
     ]
    },
    {
     "cell_type": "markdown",
     "metadata": {},
     "source": [
      "## Collecting human data"
     ]
    },
    {
     "cell_type": "markdown",
     "metadata": {},
     "source": [
      "You are working at a company that is trying to improve a popular product. As a data scientist at the company, you are given the task of identifying all the different variables and data types that the company could measure about its product's users. Your goal is to find variables that would be most useful for improving the product.\n",
      "\n",
      "* As a class, pick a company to use for this exercise.\n",
      "* Split into groups of 3-4\n",
      "* In your group, come up wth 2 variables you could measure about users in a survey\n",
      "* Decide the data type of those variables (nominal, ordinal, interval, ratio)\n",
      "* Write a survey question designed to gather that information from the users\n",
      "* After 10 minutes, each group will share its variables, data types and survey questions"
     ]
    }
   ],
   "metadata": {}
  }
 ]
}