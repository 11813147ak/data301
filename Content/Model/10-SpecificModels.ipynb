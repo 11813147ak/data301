{
 "cells": [
  {
   "cell_type": "markdown",
   "metadata": {},
   "source": [
    "# Specific Models"
   ]
  },
  {
   "cell_type": "markdown",
   "metadata": {},
   "source": [
    "- Feature engineering (PDSH Chapter 5.4)\n",
    "- Naive Bayes (PDSH Chapter 5.5)\n",
    "- Linear regression (5.6)\n",
    "- SVM (5.7)\n",
    "- Random forests (5.8)\n",
    "- PCA (5.9)\n",
    "- Manifold learning (5.10)\n",
    "- K-means (5.11)\n",
    "- Gaussian mixtures (5.12)\n",
    "- Kernel density estimation (5.13)\n",
    "- Neural networks (DL, Keras)"
   ]
  },
  {
   "cell_type": "code",
   "execution_count": null,
   "metadata": {},
   "outputs": [],
   "source": []
  }
 ],
 "metadata": {
  "kernelspec": {
   "display_name": "Python 3",
   "language": "python",
   "name": "python3"
  },
  "language_info": {
   "codemirror_mode": {
    "name": "ipython",
    "version": 3
   },
   "file_extension": ".py",
   "mimetype": "text/x-python",
   "name": "python",
   "nbconvert_exporter": "python",
   "pygments_lexer": "ipython3",
   "version": "3.5.2"
  }
 },
 "nbformat": 4,
 "nbformat_minor": 2
}
