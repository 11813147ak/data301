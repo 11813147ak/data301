{
 "cells": [
  {
   "cell_type": "markdown",
   "metadata": {},
   "source": [
    "# Estimators, Bias and Variance"
   ]
  },
  {
   "cell_type": "markdown",
   "metadata": {},
   "source": [
    "**Learning Objectives:** Learn about estimators, bias and variance."
   ]
  },
  {
   "cell_type": "markdown",
   "metadata": {},
   "source": [
    "## Imports"
   ]
  },
  {
   "cell_type": "code",
   "execution_count": 4,
   "metadata": {
    "collapsed": true
   },
   "outputs": [],
   "source": [
    "import numpy as np\n",
    "import matplotlib.pyplot as plt\n",
    "%matplotlib inline"
   ]
  },
  {
   "cell_type": "markdown",
   "metadata": {},
   "source": [
    "## 1 Estimators"
   ]
  },
  {
   "cell_type": "markdown",
   "metadata": {},
   "source": [
    "Remember the core diagram for inference in modelling:\n",
    "\n",
    "**Model** $+$ **Observed Data** + **Training** $\\rightarrow$ **Parameters**\n",
    "\n",
    "Let's develop a more concrete mathematical language for these terms. This follows the notation in Deep Learning (Goodfellow et al., 2016).\n",
    "\n",
    "For the **observed data**, let $\\{ \\mathbf{x}^{(1)}, \\mathbf{x}^{(2)}, \\ldots, \\mathbf{x}^{(m)} \\}$ be a set of $m$ independent observations. Each observation $\\mathbf{x}^{(i)}$ can be a vector of variables. You can think of these as the $m$ rows of a tidy `DataFrame`.\n",
    "\n",
    "Next assume that the **model** has a vector of parameters $\\mathbf{\\theta}$. Our goal is to use the data to determine the \"best\" estimate for this vector of parameters. Denote the best estimate as $\\hat{\\mathbf{\\theta}}$.\n",
    "\n",
    "A **point estimator** or **statistic** is any function of the data:\n",
    "\n",
    "$$ \\hat{\\mathbf{\\theta}}_m = g \\left( \\mathbf{x}^{(1)}, \\mathbf{x}^{(2)}, \\ldots, \\mathbf{x}^{(m)} \\right)$$\n",
    "\n",
    "To see how this works, let's use the example of the normal distribution. Let's generate data points with a known mean $\\mu$ and variance $\\sigma^2$:"
   ]
  },
  {
   "cell_type": "code",
   "execution_count": 5,
   "metadata": {
    "collapsed": true
   },
   "outputs": [],
   "source": [
    "mu = 5.0\n",
    "var = 0.5\n",
    "theta = [mu, var]\n",
    "data = np.random.normal(theta[0], np.sqrt(theta[1]), 50)"
   ]
  },
  {
   "cell_type": "markdown",
   "metadata": {},
   "source": [
    "Notice how we are grouping the parameters $\\mu$ and variance $\\sigma^2$ into a vector of parameters $\\mathbf{\\theta}$. First, let's look at the data with a histogram:"
   ]
  },
  {
   "cell_type": "code",
   "execution_count": 6,
   "metadata": {
    "collapsed": false
   },
   "outputs": [
    {
     "data": {
      "image/png": "[encoded data removed]",
      "text/plain": [
       "<matplotlib.figure.Figure at 0x7f6c444d96a0>"
      ]
     },
     "metadata": {},
     "output_type": "display_data"
    }
   ],
   "source": [
    "plt.hist(data, bins=20);"
   ]
  },
  {
   "cell_type": "markdown",
   "metadata": {},
   "source": [
    "Notice, with this few observations, our estimated $\\hat{\\mathbf{\\theta}}$ is not going to match the true values; we just don't have that much information about the true distribution. We are now going to treat this data as our observed data and use an estimator to find an estimate for these parameters *from the data alone*.\n",
    "\n",
    "One possible estimator for $\\mu$ is the sample mean,\n",
    "\n",
    "$$ \\hat{\\mu} = \\frac{1}{m} \\sum_{i=1}^m x_i, $$\n",
    "\n",
    "which we can compute as follows:"
   ]
  },
  {
   "cell_type": "code",
   "execution_count": 7,
   "metadata": {
    "collapsed": false
   },
   "outputs": [
    {
     "data": {
      "text/plain": [
       "5.0702673666650693"
      ]
     },
     "execution_count": 7,
     "metadata": {},
     "output_type": "execute_result"
    }
   ],
   "source": [
    "mu_hat = data.mean()\n",
    "mu_hat"
   ]
  },
  {
   "cell_type": "markdown",
   "metadata": {},
   "source": [
    "One possible estimator for $\\sigma^2$ is the population variance,\n",
    "\n",
    "$$ \\hat{\\sigma}^2 = \\frac{1}{m} \\sum_{i=1}^m \\left( x_i - \\hat{\\mu} \\right)^2, $$\n",
    "\n",
    "which we can compute as follows:"
   ]
  },
  {
   "cell_type": "code",
   "execution_count": 8,
   "metadata": {
    "collapsed": false
   },
   "outputs": [
    {
     "data": {
      "text/plain": [
       "0.44790055291601755"
      ]
     },
     "execution_count": 8,
     "metadata": {},
     "output_type": "execute_result"
    }
   ],
   "source": [
    "var_hat = data.var()\n",
    "var_hat"
   ]
  },
  {
   "cell_type": "markdown",
   "metadata": {},
   "source": [
    "Then our estimate for $\\hat{\\mathbf{\\theta}}$ is:"
   ]
  },
  {
   "cell_type": "code",
   "execution_count": 9,
   "metadata": {
    "collapsed": false
   },
   "outputs": [
    {
     "data": {
      "text/plain": [
       "[5.0702673666650693, 0.44790055291601755]"
      ]
     },
     "execution_count": 9,
     "metadata": {},
     "output_type": "execute_result"
    }
   ],
   "source": [
    "theta_hat = [mu_hat, var_hat]\n",
    "theta_hat"
   ]
  },
  {
   "cell_type": "markdown",
   "metadata": {},
   "source": [
    "Compare this to the true value:"
   ]
  },
  {
   "cell_type": "code",
   "execution_count": 10,
   "metadata": {
    "collapsed": false
   },
   "outputs": [
    {
     "data": {
      "text/plain": [
       "[5.0, 0.5]"
      ]
     },
     "execution_count": 10,
     "metadata": {},
     "output_type": "execute_result"
    }
   ],
   "source": [
    "theta"
   ]
  },
  {
   "cell_type": "markdown",
   "metadata": {},
   "source": [
    "To emphasize that choice and flexibility that we have in picking estimators, consider the alternate estimator for $\\mu$:\n",
    "\n",
    "$ \\hat{\\mu} = $ pick the smallest value in the data set:"
   ]
  },
  {
   "cell_type": "code",
   "execution_count": 11,
   "metadata": {
    "collapsed": false
   },
   "outputs": [
    {
     "data": {
      "text/plain": [
       "3.686007049005636"
      ]
     },
     "execution_count": 11,
     "metadata": {},
     "output_type": "execute_result"
    }
   ],
   "source": [
    "data.min()"
   ]
  },
  {
   "cell_type": "markdown",
   "metadata": {},
   "source": [
    "In this case, this estimator isn't that much worse than using the mean, but we would expect it to be much worse much of the time.\n",
    "\n",
    "There are a number of questions that need to be answered about this process:\n",
    "\n",
    "* **Are the estimators that we used the best ones?** A closely related question is \"how difficult is it to find a good estimator?\" In some cases is it very easy to find a good estimator. In other cases, it is very difficult.\n",
    "* **How does the quality of our estimates improve with more data?** In general, we expect more data to give better estimates, but that is not necessarily the case.\n",
    "* **Have we used the right model in the first place?** In our example above, we knew precisely which probability distribution to use as our model (the normal distribution), as we ourselves generated the data using that very model. However, in most cases, we have no idea what the actual model is. We may find excellent estimators for our model, but if we have chosen the wrong model, it won't matter much."
   ]
  },
  {
   "cell_type": "markdown",
   "metadata": {},
   "source": [
    "## Bias"
   ]
  },
  {
   "cell_type": "markdown",
   "metadata": {},
   "source": [
    "One measure of how good our estimators are is the idea of bias. Bias can be formalized using the language of expectation values. In this case, we will use data to illustrate how this works.\n",
    "\n",
    "Take the above estimator for the variance of the normal distribution:\n",
    "\n",
    "$$ \\hat{\\sigma}^2 = \\frac{1}{m} \\sum_{i=1}^m \\left( x_i - \\hat{\\mu} \\right)^2 $$\n",
    "\n",
    "I claim that this estimator is **biased** and that a better one exists. We will need to define what we mean by **bias**. Furthermore, I claim that the following estimator is **unbiased**:\n",
    "\n",
    "$$ \\hat{\\sigma}^2 = \\frac{1}{m-1} \\sum_{i=1}^m \\left( x_i - \\hat{\\mu} \\right)^2 $$\n",
    "\n",
    "Notice the simple replacement $m \\rightarrow m-1$. The number $1$ here is called the **degrees of freedom** and the correction is known as [Bessel's correction](https://en.wikipedia.org/wiki/Bessel%27s_correction). To see the difference between these two estimators, let's compute their bias.\n",
    "\n",
    "The **bias** of an estimator is defined as:\n",
    "\n",
    "$$ Bias[\\hat{\\theta}] = E[\\hat{\\theta}] - \\theta $$\n",
    "\n",
    "In general, computing his requires performing integrals over the true probability distribution, treating the estimator as a random variable. In our case, we are going to estimate the bias of the estimators using simulation. We will use the following process:\n",
    "\n",
    "1. Treat the estimator $\\hat{\\theta}_m$ as a random variable by drawing $m$ observations from the model with the true parameters $\\theta$ and compute the estimator for those observations.\n",
    "2. Repeat this process to get a distribution of values for $\\hat{\\theta}_m$.\n",
    "3. Then take the mean of those values ($E[\\hat{\\theta}]$) and subtract the true value of the parameter $E[\\hat{\\theta}] - \\theta$.\n",
    "\n",
    "Here are two functions that return a random variable for the biased and unbiased estimators above (step 1):"
   ]
  },
  {
   "cell_type": "code",
   "execution_count": 19,
   "metadata": {
    "collapsed": true
   },
   "outputs": [],
   "source": [
    "def biased_var(theta, observations):\n",
    "    data = np.random.normal(theta[0], np.sqrt(theta[1]), size=observations)\n",
    "    return data.var()\n",
    "\n",
    "def unbiased_var(theta, observations):\n",
    "    data = np.random.normal(theta[0], np.sqrt(theta[1]), size=observations)\n",
    "    return data.var(ddof=1)"
   ]
  },
  {
   "cell_type": "markdown",
   "metadata": {},
   "source": [
    "Here is the number of observations we are going to use:"
   ]
  },
  {
   "cell_type": "code",
   "execution_count": 20,
   "metadata": {
    "collapsed": true
   },
   "outputs": [],
   "source": [
    "observations = 5"
   ]
  },
  {
   "cell_type": "markdown",
   "metadata": {},
   "source": [
    "To convince ourselves that the estimators can be treated as a random variable, let's call one multiple times:"
   ]
  },
  {
   "cell_type": "code",
   "execution_count": 21,
   "metadata": {
    "collapsed": false
   },
   "outputs": [
    {
     "name": "stdout",
     "output_type": "stream",
     "text": [
      "0.527075674047\n",
      "0.149940666712\n",
      "0.165118543026\n",
      "0.158936239354\n",
      "0.0940055080491\n",
      "0.393429558812\n",
      "0.333684269806\n",
      "0.34951023997\n",
      "0.461802646854\n",
      "0.262951762683\n"
     ]
    }
   ],
   "source": [
    "for i in range(10):\n",
    "    print(biased_var(theta, observations))"
   ]
  },
  {
   "cell_type": "markdown",
   "metadata": {},
   "source": [
    "Now let's create a vector of those random variables, for both the biased and unbiased estimator (step 2):"
   ]
  },
  {
   "cell_type": "code",
   "execution_count": 22,
   "metadata": {
    "collapsed": false
   },
   "outputs": [],
   "source": [
    "var_dist1 = np.array([biased_var(theta, observations) for i in range(1000)])\n",
    "var_dist2 = np.array([unbiased_var(theta, observations) for i in range(1000)])"
   ]
  },
  {
   "cell_type": "markdown",
   "metadata": {},
   "source": [
    "Finally, compute the mean and subtract the true value (step 3):"
   ]
  },
  {
   "cell_type": "code",
   "execution_count": 23,
   "metadata": {
    "collapsed": false
   },
   "outputs": [
    {
     "name": "stdout",
     "output_type": "stream",
     "text": [
      "Bias of biased esimator: -0.10441523728101187\n",
      "Bias of unbiased esimator: 0.006335378005375536\n"
     ]
    }
   ],
   "source": [
    "bias1 = var_dist1.mean() - theta[1]\n",
    "bias2 = var_dist2.mean() - theta[1]\n",
    "print(\"Bias of biased esimator: {}\".format(bias1))\n",
    "print(\"Bias of unbiased esimator: {}\".format(bias2))"
   ]
  },
  {
   "cell_type": "markdown",
   "metadata": {},
   "source": [
    "Now we can see why the unbiased estimator is called unbiased; it has a smaller bias. To see that the bias of the unbiased estimator is exactly zero, you need to compute the bias analytically by performing integrals to compute the expectation value of the estimator with respect to the model's probability distribution.\n",
    "\n",
    "The other thing to explore is how the bias of an estimator changes with the number of observations. This gives us a sense of how an estimator will work on a small or large dataset."
   ]
  },
  {
   "cell_type": "code",
   "execution_count": 24,
   "metadata": {
    "collapsed": false
   },
   "outputs": [],
   "source": [
    "np.random.seed(0)\n",
    "m = np.arange(5, 101, 1, dtype=int)\n",
    "biased_data = np.empty_like(m, dtype=float)\n",
    "unbiased_data = np.empty_like(m, dtype=float)\n",
    "\n",
    "for i in range(len(m)):\n",
    "    biased_data[i] = np.array([biased_var(theta, m[i]) for p in range(500)]).mean()\n",
    "    unbiased_data[i] = np.array([unbiased_var(theta, m[i]) for p in range(500)]).mean()"
   ]
  },
  {
   "cell_type": "markdown",
   "metadata": {},
   "source": [
    "Let's visualize the results by plotting the biased and unbiased variance estimates versus the number of observations $m$. We also show the true value with a horizontal grey line:"
   ]
  },
  {
   "cell_type": "code",
   "execution_count": 25,
   "metadata": {
    "collapsed": false
   },
   "outputs": [
    {
     "data": {
      "image/png": "[encoded data removed]",
      "text/plain": [
       "<matplotlib.figure.Figure at 0x7f6bedf306a0>"
      ]
     },
     "metadata": {},
     "output_type": "display_data"
    }
   ],
   "source": [
    "plt.plot(m, biased_data, label='Biased')\n",
    "plt.plot(m, unbiased_data, label='Unbiased')\n",
    "plt.hlines(theta[1], 0, 100, color='grey', alpha=0.8, label=\"True value\")\n",
    "plt.ylabel('Variance estimate')\n",
    "plt.xlabel('Number of observations (m)')\n",
    "plt.title('Biased/Unbiased Estimators: Variance of the Normal Dist.')\n",
    "plt.legend();"
   ]
  },
  {
   "cell_type": "markdown",
   "metadata": {},
   "source": [
    "This is quite striking:\n",
    "\n",
    "* The unbiased estimate is reasonably close to the true value, even for very small numbers of observations. Thus, with the unbiased estimator, it is possible to get a good estimate of the true value, even with few observations.\n",
    "* At small numbers of observations, the biased estimator is *biased* away from the true value towards much smaller values. Thus, it will not give us a very good estimate of the true value. We may have a good model (the normal distribution), but our estimate of its variance will be far from the true value.\n",
    "* As the number of observations goes up, the biased estimate coverges on the unbiased one and true value.\n",
    "\n",
    "An estimator that converges to the true value as the number of observations increases is called **consistent**. \n",
    "\n",
    "This example again emphasizes the following fundamental truths about modelling:\n",
    "\n",
    "1. First pick a good model.\n",
    "2. Then pick good estimators for its parameters.\n",
    "\n",
    "Both of these steps can be *extremely* difficult, or even impossible! State of the art models have as many as a billion unknown parameters, and the best estimators take hundreds of years of CPU time to run."
   ]
  },
  {
   "cell_type": "markdown",
   "metadata": {},
   "source": [
    "## 3 Variance"
   ]
  },
  {
   "cell_type": "markdown",
   "metadata": {},
   "source": [
    "One might hope that bias was the only thing that you need to be concerned about when picking an estimator. That is not the case. There is another property of an estimator, called the variance, that also needs to be considered.\n",
    "\n",
    "Note, there are two variances here:\n",
    "\n",
    "* The estimator for the variance\n",
    "* The variance of that estimator\n",
    "\n",
    "To see where the variance of the estimator comes in, let's think back to when we generated an entire distribution of estimators (remember, we treated them as random variables above). Let's look at the distribution of estimator values for the biased and unbiased estimators:"
   ]
  },
  {
   "cell_type": "code",
   "execution_count": 51,
   "metadata": {
    "collapsed": false
   },
   "outputs": [
    {
     "data": {
      "image/png": "[encoded data removed]",
      "text/plain": [
       "<matplotlib.figure.Figure at 0x7fc83d745b00>"
      ]
     },
     "metadata": {},
     "output_type": "display_data"
    }
   ],
   "source": [
    "fig, ax = plt.subplots(2, 1, sharex=True)\n",
    "ax[0].hist(var_dist1, bins=20, normed=True)\n",
    "ax[0].set_title('Biased')\n",
    "ax[1].hist(var_dist2, bins=20, normed=True)\n",
    "ax[1].set_title('Unbiased')\n",
    "ax[1].set_xlabel('Estimated Variance')\n",
    "plt.tight_layout();"
   ]
  },
  {
   "cell_type": "markdown",
   "metadata": {},
   "source": [
    "In computing the bias of these estimators, we took the mean of these distributions:"
   ]
  },
  {
   "cell_type": "code",
   "execution_count": 52,
   "metadata": {
    "collapsed": false
   },
   "outputs": [
    {
     "data": {
      "text/plain": [
       "(0.39673827391822808, 0.50876335845045517)"
      ]
     },
     "execution_count": 52,
     "metadata": {},
     "output_type": "execute_result"
    }
   ],
   "source": [
    "var_dist1.mean(), var_dist2.mean()"
   ]
  },
  {
   "cell_type": "markdown",
   "metadata": {},
   "source": [
    "The **variance** of the estimators are just the variance of these distributions:"
   ]
  },
  {
   "cell_type": "code",
   "execution_count": 53,
   "metadata": {
    "collapsed": false
   },
   "outputs": [
    {
     "data": {
      "text/plain": [
       "(0.079508661678248022, 0.13086209506213567)"
      ]
     },
     "execution_count": 53,
     "metadata": {},
     "output_type": "execute_result"
    }
   ],
   "source": [
    "var_dist1.var(), var_dist2.var()"
   ]
  },
  {
   "cell_type": "markdown",
   "metadata": {},
   "source": [
    "Here is the surprise:\n",
    "\n",
    "**The estimator with the smaller biased has a larger variance.**\n",
    "\n",
    "Using basic properties of expectation values it is possible to show that that [mean-squared-error](https://en.wikipedia.org/wiki/Mean_squared_error) (MSE) of an estimator is equal to the sum of the following two terms:\n",
    "\n",
    "$$ MSE[\\hat{\\theta}] = Bias[\\hat{\\theta}]^2 + Var[\\hat{\\theta}] $$\n",
    "\n",
    "Thus, if you want to minimize the error in an estimator, you have to deal with both bias and variance. It is important to note that this is an equation for a single estimator and can't be used to compare two estimators. Here is a summary of the take-home:\n",
    "\n",
    "> The overall error of an estimator has contributions from both the bias and variance. Thus, using an unbiased estimator is not necessarily optimal.\n",
    "\n",
    "Amazingly, the estimator for the $\\sigma^2$ parameter of the normal distribution with the smallest MSE can be shown to be:\n",
    "\n",
    "$$ \\hat{\\sigma}^2 = \\frac{1}{m+1} \\sum_{i=1}^m \\left( x_i - \\hat{\\mu} \\right)^2 $$\n",
    "\n",
    "This this estimator has even more bias than the original one we considered. The minimized MSE is possible because of the low variance. This pattern is known as the \"bias/variance tradeoff\" and is one of the most important ideas in modelling and machine learning."
   ]
  }
 ],
 "metadata": {
  "kernelspec": {
   "display_name": "Python 3",
   "language": "python",
   "name": "python3"
  },
  "language_info": {
   "codemirror_mode": {
    "name": "ipython",
    "version": 3
   },
   "file_extension": ".py",
   "mimetype": "text/x-python",
   "name": "python",
   "nbconvert_exporter": "python",
   "pygments_lexer": "ipython3",
   "version": "3.5.2"
  }
 },
 "nbformat": 4,
 "nbformat_minor": 2
}
