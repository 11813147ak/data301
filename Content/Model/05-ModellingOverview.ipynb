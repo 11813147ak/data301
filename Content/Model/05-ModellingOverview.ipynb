{
 "cells": [
  {
   "cell_type": "markdown",
   "metadata": {},
   "source": [
    "# Modelling Overview"
   ]
  },
  {
   "cell_type": "markdown",
   "metadata": {},
   "source": [
    "**Learning Objectives:** Get a general conceptual understanding of statistical modelling and machine learning."
   ]
  },
  {
   "cell_type": "markdown",
   "metadata": {},
   "source": [
    "## Imports"
   ]
  },
  {
   "cell_type": "code",
   "execution_count": 2,
   "metadata": {
    "collapsed": true
   },
   "outputs": [],
   "source": [
    "import numpy as np\n",
    "import tensorflow as tf\n",
    "import tensorflow.contrib.distributions as dist"
   ]
  },
  {
   "cell_type": "code",
   "execution_count": 7,
   "metadata": {
    "collapsed": true
   },
   "outputs": [],
   "source": [
    "import matplotlib.pyplot as plt\n",
    "%matplotlib inline"
   ]
  },
  {
   "cell_type": "markdown",
   "metadata": {},
   "source": [
    "## 1 Introduction"
   ]
  },
  {
   "cell_type": "markdown",
   "metadata": {},
   "source": [
    "**Modelling**, or **statistical modelling** is a very general approach for using data in a variety of productive ways. In other circles these same ideas go under the name **machine learning** or more trendy phrases such as **machine intelligence**. Some of the slipery terminology comes from the fact that research in this field has been done across different academic disciplines such as statistics, computer science, mathematics and physics. Each field has developed its own emphases and terminologies.\n",
    "\n",
    "Some of the goals of modelling include:\n",
    "\n",
    "* Predict future events based on past data.\n",
    "* Provide intuitive understanding data.\n",
    "* Provide a mathematical model for data that lacks first principles theoretical models (as in Physics).\n",
    "* Quantify uncertainties.\n",
    "* Learn generalizable information from data.\n",
    "\n",
    "As pointed out by Goodfellow et al., Mitchell (1997) provided a nice general definition of this idea of \"learning from data\":\n",
    "\n",
    "> A computer program is said to learn from experience E with respect to some class of tasks T and performance measure P, if its performance at tasks in T, as measured by P, improves with experience E\n",
    "\n",
    "In this course, we will focus on two different ways of thinking about models:\n",
    "\n",
    "1. Forward = Generative models\n",
    "2. Backwards = Inference with models"
   ]
  },
  {
   "cell_type": "markdown",
   "metadata": {},
   "source": [
    "## 2 Generative models"
   ]
  },
  {
   "cell_type": "markdown",
   "metadata": {},
   "source": [
    "The idea of a **generative model** is that we can use a model to generate data. Usually, our models will have parameters that we get to (and have to) choose. Here is a diagram that shows show this works:\n",
    "\n",
    "**Model** $+$ **Parameters** $\\rightarrow$ **Generated Data**\n",
    "\n",
    "Let use this process to model the time between soccer goals in a soccer game. The appropriate distribution for this would be the exponential distribution. Let's say that we know the average time between goals is 20 minutes. Using this parameter and the exponential distribution (our model), we can create a dataset of the time between specific goals (100 of them!) in soccer games:"
   ]
  },
  {
   "cell_type": "code",
   "execution_count": 10,
   "metadata": {
    "collapsed": false
   },
   "outputs": [
    {
     "data": {
      "text/plain": [
       "array([  5.39240873e+01,   1.05555508e+01,   2.88995260e-02,\n",
       "         1.89794568e+01,   1.68024801e+01,   1.25907636e+01,\n",
       "         9.06424753e+00,   4.82657782e+00,   3.39510390e+01,\n",
       "         2.70586069e+01,   2.43880626e+01,   4.23787988e+00,\n",
       "         9.23677408e+00,   8.60853449e+00,   6.74527306e+00,\n",
       "         1.04576054e+01,   4.32001241e+01,   4.16367292e+01,\n",
       "         1.65179795e+01,   1.93765220e+01,   6.69217199e+00,\n",
       "         2.39424296e+01,   2.46357161e+01,   3.89095291e+01,\n",
       "         6.22797334e+00,   3.18852104e+01,   1.11677108e+00,\n",
       "         3.44853721e+01,   1.98434380e+00,   2.21783819e+00,\n",
       "         4.07943788e+01,   1.92748343e+01,   4.82192783e-02,\n",
       "         5.60088905e-01,   1.93946104e+01,   5.73914267e+01,\n",
       "         1.38368694e+01,   1.34538000e+01,   2.72929693e+01,\n",
       "         1.19777100e+01,   1.31947484e+01,   5.83882656e+01,\n",
       "         5.34750599e+01,   1.24114456e+00,   6.40699376e-01,\n",
       "         2.66181883e+01,   2.27165368e+01,   4.36541429e+00,\n",
       "         5.23637603e+00,   5.83837093e+01,   1.57558896e+01,\n",
       "         4.54450462e+00,   2.23790720e+01,   5.13036826e+01,\n",
       "         2.14170325e+01,   3.72406140e+01,   8.59475531e+00,\n",
       "         1.72404770e+01,   6.59272096e+00,   1.69592863e+01,\n",
       "         2.70890445e+01,   7.33286047e+00,   2.97010823e+01,\n",
       "         9.64822141e+00,   4.01270794e+00,   3.05716920e+00,\n",
       "         3.05658700e+01,   3.98446917e+01,   2.02071141e+01,\n",
       "         1.73933236e+01,   2.91398570e+00,   2.75624492e+01,\n",
       "         1.63691701e+01,   1.13580570e+01,   1.86435842e+01,\n",
       "         1.96973734e+01,   1.70324508e+01,   4.51581527e+01,\n",
       "         9.12370530e+01,   1.63327723e+01,   1.05676350e+01,\n",
       "         7.08281855e+00,   2.24486346e+01,   1.19933196e+00,\n",
       "         1.80810101e+01,   1.32751599e+01,   2.67527923e+01,\n",
       "         5.56492665e+00,   7.84022274e+00,   1.22858692e+01,\n",
       "         1.06252740e+01,   2.28192865e+01,   5.65891454e+01,\n",
       "         2.52743869e+01,   3.14128663e+00,   1.19397002e+01,\n",
       "         3.13398144e+01,   4.17636058e+00,   1.43200447e+01,\n",
       "         1.76761378e+01])"
      ]
     },
     "execution_count": 10,
     "metadata": {},
     "output_type": "execute_result"
    }
   ],
   "source": [
    "β = 20 # Parameter\n",
    "data = np.random.exponential(β, 100) # Model\n",
    "data # data"
   ]
  },
  {
   "cell_type": "markdown",
   "metadata": {},
   "source": [
    "We can then visualize this dataset:"
   ]
  },
  {
   "cell_type": "code",
   "execution_count": 9,
   "metadata": {
    "collapsed": false
   },
   "outputs": [
    {
     "data": {
      "image/png": "[encoded data removed]",
      "text/plain": [
       "<matplotlib.figure.Figure at 0x7f99220577b8>"
      ]
     },
     "metadata": {},
     "output_type": "display_data"
    }
   ],
   "source": [
    "plt.hist(data, bins=20);"
   ]
  },
  {
   "cell_type": "markdown",
   "metadata": {},
   "source": [
    "This example clarifies the choices that you have to make when building a generative model:\n",
    "\n",
    "* You have to pick a model to use\n",
    "* You have to pick the parameters of the model\n",
    "\n",
    "To assess if you have made good choice, you will have to perform some sort of comparison of the generated data, with actual observations from the system you are intenting to model. In general, you would like to know that the parameters of your model are choosen in a way that makes your model useful. That is exactly what **inference** provides."
   ]
  },
  {
   "cell_type": "markdown",
   "metadata": {},
   "source": [
    "## 3 Inference with models"
   ]
  },
  {
   "cell_type": "markdown",
   "metadata": {},
   "source": [
    "**Inference** is a way of **learning from data**. In the context of generative models, inference allow you to go backwards from **observed data** to parameters that optimize how well the model works for that observed data. Here is a diagram of inference:\n",
    "\n",
    "**Model** $+$ **Observed Data** + **Training** $\\rightarrow$ **Parameters**\n",
    "\n",
    "Notice the similarities to generative modelling:\n",
    "\n",
    "* You still have to pick your model!!!\n",
    "\n",
    "However the differences are most important:\n",
    "\n",
    "* The data is not generated, it is observed\n",
    "* The parameters are predicted, rather than guessed\n",
    "* A **training** step is required.\n",
    "\n",
    "The magic of inference is that once you have performed inference to find the best parameters, you can turn it around and generate predictions:\n",
    "\n",
    "**Model** $+$ **Best Parameters** $\\rightarrow$ **Predictions**\n",
    "\n",
    "If your model and parameters are good, you should be able to predict outcomes you haven't seen before.\n",
    "\n",
    "Let's see how this would work with the above soccer goal data. You have been handed a small dataset of the times (in minutes) between soccer goals. This is your observed data:"
   ]
  },
  {
   "cell_type": "code",
   "execution_count": 12,
   "metadata": {
    "collapsed": true
   },
   "outputs": [],
   "source": [
    "observed_data = np.array(\n",
    "    [  6.57946838,  16.66471659,  52.11420679,  25.64266511,\n",
    "       10.90558697,  17.74796824,   8.0075313 ,   3.98989899,\n",
    "       13.46723746,  24.90308858]\n",
    ")"
   ]
  },
  {
   "cell_type": "markdown",
   "metadata": {},
   "source": [
    "We are again going to pick the exponential distribution, with a parameter $\\beta$. We need to perform some type of inference to find the best value of $\\beta$ to use. We will often denote the best parameter with a hat, so let's call the best value $\\hat\\beta$. There are much more sophisticated way of finding the best parameter, but for now let's find it by just taking the mean of the observed data:"
   ]
  },
  {
   "cell_type": "code",
   "execution_count": 19,
   "metadata": {
    "collapsed": false
   },
   "outputs": [],
   "source": [
    "beta_hat = observed_data.mean()"
   ]
  },
  {
   "cell_type": "markdown",
   "metadata": {},
   "source": [
    "Now that we have the \"best\" value of beta, we can predict the times between goals of the the *next* 20 goals to happen:"
   ]
  },
  {
   "cell_type": "code",
   "execution_count": 20,
   "metadata": {
    "collapsed": false
   },
   "outputs": [
    {
     "data": {
      "text/plain": [
       "array([  1.27645241e+01,   1.43354596e-02,   2.02579393e+01,\n",
       "         5.06841923e+01,   1.28966413e+00,   9.60994029e+00,\n",
       "         1.66244125e+01,   1.79772714e+01,   2.45452215e+00,\n",
       "         4.64922259e-01,   1.31746143e+01,   1.63813670e+01,\n",
       "         6.74998537e+01,   6.67577194e+01,   1.17592795e+01,\n",
       "         2.02131761e+00,   4.59984814e+00,   6.91707836e+00,\n",
       "         7.28352635e+00,   2.79647525e+01])"
      ]
     },
     "execution_count": 20,
     "metadata": {},
     "output_type": "execute_result"
    }
   ],
   "source": [
    "new_data = np.random.exponential(best_parameter, 20)\n",
    "new_data"
   ]
  },
  {
   "cell_type": "markdown",
   "metadata": {},
   "source": [
    "The obvious question to ask it then this: how did we do. To determine that, we would need to actually observe the next 20 goals and see how their times compare to the generated values. This is a very simple, model so we wouldn't expect the goals to exactly match these predictions, but we might hope that in some aggregate sense our predictions are accurate. In future notebooks, we will go into great detail about assessing how well a model works."
   ]
  }
 ],
 "metadata": {
  "kernelspec": {
   "display_name": "Python 3",
   "language": "python",
   "name": "python3"
  },
  "language_info": {
   "codemirror_mode": {
    "name": "ipython",
    "version": 3
   },
   "file_extension": ".py",
   "mimetype": "text/x-python",
   "name": "python",
   "nbconvert_exporter": "python",
   "pygments_lexer": "ipython3",
   "version": "3.5.2"
  }
 },
 "nbformat": 4,
 "nbformat_minor": 2
}
