{
 "cells": [
  {
   "cell_type": "markdown",
   "metadata": {},
   "source": [
    "# Modeling Overview"
   ]
  },
  {
   "cell_type": "markdown",
   "metadata": {},
   "source": [
    "**Learning Objectives:** Get a general conceptual understanding of statistical modeling and machine learning."
   ]
  },
  {
   "cell_type": "markdown",
   "metadata": {},
   "source": [
    "## Imports"
   ]
  },
  {
   "cell_type": "code",
   "execution_count": 1,
   "metadata": {},
   "outputs": [],
   "source": [
    "import numpy as np"
   ]
  },
  {
   "cell_type": "code",
   "execution_count": 2,
   "metadata": {},
   "outputs": [],
   "source": [
    "import matplotlib.pyplot as plt\n",
    "%matplotlib inline"
   ]
  },
  {
   "cell_type": "markdown",
   "metadata": {},
   "source": [
    "## 1 Introduction"
   ]
  },
  {
   "cell_type": "markdown",
   "metadata": {},
   "source": [
    "**Modeling**, or **statistical modeling** is a very general approach for using data in a variety of productive ways. In other circles these same ideas go under the name **machine learning** or more trendy phrases such as **machine intelligence**. Some of the slipery terminology comes from the fact that research in this field has been done across different academic disciplines such as statistics, computer science, mathematics and physics. Each field has developed its own emphases and terminologies.\n",
    "\n",
    "Some of the goals of modeling include:\n",
    "\n",
    "* Predict future events based on past data.\n",
    "* Provide intuitive understanding data.\n",
    "* Provide a mathematical model for data that lacks first principles theoretical models (as in Physics).\n",
    "* Quantify uncertainties.\n",
    "* Learn generalizable information from data.\n",
    "\n",
    "As pointed out by Goodfellow et al., Mitchell (1997) provided a nice general definition of this idea of \"learning from data\":\n",
    "\n",
    "> A computer program is said to learn from experience E with respect to some class of tasks T and performance measure P, if its performance at tasks in T, as measured by P, improves with experience E\n",
    "\n",
    "In this course, we will focus on two different ways of thinking about models:\n",
    "\n",
    "1. Forward = Generative models\n",
    "2. Backwards = Inference with models"
   ]
  },
  {
   "cell_type": "markdown",
   "metadata": {},
   "source": [
    "## 2 Generative models"
   ]
  },
  {
   "cell_type": "markdown",
   "metadata": {},
   "source": [
    "The idea of a **generative model** is that we can use a model to generate data. Usually, our models will have parameters that we get to (and have to) choose. Here is a diagram that shows show this works:\n",
    "\n",
    "**Model** $+$ **Parameters** $\\rightarrow$ **Generated Data**\n",
    "\n",
    "Let use this process to model the time between soccer goals in a soccer game. The appropriate distribution for this would be the exponential distribution. Let's say that we know the average time between goals is 20 minutes. Using this parameter and the exponential distribution (our model), we can create a dataset of the time between specific goals (100 of them!) in soccer games:"
   ]
  },
  {
   "cell_type": "code",
   "execution_count": 4,
   "metadata": {},
   "outputs": [
    {
     "data": {
      "text/plain": [
       "array([  4.71507829e+01,   4.22468719e+01,   1.66022228e+01,\n",
       "         1.95064886e+01,   5.44656709e+00,   1.01567676e+01,\n",
       "         3.03634966e+01,   5.90058457e+01,   5.96845511e+01,\n",
       "         4.56862724e+01,   7.67989738e+00,   7.38203287e+00,\n",
       "         3.24785943e+01,   8.85298367e+00,   1.31063440e+01,\n",
       "         1.19161635e+01,   4.97332313e+01,   4.41001039e+00,\n",
       "         3.15167607e+01,   3.67762425e+01,   3.18983132e+01,\n",
       "         3.78041120e+01,   2.12051012e-02,   3.46656245e+01,\n",
       "         2.50736875e+00,   9.33988324e+00,   3.54828328e+00,\n",
       "         8.97400411e+00,   3.25434878e+01,   2.35341585e+01,\n",
       "         8.07792154e+00,   1.15779362e+01,   1.72659522e+01,\n",
       "         2.02563042e+01,   9.18558896e-01,   7.24242360e+00,\n",
       "         2.65958441e+01,   5.50392122e+01,   2.08735129e+01,\n",
       "         2.10050443e+00,   1.01509222e+00,   9.25728340e-01,\n",
       "         7.83342215e-01,   1.27210814e+01,   2.78212012e+00,\n",
       "         3.44151046e+01,   7.62980429e-01,   3.54275758e+00,\n",
       "         1.92608673e+01,   6.14986481e+00,   3.05824946e+00,\n",
       "         5.62379262e+00,   1.44342878e+01,   1.42093249e+00,\n",
       "         1.50380526e+01,   1.37009936e+01,   1.45319686e+01,\n",
       "         1.63783217e+01,   8.98506500e+00,   9.53802491e+00,\n",
       "         4.56794033e+01,   2.84668139e+01,   1.13010953e+01,\n",
       "         5.11700244e+00,   4.63142783e+01,   1.23100532e+00,\n",
       "         1.31443132e+01,   4.40701045e+01,   1.34850432e+01,\n",
       "         2.32386429e+01,   7.45366566e+00,   2.60398837e+01,\n",
       "         1.78306323e+00,   7.43059105e+00,   6.86534103e+00,\n",
       "         2.30494429e+01,   9.50409199e-01,   1.68655453e+01,\n",
       "         3.65952907e-01,   1.95535102e+01,   7.79056167e+00,\n",
       "         3.16661162e+00,   2.04141580e+01,   1.07834780e+02,\n",
       "         2.54883375e+01,   1.02814340e+01,   1.59914411e+01,\n",
       "         1.64449898e+02,   1.27400145e+00,   3.43275789e+00,\n",
       "         3.29461633e+01,   2.60505252e+01,   2.83368097e+01,\n",
       "         4.11928128e+01,   1.13617707e+01,   9.85044211e+00,\n",
       "         7.50329192e+00,   2.23366012e+01,   4.48704797e+01,\n",
       "         2.06561925e+00])"
      ]
     },
     "execution_count": 4,
     "metadata": {},
     "output_type": "execute_result"
    }
   ],
   "source": [
    "β = 20 # Parameter\n",
    "data = np.random.exponential(β, 100) # Model\n",
    "data   # data"
   ]
  },
  {
   "cell_type": "markdown",
   "metadata": {},
   "source": [
    "We can then visualize this dataset:"
   ]
  },
  {
   "cell_type": "code",
   "execution_count": 5,
   "metadata": {},
   "outputs": [
    {
     "data": {
      "image/png": "[encoded data removed]",
      "text/plain": [
       "<matplotlib.figure.Figure at 0x7f6213f6eef0>"
      ]
     },
     "metadata": {},
     "output_type": "display_data"
    }
   ],
   "source": [
    "plt.hist(data, bins=20);"
   ]
  },
  {
   "cell_type": "markdown",
   "metadata": {},
   "source": [
    "This example clarifies the choices that you have to make when building a generative model:\n",
    "\n",
    "* You have to pick a model to use\n",
    "* You have to pick the parameters of the model\n",
    "\n",
    "To assess if you have made good choice, you will have to perform some sort of comparison of the generated data, with actual observations from the system you are intenting to model. In general, you would like to know that the parameters of your model are choosen in a way that makes your model useful. That is exactly what **inference** provides."
   ]
  },
  {
   "cell_type": "markdown",
   "metadata": {},
   "source": [
    "## 3 Inference with models"
   ]
  },
  {
   "cell_type": "markdown",
   "metadata": {},
   "source": [
    "**Inference** is a way of **learning from data**. In the context of generative models, inference allow you to go backwards from **observed data** to parameters that optimize how well the model works for that observed data. Here is a diagram of inference:\n",
    "\n",
    "**Model** $+$ **Observed Data** + **Training** $\\rightarrow$ **Best Parameters**\n",
    "\n",
    "Notice the similarities to generative modelling:\n",
    "\n",
    "* You still have to pick your model!!!\n",
    "\n",
    "However the differences are most important:\n",
    "\n",
    "* The data is not generated, it is observed\n",
    "* The parameters are learned, rather than guessed\n",
    "* A **training** step is required.\n",
    "\n",
    "The magic of inference is that once you have performed inference to find the best parameters, you can turn it around and generate predictions:\n",
    "\n",
    "**Model** $+$ **Best Parameters** $\\rightarrow$ **Predictions**\n",
    "\n",
    "If your model and parameters are good, you should be able to predict outcomes you haven't seen before.\n",
    "\n",
    "Let's see how this would work with the above soccer goal data. You have been handed a small dataset of the times (in minutes) between soccer goals. This is your observed data:"
   ]
  },
  {
   "cell_type": "code",
   "execution_count": 6,
   "metadata": {
    "collapsed": true
   },
   "outputs": [],
   "source": [
    "observed_data = np.array(\n",
    "    [  6.57946838,  16.66471659,  52.11420679,  25.64266511,\n",
    "       10.90558697,  17.74796824,   8.0075313 ,   3.98989899,\n",
    "       13.46723746,  24.90308858]\n",
    ")"
   ]
  },
  {
   "cell_type": "markdown",
   "metadata": {},
   "source": [
    "We are again going to pick the exponential distribution, with a parameter $\\beta$. We need to perform some type of inference to find the best value of $\\beta$ to use. We will often denote the best parameter with a hat, so let's call the best value $\\hat\\beta$. There are much more sophisticated way of finding the best parameter, but for now let's find it by just taking the mean of the observed data:"
   ]
  },
  {
   "cell_type": "code",
   "execution_count": 7,
   "metadata": {},
   "outputs": [],
   "source": [
    "beta_hat = observed_data.mean()"
   ]
  },
  {
   "cell_type": "markdown",
   "metadata": {},
   "source": [
    "Now that we have the \"best\" value of beta, we can predict the times between goals of the the *next* 20 goals to happen:"
   ]
  },
  {
   "cell_type": "code",
   "execution_count": 8,
   "metadata": {},
   "outputs": [
    {
     "data": {
      "text/plain": [
       "array([ 31.42502418,   6.87980742,   1.64119901,   7.45192818,\n",
       "        10.65510412,   8.38029071,   5.497031  ,  13.21566205,\n",
       "        32.94057228,  28.06311202,   4.74709422,  36.54064439,\n",
       "        12.65607335,   3.95839439,  12.18467277,   0.32111527,\n",
       "         5.43256726,   6.93929714,   9.08066106,  14.51748799])"
      ]
     },
     "execution_count": 8,
     "metadata": {},
     "output_type": "execute_result"
    }
   ],
   "source": [
    "new_data = np.random.exponential(beta_hat, 20)\n",
    "new_data"
   ]
  },
  {
   "cell_type": "markdown",
   "metadata": {},
   "source": [
    "The obvious question to ask it then this: how did we do. To determine that, we would need to actually observe the next 20 goals and see how their times compare to the generated values. This is a very simple, model so we wouldn't expect the goals to exactly match these predictions, but we might hope that in some aggregate sense our predictions are accurate. In future notebooks, we will go into great detail about assessing how well a model works."
   ]
  }
 ],
 "metadata": {
  "kernelspec": {
   "display_name": "Python 3",
   "language": "python",
   "name": "python3"
  },
  "language_info": {
   "codemirror_mode": {
    "name": "ipython",
    "version": 3
   },
   "file_extension": ".py",
   "mimetype": "text/x-python",
   "name": "python",
   "nbconvert_exporter": "python",
   "pygments_lexer": "ipython3",
   "version": "3.6.3"
  }
 },
 "nbformat": 4,
 "nbformat_minor": 2
}
