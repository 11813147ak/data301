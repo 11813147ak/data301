{
 "cells": [
  {
   "cell_type": "markdown",
   "metadata": {},
   "source": [
    "# Common Probability Distributions"
   ]
  },
  {
   "cell_type": "markdown",
   "metadata": {},
   "source": [
    "**Learning Objectives:** Learn about different discrete and continuous probability distributions and how to draw samples from them in Python."
   ]
  },
  {
   "cell_type": "markdown",
   "metadata": {},
   "source": [
    "## Imports"
   ]
  },
  {
   "cell_type": "code",
   "execution_count": 1,
   "metadata": {
    "collapsed": true
   },
   "outputs": [],
   "source": [
    "import numpy as np\n",
    "import pandas as pd"
   ]
  },
  {
   "cell_type": "code",
   "execution_count": 2,
   "metadata": {
    "collapsed": true
   },
   "outputs": [],
   "source": [
    "import matplotlib as mpl\n",
    "from matplotlib import pyplot as plt\n",
    "%matplotlib inline"
   ]
  },
  {
   "cell_type": "code",
   "execution_count": 3,
   "metadata": {
    "collapsed": true
   },
   "outputs": [],
   "source": [
    "from ipywidgets import interact, fixed"
   ]
  },
  {
   "cell_type": "code",
   "execution_count": 4,
   "metadata": {
    "collapsed": true
   },
   "outputs": [],
   "source": [
    "import altair as alt"
   ]
  },
  {
   "cell_type": "markdown",
   "metadata": {},
   "source": [
    "## 1 Discrete probability distributions"
   ]
  },
  {
   "cell_type": "markdown",
   "metadata": {},
   "source": [
    "### 1.1 Bernoulli distribution"
   ]
  },
  {
   "cell_type": "markdown",
   "metadata": {},
   "source": [
    "The [Bernoulli distribution](https://en.wikipedia.org/wiki/Bernoulli_distribution) is used to model categorical data that has two possible outcomes, usually referred to *success* and *failure*. This type of process is called a *Bernoulli trial*. Here is a short summary of the properties of the Bernoulli distribution:\n",
    "\n",
    "* $x \\sim B(p)$\n",
    "* $p$ is the probability of *success*, $q=1-p$ the probability of *failure*\n",
    "* $x \\in \\{success, failure\\}$\n",
    "\n",
    "In practice, the *success* and *failure* outcomes can be any categorical values.\n",
    "\n",
    "Some examples:\n",
    "\n",
    "* Tossing a coin (`H` or `T`)\n",
    "* Mobile phones operating systems (`iOS` or `Android`)\n",
    "* Students Passing or failing a test\n",
    "\n",
    "The function `np.random.choice` can be used to draw samples from the Bernoulli distribution.\n",
    "\n",
    "Here are 10 Bernoulli trials with outcomes of `0/1` of equal probability:"
   ]
  },
  {
   "cell_type": "code",
   "execution_count": 5,
   "metadata": {
    "collapsed": false
   },
   "outputs": [
    {
     "data": {
      "text/plain": [
       "array([0, 0, 1, 1, 0, 1, 1, 1, 1, 0])"
      ]
     },
     "execution_count": 5,
     "metadata": {},
     "output_type": "execute_result"
    }
   ],
   "source": [
    "x = np.random.choice([0,1], 10)\n",
    "x"
   ]
  },
  {
   "cell_type": "markdown",
   "metadata": {},
   "source": [
    "Any set of values can be used for the outcomes:"
   ]
  },
  {
   "cell_type": "code",
   "execution_count": 9,
   "metadata": {
    "collapsed": false
   },
   "outputs": [
    {
     "data": {
      "text/plain": [
       "array(['T', 'T', 'H', 'H', 'H', 'T', 'H', 'H', 'H', 'H'], \n",
       "      dtype='<U1')"
      ]
     },
     "execution_count": 9,
     "metadata": {},
     "output_type": "execute_result"
    }
   ],
   "source": [
    "x = np.random.choice(['H','T'], 10)\n",
    "x"
   ]
  },
  {
   "cell_type": "markdown",
   "metadata": {},
   "source": [
    "An effective way of visualizing such categorical data is using a bar plot:"
   ]
  },
  {
   "cell_type": "code",
   "execution_count": 10,
   "metadata": {
    "collapsed": false
   },
   "outputs": [
    {
     "data": {
      "text/html": [
       "<div class=\"vega-embed\" id=\"b694be76-b81c-49a4-ae3d-fb1736359e1e\"></div>\n",
       "\n",
       "<style>\n",
       ".vega-embed svg, .vega-embed canvas {\n",
       "  border: 1px dotted gray;\n",
       "}\n",
       "\n",
       ".vega-embed .vega-actions a {\n",
       "  margin-right: 6px;\n",
       "}\n",
       "</style>\n"
      ]
     },
     "metadata": {
      "jupyter-vega": "#b694be76-b81c-49a4-ae3d-fb1736359e1e"
     },
     "output_type": "display_data"
    },
    {
     "data": {
      "application/javascript": [
       "var spec = {\"encoding\": {\"y\": {\"field\": \"x\", \"type\": \"nominal\"}, \"x\": {\"field\": \"*\", \"aggregate\": \"count\"}}, \"config\": {\"cell\": {\"height\": 350, \"width\": 500}}, \"mark\": \"bar\", \"data\": {\"values\": [{\"x\": \"T\"}, {\"x\": \"T\"}, {\"x\": \"H\"}, {\"x\": \"H\"}, {\"x\": \"H\"}, {\"x\": \"T\"}, {\"x\": \"H\"}, {\"x\": \"H\"}, {\"x\": \"H\"}, {\"x\": \"H\"}]}};\n",
       "var selector = \"#b694be76-b81c-49a4-ae3d-fb1736359e1e\";\n",
       "var type = \"vega-lite\";\n",
       "\n",
       "var output_area = this;\n",
       "require(['nbextensions/jupyter-vega/index'], function(vega) {\n",
       "  vega.render(selector, spec, type, output_area);\n",
       "}, function (err) {\n",
       "  if (err.requireType !== 'scripterror') {\n",
       "    throw(err);\n",
       "  }\n",
       "});\n"
      ]
     },
     "metadata": {
      "jupyter-vega": "#b694be76-b81c-49a4-ae3d-fb1736359e1e"
     },
     "output_type": "display_data"
    },
    {
     "data": {
      "image/png": "[encoded data removed]"
     },
     "metadata": {
      "jupyter-vega": "#b694be76-b81c-49a4-ae3d-fb1736359e1e"
     },
     "output_type": "display_data"
    }
   ],
   "source": [
    "alt.Chart(pd.DataFrame(dict(x=x))).mark_bar().encode(\n",
    "    y='x',\n",
    "    x='count(*)'\n",
    ")"
   ]
  },
  {
   "cell_type": "markdown",
   "metadata": {},
   "source": [
    "The Bernoulli distribution also allows the probabilities of the two outcomes to be unequal. However, the probabilities of the two outcomes have to sum to $1.0$.\n",
    "\n",
    "Here is a generative model that uses a Bernoulli random variable to simulate phone ownership:\n",
    "\n",
    "* `iOS` with probability $p$\n",
    "* `Android` with probability $q=1-p$:"
   ]
  },
  {
   "cell_type": "code",
   "execution_count": 11,
   "metadata": {
    "collapsed": false
   },
   "outputs": [
    {
     "data": {
      "text/html": [
       "<div class=\"vega-embed\" id=\"723c22d6-970f-4c73-9c0d-b8cdc53dd078\"></div>\n",
       "\n",
       "<style>\n",
       ".vega-embed svg, .vega-embed canvas {\n",
       "  border: 1px dotted gray;\n",
       "}\n",
       "\n",
       ".vega-embed .vega-actions a {\n",
       "  margin-right: 6px;\n",
       "}\n",
       "</style>\n"
      ]
     },
     "metadata": {
      "jupyter-vega": "#723c22d6-970f-4c73-9c0d-b8cdc53dd078"
     },
     "output_type": "display_data"
    },
    {
     "data": {
      "application/javascript": [
       "var spec = {\"encoding\": {\"y\": {\"field\": \"phones\", \"type\": \"nominal\"}, \"x\": {\"field\": \"*\", \"aggregate\": \"count\"}}, \"config\": {\"cell\": {\"height\": 350, \"width\": 500}}, \"mark\": \"bar\", \"data\": {\"values\": [{\"phones\": \"Android\"}, {\"phones\": \"Android\"}, {\"phones\": \"Android\"}, {\"phones\": \"Android\"}, {\"phones\": \"iOS\"}, {\"phones\": \"iOS\"}, {\"phones\": \"iOS\"}, {\"phones\": \"iOS\"}, {\"phones\": \"iOS\"}, {\"phones\": \"iOS\"}, {\"phones\": \"Android\"}, {\"phones\": \"Android\"}, {\"phones\": \"Android\"}, {\"phones\": \"Android\"}, {\"phones\": \"Android\"}, {\"phones\": \"iOS\"}, {\"phones\": \"Android\"}, {\"phones\": \"iOS\"}, {\"phones\": \"Android\"}, {\"phones\": \"Android\"}, {\"phones\": \"iOS\"}, {\"phones\": \"Android\"}, {\"phones\": \"iOS\"}, {\"phones\": \"iOS\"}, {\"phones\": \"Android\"}, {\"phones\": \"Android\"}, {\"phones\": \"Android\"}, {\"phones\": \"iOS\"}, {\"phones\": \"iOS\"}, {\"phones\": \"Android\"}, {\"phones\": \"iOS\"}, {\"phones\": \"Android\"}, {\"phones\": \"iOS\"}, {\"phones\": \"iOS\"}, {\"phones\": \"iOS\"}, {\"phones\": \"iOS\"}, {\"phones\": \"iOS\"}, {\"phones\": \"iOS\"}, {\"phones\": \"Android\"}, {\"phones\": \"Android\"}, {\"phones\": \"iOS\"}, {\"phones\": \"Android\"}, {\"phones\": \"Android\"}, {\"phones\": \"iOS\"}, {\"phones\": \"Android\"}, {\"phones\": \"Android\"}, {\"phones\": \"Android\"}, {\"phones\": \"Android\"}, {\"phones\": \"Android\"}, {\"phones\": \"iOS\"}, {\"phones\": \"iOS\"}, {\"phones\": \"Android\"}, {\"phones\": \"Android\"}, {\"phones\": \"Android\"}, {\"phones\": \"iOS\"}, {\"phones\": \"iOS\"}, {\"phones\": \"Android\"}, {\"phones\": \"iOS\"}, {\"phones\": \"iOS\"}, {\"phones\": \"iOS\"}, {\"phones\": \"Android\"}, {\"phones\": \"Android\"}, {\"phones\": \"Android\"}, {\"phones\": \"iOS\"}, {\"phones\": \"iOS\"}, {\"phones\": \"Android\"}, {\"phones\": \"Android\"}, {\"phones\": \"Android\"}, {\"phones\": \"Android\"}, {\"phones\": \"Android\"}, {\"phones\": \"iOS\"}, {\"phones\": \"iOS\"}, {\"phones\": \"Android\"}, {\"phones\": \"Android\"}, {\"phones\": \"iOS\"}, {\"phones\": \"iOS\"}, {\"phones\": \"iOS\"}, {\"phones\": \"Android\"}, {\"phones\": \"iOS\"}, {\"phones\": \"Android\"}, {\"phones\": \"iOS\"}, {\"phones\": \"iOS\"}, {\"phones\": \"Android\"}, {\"phones\": \"Android\"}, {\"phones\": \"iOS\"}, {\"phones\": \"Android\"}, {\"phones\": \"iOS\"}, {\"phones\": \"iOS\"}, {\"phones\": \"iOS\"}, {\"phones\": \"Android\"}, {\"phones\": \"Android\"}, {\"phones\": \"iOS\"}, {\"phones\": \"Android\"}, {\"phones\": \"Android\"}, {\"phones\": \"Android\"}, {\"phones\": \"Android\"}, {\"phones\": \"Android\"}, {\"phones\": \"Android\"}, {\"phones\": \"Android\"}, {\"phones\": \"iOS\"}, {\"phones\": \"Android\"}, {\"phones\": \"Android\"}, {\"phones\": \"Android\"}, {\"phones\": \"iOS\"}, {\"phones\": \"Android\"}, {\"phones\": \"Android\"}, {\"phones\": \"Android\"}, {\"phones\": \"Android\"}, {\"phones\": \"Android\"}, {\"phones\": \"Android\"}, {\"phones\": \"iOS\"}, {\"phones\": \"Android\"}, {\"phones\": \"Android\"}, {\"phones\": \"iOS\"}, {\"phones\": \"iOS\"}, {\"phones\": \"Android\"}, {\"phones\": \"iOS\"}, {\"phones\": \"Android\"}, {\"phones\": \"iOS\"}, {\"phones\": \"Android\"}, {\"phones\": \"Android\"}, {\"phones\": \"Android\"}, {\"phones\": \"iOS\"}, {\"phones\": \"iOS\"}, {\"phones\": \"Android\"}, {\"phones\": \"Android\"}, {\"phones\": \"Android\"}, {\"phones\": \"Android\"}, {\"phones\": \"iOS\"}, {\"phones\": \"Android\"}, {\"phones\": \"Android\"}, {\"phones\": \"Android\"}, {\"phones\": \"iOS\"}, {\"phones\": \"Android\"}, {\"phones\": \"Android\"}, {\"phones\": \"iOS\"}, {\"phones\": \"Android\"}, {\"phones\": \"iOS\"}, {\"phones\": \"iOS\"}, {\"phones\": \"Android\"}, {\"phones\": \"iOS\"}, {\"phones\": \"Android\"}, {\"phones\": \"Android\"}, {\"phones\": \"Android\"}, {\"phones\": \"Android\"}, {\"phones\": \"iOS\"}, {\"phones\": \"iOS\"}, {\"phones\": \"Android\"}, {\"phones\": \"Android\"}, {\"phones\": \"Android\"}, {\"phones\": \"Android\"}, {\"phones\": \"Android\"}, {\"phones\": \"iOS\"}, {\"phones\": \"iOS\"}, {\"phones\": \"Android\"}, {\"phones\": \"iOS\"}, {\"phones\": \"Android\"}, {\"phones\": \"iOS\"}, {\"phones\": \"Android\"}, {\"phones\": \"iOS\"}, {\"phones\": \"iOS\"}, {\"phones\": \"iOS\"}, {\"phones\": \"Android\"}, {\"phones\": \"iOS\"}, {\"phones\": \"iOS\"}, {\"phones\": \"iOS\"}, {\"phones\": \"Android\"}, {\"phones\": \"Android\"}, {\"phones\": \"iOS\"}, {\"phones\": \"iOS\"}, {\"phones\": \"iOS\"}, {\"phones\": \"Android\"}, {\"phones\": \"Android\"}, {\"phones\": \"iOS\"}, {\"phones\": \"iOS\"}, {\"phones\": \"Android\"}, {\"phones\": \"Android\"}, {\"phones\": \"iOS\"}, {\"phones\": \"Android\"}, {\"phones\": \"iOS\"}, {\"phones\": \"iOS\"}, {\"phones\": \"Android\"}, {\"phones\": \"Android\"}, {\"phones\": \"Android\"}, {\"phones\": \"iOS\"}, {\"phones\": \"Android\"}, {\"phones\": \"Android\"}, {\"phones\": \"Android\"}, {\"phones\": \"iOS\"}, {\"phones\": \"iOS\"}, {\"phones\": \"iOS\"}, {\"phones\": \"iOS\"}, {\"phones\": \"iOS\"}, {\"phones\": \"Android\"}, {\"phones\": \"iOS\"}, {\"phones\": \"Android\"}, {\"phones\": \"Android\"}, {\"phones\": \"Android\"}, {\"phones\": \"Android\"}, {\"phones\": \"Android\"}]}};\n",
       "var selector = \"#723c22d6-970f-4c73-9c0d-b8cdc53dd078\";\n",
       "var type = \"vega-lite\";\n",
       "\n",
       "var output_area = this;\n",
       "require(['nbextensions/jupyter-vega/index'], function(vega) {\n",
       "  vega.render(selector, spec, type, output_area);\n",
       "}, function (err) {\n",
       "  if (err.requireType !== 'scripterror') {\n",
       "    throw(err);\n",
       "  }\n",
       "});\n"
      ]
     },
     "metadata": {
      "jupyter-vega": "#723c22d6-970f-4c73-9c0d-b8cdc53dd078"
     },
     "output_type": "display_data"
    },
    {
     "data": {
      "image/png": "[encoded data removed]"
     },
     "metadata": {
      "jupyter-vega": "#723c22d6-970f-4c73-9c0d-b8cdc53dd078"
     },
     "output_type": "display_data"
    }
   ],
   "source": [
    "p = 0.4\n",
    "phones = np.random.choice(['iOS', 'Android'], 200, p=(p,1-p))\n",
    "phones_df = pd.DataFrame(dict(phones=phones))\n",
    "alt.Chart(phones_df).mark_bar().encode(\n",
    "    y = 'phones',\n",
    "    x = 'count(*)'\n",
    ")"
   ]
  },
  {
   "cell_type": "markdown",
   "metadata": {},
   "source": [
    "It is important to emphasize again that a finite number of samples does not give the inforamtion about the true PMF. We can get an **estimate** of the the $p$ and $q$ parameters as follows:"
   ]
  },
  {
   "cell_type": "code",
   "execution_count": 12,
   "metadata": {
    "collapsed": false
   },
   "outputs": [
    {
     "data": {
      "text/plain": [
       "Android    0.57\n",
       "iOS        0.43\n",
       "Name: phones, dtype: float64"
      ]
     },
     "execution_count": 12,
     "metadata": {},
     "output_type": "execute_result"
    }
   ],
   "source": [
    "phones_df.phones.value_counts(normalize=True)"
   ]
  },
  {
   "cell_type": "markdown",
   "metadata": {},
   "source": [
    "### 1.2 Categorical distribution"
   ]
  },
  {
   "cell_type": "markdown",
   "metadata": {},
   "source": [
    "The [categorical distribution](https://en.wikipedia.org/wiki/Categorical_distribution) is a generalization of the Bernoulli distribution that includes $k$ possible outcomes, each with a probability of $P_i$, with $\\sum_i P_i =1$. The categorial distribution is also implemented by the `numpy.random.choice` function.\n",
    "\n",
    "Here is a short summary of the properties of the categorical distribution:\n",
    "\n",
    "* $ x \\sim Categorical(P_1, P_2, \\ldots, P_k) $\n",
    "* $ \\sum_{i=1}^{k} P_i = 1 $\n",
    "\n",
    "Here is a $k=4$ categorical distribution of color values:"
   ]
  },
  {
   "cell_type": "code",
   "execution_count": 14,
   "metadata": {
    "collapsed": false
   },
   "outputs": [
    {
     "data": {
      "text/plain": [
       "array(['grey', 'grey', 'grey', 'blue', 'red', 'red', 'blue', 'red', 'red',\n",
       "       'grey', 'green', 'grey', 'blue', 'grey', 'red', 'grey', 'grey',\n",
       "       'blue', 'grey', 'grey', 'blue', 'blue', 'green', 'green', 'grey',\n",
       "       'red', 'grey', 'grey', 'grey', 'grey', 'blue', 'red', 'blue',\n",
       "       'green', 'green', 'grey', 'blue', 'blue', 'grey', 'blue', 'green',\n",
       "       'red', 'red', 'blue', 'green', 'grey', 'blue', 'grey', 'red', 'grey'], \n",
       "      dtype='<U5')"
      ]
     },
     "execution_count": 14,
     "metadata": {},
     "output_type": "execute_result"
    }
   ],
   "source": [
    "colors = np.random.choice(['red', 'green', 'blue', 'grey'], 50, p=(0.1,0.1,0.3,0.5))\n",
    "colors"
   ]
  },
  {
   "cell_type": "markdown",
   "metadata": {},
   "source": [
    "A horizontal bar chart is an effective way of visualizing data from a categorical distribution:"
   ]
  },
  {
   "cell_type": "code",
   "execution_count": 15,
   "metadata": {
    "collapsed": false
   },
   "outputs": [
    {
     "data": {
      "text/html": [
       "<div class=\"vega-embed\" id=\"288fda04-9c7a-48d4-b96b-21f4e0fea334\"></div>\n",
       "\n",
       "<style>\n",
       ".vega-embed svg, .vega-embed canvas {\n",
       "  border: 1px dotted gray;\n",
       "}\n",
       "\n",
       ".vega-embed .vega-actions a {\n",
       "  margin-right: 6px;\n",
       "}\n",
       "</style>\n"
      ]
     },
     "metadata": {
      "jupyter-vega": "#288fda04-9c7a-48d4-b96b-21f4e0fea334"
     },
     "output_type": "display_data"
    },
    {
     "data": {
      "application/javascript": [
       "var spec = {\"encoding\": {\"y\": {\"field\": \"colors\", \"type\": \"nominal\"}, \"x\": {\"field\": \"*\", \"aggregate\": \"count\"}}, \"config\": {\"cell\": {\"height\": 350, \"width\": 500}}, \"mark\": \"bar\", \"data\": {\"values\": [{\"colors\": \"grey\"}, {\"colors\": \"grey\"}, {\"colors\": \"grey\"}, {\"colors\": \"blue\"}, {\"colors\": \"red\"}, {\"colors\": \"red\"}, {\"colors\": \"blue\"}, {\"colors\": \"red\"}, {\"colors\": \"red\"}, {\"colors\": \"grey\"}, {\"colors\": \"green\"}, {\"colors\": \"grey\"}, {\"colors\": \"blue\"}, {\"colors\": \"grey\"}, {\"colors\": \"red\"}, {\"colors\": \"grey\"}, {\"colors\": \"grey\"}, {\"colors\": \"blue\"}, {\"colors\": \"grey\"}, {\"colors\": \"grey\"}, {\"colors\": \"blue\"}, {\"colors\": \"blue\"}, {\"colors\": \"green\"}, {\"colors\": \"green\"}, {\"colors\": \"grey\"}, {\"colors\": \"red\"}, {\"colors\": \"grey\"}, {\"colors\": \"grey\"}, {\"colors\": \"grey\"}, {\"colors\": \"grey\"}, {\"colors\": \"blue\"}, {\"colors\": \"red\"}, {\"colors\": \"blue\"}, {\"colors\": \"green\"}, {\"colors\": \"green\"}, {\"colors\": \"grey\"}, {\"colors\": \"blue\"}, {\"colors\": \"blue\"}, {\"colors\": \"grey\"}, {\"colors\": \"blue\"}, {\"colors\": \"green\"}, {\"colors\": \"red\"}, {\"colors\": \"red\"}, {\"colors\": \"blue\"}, {\"colors\": \"green\"}, {\"colors\": \"grey\"}, {\"colors\": \"blue\"}, {\"colors\": \"grey\"}, {\"colors\": \"red\"}, {\"colors\": \"grey\"}]}};\n",
       "var selector = \"#288fda04-9c7a-48d4-b96b-21f4e0fea334\";\n",
       "var type = \"vega-lite\";\n",
       "\n",
       "var output_area = this;\n",
       "require(['nbextensions/jupyter-vega/index'], function(vega) {\n",
       "  vega.render(selector, spec, type, output_area);\n",
       "}, function (err) {\n",
       "  if (err.requireType !== 'scripterror') {\n",
       "    throw(err);\n",
       "  }\n",
       "});\n"
      ]
     },
     "metadata": {
      "jupyter-vega": "#288fda04-9c7a-48d4-b96b-21f4e0fea334"
     },
     "output_type": "display_data"
    },
    {
     "data": {
      "image/png": "[encoded data removed]"
     },
     "metadata": {
      "jupyter-vega": "#288fda04-9c7a-48d4-b96b-21f4e0fea334"
     },
     "output_type": "display_data"
    }
   ],
   "source": [
    "colors_df = pd.DataFrame(dict(colors=colors))\n",
    "alt.Chart(colors_df).mark_bar().encode(\n",
    "    y = 'colors',\n",
    "    x = 'count(*)'\n",
    ")"
   ]
  },
  {
   "cell_type": "markdown",
   "metadata": {},
   "source": [
    "Again, we can get an estimate of the probability parameters $P_1,P_2,P_3,P_4$ using `.value_counts()`:"
   ]
  },
  {
   "cell_type": "code",
   "execution_count": 17,
   "metadata": {
    "collapsed": false
   },
   "outputs": [
    {
     "data": {
      "text/plain": [
       "grey     0.40\n",
       "blue     0.26\n",
       "red      0.20\n",
       "green    0.14\n",
       "Name: colors, dtype: float64"
      ]
     },
     "execution_count": 17,
     "metadata": {},
     "output_type": "execute_result"
    }
   ],
   "source": [
    "colors_df.colors.value_counts(normalize=True)"
   ]
  },
  {
   "cell_type": "markdown",
   "metadata": {},
   "source": [
    "### 1.3 Binomial distribution"
   ]
  },
  {
   "cell_type": "markdown",
   "metadata": {},
   "source": [
    "The [binomial distribution](https://en.wikipedia.org/wiki/Binomial_distribution) is another type of generalization of the Bernoulli distribution. The idea of the binomial distribution is to perform $n$ Bernoulli trials, each the probability of success $p$ and count how many success there are. It has the following properties:\n",
    "\n",
    "* $x \\sim B(n,p)$\n",
    "* $p$ is the probability of *success* for each of the $n$ Bernoulli trials\n",
    "* $x$ is the number of those Bernoulli trails that had an outcome of *success*\n",
    "* $ E[x] = np $\n",
    "\n",
    "Examples include:\n",
    "\n",
    "* Number of successful free throws per game for a given basketball player.\n",
    "* Number of heads in a series of coin tosses."
   ]
  },
  {
   "cell_type": "code",
   "execution_count": 18,
   "metadata": {
    "collapsed": true
   },
   "outputs": [],
   "source": [
    "n = 10  # total number of trials\n",
    "p = 0.2 # probability of success"
   ]
  },
  {
   "cell_type": "markdown",
   "metadata": {},
   "source": [
    "The binomial distribution is implemented by `numpy.random.binomial`:"
   ]
  },
  {
   "cell_type": "code",
   "execution_count": 19,
   "metadata": {
    "collapsed": false
   },
   "outputs": [
    {
     "data": {
      "text/plain": [
       "2"
      ]
     },
     "execution_count": 19,
     "metadata": {},
     "output_type": "execute_result"
    }
   ],
   "source": [
    "np.random.binomial(n, p)"
   ]
  },
  {
   "cell_type": "code",
   "execution_count": 21,
   "metadata": {
    "collapsed": false
   },
   "outputs": [
    {
     "data": {
      "text/plain": [
       "array([0, 3, 2, 2, 2, 3, 3, 4, 1, 2])"
      ]
     },
     "execution_count": 21,
     "metadata": {},
     "output_type": "execute_result"
    }
   ],
   "source": [
    "x = np.random.binomial(n, p, 10)\n",
    "x"
   ]
  },
  {
   "cell_type": "markdown",
   "metadata": {},
   "source": [
    "Looking above, we see that the average of $x$ gives an estimation of $np$:"
   ]
  },
  {
   "cell_type": "code",
   "execution_count": 28,
   "metadata": {
    "collapsed": false
   },
   "outputs": [
    {
     "data": {
      "text/plain": [
       "(2.2000000000000002, 2.0)"
      ]
     },
     "execution_count": 28,
     "metadata": {},
     "output_type": "execute_result"
    }
   ],
   "source": [
    "x.mean(), n*p"
   ]
  },
  {
   "cell_type": "code",
   "execution_count": 29,
   "metadata": {
    "collapsed": false
   },
   "outputs": [],
   "source": [
    "def plot_binomial(n, p, samples):\n",
    "    counts = np.random.binomial(n, p, samples)\n",
    "    plt.hist(counts, bins=np.arange(-0.5, 50.5, 0.5))\n",
    "    plt.xlabel(\"Number of successes out of {} trials\".format(n))\n",
    "    plt.ylabel(\"Count\")\n",
    "    plt.xlim(0, 60);"
   ]
  },
  {
   "cell_type": "code",
   "execution_count": 30,
   "metadata": {
    "collapsed": false
   },
   "outputs": [
    {
     "data": {
      "image/png": "[encoded data removed]",
      "text/plain": [
       "<matplotlib.figure.Figure at 0x7f5bd8128e48>"
      ]
     },
     "metadata": {},
     "output_type": "display_data"
    }
   ],
   "source": [
    "plot_binomial(10, 0.3, 200)"
   ]
  },
  {
   "cell_type": "code",
   "execution_count": 31,
   "metadata": {
    "collapsed": false
   },
   "outputs": [
    {
     "data": {
      "image/png": "[encoded data removed]",
      "text/plain": [
       "<matplotlib.figure.Figure at 0x7f5c0c33a908>"
      ]
     },
     "metadata": {},
     "output_type": "display_data"
    }
   ],
   "source": [
    "interact(plot_binomial, n=(10, 50, 10), p=(0.1, 0.9, 0.1), samples=(100,1000,100));"
   ]
  },
  {
   "cell_type": "markdown",
   "metadata": {},
   "source": [
    "### 1.4 Poisson distribution"
   ]
  },
  {
   "cell_type": "markdown",
   "metadata": {},
   "source": [
    "The [Poisson distribution](https://en.wikipedia.org/wiki/Poisson_distribution) is used to model events that occur at a fixed average rate per unit time. It has the following properties:\n",
    "\n",
    "* $ x \\sim Poisson(\\lambda) $\n",
    "* $E[x]=\\lambda = $ mean numbers of events per unit time\n",
    "* $Var[x]=\\lambda =$ variance in the distribution\n",
    "\n",
    "Examples include:\n",
    "\n",
    "* Number of goals by a team in a soccer game\n",
    "* Number of photons hitting a camera's CCD sensor per second\n",
    "* Number of email you get per day"
   ]
  },
  {
   "cell_type": "code",
   "execution_count": 32,
   "metadata": {
    "collapsed": false
   },
   "outputs": [],
   "source": [
    "λ = 1.0"
   ]
  },
  {
   "cell_type": "code",
   "execution_count": 33,
   "metadata": {
    "collapsed": false
   },
   "outputs": [
    {
     "data": {
      "text/plain": [
       "0"
      ]
     },
     "execution_count": 33,
     "metadata": {},
     "output_type": "execute_result"
    }
   ],
   "source": [
    "np.random.poisson(λ)"
   ]
  },
  {
   "cell_type": "code",
   "execution_count": 34,
   "metadata": {
    "collapsed": false
   },
   "outputs": [
    {
     "data": {
      "text/plain": [
       "array([1, 0, 1, 0, 1, 1, 2, 1, 1, 0, 0, 1, 1, 2, 1, 1, 0, 0, 2, 1])"
      ]
     },
     "execution_count": 34,
     "metadata": {},
     "output_type": "execute_result"
    }
   ],
   "source": [
    "x = np.random.poisson(λ, 20)\n",
    "x"
   ]
  },
  {
   "cell_type": "markdown",
   "metadata": {},
   "source": [
    "Both the mean and variance should be close to $\\lambda=1.0$:"
   ]
  },
  {
   "cell_type": "code",
   "execution_count": 90,
   "metadata": {
    "collapsed": false
   },
   "outputs": [
    {
     "data": {
      "text/plain": [
       "1.1000000000000001"
      ]
     },
     "execution_count": 90,
     "metadata": {},
     "output_type": "execute_result"
    }
   ],
   "source": [
    "x.mean()"
   ]
  },
  {
   "cell_type": "code",
   "execution_count": 91,
   "metadata": {
    "collapsed": false
   },
   "outputs": [
    {
     "data": {
      "text/plain": [
       "0.89000000000000024"
      ]
     },
     "execution_count": 91,
     "metadata": {},
     "output_type": "execute_result"
    }
   ],
   "source": [
    "x.var()"
   ]
  },
  {
   "cell_type": "code",
   "execution_count": 38,
   "metadata": {
    "collapsed": true
   },
   "outputs": [],
   "source": [
    "def plot_poisson(λ, samples):\n",
    "    x = np.random.poisson(λ, size=samples)\n",
    "    plt.hist(x, bins=20)\n",
    "    plt.xlabel(\"Number of events\")\n",
    "    plt.ylabel(\"Count\")\n",
    "    plt.xlim(0.0, 100.0)"
   ]
  },
  {
   "cell_type": "code",
   "execution_count": 39,
   "metadata": {
    "collapsed": false
   },
   "outputs": [
    {
     "data": {
      "image/png": "[encoded data removed]",
      "text/plain": [
       "<matplotlib.figure.Figure at 0x7f5bd83c5940>"
      ]
     },
     "metadata": {},
     "output_type": "display_data"
    }
   ],
   "source": [
    "interact(plot_poisson, λ=(0, 100), samples=(100,1000,100));"
   ]
  },
  {
   "cell_type": "markdown",
   "metadata": {},
   "source": [
    "## 2 Continuous probability distributions"
   ]
  },
  {
   "cell_type": "markdown",
   "metadata": {},
   "source": [
    "In this notebook, we cover the following continuous probability distributions:\n",
    "\n",
    "* Uniform\n",
    "* Normal \n",
    "* Poisson \n",
    "* Exponential\n",
    "* Beta\n",
    "* Dirichlet"
   ]
  },
  {
   "cell_type": "markdown",
   "metadata": {},
   "source": [
    "### 2.1 Uniform distribution"
   ]
  },
  {
   "cell_type": "markdown",
   "metadata": {},
   "source": [
    "The <a href=\"https://en.wikipedia.org/wiki/Uniform_distribution_(continuous)\">uniform distribution</a> returns random variates with equal probabilities in the interval $[a,b]$. It has he following properties:\n",
    "\n",
    "* $X \\sim U(a,b) $\n",
    "* $X \\in [a,b] $\n",
    "* $E[X] = (a+b)/2$\n",
    "* $var[X] = \\frac{1}{12}(b-a)^2$"
   ]
  },
  {
   "cell_type": "code",
   "execution_count": 40,
   "metadata": {
    "collapsed": true
   },
   "outputs": [],
   "source": [
    "a = 0.0\n",
    "b = 1.0"
   ]
  },
  {
   "cell_type": "markdown",
   "metadata": {},
   "source": [
    "The uniform distribution is implemented by `numpy.random.uniform`:"
   ]
  },
  {
   "cell_type": "code",
   "execution_count": 41,
   "metadata": {
    "collapsed": false
   },
   "outputs": [
    {
     "data": {
      "text/plain": [
       "0.8491218811470895"
      ]
     },
     "execution_count": 41,
     "metadata": {},
     "output_type": "execute_result"
    }
   ],
   "source": [
    "np.random.uniform(a, b)"
   ]
  },
  {
   "cell_type": "code",
   "execution_count": 42,
   "metadata": {
    "collapsed": false
   },
   "outputs": [
    {
     "data": {
      "text/plain": [
       "array([ 0.16434763,  0.80478323,  0.49635999,  0.562587  ,  0.34648664,\n",
       "        0.76946922,  0.63553052,  0.35433787,  0.86172198,  0.84388088,\n",
       "        0.10132737,  0.90814351,  0.23968955,  0.09417854,  0.24578966,\n",
       "        0.12046703,  0.25268169,  0.79909627,  0.27083202,  0.20133366,\n",
       "        0.62153916,  0.1075389 ,  0.01615567,  0.04836054,  0.54852369,\n",
       "        0.87865268,  0.60109624,  0.16918192,  0.15317751,  0.96260525,\n",
       "        0.0239119 ,  0.54638518,  0.49676374,  0.60055138,  0.01606149,\n",
       "        0.3476235 ,  0.84544746,  0.14989699,  0.04112317,  0.13364237,\n",
       "        0.07662573,  0.52678365,  0.70660572,  0.84738635,  0.39786915,\n",
       "        0.51907987,  0.44322073,  0.49595112,  0.01950706,  0.09763651])"
      ]
     },
     "execution_count": 42,
     "metadata": {},
     "output_type": "execute_result"
    }
   ],
   "source": [
    "x = np.random.uniform(a, b, size=50)\n",
    "x"
   ]
  },
  {
   "cell_type": "markdown",
   "metadata": {},
   "source": [
    "Let's check the relationships between the mean and variance and the $a$ and $b$ parameters:"
   ]
  },
  {
   "cell_type": "code",
   "execution_count": 48,
   "metadata": {
    "collapsed": false
   },
   "outputs": [
    {
     "data": {
      "text/plain": [
       "(0.41023897719120689, 0.5)"
      ]
     },
     "execution_count": 48,
     "metadata": {},
     "output_type": "execute_result"
    }
   ],
   "source": [
    "x.mean(), (a+b)/2"
   ]
  },
  {
   "cell_type": "code",
   "execution_count": 49,
   "metadata": {
    "collapsed": false
   },
   "outputs": [
    {
     "data": {
      "text/plain": [
       "(0.085804347373684392, 0.08333333333333333)"
      ]
     },
     "execution_count": 49,
     "metadata": {},
     "output_type": "execute_result"
    }
   ],
   "source": [
    "x.var(), (b-a)**2/12"
   ]
  },
  {
   "cell_type": "markdown",
   "metadata": {},
   "source": [
    "### 2.2 Normal distribution"
   ]
  },
  {
   "cell_type": "markdown",
   "metadata": {},
   "source": [
    "The [normal distribution](https://en.wikipedia.org/wiki/Normal_distribution) is one of the most important continuous probability distributions due to the [central limit theorem](https://en.wikipedia.org/wiki/Central_limit_theorem). It has the following properties:\n",
    "\n",
    "* $X \\sim N(\\mu, \\sigma^2)$\n",
    "* $X \\in [-\\infty,\\infty]$\n",
    "* $E[X] = \\mu$\n",
    "* $var[X] = \\sigma^2$"
   ]
  },
  {
   "cell_type": "code",
   "execution_count": 50,
   "metadata": {
    "collapsed": true
   },
   "outputs": [],
   "source": [
    "μ = 0.0\n",
    "σ = 2.0"
   ]
  },
  {
   "cell_type": "markdown",
   "metadata": {},
   "source": [
    "The normal distribution is implemented by `numpy.random.normal`. Note that this takes the standard deviation $\\sigma$ rather than the variance as its second argument."
   ]
  },
  {
   "cell_type": "code",
   "execution_count": 53,
   "metadata": {
    "collapsed": false
   },
   "outputs": [
    {
     "data": {
      "text/plain": [
       "0.7750214485088793"
      ]
     },
     "execution_count": 53,
     "metadata": {},
     "output_type": "execute_result"
    }
   ],
   "source": [
    "np.random.normal(μ, σ) # second argument is just sigma"
   ]
  },
  {
   "cell_type": "code",
   "execution_count": 54,
   "metadata": {
    "collapsed": false
   },
   "outputs": [
    {
     "data": {
      "text/plain": [
       "array([-0.4494752 , -2.69487832,  1.35693777,  3.57421171, -0.73784325,\n",
       "       -2.80507307, -0.03556469,  1.96459766, -0.28839747,  1.94486516,\n",
       "       -0.61503419, -1.01623166, -0.12349156, -2.84704798,  0.38815077,\n",
       "        2.57527273,  0.71623859,  3.24108327, -3.42259661, -1.84707392,\n",
       "       -2.73301709, -0.14817506, -1.37194387,  0.81533246, -1.09692274,\n",
       "       -0.5394083 , -1.38635133, -1.18758251,  1.36080683, -1.46892906,\n",
       "        2.94916725,  2.53768326, -0.16838604, -0.13285827,  1.82109337,\n",
       "        0.99512281,  2.07757801, -0.01354418,  0.87550168, -1.18070396,\n",
       "       -2.40666213, -1.00889076,  1.87443476, -3.37571117, -3.50970271,\n",
       "       -0.228899  , -0.19964385, -0.85637475, -0.60133635,  0.72059211])"
      ]
     },
     "execution_count": 54,
     "metadata": {},
     "output_type": "execute_result"
    }
   ],
   "source": [
    "x = np.random.normal(μ, σ, size=50)\n",
    "x"
   ]
  },
  {
   "cell_type": "markdown",
   "metadata": {},
   "source": [
    "The mean and standard deviation are estimators for $\\mu$ and $\\sigma$:"
   ]
  },
  {
   "cell_type": "code",
   "execution_count": 59,
   "metadata": {
    "collapsed": false
   },
   "outputs": [
    {
     "data": {
      "text/plain": [
       "(-0.17418161662673959, 0.0)"
      ]
     },
     "execution_count": 59,
     "metadata": {},
     "output_type": "execute_result"
    }
   ],
   "source": [
    "x.mean(), μ"
   ]
  },
  {
   "cell_type": "code",
   "execution_count": 60,
   "metadata": {
    "collapsed": false
   },
   "outputs": [
    {
     "data": {
      "text/plain": [
       "(1.7874344771840092, 2.0)"
      ]
     },
     "execution_count": 60,
     "metadata": {},
     "output_type": "execute_result"
    }
   ],
   "source": [
    "x.std(), σ"
   ]
  },
  {
   "cell_type": "markdown",
   "metadata": {},
   "source": [
    "It turns out that the standard deviation is not the best estimator for $\\sigma$ in many cases. We will revisit that later."
   ]
  },
  {
   "cell_type": "markdown",
   "metadata": {},
   "source": [
    "A histogram is again an effective way of visualizing this distribution:"
   ]
  },
  {
   "cell_type": "code",
   "execution_count": 63,
   "metadata": {
    "collapsed": true
   },
   "outputs": [],
   "source": [
    "def plot_normal(μ, σ, samples):\n",
    "    x = np.random.normal(μ, σ, size=samples)\n",
    "    plt.hist(x, bins=20, normed=True);\n",
    "    plt.xlim(-15.0, 15.0)\n",
    "    plt.xlabel('x')\n",
    "    plt.ylabel('P(x)')"
   ]
  },
  {
   "cell_type": "code",
   "execution_count": 64,
   "metadata": {
    "collapsed": false
   },
   "outputs": [
    {
     "data": {
      "image/png": "[encoded data removed]",
      "text/plain": [
       "<matplotlib.figure.Figure at 0x7f5bd81ce828>"
      ]
     },
     "metadata": {},
     "output_type": "display_data"
    }
   ],
   "source": [
    "interact(plot_normal, μ=(-5.0,5.0), σ=(1.0, 5.0), samples=(100,1000,100));"
   ]
  },
  {
   "cell_type": "markdown",
   "metadata": {},
   "source": [
    "### 2.3 Exponential distribution"
   ]
  },
  {
   "cell_type": "markdown",
   "metadata": {},
   "source": [
    "The [exponential distribution](https://en.wikipedia.org/wiki/Exponential_distribution) is closely related to the Poisson distribution. Remember the Poisson distribution is based on the Poisson process: a series of events that occur at a fixed average rate per unit time. The Poisson distribution gives the number of events per unit time. The exponential distribution gives the time between those events. It has the following properties:\n",
    "\n",
    "* $ t \\sim Exp(\\lambda) $\n",
    "* $\\lambda$ is the **rate parameter**, or average events per unit time\n",
    "* $E[t] = 1/\\lambda = \\beta$ where $\\beta$ is the **scale parameter**, or average time between events\n",
    "* $Var[t] = \\beta^2 $"
   ]
  },
  {
   "cell_type": "code",
   "execution_count": 68,
   "metadata": {
    "collapsed": true
   },
   "outputs": [],
   "source": [
    "β=2.0"
   ]
  },
  {
   "cell_type": "markdown",
   "metadata": {},
   "source": [
    "The exponential distribution is implemented by `numpy.random.exponential(beta)`:"
   ]
  },
  {
   "cell_type": "code",
   "execution_count": 69,
   "metadata": {
    "collapsed": false
   },
   "outputs": [
    {
     "data": {
      "text/plain": [
       "3.178816475418736"
      ]
     },
     "execution_count": 69,
     "metadata": {},
     "output_type": "execute_result"
    }
   ],
   "source": [
    "np.random.exponential(β)"
   ]
  },
  {
   "cell_type": "code",
   "execution_count": 70,
   "metadata": {
    "collapsed": false
   },
   "outputs": [
    {
     "data": {
      "text/plain": [
       "array([ 2.63875642,  1.20982286,  0.76655919,  1.13586725,  0.04074229,\n",
       "        2.93425171,  2.88753067,  0.34836286,  2.17027427,  1.44820888,\n",
       "        0.9989671 ,  3.69530254,  1.39264678,  0.02751504,  1.82599047,\n",
       "        0.42061707,  3.03853931,  1.62024374,  2.08257121,  0.4131545 ,\n",
       "        0.65780263,  1.12590196,  4.19754058,  4.47621206,  0.9828797 ,\n",
       "        0.14667733,  2.87550632,  2.4564202 ,  0.65164966,  6.71563002,\n",
       "        1.45569367,  0.80747268,  3.50366555,  3.38907549,  0.10296779,\n",
       "        7.30410916,  2.11097576,  0.16799754,  3.33301828,  0.22975607,\n",
       "        1.73212276,  2.92759613,  1.55164992,  4.08654929,  0.88895454,\n",
       "        0.35721348,  0.84648617,  1.44456962,  1.70721017,  1.89240157])"
      ]
     },
     "execution_count": 70,
     "metadata": {},
     "output_type": "execute_result"
    }
   ],
   "source": [
    "t = np.random.exponential(β, size=50)\n",
    "t"
   ]
  },
  {
   "cell_type": "code",
   "execution_count": 71,
   "metadata": {
    "collapsed": false
   },
   "outputs": [],
   "source": [
    "def plot_exponential(β, samples):\n",
    "    t = np.random.exponential(β, samples)\n",
    "    plt.hist(t, bins=20, normed=True)\n",
    "    plt.xlabel(\"t\")\n",
    "    plt.xlim(0.0, 50.0)"
   ]
  },
  {
   "cell_type": "code",
   "execution_count": 72,
   "metadata": {
    "collapsed": false
   },
   "outputs": [
    {
     "data": {
      "image/png": "[encoded data removed]",
      "text/plain": [
       "<matplotlib.figure.Figure at 0x7f5bd820e278>"
      ]
     },
     "metadata": {},
     "output_type": "display_data"
    }
   ],
   "source": [
    "interact(plot_exponential, β=(1.0, 20.0), samples=(100,1000,100));"
   ]
  },
  {
   "cell_type": "markdown",
   "metadata": {},
   "source": [
    "### 2.4 Beta distribution"
   ]
  },
  {
   "cell_type": "markdown",
   "metadata": {},
   "source": [
    "Sometimes you need to build generative models that need probabilities that are themselves random variables. The [beta distribution](https://en.wikipedia.org/wiki/Beta_distribution) is a probability distribution whose outcomes are probabilities. It has the following properties:\n",
    "\n",
    "* $ x \\sim Beta(\\alpha, \\beta) $\n",
    "* $ x \\in [0.0,1.0] $\n",
    "* $ E[x] = \\frac{\\alpha}{\\alpha+\\beta} $\n",
    "* $ Var[x] = \\frac{\\alpha \\beta}{(\\alpha+\\beta)^2(\\alpha+\\beta+1)} $"
   ]
  },
  {
   "cell_type": "code",
   "execution_count": 73,
   "metadata": {
    "collapsed": true
   },
   "outputs": [],
   "source": [
    "α = 0.5\n",
    "β = 2.0"
   ]
  },
  {
   "cell_type": "markdown",
   "metadata": {},
   "source": [
    "The beta distribution is implemented by `numpy.random.beta(alpha, beta)`:"
   ]
  },
  {
   "cell_type": "code",
   "execution_count": 74,
   "metadata": {
    "collapsed": false
   },
   "outputs": [
    {
     "data": {
      "text/plain": [
       "0.02235096338678375"
      ]
     },
     "execution_count": 74,
     "metadata": {},
     "output_type": "execute_result"
    }
   ],
   "source": [
    "np.random.beta(α, β)"
   ]
  },
  {
   "cell_type": "code",
   "execution_count": 77,
   "metadata": {
    "collapsed": false
   },
   "outputs": [
    {
     "data": {
      "text/plain": [
       "array([  5.54550799e-01,   5.99323284e-01,   5.08226342e-01,\n",
       "         8.09957888e-01,   2.21534563e-01,   9.20539291e-02,\n",
       "         4.23251326e-01,   2.73206175e-01,   3.46025409e-02,\n",
       "         2.95917746e-02,   1.35992967e-01,   2.26832468e-02,\n",
       "         5.93609193e-01,   4.48509960e-02,   3.82200782e-04,\n",
       "         1.67095031e-02,   2.37078401e-02,   4.91155878e-01,\n",
       "         1.13125823e-01,   8.15083149e-03,   3.48839389e-01,\n",
       "         1.27488155e-01,   3.51824841e-01,   7.09029058e-02,\n",
       "         1.38904509e-01,   3.66594344e-01,   7.35400633e-02,\n",
       "         4.85552473e-02,   4.98046783e-02,   3.57337482e-01,\n",
       "         4.43964543e-01,   1.78784598e-01,   6.36835666e-02,\n",
       "         4.59320125e-02,   4.05654383e-01,   3.16688111e-01,\n",
       "         3.69133367e-01,   5.00306929e-03,   2.53313748e-02,\n",
       "         8.17422954e-02,   3.25681256e-01,   5.78092190e-02,\n",
       "         1.12106967e-01,   7.23818510e-01,   4.35505177e-03,\n",
       "         1.39219372e-01,   3.13753819e-01,   8.51092199e-02,\n",
       "         2.38484403e-02,   5.95921320e-01])"
      ]
     },
     "execution_count": 77,
     "metadata": {},
     "output_type": "execute_result"
    }
   ],
   "source": [
    "x = np.random.beta(α, β, 50)\n",
    "x"
   ]
  },
  {
   "cell_type": "code",
   "execution_count": 78,
   "metadata": {
    "collapsed": true
   },
   "outputs": [],
   "source": [
    "def plot_beta(α, β, samples):\n",
    "    x = np.random.beta(α, β, samples)\n",
    "    plt.hist(x, bins=20, normed=True)\n",
    "    plt.xlabel('x')\n",
    "    plt.ylabel('P(x)')"
   ]
  },
  {
   "cell_type": "code",
   "execution_count": 79,
   "metadata": {
    "collapsed": false
   },
   "outputs": [
    {
     "data": {
      "image/png": "[encoded data removed]",
      "text/plain": [
       "<matplotlib.figure.Figure at 0x7f5bdadb7128>"
      ]
     },
     "metadata": {},
     "output_type": "display_data"
    }
   ],
   "source": [
    "interact(plot_beta, α=(0.1, 5.0, 0.1), β=(0.1, 5.0, 0.1), samples=(100,1000,100));"
   ]
  },
  {
   "cell_type": "markdown",
   "metadata": {},
   "source": [
    "The beta distribution is often used along with the binomial distribution in generative models. Recall that the binomial distribution $B(n,p)$ has an input parameter $p$ that is the probability of success in the Bernoulli trial. Here is a simple generative model where the $p$ variable in the binomial distribution is itself a beta distributed random variable:\n",
    "\n",
    "$$ X_1 \\sim Beta(0.5, 2.0) $$\n",
    "$$ X_2 \\sim B(100, X_1) $$\n",
    "\n",
    "When a parameter in a probability distribution is itself a random variable, we call the model a *hierarchical model*. Here are `500` realizations of this hierarchical model:"
   ]
  },
  {
   "cell_type": "code",
   "execution_count": 91,
   "metadata": {
    "collapsed": false
   },
   "outputs": [],
   "source": [
    "X1 = np.random.beta(0.1, 2.0, 500)\n",
    "X2 = np.array([np.random.choice([0,1],p=(p,1-p)) for p in X1])"
   ]
  },
  {
   "cell_type": "markdown",
   "metadata": {},
   "source": [
    "These two random variables $X_1$ and $X_2$ are correlated, so we need to visualize their joint distribution. Seaborn has a very nice `jointplot` for this purpose:"
   ]
  },
  {
   "cell_type": "code",
   "execution_count": 92,
   "metadata": {
    "collapsed": false
   },
   "outputs": [
    {
     "data": {
      "image/png": "[encoded data removed]",
      "text/plain": [
       "<matplotlib.figure.Figure at 0x7f5bd8016ac8>"
      ]
     },
     "metadata": {},
     "output_type": "display_data"
    }
   ],
   "source": [
    "plt.scatter(X1, X2)\n",
    "plt.xlabel('X1')\n",
    "plt.ylabel('X2');"
   ]
  },
  {
   "cell_type": "markdown",
   "metadata": {},
   "source": [
    "### 2.5 Dirichlet distribution"
   ]
  },
  {
   "cell_type": "markdown",
   "metadata": {},
   "source": [
    "The [Dirichlet distribution](https://en.wikipedia.org/wiki/Dirichlet_distribution) is a multidimensional generalization of the beta distribution. Where the beta distribution returns a single probability, the Dirichlet distribution returns a vector of probabilities that are normalize to $1$. It has the following properties:\n",
    "\n",
    "* $ \\vec{x} \\sim Dir(\\vec{\\alpha}) $\n",
    "* $ x_i \\in [0,1]$ is a vector of $k$ probabilities, such that $\\sum_{i=1}^{k} x_i = 1 $\n",
    "* $ \\alpha_i $ is a vector of $k$ *concentrations* that parametrize the distribution\n",
    "\n",
    "The Dirichlet distribution is implemented by `numpy.random.dirichlet` and takes a sequence of alpha values:"
   ]
  },
  {
   "cell_type": "code",
   "execution_count": 93,
   "metadata": {
    "collapsed": false
   },
   "outputs": [
    {
     "data": {
      "text/plain": [
       "array([ 0.6088404,  0.3911596])"
      ]
     },
     "execution_count": 93,
     "metadata": {},
     "output_type": "execute_result"
    }
   ],
   "source": [
    "np.random.dirichlet(alpha=(0.1, 0.2))"
   ]
  },
  {
   "cell_type": "markdown",
   "metadata": {},
   "source": [
    "Again, because the values returned by the distribution are two dimensional, we need to make a 2d scatterplot or joint distribution plot:"
   ]
  },
  {
   "cell_type": "code",
   "execution_count": 104,
   "metadata": {
    "collapsed": false
   },
   "outputs": [],
   "source": [
    "def plot_dirichlet(alpha1, alpha2, samples):\n",
    "    x = np.random.dirichlet((alpha1, alpha2), samples)\n",
    "    plt.scatter(x[:,0], x[:,1])\n",
    "    plt.xlim(0,1)\n",
    "    plt.ylim(0,1)\n",
    "    plt.xlabel('$x_1$')\n",
    "    plt.ylabel('$x_2$')"
   ]
  },
  {
   "cell_type": "markdown",
   "metadata": {},
   "source": [
    "In the following visualization, notice how the points returned by the Dirichlet distribution lie on the line where $x_1 + x_2 = 1$."
   ]
  },
  {
   "cell_type": "code",
   "execution_count": 105,
   "metadata": {
    "collapsed": false
   },
   "outputs": [
    {
     "data": {
      "image/png": "[encoded data removed]",
      "text/plain": [
       "<matplotlib.figure.Figure at 0x7f5c0c322128>"
      ]
     },
     "metadata": {},
     "output_type": "display_data"
    }
   ],
   "source": [
    "interact(plot_dirichlet, alpha1=(0.1, 10.0, 0.1), alpha2=(0.1, 10.0, 0.1), samples=(10,100,10));"
   ]
  },
  {
   "cell_type": "markdown",
   "metadata": {},
   "source": [
    "The Dirichlet distribution is often paired with the categorical distribution in hierarchical models when the probabilities that go into the categorical distribution are themselves random variables. Here is a simple hierarchical model that does this:\n",
    "\n",
    "$$ \\vec{x}_1 \\sim Dir([2.0, 2.0, 2.0]) $$\n",
    "\n",
    "$$ x_2 \\sim Categorical(\\vec{x}_1) $$"
   ]
  },
  {
   "cell_type": "code",
   "execution_count": 106,
   "metadata": {
    "collapsed": false
   },
   "outputs": [],
   "source": [
    "x1 = np.random.dirichlet((2.0, 2.0, 2.0), size=100)\n",
    "x2 = np.array([np.random.choice(['red', 'green', 'blue'], p=p) for p in x1])"
   ]
  },
  {
   "cell_type": "code",
   "execution_count": 108,
   "metadata": {
    "collapsed": false
   },
   "outputs": [
    {
     "data": {
      "text/plain": [
       "red      45\n",
       "blue     29\n",
       "green    26\n",
       "Name: x2, dtype: int64"
      ]
     },
     "execution_count": 108,
     "metadata": {},
     "output_type": "execute_result"
    }
   ],
   "source": [
    "x2_df = pd.DataFrame({'x2': x2})\n",
    "x2_df.x2.value_counts()"
   ]
  },
  {
   "cell_type": "markdown",
   "metadata": {},
   "source": [
    "## TensorFlow"
   ]
  },
  {
   "cell_type": "markdown",
   "metadata": {},
   "source": [
    "[TensorFlow](https://www.tensorflow.org/) is a relatively new open-source library for machine learning. It was started by Google in November of 2015 and the 1.0 version was released in Feburary 2017. TensorFlow is a vast and powerful library; in this course we will only scratch the surface. My main motivation for introducing TensorFlow is that it provides a very different model of computing compared to the traditional numerical libraries in Python (NumPy, Pandas).\n",
    "\n",
    "Here is the main idea:\n",
    "\n",
    "Libraries such as NumPy, Pandas, SciPy:\n",
    "\n",
    "* Only know about numbers, and multidimensional arrays (tensors) of numbers.\n",
    "* Always compute the result of each expression immediately upon construction.\n",
    "* Only runs a computation on the CPU of the local computer.\n",
    "\n",
    "TensorFlow on the other hand:\n",
    "\n",
    "* Separates the construction of an expression (or **computational graph**) from its running.\n",
    "* Can run a computational graph multiple times on different inputs.\n",
    "* Can run a computational graph on CPUs, GPUs, clusters or in the cloud.\n",
    "* Offers abstract object that represent variables or tensors.\n",
    "\n",
    "Let's see how this work by exploring a probability distribution. First import `tensorflow`:"
   ]
  },
  {
   "cell_type": "code",
   "execution_count": 33,
   "metadata": {
    "collapsed": true
   },
   "outputs": [],
   "source": [
    "import tensorflow as tf"
   ]
  },
  {
   "cell_type": "markdown",
   "metadata": {},
   "source": [
    "Next **create Variable objects** for parameters. The first argument is their initial value, the second the dtype:"
   ]
  },
  {
   "cell_type": "code",
   "execution_count": 34,
   "metadata": {
    "collapsed": true
   },
   "outputs": [],
   "source": [
    "mu = tf.Variable(0.0, tf.float64)\n",
    "sigma = tf.Variable(1.0, tf.float64)"
   ]
  },
  {
   "cell_type": "markdown",
   "metadata": {},
   "source": [
    "Now let's import the `distributions` submodule that has different probability distributions:"
   ]
  },
  {
   "cell_type": "code",
   "execution_count": 35,
   "metadata": {
    "collapsed": true
   },
   "outputs": [],
   "source": [
    "from tensorflow.contrib import distributions as dist"
   ]
  },
  {
   "cell_type": "markdown",
   "metadata": {},
   "source": [
    "Then we can build a normal distribution based on these parameters:"
   ]
  },
  {
   "cell_type": "code",
   "execution_count": 36,
   "metadata": {
    "collapsed": false
   },
   "outputs": [
    {
     "data": {
      "text/plain": [
       "<tensorflow.contrib.distributions.python.ops.normal.Normal at 0x7fcea2ae5080>"
      ]
     },
     "execution_count": 36,
     "metadata": {},
     "output_type": "execute_result"
    }
   ],
   "source": [
    "N = dist.Normal(mu, sigma)\n",
    "N"
   ]
  },
  {
   "cell_type": "markdown",
   "metadata": {},
   "source": [
    "At this point, the normal distribution hasn't actually computed anything. To compute any numerical results in TensorFlow, we need to:\n",
    "\n",
    "* Create a `Session`\n",
    "* Create an object for initializing any `Variable` instances\n",
    "* Run the initialization object\n",
    "\n",
    "These steps are performed here:"
   ]
  },
  {
   "cell_type": "code",
   "execution_count": 37,
   "metadata": {
    "collapsed": false
   },
   "outputs": [],
   "source": [
    "sess = tf.Session()\n",
    "init = tf.global_variables_initializer()\n",
    "sess.run(init)"
   ]
  },
  {
   "cell_type": "markdown",
   "metadata": {},
   "source": [
    "Once this initalization has been performed, you can run different calculations:"
   ]
  },
  {
   "cell_type": "code",
   "execution_count": 39,
   "metadata": {
    "collapsed": false
   },
   "outputs": [
    {
     "data": {
      "text/plain": [
       "array([-0.28471422, -1.22629058,  0.80350655,  0.42642382, -0.94055486,\n",
       "       -0.24847141, -1.72471368, -1.87664688, -0.59302413,  0.09190883], dtype=float32)"
      ]
     },
     "execution_count": 39,
     "metadata": {},
     "output_type": "execute_result"
    }
   ],
   "source": [
    "sess.run(N.sample(10))"
   ]
  },
  {
   "cell_type": "markdown",
   "metadata": {},
   "source": [
    "The `.run()` method also takes a second argument where you can pass in updated values of variables:"
   ]
  },
  {
   "cell_type": "code",
   "execution_count": 42,
   "metadata": {
    "collapsed": false
   },
   "outputs": [
    {
     "data": {
      "text/plain": [
       "array([ 1.6983242 ,  0.08049154,  0.62661022, -0.53246081,  3.85624242,\n",
       "        0.93040109,  2.90378928,  2.47856998,  0.16079301,  0.84702545], dtype=float32)"
      ]
     },
     "execution_count": 42,
     "metadata": {},
     "output_type": "execute_result"
    }
   ],
   "source": [
    "sess.run(N.sample(10), {mu: 1.0, sigma: 2.0})"
   ]
  },
  {
   "cell_type": "markdown",
   "metadata": {},
   "source": [
    "We can now evaluate the PDF at a particular $x$ value for a particular set of parameters:"
   ]
  },
  {
   "cell_type": "code",
   "execution_count": 40,
   "metadata": {
    "collapsed": false
   },
   "outputs": [
    {
     "data": {
      "text/plain": [
       "0.18026347"
      ]
     },
     "execution_count": 40,
     "metadata": {},
     "output_type": "execute_result"
    }
   ],
   "source": [
    "sess.run(N.pdf(0.1), {mu: 1.0, sigma: 2.0})"
   ]
  },
  {
   "cell_type": "markdown",
   "metadata": {},
   "source": [
    "This is a very basic example using TensorFlow, but the patterns used here are the same in any TensorFlow based calculation:\n",
    "\n",
    "* Create `Variable` instances for parameters.\n",
    "* Construct a computational graph.\n",
    "* Create and initialize a `Session`.\n",
    "* Run the graph in the session."
   ]
  }
 ],
 "metadata": {
  "kernelspec": {
   "display_name": "Python 3",
   "language": "python",
   "name": "python3"
  },
  "language_info": {
   "codemirror_mode": {
    "name": "ipython",
    "version": 3
   },
   "file_extension": ".py",
   "mimetype": "text/x-python",
   "name": "python",
   "nbconvert_exporter": "python",
   "pygments_lexer": "ipython3",
   "version": "3.5.2"
  }
 },
 "nbformat": 4,
 "nbformat_minor": 1
}
