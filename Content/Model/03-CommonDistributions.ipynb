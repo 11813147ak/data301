{
 "cells": [
  {
   "cell_type": "markdown",
   "metadata": {},
   "source": [
    "# Common Probability Distributions"
   ]
  },
  {
   "cell_type": "markdown",
   "metadata": {},
   "source": [
    "**Learning Objectives:** Learn about different discrete and continuous probability distributions and how to draw samples from them in Python."
   ]
  },
  {
   "cell_type": "markdown",
   "metadata": {},
   "source": [
    "## Imports"
   ]
  },
  {
   "cell_type": "code",
   "execution_count": 1,
   "metadata": {
    "collapsed": true
   },
   "outputs": [],
   "source": [
    "import numpy as np\n",
    "import pandas as pd"
   ]
  },
  {
   "cell_type": "code",
   "execution_count": 2,
   "metadata": {
    "collapsed": true
   },
   "outputs": [],
   "source": [
    "import matplotlib as mpl\n",
    "from matplotlib import pyplot as plt\n",
    "%matplotlib inline"
   ]
  },
  {
   "cell_type": "code",
   "execution_count": 3,
   "metadata": {
    "collapsed": true
   },
   "outputs": [],
   "source": [
    "from ipywidgets import interact, fixed"
   ]
  },
  {
   "cell_type": "code",
   "execution_count": 8,
   "metadata": {
    "collapsed": true
   },
   "outputs": [],
   "source": [
    "import altair as alt\n",
    "alt.enable_mime_rendering()"
   ]
  },
  {
   "cell_type": "markdown",
   "metadata": {},
   "source": [
    "## 1 Discrete probability distributions"
   ]
  },
  {
   "cell_type": "markdown",
   "metadata": {},
   "source": [
    "### 1.1 Bernoulli distribution"
   ]
  },
  {
   "cell_type": "markdown",
   "metadata": {},
   "source": [
    "The [Bernoulli distribution](https://en.wikipedia.org/wiki/Bernoulli_distribution) is used to model categorical data that has two possible outcomes, usually referred to *success* and *failure*. This type of process is called a *Bernoulli trial*. Here is a short summary of the properties of the Bernoulli distribution:\n",
    "\n",
    "* $x \\sim B(p)$\n",
    "* $p$ is the probability of *success*, $q=1-p$ the probability of *failure*\n",
    "* $x \\in \\{success, failure\\}$\n",
    "\n",
    "In practice, the *success* and *failure* outcomes can be any categorical values.\n",
    "\n",
    "Some examples:\n",
    "\n",
    "* Tossing a coin (`H` or `T`)\n",
    "* Mobile phones operating systems (`iOS` or `Android`)\n",
    "* Students Passing or failing a test\n",
    "\n",
    "The function `np.random.choice` can be used to draw samples from the Bernoulli distribution.\n",
    "\n",
    "Here are 10 Bernoulli trials with outcomes of `0/1` of equal probability:"
   ]
  },
  {
   "cell_type": "code",
   "execution_count": 9,
   "metadata": {
    "collapsed": false
   },
   "outputs": [
    {
     "data": {
      "text/plain": [
       "array([1, 0, 1, 1, 0, 0, 0, 0, 1, 1])"
      ]
     },
     "execution_count": 9,
     "metadata": {},
     "output_type": "execute_result"
    }
   ],
   "source": [
    "x = np.random.choice([0,1], 10)\n",
    "x"
   ]
  },
  {
   "cell_type": "markdown",
   "metadata": {},
   "source": [
    "Any set of values can be used for the outcomes:"
   ]
  },
  {
   "cell_type": "code",
   "execution_count": 10,
   "metadata": {
    "collapsed": false
   },
   "outputs": [
    {
     "data": {
      "text/plain": [
       "array(['T', 'H', 'H', 'H', 'T', 'T', 'H', 'H', 'H', 'H'],\n",
       "      dtype='<U1')"
      ]
     },
     "execution_count": 10,
     "metadata": {},
     "output_type": "execute_result"
    }
   ],
   "source": [
    "x = np.random.choice(['H','T'], 10)\n",
    "x"
   ]
  },
  {
   "cell_type": "markdown",
   "metadata": {},
   "source": [
    "An effective way of visualizing such categorical data is using a bar plot:"
   ]
  },
  {
   "cell_type": "code",
   "execution_count": 11,
   "metadata": {
    "collapsed": false
   },
   "outputs": [
    {
     "data": {
      "application/vnd.vegalite.v1+json": {
       "$schema": "https://vega.github.io/schema/vega-lite/v1.2.1.json",
       "data": {
        "values": [
         {
          "x": "T"
         },
         {
          "x": "H"
         },
         {
          "x": "H"
         },
         {
          "x": "H"
         },
         {
          "x": "T"
         },
         {
          "x": "T"
         },
         {
          "x": "H"
         },
         {
          "x": "H"
         },
         {
          "x": "H"
         },
         {
          "x": "H"
         }
        ]
       },
       "encoding": {
        "x": {
         "aggregate": "count",
         "field": "*"
        },
        "y": {
         "field": "x",
         "type": "nominal"
        }
       },
       "mark": "bar"
      },
      "image/png": "[encoded data removed]",
      "text/plain": [
       "<altair.VegaLite object>"
      ]
     },
     "execution_count": 11,
     "metadata": {},
     "output_type": "execute_result"
    }
   ],
   "source": [
    "alt.Chart(pd.DataFrame(dict(x=x))).mark_bar().encode(\n",
    "    y='x',\n",
    "    x='count(*)'\n",
    ")"
   ]
  },
  {
   "cell_type": "markdown",
   "metadata": {},
   "source": [
    "The Bernoulli distribution also allows the probabilities of the two outcomes to be unequal. However, the probabilities of the two outcomes have to sum to $1.0$.\n",
    "\n",
    "Here is a generative model that uses a Bernoulli random variable to simulate phone ownership:\n",
    "\n",
    "* `iOS` with probability $p$\n",
    "* `Android` with probability $q=1-p$:"
   ]
  },
  {
   "cell_type": "code",
   "execution_count": 12,
   "metadata": {
    "collapsed": false
   },
   "outputs": [
    {
     "data": {
      "application/vnd.vegalite.v1+json": {
       "$schema": "https://vega.github.io/schema/vega-lite/v1.2.1.json",
       "data": {
        "values": [
         {
          "phones": "iOS"
         },
         {
          "phones": "Android"
         },
         {
          "phones": "Android"
         },
         {
          "phones": "iOS"
         },
         {
          "phones": "Android"
         },
         {
          "phones": "Android"
         },
         {
          "phones": "Android"
         },
         {
          "phones": "Android"
         },
         {
          "phones": "Android"
         },
         {
          "phones": "Android"
         },
         {
          "phones": "Android"
         },
         {
          "phones": "iOS"
         },
         {
          "phones": "Android"
         },
         {
          "phones": "Android"
         },
         {
          "phones": "iOS"
         },
         {
          "phones": "Android"
         },
         {
          "phones": "Android"
         },
         {
          "phones": "iOS"
         },
         {
          "phones": "iOS"
         },
         {
          "phones": "iOS"
         },
         {
          "phones": "Android"
         },
         {
          "phones": "Android"
         },
         {
          "phones": "iOS"
         },
         {
          "phones": "iOS"
         },
         {
          "phones": "Android"
         },
         {
          "phones": "Android"
         },
         {
          "phones": "Android"
         },
         {
          "phones": "iOS"
         },
         {
          "phones": "Android"
         },
         {
          "phones": "iOS"
         },
         {
          "phones": "Android"
         },
         {
          "phones": "Android"
         },
         {
          "phones": "iOS"
         },
         {
          "phones": "Android"
         },
         {
          "phones": "Android"
         },
         {
          "phones": "iOS"
         },
         {
          "phones": "iOS"
         },
         {
          "phones": "Android"
         },
         {
          "phones": "Android"
         },
         {
          "phones": "Android"
         },
         {
          "phones": "Android"
         },
         {
          "phones": "Android"
         },
         {
          "phones": "iOS"
         },
         {
          "phones": "Android"
         },
         {
          "phones": "iOS"
         },
         {
          "phones": "iOS"
         },
         {
          "phones": "iOS"
         },
         {
          "phones": "iOS"
         },
         {
          "phones": "iOS"
         },
         {
          "phones": "Android"
         },
         {
          "phones": "iOS"
         },
         {
          "phones": "iOS"
         },
         {
          "phones": "Android"
         },
         {
          "phones": "Android"
         },
         {
          "phones": "iOS"
         },
         {
          "phones": "Android"
         },
         {
          "phones": "iOS"
         },
         {
          "phones": "Android"
         },
         {
          "phones": "Android"
         },
         {
          "phones": "Android"
         },
         {
          "phones": "Android"
         },
         {
          "phones": "Android"
         },
         {
          "phones": "iOS"
         },
         {
          "phones": "Android"
         },
         {
          "phones": "iOS"
         },
         {
          "phones": "iOS"
         },
         {
          "phones": "iOS"
         },
         {
          "phones": "Android"
         },
         {
          "phones": "Android"
         },
         {
          "phones": "iOS"
         },
         {
          "phones": "Android"
         },
         {
          "phones": "Android"
         },
         {
          "phones": "Android"
         },
         {
          "phones": "iOS"
         },
         {
          "phones": "Android"
         },
         {
          "phones": "Android"
         },
         {
          "phones": "Android"
         },
         {
          "phones": "iOS"
         },
         {
          "phones": "Android"
         },
         {
          "phones": "Android"
         },
         {
          "phones": "iOS"
         },
         {
          "phones": "iOS"
         },
         {
          "phones": "iOS"
         },
         {
          "phones": "Android"
         },
         {
          "phones": "iOS"
         },
         {
          "phones": "Android"
         },
         {
          "phones": "Android"
         },
         {
          "phones": "Android"
         },
         {
          "phones": "Android"
         },
         {
          "phones": "Android"
         },
         {
          "phones": "Android"
         },
         {
          "phones": "Android"
         },
         {
          "phones": "Android"
         },
         {
          "phones": "Android"
         },
         {
          "phones": "iOS"
         },
         {
          "phones": "Android"
         },
         {
          "phones": "Android"
         },
         {
          "phones": "Android"
         },
         {
          "phones": "iOS"
         },
         {
          "phones": "Android"
         },
         {
          "phones": "Android"
         },
         {
          "phones": "Android"
         },
         {
          "phones": "Android"
         },
         {
          "phones": "Android"
         },
         {
          "phones": "iOS"
         },
         {
          "phones": "Android"
         },
         {
          "phones": "Android"
         },
         {
          "phones": "iOS"
         },
         {
          "phones": "iOS"
         },
         {
          "phones": "iOS"
         },
         {
          "phones": "Android"
         },
         {
          "phones": "Android"
         },
         {
          "phones": "Android"
         },
         {
          "phones": "Android"
         },
         {
          "phones": "Android"
         },
         {
          "phones": "Android"
         },
         {
          "phones": "Android"
         },
         {
          "phones": "iOS"
         },
         {
          "phones": "Android"
         },
         {
          "phones": "iOS"
         },
         {
          "phones": "Android"
         },
         {
          "phones": "Android"
         },
         {
          "phones": "Android"
         },
         {
          "phones": "iOS"
         },
         {
          "phones": "Android"
         },
         {
          "phones": "iOS"
         },
         {
          "phones": "iOS"
         },
         {
          "phones": "iOS"
         },
         {
          "phones": "Android"
         },
         {
          "phones": "iOS"
         },
         {
          "phones": "Android"
         },
         {
          "phones": "Android"
         },
         {
          "phones": "Android"
         },
         {
          "phones": "Android"
         },
         {
          "phones": "Android"
         },
         {
          "phones": "Android"
         },
         {
          "phones": "iOS"
         },
         {
          "phones": "iOS"
         },
         {
          "phones": "iOS"
         },
         {
          "phones": "Android"
         },
         {
          "phones": "Android"
         },
         {
          "phones": "Android"
         },
         {
          "phones": "Android"
         },
         {
          "phones": "Android"
         },
         {
          "phones": "Android"
         },
         {
          "phones": "Android"
         },
         {
          "phones": "Android"
         },
         {
          "phones": "iOS"
         },
         {
          "phones": "iOS"
         },
         {
          "phones": "Android"
         },
         {
          "phones": "Android"
         },
         {
          "phones": "Android"
         },
         {
          "phones": "Android"
         },
         {
          "phones": "Android"
         },
         {
          "phones": "Android"
         },
         {
          "phones": "Android"
         },
         {
          "phones": "iOS"
         },
         {
          "phones": "iOS"
         },
         {
          "phones": "Android"
         },
         {
          "phones": "iOS"
         },
         {
          "phones": "Android"
         },
         {
          "phones": "Android"
         },
         {
          "phones": "iOS"
         },
         {
          "phones": "Android"
         },
         {
          "phones": "iOS"
         },
         {
          "phones": "Android"
         },
         {
          "phones": "Android"
         },
         {
          "phones": "Android"
         },
         {
          "phones": "iOS"
         },
         {
          "phones": "iOS"
         },
         {
          "phones": "Android"
         },
         {
          "phones": "Android"
         },
         {
          "phones": "Android"
         },
         {
          "phones": "iOS"
         },
         {
          "phones": "iOS"
         },
         {
          "phones": "iOS"
         },
         {
          "phones": "Android"
         },
         {
          "phones": "iOS"
         },
         {
          "phones": "iOS"
         },
         {
          "phones": "Android"
         },
         {
          "phones": "Android"
         },
         {
          "phones": "Android"
         },
         {
          "phones": "Android"
         },
         {
          "phones": "iOS"
         },
         {
          "phones": "iOS"
         },
         {
          "phones": "Android"
         },
         {
          "phones": "iOS"
         },
         {
          "phones": "iOS"
         },
         {
          "phones": "Android"
         },
         {
          "phones": "Android"
         },
         {
          "phones": "Android"
         },
         {
          "phones": "Android"
         },
         {
          "phones": "iOS"
         },
         {
          "phones": "Android"
         },
         {
          "phones": "Android"
         },
         {
          "phones": "Android"
         },
         {
          "phones": "Android"
         },
         {
          "phones": "iOS"
         },
         {
          "phones": "Android"
         },
         {
          "phones": "iOS"
         }
        ]
       },
       "encoding": {
        "x": {
         "aggregate": "count",
         "field": "*"
        },
        "y": {
         "field": "phones",
         "type": "nominal"
        }
       },
       "mark": "bar"
      },
      "image/png": "[encoded data removed]",
      "text/plain": [
       "<altair.VegaLite object>"
      ]
     },
     "execution_count": 12,
     "metadata": {},
     "output_type": "execute_result"
    }
   ],
   "source": [
    "p = 0.4\n",
    "phones = np.random.choice(['iOS', 'Android'], 200, p=(p,1-p))\n",
    "phones_df = pd.DataFrame(dict(phones=phones))\n",
    "alt.Chart(phones_df).mark_bar().encode(\n",
    "    y = 'phones',\n",
    "    x = 'count(*)'\n",
    ")"
   ]
  },
  {
   "cell_type": "markdown",
   "metadata": {},
   "source": [
    "It is important to emphasize again that a finite number of samples does not give the inforamtion about the true PMF. We can get an **estimate** of the the $p$ and $q$ parameters as follows:"
   ]
  },
  {
   "cell_type": "code",
   "execution_count": 13,
   "metadata": {
    "collapsed": false
   },
   "outputs": [
    {
     "data": {
      "text/plain": [
       "Android    0.64\n",
       "iOS        0.36\n",
       "Name: phones, dtype: float64"
      ]
     },
     "execution_count": 13,
     "metadata": {},
     "output_type": "execute_result"
    }
   ],
   "source": [
    "phones_df.phones.value_counts(normalize=True)"
   ]
  },
  {
   "cell_type": "markdown",
   "metadata": {},
   "source": [
    "### 1.2 Categorical distribution"
   ]
  },
  {
   "cell_type": "markdown",
   "metadata": {},
   "source": [
    "The [categorical distribution](https://en.wikipedia.org/wiki/Categorical_distribution) is a generalization of the Bernoulli distribution that includes $k$ possible outcomes, each with a probability of $P_i$, with $\\sum_i P_i =1$. The categorial distribution is also implemented by the `numpy.random.choice` function.\n",
    "\n",
    "Here is a short summary of the properties of the categorical distribution:\n",
    "\n",
    "* $ x \\sim Categorical(P_1, P_2, \\ldots, P_k) $\n",
    "* $ \\sum_{i=1}^{k} P_i = 1 $\n",
    "\n",
    "Here is a $k=4$ categorical distribution of color values:"
   ]
  },
  {
   "cell_type": "code",
   "execution_count": 14,
   "metadata": {
    "collapsed": false
   },
   "outputs": [
    {
     "data": {
      "text/plain": [
       "array(['red', 'blue', 'grey', 'red', 'grey', 'red', 'blue', 'blue', 'grey',\n",
       "       'green', 'blue', 'green', 'green', 'blue', 'blue', 'grey', 'blue',\n",
       "       'grey', 'grey', 'red', 'grey', 'grey', 'green', 'blue', 'grey',\n",
       "       'grey', 'grey', 'green', 'grey', 'grey', 'blue', 'blue', 'red',\n",
       "       'green', 'grey', 'grey', 'blue', 'blue', 'blue', 'blue', 'red',\n",
       "       'grey', 'blue', 'red', 'blue', 'blue', 'grey', 'grey', 'blue',\n",
       "       'grey'],\n",
       "      dtype='<U5')"
      ]
     },
     "execution_count": 14,
     "metadata": {},
     "output_type": "execute_result"
    }
   ],
   "source": [
    "colors = np.random.choice(['red', 'green', 'blue', 'grey'], 50, p=(0.1,0.1,0.3,0.5))\n",
    "colors"
   ]
  },
  {
   "cell_type": "markdown",
   "metadata": {},
   "source": [
    "A horizontal bar chart is an effective way of visualizing data from a categorical distribution:"
   ]
  },
  {
   "cell_type": "code",
   "execution_count": 15,
   "metadata": {
    "collapsed": false
   },
   "outputs": [
    {
     "data": {
      "application/vnd.vegalite.v1+json": {
       "$schema": "https://vega.github.io/schema/vega-lite/v1.2.1.json",
       "data": {
        "values": [
         {
          "colors": "red"
         },
         {
          "colors": "blue"
         },
         {
          "colors": "grey"
         },
         {
          "colors": "red"
         },
         {
          "colors": "grey"
         },
         {
          "colors": "red"
         },
         {
          "colors": "blue"
         },
         {
          "colors": "blue"
         },
         {
          "colors": "grey"
         },
         {
          "colors": "green"
         },
         {
          "colors": "blue"
         },
         {
          "colors": "green"
         },
         {
          "colors": "green"
         },
         {
          "colors": "blue"
         },
         {
          "colors": "blue"
         },
         {
          "colors": "grey"
         },
         {
          "colors": "blue"
         },
         {
          "colors": "grey"
         },
         {
          "colors": "grey"
         },
         {
          "colors": "red"
         },
         {
          "colors": "grey"
         },
         {
          "colors": "grey"
         },
         {
          "colors": "green"
         },
         {
          "colors": "blue"
         },
         {
          "colors": "grey"
         },
         {
          "colors": "grey"
         },
         {
          "colors": "grey"
         },
         {
          "colors": "green"
         },
         {
          "colors": "grey"
         },
         {
          "colors": "grey"
         },
         {
          "colors": "blue"
         },
         {
          "colors": "blue"
         },
         {
          "colors": "red"
         },
         {
          "colors": "green"
         },
         {
          "colors": "grey"
         },
         {
          "colors": "grey"
         },
         {
          "colors": "blue"
         },
         {
          "colors": "blue"
         },
         {
          "colors": "blue"
         },
         {
          "colors": "blue"
         },
         {
          "colors": "red"
         },
         {
          "colors": "grey"
         },
         {
          "colors": "blue"
         },
         {
          "colors": "red"
         },
         {
          "colors": "blue"
         },
         {
          "colors": "blue"
         },
         {
          "colors": "grey"
         },
         {
          "colors": "grey"
         },
         {
          "colors": "blue"
         },
         {
          "colors": "grey"
         }
        ]
       },
       "encoding": {
        "x": {
         "aggregate": "count",
         "field": "*"
        },
        "y": {
         "field": "colors",
         "type": "nominal"
        }
       },
       "mark": "bar"
      },
      "image/png": "[encoded data removed]",
      "text/plain": [
       "<altair.VegaLite object>"
      ]
     },
     "execution_count": 15,
     "metadata": {},
     "output_type": "execute_result"
    }
   ],
   "source": [
    "colors_df = pd.DataFrame(dict(colors=colors))\n",
    "alt.Chart(colors_df).mark_bar().encode(\n",
    "    y = 'colors',\n",
    "    x = 'count(*)'\n",
    ")"
   ]
  },
  {
   "cell_type": "markdown",
   "metadata": {},
   "source": [
    "Again, we can get an estimate of the probability parameters $P_1,P_2,P_3,P_4$ using `.value_counts()`:"
   ]
  },
  {
   "cell_type": "code",
   "execution_count": 16,
   "metadata": {
    "collapsed": false
   },
   "outputs": [
    {
     "data": {
      "text/plain": [
       "grey     0.38\n",
       "blue     0.36\n",
       "red      0.14\n",
       "green    0.12\n",
       "Name: colors, dtype: float64"
      ]
     },
     "execution_count": 16,
     "metadata": {},
     "output_type": "execute_result"
    }
   ],
   "source": [
    "colors_df.colors.value_counts(normalize=True)"
   ]
  },
  {
   "cell_type": "markdown",
   "metadata": {},
   "source": [
    "### 1.3 Binomial distribution"
   ]
  },
  {
   "cell_type": "markdown",
   "metadata": {},
   "source": [
    "The [binomial distribution](https://en.wikipedia.org/wiki/Binomial_distribution) is another type of generalization of the Bernoulli distribution. The idea of the binomial distribution is to perform $n$ Bernoulli trials, each the probability of success $p$ and count how many success there are. It has the following properties:\n",
    "\n",
    "* $x \\sim B(n,p)$\n",
    "* $p$ is the probability of *success* for each of the $n$ Bernoulli trials\n",
    "* $x$ is the number of those Bernoulli trails that had an outcome of *success*\n",
    "* $ E[x] = np $\n",
    "\n",
    "Examples include:\n",
    "\n",
    "* Number of successful free throws per game for a given basketball player.\n",
    "* Number of heads in a series of coin tosses."
   ]
  },
  {
   "cell_type": "code",
   "execution_count": 17,
   "metadata": {
    "collapsed": true
   },
   "outputs": [],
   "source": [
    "n = 10  # total number of trials\n",
    "p = 0.2 # probability of success"
   ]
  },
  {
   "cell_type": "markdown",
   "metadata": {},
   "source": [
    "The binomial distribution is implemented by `numpy.random.binomial`:"
   ]
  },
  {
   "cell_type": "code",
   "execution_count": 18,
   "metadata": {
    "collapsed": false
   },
   "outputs": [
    {
     "data": {
      "text/plain": [
       "1"
      ]
     },
     "execution_count": 18,
     "metadata": {},
     "output_type": "execute_result"
    }
   ],
   "source": [
    "np.random.binomial(n, p)"
   ]
  },
  {
   "cell_type": "code",
   "execution_count": 19,
   "metadata": {
    "collapsed": false
   },
   "outputs": [
    {
     "data": {
      "text/plain": [
       "array([2, 2, 3, 3, 3, 1, 1, 3, 2, 0])"
      ]
     },
     "execution_count": 19,
     "metadata": {},
     "output_type": "execute_result"
    }
   ],
   "source": [
    "x = np.random.binomial(n, p, 10)\n",
    "x"
   ]
  },
  {
   "cell_type": "markdown",
   "metadata": {},
   "source": [
    "Looking above, we see that the average of $x$ gives an estimation of $np$:"
   ]
  },
  {
   "cell_type": "code",
   "execution_count": 20,
   "metadata": {
    "collapsed": false
   },
   "outputs": [
    {
     "data": {
      "text/plain": [
       "(2.0, 2.0)"
      ]
     },
     "execution_count": 20,
     "metadata": {},
     "output_type": "execute_result"
    }
   ],
   "source": [
    "x.mean(), n*p"
   ]
  },
  {
   "cell_type": "code",
   "execution_count": 21,
   "metadata": {
    "collapsed": false
   },
   "outputs": [],
   "source": [
    "def plot_binomial(n, p, samples):\n",
    "    counts = np.random.binomial(n, p, samples)\n",
    "    plt.hist(counts, bins=np.arange(-0.5, 50.5, 0.5))\n",
    "    plt.xlabel(\"Number of successes out of {} trials\".format(n))\n",
    "    plt.ylabel(\"Count\")\n",
    "    plt.xlim(0, 60);"
   ]
  },
  {
   "cell_type": "code",
   "execution_count": 22,
   "metadata": {
    "collapsed": false
   },
   "outputs": [
    {
     "data": {
      "image/png": "[encoded data removed]",
      "text/plain": [
       "<matplotlib.figure.Figure at 0x7fd9143d73c8>"
      ]
     },
     "metadata": {},
     "output_type": "display_data"
    }
   ],
   "source": [
    "plot_binomial(10, 0.3, 200)"
   ]
  },
  {
   "cell_type": "code",
   "execution_count": 23,
   "metadata": {
    "collapsed": false
   },
   "outputs": [
    {
     "data": {
      "image/png": "[encoded data removed]",
      "text/plain": [
       "<matplotlib.figure.Figure at 0x7fd9143a3f28>"
      ]
     },
     "metadata": {},
     "output_type": "display_data"
    }
   ],
   "source": [
    "interact(plot_binomial, n=(10, 50, 10), p=(0.1, 0.9, 0.1), samples=(100,1000,100));"
   ]
  },
  {
   "cell_type": "markdown",
   "metadata": {},
   "source": [
    "### 1.4 Poisson distribution"
   ]
  },
  {
   "cell_type": "markdown",
   "metadata": {},
   "source": [
    "The [Poisson distribution](https://en.wikipedia.org/wiki/Poisson_distribution) is used to model events that occur at a fixed average rate per unit time. It has the following properties:\n",
    "\n",
    "* $ x \\sim Poisson(\\lambda) $\n",
    "* $E[x]=\\lambda = $ mean numbers of events per unit time\n",
    "* $Var[x]=\\lambda =$ variance in the distribution\n",
    "\n",
    "Examples include:\n",
    "\n",
    "* Number of goals by a team in a soccer game\n",
    "* Number of photons hitting a camera's CCD sensor per second\n",
    "* Number of email you get per day"
   ]
  },
  {
   "cell_type": "code",
   "execution_count": 24,
   "metadata": {
    "collapsed": false
   },
   "outputs": [],
   "source": [
    "λ = 1.0"
   ]
  },
  {
   "cell_type": "code",
   "execution_count": 25,
   "metadata": {
    "collapsed": false
   },
   "outputs": [
    {
     "data": {
      "text/plain": [
       "1"
      ]
     },
     "execution_count": 25,
     "metadata": {},
     "output_type": "execute_result"
    }
   ],
   "source": [
    "np.random.poisson(λ)"
   ]
  },
  {
   "cell_type": "code",
   "execution_count": 26,
   "metadata": {
    "collapsed": false
   },
   "outputs": [
    {
     "data": {
      "text/plain": [
       "array([0, 2, 2, 1, 0, 1, 1, 1, 0, 0, 1, 2, 2, 0, 1, 1, 0, 0, 0, 0])"
      ]
     },
     "execution_count": 26,
     "metadata": {},
     "output_type": "execute_result"
    }
   ],
   "source": [
    "x = np.random.poisson(λ, 20)\n",
    "x"
   ]
  },
  {
   "cell_type": "markdown",
   "metadata": {},
   "source": [
    "Both the mean and variance should be close to $\\lambda=1.0$:"
   ]
  },
  {
   "cell_type": "code",
   "execution_count": 27,
   "metadata": {
    "collapsed": false
   },
   "outputs": [
    {
     "data": {
      "text/plain": [
       "0.75"
      ]
     },
     "execution_count": 27,
     "metadata": {},
     "output_type": "execute_result"
    }
   ],
   "source": [
    "x.mean()"
   ]
  },
  {
   "cell_type": "code",
   "execution_count": 28,
   "metadata": {
    "collapsed": false
   },
   "outputs": [
    {
     "data": {
      "text/plain": [
       "0.58750000000000002"
      ]
     },
     "execution_count": 28,
     "metadata": {},
     "output_type": "execute_result"
    }
   ],
   "source": [
    "x.var()"
   ]
  },
  {
   "cell_type": "code",
   "execution_count": 29,
   "metadata": {
    "collapsed": true
   },
   "outputs": [],
   "source": [
    "def plot_poisson(λ, samples):\n",
    "    x = np.random.poisson(λ, size=samples)\n",
    "    plt.hist(x, bins=20)\n",
    "    plt.xlabel(\"Number of events\")\n",
    "    plt.ylabel(\"Count\")\n",
    "    plt.xlim(0.0, 100.0)"
   ]
  },
  {
   "cell_type": "code",
   "execution_count": 30,
   "metadata": {
    "collapsed": false
   },
   "outputs": [
    {
     "data": {
      "image/png": "[encoded data removed]",
      "text/plain": [
       "<matplotlib.figure.Figure at 0x7fd9141e7b70>"
      ]
     },
     "metadata": {},
     "output_type": "display_data"
    }
   ],
   "source": [
    "interact(plot_poisson, λ=(0, 100), samples=(100,1000,100));"
   ]
  },
  {
   "cell_type": "markdown",
   "metadata": {},
   "source": [
    "## 2 Continuous probability distributions"
   ]
  },
  {
   "cell_type": "markdown",
   "metadata": {},
   "source": [
    "In this notebook, we cover the following continuous probability distributions:\n",
    "\n",
    "* Uniform\n",
    "* Normal \n",
    "* Poisson \n",
    "* Exponential\n",
    "* Beta\n",
    "* Dirichlet"
   ]
  },
  {
   "cell_type": "markdown",
   "metadata": {},
   "source": [
    "### 2.1 Uniform distribution"
   ]
  },
  {
   "cell_type": "markdown",
   "metadata": {},
   "source": [
    "The <a href=\"https://en.wikipedia.org/wiki/Uniform_distribution_(continuous)\">uniform distribution</a> returns random variates with equal probabilities in the interval $[a,b]$. It has he following properties:\n",
    "\n",
    "* $X \\sim U(a,b) $\n",
    "* $X \\in [a,b] $\n",
    "* $E[X] = (a+b)/2$\n",
    "* $var[X] = \\frac{1}{12}(b-a)^2$"
   ]
  },
  {
   "cell_type": "code",
   "execution_count": 31,
   "metadata": {
    "collapsed": true
   },
   "outputs": [],
   "source": [
    "a = 0.0\n",
    "b = 1.0"
   ]
  },
  {
   "cell_type": "markdown",
   "metadata": {},
   "source": [
    "The uniform distribution is implemented by `numpy.random.uniform`:"
   ]
  },
  {
   "cell_type": "code",
   "execution_count": 32,
   "metadata": {
    "collapsed": false
   },
   "outputs": [
    {
     "data": {
      "text/plain": [
       "0.08926331591503878"
      ]
     },
     "execution_count": 32,
     "metadata": {},
     "output_type": "execute_result"
    }
   ],
   "source": [
    "np.random.uniform(a, b)"
   ]
  },
  {
   "cell_type": "code",
   "execution_count": 33,
   "metadata": {
    "collapsed": false
   },
   "outputs": [
    {
     "data": {
      "text/plain": [
       "array([ 0.3843301 ,  0.14064808,  0.48096585,  0.77406579,  0.83114553,\n",
       "        0.29555969,  0.34606575,  0.15003093,  0.2202342 ,  0.62021673,\n",
       "        0.52356274,  0.74195325,  0.23197368,  0.58466957,  0.10499334,\n",
       "        0.83702318,  0.7030847 ,  0.52969442,  0.37073525,  0.43534083,\n",
       "        0.14929177,  0.04757069,  0.19017891,  0.3112781 ,  0.28041888,\n",
       "        0.08504429,  0.3927224 ,  0.52497338,  0.27513078,  0.77745308,\n",
       "        0.14512307,  0.59971436,  0.64798815,  0.46694945,  0.80860713,\n",
       "        0.78533631,  0.55627077,  0.680897  ,  0.71739287,  0.00844089,\n",
       "        0.6220794 ,  0.42470694,  0.22857892,  0.13259668,  0.22296929,\n",
       "        0.74726083,  0.8767348 ,  0.72217768,  0.58606498,  0.40727362])"
      ]
     },
     "execution_count": 33,
     "metadata": {},
     "output_type": "execute_result"
    }
   ],
   "source": [
    "x = np.random.uniform(a, b, size=50)\n",
    "x"
   ]
  },
  {
   "cell_type": "markdown",
   "metadata": {},
   "source": [
    "Let's check the relationships between the mean and variance and the $a$ and $b$ parameters:"
   ]
  },
  {
   "cell_type": "code",
   "execution_count": 34,
   "metadata": {
    "collapsed": false
   },
   "outputs": [
    {
     "data": {
      "text/plain": [
       "(0.4545503812998159, 0.5)"
      ]
     },
     "execution_count": 34,
     "metadata": {},
     "output_type": "execute_result"
    }
   ],
   "source": [
    "x.mean(), (a+b)/2"
   ]
  },
  {
   "cell_type": "code",
   "execution_count": 35,
   "metadata": {
    "collapsed": false
   },
   "outputs": [
    {
     "data": {
      "text/plain": [
       "(0.060597594789057456, 0.08333333333333333)"
      ]
     },
     "execution_count": 35,
     "metadata": {},
     "output_type": "execute_result"
    }
   ],
   "source": [
    "x.var(), (b-a)**2/12"
   ]
  },
  {
   "cell_type": "markdown",
   "metadata": {},
   "source": [
    "### 2.2 Normal distribution"
   ]
  },
  {
   "cell_type": "markdown",
   "metadata": {},
   "source": [
    "The [normal distribution](https://en.wikipedia.org/wiki/Normal_distribution) is one of the most important continuous probability distributions due to the [central limit theorem](https://en.wikipedia.org/wiki/Central_limit_theorem). It has the following properties:\n",
    "\n",
    "* $X \\sim N(\\mu, \\sigma^2)$\n",
    "* $X \\in [-\\infty,\\infty]$\n",
    "* $E[X] = \\mu$\n",
    "* $var[X] = \\sigma^2$"
   ]
  },
  {
   "cell_type": "code",
   "execution_count": 36,
   "metadata": {
    "collapsed": true
   },
   "outputs": [],
   "source": [
    "μ = 0.0\n",
    "σ = 2.0"
   ]
  },
  {
   "cell_type": "markdown",
   "metadata": {},
   "source": [
    "The normal distribution is implemented by `numpy.random.normal`. Note that this takes the standard deviation $\\sigma$ rather than the variance as its second argument."
   ]
  },
  {
   "cell_type": "code",
   "execution_count": 37,
   "metadata": {
    "collapsed": false
   },
   "outputs": [
    {
     "data": {
      "text/plain": [
       "-0.46828229680462985"
      ]
     },
     "execution_count": 37,
     "metadata": {},
     "output_type": "execute_result"
    }
   ],
   "source": [
    "np.random.normal(μ, σ) # second argument is just sigma"
   ]
  },
  {
   "cell_type": "code",
   "execution_count": 38,
   "metadata": {
    "collapsed": false
   },
   "outputs": [
    {
     "data": {
      "text/plain": [
       "array([ -2.38183314e+00,   1.86333766e+00,   1.88893924e+00,\n",
       "        -3.08333094e+00,   5.41540323e+00,   4.13294297e+00,\n",
       "         3.60331002e+00,  -2.40619350e+00,   8.77951672e-01,\n",
       "        -3.75835103e+00,  -3.14943778e+00,  -8.10787460e-01,\n",
       "         1.84805749e+00,   5.99647639e-01,   9.24399941e-01,\n",
       "         1.28910279e+00,   3.02164379e+00,  -2.22101715e-01,\n",
       "        -2.36041590e+00,  -1.47762655e+00,  -8.25706840e-01,\n",
       "         1.57267465e-01,  -2.80634632e+00,  -4.22575555e-01,\n",
       "        -1.84478247e+00,  -5.61704383e-01,   7.84783997e-01,\n",
       "        -7.66746072e-01,  -5.01526546e-03,  -3.25881240e+00,\n",
       "        -1.93223122e+00,   1.90368021e-01,   4.13177036e+00,\n",
       "         1.20593647e+00,   1.11526747e+00,   1.19773150e+00,\n",
       "         1.85093854e+00,   8.18042542e-04,  -1.80387304e+00,\n",
       "         1.94248567e+00,  -2.41405076e+00,  -1.16267990e+00,\n",
       "        -3.24306695e+00,   5.71901343e-01,  -2.55683458e+00,\n",
       "        -1.14111556e+00,   1.73122908e-01,   6.36421773e-01,\n",
       "         1.81426779e+00,  -6.36513173e-01])"
      ]
     },
     "execution_count": 38,
     "metadata": {},
     "output_type": "execute_result"
    }
   ],
   "source": [
    "x = np.random.normal(μ, σ, size=50)\n",
    "x"
   ]
  },
  {
   "cell_type": "markdown",
   "metadata": {},
   "source": [
    "The mean and standard deviation are estimators for $\\mu$ and $\\sigma$:"
   ]
  },
  {
   "cell_type": "code",
   "execution_count": 39,
   "metadata": {
    "collapsed": false
   },
   "outputs": [
    {
     "data": {
      "text/plain": [
       "(-0.075886294515325969, 0.0)"
      ]
     },
     "execution_count": 39,
     "metadata": {},
     "output_type": "execute_result"
    }
   ],
   "source": [
    "x.mean(), μ"
   ]
  },
  {
   "cell_type": "code",
   "execution_count": 40,
   "metadata": {
    "collapsed": false
   },
   "outputs": [
    {
     "data": {
      "text/plain": [
       "(2.1238516610453324, 2.0)"
      ]
     },
     "execution_count": 40,
     "metadata": {},
     "output_type": "execute_result"
    }
   ],
   "source": [
    "x.std(), σ"
   ]
  },
  {
   "cell_type": "markdown",
   "metadata": {},
   "source": [
    "It turns out that the standard deviation is not the best estimator for $\\sigma$ in many cases. We will revisit that later."
   ]
  },
  {
   "cell_type": "markdown",
   "metadata": {},
   "source": [
    "A histogram is again an effective way of visualizing this distribution:"
   ]
  },
  {
   "cell_type": "code",
   "execution_count": 41,
   "metadata": {
    "collapsed": true
   },
   "outputs": [],
   "source": [
    "def plot_normal(μ, σ, samples):\n",
    "    x = np.random.normal(μ, σ, size=samples)\n",
    "    plt.hist(x, bins=20, normed=True);\n",
    "    plt.xlim(-15.0, 15.0)\n",
    "    plt.xlabel('x')\n",
    "    plt.ylabel('P(x)')"
   ]
  },
  {
   "cell_type": "code",
   "execution_count": 42,
   "metadata": {
    "collapsed": false
   },
   "outputs": [
    {
     "data": {
      "image/png": "[encoded data removed]",
      "text/plain": [
       "<matplotlib.figure.Figure at 0x7fd8c9247ac8>"
      ]
     },
     "metadata": {},
     "output_type": "display_data"
    }
   ],
   "source": [
    "interact(plot_normal, μ=(-5.0,5.0), σ=(1.0, 5.0), samples=(100,1000,100));"
   ]
  },
  {
   "cell_type": "markdown",
   "metadata": {},
   "source": [
    "### 2.3 Exponential distribution"
   ]
  },
  {
   "cell_type": "markdown",
   "metadata": {},
   "source": [
    "The [exponential distribution](https://en.wikipedia.org/wiki/Exponential_distribution) is closely related to the Poisson distribution. Remember the Poisson distribution is based on the Poisson process: a series of events that occur at a fixed average rate per unit time. The Poisson distribution gives the number of events per unit time. The exponential distribution gives the time between those events. It has the following properties:\n",
    "\n",
    "* $ t \\sim Exp(\\lambda) $\n",
    "* $\\lambda$ is the **rate parameter**, or average events per unit time\n",
    "* $E[t] = 1/\\lambda = \\beta$ where $\\beta$ is the **scale parameter**, or average time between events\n",
    "* $Var[t] = \\beta^2 $"
   ]
  },
  {
   "cell_type": "code",
   "execution_count": 43,
   "metadata": {
    "collapsed": true
   },
   "outputs": [],
   "source": [
    "β=2.0"
   ]
  },
  {
   "cell_type": "markdown",
   "metadata": {},
   "source": [
    "The exponential distribution is implemented by `numpy.random.exponential(beta)`:"
   ]
  },
  {
   "cell_type": "code",
   "execution_count": 44,
   "metadata": {
    "collapsed": false
   },
   "outputs": [
    {
     "data": {
      "text/plain": [
       "4.013243456611257"
      ]
     },
     "execution_count": 44,
     "metadata": {},
     "output_type": "execute_result"
    }
   ],
   "source": [
    "np.random.exponential(β)"
   ]
  },
  {
   "cell_type": "code",
   "execution_count": 45,
   "metadata": {
    "collapsed": false
   },
   "outputs": [
    {
     "data": {
      "text/plain": [
       "array([ 0.47297887,  1.31988192,  0.9495241 ,  0.51932942,  0.85664417,\n",
       "        0.75465437,  0.37770029,  0.18386406,  3.26835238,  1.71508786,\n",
       "        1.46140675,  3.41947529,  0.49854644,  0.53729907,  0.43889667,\n",
       "        5.05369063,  0.29099392,  1.11801743,  1.58790432,  0.35136785,\n",
       "        4.44064517,  1.81166239,  2.1278535 ,  0.03120288,  0.10540979,\n",
       "        0.84549739,  0.14816637,  0.64053845,  0.33660112,  6.72918845,\n",
       "        4.71877878,  1.64653068,  3.69771795,  0.28179879,  2.07993046,\n",
       "        3.1036279 ,  0.73405377,  0.56773439,  0.02086776,  3.22906253,\n",
       "        4.10289089,  1.20702105,  1.58356897,  4.47241954,  0.14237017,\n",
       "        0.42426786,  3.95680456,  2.84311361,  0.1865457 ,  9.05699865])"
      ]
     },
     "execution_count": 45,
     "metadata": {},
     "output_type": "execute_result"
    }
   ],
   "source": [
    "t = np.random.exponential(β, size=50)\n",
    "t"
   ]
  },
  {
   "cell_type": "code",
   "execution_count": 46,
   "metadata": {
    "collapsed": false
   },
   "outputs": [],
   "source": [
    "def plot_exponential(β, samples):\n",
    "    t = np.random.exponential(β, samples)\n",
    "    plt.hist(t, bins=20, normed=True)\n",
    "    plt.xlabel(\"t\")\n",
    "    plt.xlim(0.0, 50.0)"
   ]
  },
  {
   "cell_type": "code",
   "execution_count": 47,
   "metadata": {
    "collapsed": false
   },
   "outputs": [
    {
     "data": {
      "image/png": "[encoded data removed]",
      "text/plain": [
       "<matplotlib.figure.Figure at 0x7fd8c91d89b0>"
      ]
     },
     "metadata": {},
     "output_type": "display_data"
    }
   ],
   "source": [
    "interact(plot_exponential, β=(1.0, 20.0), samples=(100,1000,100));"
   ]
  },
  {
   "cell_type": "markdown",
   "metadata": {},
   "source": [
    "### 2.4 Beta distribution"
   ]
  },
  {
   "cell_type": "markdown",
   "metadata": {},
   "source": [
    "Sometimes you need to build generative models that need probabilities that are themselves random variables. The [beta distribution](https://en.wikipedia.org/wiki/Beta_distribution) is a probability distribution whose outcomes are probabilities. It has the following properties:\n",
    "\n",
    "* $ x \\sim Beta(\\alpha, \\beta) $\n",
    "* $ x \\in [0.0,1.0] $\n",
    "* $ E[x] = \\frac{\\alpha}{\\alpha+\\beta} $\n",
    "* $ Var[x] = \\frac{\\alpha \\beta}{(\\alpha+\\beta)^2(\\alpha+\\beta+1)} $"
   ]
  },
  {
   "cell_type": "code",
   "execution_count": 48,
   "metadata": {
    "collapsed": true
   },
   "outputs": [],
   "source": [
    "α = 0.5\n",
    "β = 2.0"
   ]
  },
  {
   "cell_type": "markdown",
   "metadata": {},
   "source": [
    "The beta distribution is implemented by `numpy.random.beta(alpha, beta)`:"
   ]
  },
  {
   "cell_type": "code",
   "execution_count": 49,
   "metadata": {
    "collapsed": false
   },
   "outputs": [
    {
     "data": {
      "text/plain": [
       "0.11765083497007343"
      ]
     },
     "execution_count": 49,
     "metadata": {},
     "output_type": "execute_result"
    }
   ],
   "source": [
    "np.random.beta(α, β)"
   ]
  },
  {
   "cell_type": "code",
   "execution_count": 50,
   "metadata": {
    "collapsed": false
   },
   "outputs": [
    {
     "data": {
      "text/plain": [
       "array([  1.04328084e-02,   1.41146131e-01,   7.11511687e-01,\n",
       "         2.28480886e-02,   2.73435667e-01,   6.63731660e-01,\n",
       "         1.04388163e-03,   4.26724855e-01,   2.26250282e-01,\n",
       "         2.74204254e-01,   2.64966405e-01,   3.32851838e-03,\n",
       "         1.44800165e-01,   2.19469202e-01,   9.11216796e-02,\n",
       "         1.33847877e-02,   3.35375800e-04,   2.42825437e-03,\n",
       "         2.15004925e-01,   4.91585136e-01,   2.51311055e-03,\n",
       "         4.26238221e-01,   2.67221345e-02,   3.45691039e-01,\n",
       "         4.63519598e-02,   2.74805798e-02,   1.27514425e-01,\n",
       "         1.53247842e-01,   2.63852103e-01,   7.56490248e-02,\n",
       "         2.47226360e-01,   2.95403253e-01,   3.21476787e-01,\n",
       "         1.30418811e-01,   1.04787065e-01,   1.98778736e-04,\n",
       "         2.01663056e-01,   1.95793816e-01,   1.19326148e-01,\n",
       "         4.96140048e-01,   2.58604329e-01,   6.05616004e-02,\n",
       "         1.29231778e-02,   5.05502482e-01,   3.94954063e-02,\n",
       "         1.38577421e-01,   3.58365879e-01,   1.80381329e-01,\n",
       "         3.04321703e-02,   1.34659333e-02])"
      ]
     },
     "execution_count": 50,
     "metadata": {},
     "output_type": "execute_result"
    }
   ],
   "source": [
    "x = np.random.beta(α, β, 50)\n",
    "x"
   ]
  },
  {
   "cell_type": "code",
   "execution_count": 51,
   "metadata": {
    "collapsed": true
   },
   "outputs": [],
   "source": [
    "def plot_beta(α, β, samples):\n",
    "    x = np.random.beta(α, β, samples)\n",
    "    plt.hist(x, bins=20, normed=True)\n",
    "    plt.xlabel('x')\n",
    "    plt.ylabel('P(x)')"
   ]
  },
  {
   "cell_type": "code",
   "execution_count": 52,
   "metadata": {
    "collapsed": false
   },
   "outputs": [
    {
     "data": {
      "image/png": "[encoded data removed]",
      "text/plain": [
       "<matplotlib.figure.Figure at 0x7fd8c92176d8>"
      ]
     },
     "metadata": {},
     "output_type": "display_data"
    }
   ],
   "source": [
    "interact(plot_beta, α=(0.1, 5.0, 0.1), β=(0.1, 5.0, 0.1), samples=(100,1000,100));"
   ]
  },
  {
   "cell_type": "markdown",
   "metadata": {},
   "source": [
    "The beta distribution is often used along with the binomial distribution in generative models. Recall that the binomial distribution $B(n,p)$ has an input parameter $p$ that is the probability of success in the Bernoulli trial. Here is a simple generative model where the $p$ variable in the binomial distribution is itself a beta distributed random variable:\n",
    "\n",
    "$$ X_1 \\sim Beta(0.5, 2.0) $$\n",
    "$$ X_2 \\sim B(100, X_1) $$\n",
    "\n",
    "When a parameter in a probability distribution is itself a random variable, we call the model a *hierarchical model*. Here are `500` realizations of this hierarchical model:"
   ]
  },
  {
   "cell_type": "code",
   "execution_count": 53,
   "metadata": {
    "collapsed": false
   },
   "outputs": [],
   "source": [
    "X1 = np.random.beta(0.1, 2.0, 500)\n",
    "X2 = np.array([np.random.choice([0,1],p=(p,1-p)) for p in X1])"
   ]
  },
  {
   "cell_type": "markdown",
   "metadata": {},
   "source": [
    "These two random variables $X_1$ and $X_2$ are correlated, so we need to visualize their joint distribution. Seaborn has a very nice `jointplot` for this purpose:"
   ]
  },
  {
   "cell_type": "code",
   "execution_count": 54,
   "metadata": {
    "collapsed": false
   },
   "outputs": [
    {
     "data": {
      "image/png": "[encoded data removed]",
      "text/plain": [
       "<matplotlib.figure.Figure at 0x7fd8c90c4198>"
      ]
     },
     "metadata": {},
     "output_type": "display_data"
    }
   ],
   "source": [
    "plt.scatter(X1, X2)\n",
    "plt.xlabel('X1')\n",
    "plt.ylabel('X2');"
   ]
  },
  {
   "cell_type": "markdown",
   "metadata": {},
   "source": [
    "### 2.5 Dirichlet distribution"
   ]
  },
  {
   "cell_type": "markdown",
   "metadata": {},
   "source": [
    "The [Dirichlet distribution](https://en.wikipedia.org/wiki/Dirichlet_distribution) is a multidimensional generalization of the beta distribution. Where the beta distribution returns a single probability, the Dirichlet distribution returns a vector of probabilities that are normalize to $1$. It has the following properties:\n",
    "\n",
    "* $ \\vec{x} \\sim Dir(\\vec{\\alpha}) $\n",
    "* $ x_i \\in [0,1]$ is a vector of $k$ probabilities, such that $\\sum_{i=1}^{k} x_i = 1 $\n",
    "* $ \\alpha_i $ is a vector of $k$ *concentrations* that parametrize the distribution\n",
    "\n",
    "The Dirichlet distribution is implemented by `numpy.random.dirichlet` and takes a sequence of alpha values:"
   ]
  },
  {
   "cell_type": "code",
   "execution_count": 55,
   "metadata": {
    "collapsed": false
   },
   "outputs": [
    {
     "data": {
      "text/plain": [
       "array([ 0.00648736,  0.99351264])"
      ]
     },
     "execution_count": 55,
     "metadata": {},
     "output_type": "execute_result"
    }
   ],
   "source": [
    "np.random.dirichlet(alpha=(0.1, 0.2))"
   ]
  },
  {
   "cell_type": "markdown",
   "metadata": {},
   "source": [
    "Again, because the values returned by the distribution are two dimensional, we need to make a 2d scatterplot or joint distribution plot:"
   ]
  },
  {
   "cell_type": "code",
   "execution_count": 56,
   "metadata": {
    "collapsed": false
   },
   "outputs": [],
   "source": [
    "def plot_dirichlet(alpha1, alpha2, samples):\n",
    "    x = np.random.dirichlet((alpha1, alpha2), samples)\n",
    "    plt.scatter(x[:,0], x[:,1])\n",
    "    plt.xlim(0,1)\n",
    "    plt.ylim(0,1)\n",
    "    plt.xlabel('$x_1$')\n",
    "    plt.ylabel('$x_2$')"
   ]
  },
  {
   "cell_type": "markdown",
   "metadata": {},
   "source": [
    "In the following visualization, notice how the points returned by the Dirichlet distribution lie on the line where $x_1 + x_2 = 1$."
   ]
  },
  {
   "cell_type": "code",
   "execution_count": 57,
   "metadata": {
    "collapsed": false
   },
   "outputs": [
    {
     "data": {
      "image/png": "[encoded data removed]",
      "text/plain": [
       "<matplotlib.figure.Figure at 0x7fd8c9061c88>"
      ]
     },
     "metadata": {},
     "output_type": "display_data"
    }
   ],
   "source": [
    "interact(plot_dirichlet, alpha1=(0.1, 10.0, 0.1), alpha2=(0.1, 10.0, 0.1), samples=(10,100,10));"
   ]
  },
  {
   "cell_type": "markdown",
   "metadata": {},
   "source": [
    "The Dirichlet distribution is often paired with the categorical distribution in hierarchical models when the probabilities that go into the categorical distribution are themselves random variables. Here is a simple hierarchical model that does this:\n",
    "\n",
    "$$ \\vec{x}_1 \\sim Dir([2.0, 2.0, 2.0]) $$\n",
    "\n",
    "$$ x_2 \\sim Categorical(\\vec{x}_1) $$"
   ]
  },
  {
   "cell_type": "code",
   "execution_count": 58,
   "metadata": {
    "collapsed": false
   },
   "outputs": [],
   "source": [
    "x1 = np.random.dirichlet((2.0, 2.0, 2.0), size=100)\n",
    "x2 = np.array([np.random.choice(['red', 'green', 'blue'], p=p) for p in x1])"
   ]
  },
  {
   "cell_type": "code",
   "execution_count": 59,
   "metadata": {
    "collapsed": false
   },
   "outputs": [
    {
     "data": {
      "text/plain": [
       "green    41\n",
       "red      32\n",
       "blue     27\n",
       "Name: x2, dtype: int64"
      ]
     },
     "execution_count": 59,
     "metadata": {},
     "output_type": "execute_result"
    }
   ],
   "source": [
    "x2_df = pd.DataFrame({'x2': x2})\n",
    "x2_df.x2.value_counts()"
   ]
  },
  {
   "cell_type": "markdown",
   "metadata": {},
   "source": [
    "## TensorFlow"
   ]
  },
  {
   "cell_type": "markdown",
   "metadata": {},
   "source": [
    "[TensorFlow](https://www.tensorflow.org/) is a relatively new open-source library for machine learning. It was started by Google in November of 2015 and the 1.0 version was released in Feburary 2017. TensorFlow is a vast and powerful library; in this course we will only scratch the surface. My main motivation for introducing TensorFlow is that it provides a very different model of computing compared to the traditional numerical libraries in Python (NumPy, Pandas).\n",
    "\n",
    "Here is the main idea:\n",
    "\n",
    "Libraries such as NumPy, Pandas, SciPy:\n",
    "\n",
    "* Only know about numbers, and multidimensional arrays (tensors) of numbers.\n",
    "* Always compute the result of each expression immediately upon construction.\n",
    "* Only runs a computation on the CPU of the local computer.\n",
    "\n",
    "TensorFlow on the other hand:\n",
    "\n",
    "* Separates the construction of an expression (or **computational graph**) from its running.\n",
    "* Can run a computational graph multiple times on different inputs.\n",
    "* Can run a computational graph on CPUs, GPUs, clusters or in the cloud.\n",
    "* Offers abstract object that represent variables or tensors.\n",
    "\n",
    "Let's see how this work by exploring a probability distribution. First import `tensorflow`:"
   ]
  },
  {
   "cell_type": "code",
   "execution_count": 60,
   "metadata": {
    "collapsed": true
   },
   "outputs": [
    {
     "name": "stderr",
     "output_type": "stream",
     "text": [
      "/opt/conda/lib/python3.6/importlib/_bootstrap.py:219: RuntimeWarning: compiletime version 3.5 of module 'tensorflow.python.framework.fast_tensor_util' does not match runtime version 3.6\n",
      "  return f(*args, **kwds)\n"
     ]
    }
   ],
   "source": [
    "import tensorflow as tf"
   ]
  },
  {
   "cell_type": "markdown",
   "metadata": {},
   "source": [
    "Next **create Variable objects** for parameters. The first argument is their initial value, the second the dtype:"
   ]
  },
  {
   "cell_type": "code",
   "execution_count": 61,
   "metadata": {
    "collapsed": true
   },
   "outputs": [],
   "source": [
    "mu = tf.Variable(0.0, tf.float64)\n",
    "sigma = tf.Variable(1.0, tf.float64)"
   ]
  },
  {
   "cell_type": "markdown",
   "metadata": {},
   "source": [
    "Now let's import the `distributions` submodule that has different probability distributions:"
   ]
  },
  {
   "cell_type": "code",
   "execution_count": 62,
   "metadata": {
    "collapsed": true
   },
   "outputs": [],
   "source": [
    "from tensorflow.contrib import distributions as dist"
   ]
  },
  {
   "cell_type": "markdown",
   "metadata": {},
   "source": [
    "Then we can build a normal distribution based on these parameters:"
   ]
  },
  {
   "cell_type": "code",
   "execution_count": 63,
   "metadata": {
    "collapsed": false
   },
   "outputs": [
    {
     "data": {
      "text/plain": [
       "<tensorflow.python.ops.distributions.normal.Normal at 0x7fd8b9fc69b0>"
      ]
     },
     "execution_count": 63,
     "metadata": {},
     "output_type": "execute_result"
    }
   ],
   "source": [
    "N = dist.Normal(mu, sigma)\n",
    "N"
   ]
  },
  {
   "cell_type": "markdown",
   "metadata": {},
   "source": [
    "At this point, the normal distribution hasn't actually computed anything. To compute any numerical results in TensorFlow, we need to:\n",
    "\n",
    "* Create a `Session`\n",
    "* Create an object for initializing any `Variable` instances\n",
    "* Run the initialization object\n",
    "\n",
    "These steps are performed here:"
   ]
  },
  {
   "cell_type": "code",
   "execution_count": 64,
   "metadata": {
    "collapsed": false
   },
   "outputs": [],
   "source": [
    "sess = tf.Session()\n",
    "init = tf.global_variables_initializer()\n",
    "sess.run(init)"
   ]
  },
  {
   "cell_type": "markdown",
   "metadata": {},
   "source": [
    "Once this initalization has been performed, you can run different calculations:"
   ]
  },
  {
   "cell_type": "code",
   "execution_count": 65,
   "metadata": {
    "collapsed": false
   },
   "outputs": [
    {
     "data": {
      "text/plain": [
       "array([ 0.00677244, -0.39445382, -0.61971796,  0.22509913,  0.16903621,\n",
       "       -0.01061832,  3.28973675, -1.68131804, -0.11463545, -1.32771373], dtype=float32)"
      ]
     },
     "execution_count": 65,
     "metadata": {},
     "output_type": "execute_result"
    }
   ],
   "source": [
    "sess.run(N.sample(10))"
   ]
  },
  {
   "cell_type": "markdown",
   "metadata": {},
   "source": [
    "The `.run()` method also takes a second argument where you can pass in updated values of variables:"
   ]
  },
  {
   "cell_type": "code",
   "execution_count": 66,
   "metadata": {
    "collapsed": false
   },
   "outputs": [
    {
     "data": {
      "text/plain": [
       "array([ 1.3885572 ,  0.49194831,  0.01009774, -1.72154069, -0.7981205 ,\n",
       "        1.56705689, -1.30339265,  2.53211689, -4.49546814,  0.26999837], dtype=float32)"
      ]
     },
     "execution_count": 66,
     "metadata": {},
     "output_type": "execute_result"
    }
   ],
   "source": [
    "sess.run(N.sample(10), {mu: 1.0, sigma: 2.0})"
   ]
  },
  {
   "cell_type": "markdown",
   "metadata": {},
   "source": [
    "We can now evaluate the PDF at a particular $x$ value for a particular set of parameters:"
   ]
  },
  {
   "cell_type": "code",
   "execution_count": 67,
   "metadata": {
    "collapsed": false
   },
   "outputs": [
    {
     "ename": "AttributeError",
     "evalue": "'Normal' object has no attribute 'pdf'",
     "output_type": "error",
     "traceback": [
      "\u001b[0;31m---------------------------------------------------------------------------\u001b[0m",
      "\u001b[0;31mAttributeError\u001b[0m                            Traceback (most recent call last)",
      "\u001b[0;32m<ipython-input-67-c478f7dbb3fe>\u001b[0m in \u001b[0;36m<module>\u001b[0;34m()\u001b[0m\n\u001b[0;32m----> 1\u001b[0;31m \u001b[0msess\u001b[0m\u001b[0;34m.\u001b[0m\u001b[0mrun\u001b[0m\u001b[0;34m(\u001b[0m\u001b[0mN\u001b[0m\u001b[0;34m.\u001b[0m\u001b[0mpdf\u001b[0m\u001b[0;34m(\u001b[0m\u001b[0;36m0.1\u001b[0m\u001b[0;34m)\u001b[0m\u001b[0;34m,\u001b[0m \u001b[0;34m{\u001b[0m\u001b[0mmu\u001b[0m\u001b[0;34m:\u001b[0m \u001b[0;36m1.0\u001b[0m\u001b[0;34m,\u001b[0m \u001b[0msigma\u001b[0m\u001b[0;34m:\u001b[0m \u001b[0;36m2.0\u001b[0m\u001b[0;34m}\u001b[0m\u001b[0;34m)\u001b[0m\u001b[0;34m\u001b[0m\u001b[0m\n\u001b[0m",
      "\u001b[0;31mAttributeError\u001b[0m: 'Normal' object has no attribute 'pdf'"
     ]
    }
   ],
   "source": [
    "sess.run(N.pdf(0.1), {mu: 1.0, sigma: 2.0})"
   ]
  },
  {
   "cell_type": "markdown",
   "metadata": {},
   "source": [
    "This is a very basic example using TensorFlow, but the patterns used here are the same in any TensorFlow based calculation:\n",
    "\n",
    "* Create `Variable` instances for parameters.\n",
    "* Construct a computational graph.\n",
    "* Create and initialize a `Session`.\n",
    "* Run the graph in the session."
   ]
  }
 ],
 "metadata": {
  "kernelspec": {
   "display_name": "Python 3",
   "language": "python",
   "name": "python3"
  },
  "language_info": {
   "codemirror_mode": {
    "name": "ipython",
    "version": 3
   },
   "file_extension": ".py",
   "mimetype": "text/x-python",
   "name": "python",
   "nbconvert_exporter": "python",
   "pygments_lexer": "ipython3",
   "version": "3.6.3"
  }
 },
 "nbformat": 4,
 "nbformat_minor": 2
}
