{
 "cells": [
  {
   "cell_type": "markdown",
   "metadata": {},
   "source": [
    "# Linear Regression"
   ]
  },
  {
   "cell_type": "markdown",
   "metadata": {},
   "source": [
    "**Learning Objectives:** Learn to fit models to data using linear regression and evaluate the goodness of those fits."
   ]
  },
  {
   "cell_type": "markdown",
   "metadata": {},
   "source": [
    "## Imports"
   ]
  },
  {
   "cell_type": "code",
   "execution_count": 8,
   "metadata": {},
   "outputs": [],
   "source": [
    "import numpy as np\n",
    "from scipy import optimize as opt\n",
    "%matplotlib inline\n",
    "import matplotlib.pyplot as plt"
   ]
  },
  {
   "cell_type": "code",
   "execution_count": 9,
   "metadata": {},
   "outputs": [],
   "source": [
    "from ipywidgets import interact"
   ]
  },
  {
   "cell_type": "markdown",
   "metadata": {},
   "source": [
    "## 1. Introduction"
   ]
  },
  {
   "cell_type": "markdown",
   "metadata": {},
   "source": [
    "In Data Science it is common to start with data and develop a *model* of that data. Such models can help to explain the data and make predictions about future observations. In fields like Physics, these models are often given in the form of differential equations, whose solutions explain and predict the data. In most other fields, such differential equations are not known. Often, models have to include sources of uncertainty and randomness. Given a set of data, *fitting* a model to the data is the process of tuning the parameters of the model to *best* explain the data.\n",
    "\n",
    "When a model has a linear dependence on its parameters, such as $a x^2 + b x + c$, this process is known as *linear regression*.  When a model has a non-linear dependence on its parameters, such as $ a e^{bx} $, this process in known as non-linear regression. Thus, fitting data to a model of $w x^2 + b $ is linear regression, because of its linear dependence on $w$ and $b$ (rather than $x^2$)."
   ]
  },
  {
   "cell_type": "markdown",
   "metadata": {},
   "source": [
    "## 2. Fitting a straight line"
   ]
  },
  {
   "cell_type": "markdown",
   "metadata": {},
   "source": [
    "A classical example of fitting a model is finding the slope and intercept of a straight line that goes through a set of data points $\\{x_i,y_i\\}$. For a straight line the model is:\n",
    "\n",
    "$$\n",
    "y_{model}(x) = wx + b\n",
    "$$\n",
    "\n",
    "Given this model, we can define a performance metric, or **cost function**, that quantifies the error the model makes. One commonly used metric is the [mean-squared error]() or MSE, which depends on the deviation of the model from each data point ($y_i - y_{model}(x_i)$).\n",
    "\n",
    "$$\n",
    "MSE = \\frac{1}{N-2} \\sum_{i=1}^N \\left( y_i - y_{model}(x_i) \\right)^2\n",
    "$$\n",
    "\n",
    "When the MSE is small, the model's predictions will be close the data points. Likewise, when the MSE is large, the model's predictions will be far from the data points. Given this, our task is to minimize the MSE with respect to the model parameters $\\theta = [w, b]$ in order to find the best fit.\n",
    "\n",
    "The factor $N-2$ is called the **degrees of freedom** and is equal to the number of data points minus the number of model parameters.\n",
    "\n",
    "To illustrate linear regression, let's create a synthetic data set with a known slope and intercept, but random noise that is additive and normally distributed."
   ]
  },
  {
   "cell_type": "code",
   "execution_count": 10,
   "metadata": {},
   "outputs": [],
   "source": [
    "N = 50\n",
    "w_true = 2\n",
    "b_true = -1\n",
    "dy = 2.0 # uncertainty of each point\n",
    "\n",
    "np.random.seed(0)\n",
    "xdata = 10 * np.random.random(N) # don't use regularly spaced data\n",
    "ydata = w_true*xdata + b_true + np.random.normal(0.0, dy, size=N) # our errors are additive"
   ]
  },
  {
   "cell_type": "markdown",
   "metadata": {},
   "source": [
    "And visualize our dataset:"
   ]
  },
  {
   "cell_type": "code",
   "execution_count": 11,
   "metadata": {},
   "outputs": [
    {
     "data": {
      "image/png": "[encoded data removed]",
      "text/plain": [
       "<matplotlib.figure.Figure at 0x7fca18a33e80>"
      ]
     },
     "metadata": {},
     "output_type": "display_data"
    }
   ],
   "source": [
    "plt.scatter(xdata, ydata)\n",
    "plt.xlabel('x')\n",
    "plt.ylabel('y')\n",
    "plt.grid(True, alpha=0.4);"
   ]
  },
  {
   "cell_type": "markdown",
   "metadata": {},
   "source": [
    "## 3. Fitting by hand"
   ]
  },
  {
   "cell_type": "markdown",
   "metadata": {},
   "source": [
    "It is useful to see visually how changing the model parameters changes the MSE. By using IPython's `interact` function, we can create a user interface that allows us to pick a slope and intercept interactively and see the resulting line and MSE value.\n",
    "\n",
    "Here is the function we want to minimize. Note how we have combined the two parameters into a single parameters vector $\\theta = [w, b]$, which is the first argument of the function:"
   ]
  },
  {
   "cell_type": "code",
   "execution_count": 12,
   "metadata": {},
   "outputs": [],
   "source": [
    "def mse(theta, x, y):\n",
    "    w = theta[0]\n",
    "    b = theta[1]\n",
    "    return np.sum((y - b - w*x) ** 2)/(len(x)-len(theta))"
   ]
  },
  {
   "cell_type": "code",
   "execution_count": 13,
   "metadata": {},
   "outputs": [],
   "source": [
    "def manual_fit(w, b):\n",
    "    modely = w*xdata + b\n",
    "    plt.plot(xdata, modely)\n",
    "    plt.scatter(xdata, ydata)\n",
    "    plt.xlabel('x')\n",
    "    plt.ylabel('y')\n",
    "    plt.xlim(-2,12)\n",
    "    plt.ylim(-5,20)\n",
    "    plt.text(1, 10.0, '$MSE$={0:.2f}'.format(mse([w,b],xdata,ydata)))"
   ]
  },
  {
   "cell_type": "code",
   "execution_count": 14,
   "metadata": {},
   "outputs": [
    {
     "data": {
      "application/vnd.jupyter.widget-view+json": {
       "model_id": "e56f7abc34f04daebb3e07d8e264b461",
       "version_major": 2,
       "version_minor": 0
      },
      "text/html": [
       "<p>Failed to display Jupyter Widget of type <code>interactive</code>.</p>\n",
       "<p>\n",
       "  If you're reading this message in the Jupyter Notebook or JupyterLab Notebook, it may mean\n",
       "  that the widgets JavaScript is still loading. If this message persists, it\n",
       "  likely means that the widgets JavaScript library is either not installed or\n",
       "  not enabled. See the <a href=\"https://ipywidgets.readthedocs.io/en/stable/user_install.html\">Jupyter\n",
       "  Widgets Documentation</a> for setup instructions.\n",
       "</p>\n",
       "<p>\n",
       "  If you're reading this message in another frontend (for example, a static\n",
       "  rendering on GitHub or <a href=\"https://nbviewer.jupyter.org/\">NBViewer</a>),\n",
       "  it may mean that your frontend doesn't currently support widgets.\n",
       "</p>\n"
      ],
      "text/plain": [
       "interactive(children=(FloatSlider(value=2.0, description='w', max=4.0, step=0.01), FloatSlider(value=0.0, description='b', max=3.0, min=-3.0, step=0.01), Output()), _dom_classes=('widget-interact',))"
      ]
     },
     "metadata": {},
     "output_type": "display_data"
    }
   ],
   "source": [
    "interact(manual_fit, w=(0.0,4.0,0.01), b=(-3.0,3.0,0.01));"
   ]
  },
  {
   "cell_type": "markdown",
   "metadata": {},
   "source": [
    "Go ahead and play with the sliders and try to:\n",
    "\n",
    "* Find the lowest value of the MSE.\n",
    "* Find the \"best\" line through the data points.\n",
    "\n",
    "You should see that these two conditions coincide."
   ]
  },
  {
   "cell_type": "markdown",
   "metadata": {},
   "source": [
    "## 2. Minimize the MSE with `scipy.optimize`"
   ]
  },
  {
   "cell_type": "code",
   "execution_count": 15,
   "metadata": {},
   "outputs": [],
   "source": [
    "from scipy.optimize import minimize"
   ]
  },
  {
   "cell_type": "code",
   "execution_count": 16,
   "metadata": {},
   "outputs": [
    {
     "data": {
      "text/plain": [
       "      fun: 3.564698202838891\n",
       " hess_inv: array([[ 0.06440457, -0.34569634],\n",
       "       [-0.34569634,  2.33379914]])\n",
       "      jac: array([ -5.00679016e-06,  -2.32458115e-06])\n",
       "  message: 'Optimization terminated successfully.'\n",
       "     nfev: 28\n",
       "      nit: 6\n",
       "     njev: 7\n",
       "   status: 0\n",
       "  success: True\n",
       "        x: array([ 1.93854706, -1.01442387])"
      ]
     },
     "execution_count": 16,
     "metadata": {},
     "output_type": "execute_result"
    }
   ],
   "source": [
    "fit = minimize(lambda theta: mse(theta, xdata, ydata), [1.0, 1.0])\n",
    "fit"
   ]
  },
  {
   "cell_type": "code",
   "execution_count": 21,
   "metadata": {},
   "outputs": [],
   "source": [
    "w_hat = fit.x[0]\n",
    "b_hat = fit.x[1]"
   ]
  },
  {
   "cell_type": "code",
   "execution_count": 23,
   "metadata": {},
   "outputs": [],
   "source": [
    "ymodel = w_hat*xdata + b_hat"
   ]
  },
  {
   "cell_type": "code",
   "execution_count": 24,
   "metadata": {},
   "outputs": [
    {
     "data": {
      "image/png": "[encoded data removed]",
      "text/plain": [
       "<matplotlib.figure.Figure at 0x7fca18af84e0>"
      ]
     },
     "metadata": {},
     "output_type": "display_data"
    }
   ],
   "source": [
    "plt.plot(xdata, ydata, 'o', label='Data')\n",
    "plt.plot(xdata, ymodel, '-', label='Model')\n",
    "plt.grid(True, alpha=0.4)\n",
    "plt.title(\"Model Prediction\")\n",
    "plt.xlabel('x')\n",
    "plt.ylabel('y')\n",
    "plt.legend();"
   ]
  },
  {
   "cell_type": "markdown",
   "metadata": {},
   "source": [
    "## 3. Understanding errors in linear regression"
   ]
  },
  {
   "cell_type": "markdown",
   "metadata": {},
   "source": [
    "When performing linear regression of a two-dimensional dataset such as this, it is simply to visualize the results by making a scatter + line chart of y versus x. Such of visualization provides a quick picure of how well the model works. However, in higher dimensions, this visualization is not possible. Because of this we need to have systematic quantiative approach for evaluating the errors in a regression model.\n",
    "\n",
    "The first measure of the error is the cost function itself, or in this case the mean-squared error. The challenge with the MSE is that it is a single number that is hard to interpret. However, if you are comparing multiple models, the MSE will give you a good sense of the relative error between the models.\n",
    "\n",
    "The second measure of error are the **residuals**, which are simple the differences between the actual and predicted values:\n",
    "\n",
    "$$ \\epsilon_i = y_i - y_{model}(x_i) $$\n",
    "\n",
    "This can be computed as follows:"
   ]
  },
  {
   "cell_type": "code",
   "execution_count": 25,
   "metadata": {},
   "outputs": [],
   "source": [
    "residuals = ydata - ymodel"
   ]
  },
  {
   "cell_type": "markdown",
   "metadata": {},
   "source": [
    "The advantage of the residuals is that they can be visualized in a simple histogram, regardless of the number of dimensions:"
   ]
  },
  {
   "cell_type": "code",
   "execution_count": 26,
   "metadata": {},
   "outputs": [
    {
     "data": {
      "image/png": "[encoded data removed]",
      "text/plain": [
       "<matplotlib.figure.Figure at 0x7fca18b6dd30>"
      ]
     },
     "metadata": {},
     "output_type": "display_data"
    }
   ],
   "source": [
    "plt.hist(residuals, bins=20)\n",
    "plt.grid(True, alpha=0.4)\n",
    "plt.title('Model Residuals')\n",
    "plt.ylabel('Count')\n",
    "plt.xlabel('$y_i - y_{model}(x_i)}$');"
   ]
  },
  {
   "cell_type": "markdown",
   "metadata": {},
   "source": [
    "The variance or standard deviation of these residuals will give us a measure of the average error our model is making:"
   ]
  },
  {
   "cell_type": "code",
   "execution_count": 27,
   "metadata": {},
   "outputs": [
    {
     "data": {
      "text/plain": [
       "(1.8498946658456026, 3.4221102747240137)"
      ]
     },
     "execution_count": 27,
     "metadata": {},
     "output_type": "execute_result"
    }
   ],
   "source": [
    "residuals.std(), residuals.var()"
   ]
  },
  {
   "cell_type": "markdown",
   "metadata": {},
   "source": [
    "Notice, the standard deviation is very close to the $\\sigma=2.0$ we used for the error term when we generated the original dataset! It turns out that linear regression assumes that errors are normally distributed and we have found an estimate of the $\\sigma$ in the original dataset.\n",
    "\n",
    "A third error metric is known as the **coefficient of determination**, or $R^2$. The idea of $R^2$ is to compare the errors made by our model to benchmark model: namely a horizontal line with a value of the average value of the data. Here is a visualization of that model:"
   ]
  },
  {
   "cell_type": "code",
   "execution_count": 28,
   "metadata": {},
   "outputs": [
    {
     "data": {
      "image/png": "[encoded data removed]",
      "text/plain": [
       "<matplotlib.figure.Figure at 0x7fca18af6550>"
      ]
     },
     "metadata": {},
     "output_type": "display_data"
    }
   ],
   "source": [
    "plt.plot(xdata, ydata, 'o', label='Data')\n",
    "plt.plot(xdata, np.ones_like(xdata)*ydata.mean(), '-', label='Benchmark Model')\n",
    "plt.grid(True, alpha=0.4)\n",
    "plt.title('Benchmark Model Prediction')\n",
    "plt.xlabel('x')\n",
    "plt.ylabel('y')\n",
    "plt.legend();"
   ]
  },
  {
   "cell_type": "markdown",
   "metadata": {},
   "source": [
    " Here are the residuals of that model:"
   ]
  },
  {
   "cell_type": "code",
   "execution_count": 29,
   "metadata": {},
   "outputs": [],
   "source": [
    "benchmark_residuals = ydata - ydata.mean();"
   ]
  },
  {
   "cell_type": "markdown",
   "metadata": {},
   "source": [
    "And a visualization of them:"
   ]
  },
  {
   "cell_type": "code",
   "execution_count": 30,
   "metadata": {},
   "outputs": [
    {
     "data": {
      "image/png": "[encoded data removed]",
      "text/plain": [
       "<matplotlib.figure.Figure at 0x7fca1893a8d0>"
      ]
     },
     "metadata": {},
     "output_type": "display_data"
    }
   ],
   "source": [
    "plt.hist(benchmark_residuals, bins=20);\n",
    "plt.grid(True, alpha=0.4)\n",
    "plt.title('Benchmark Model Residuals')\n",
    "plt.ylabel('Count')\n",
    "plt.xlabel('$y_i - \\overline{y}$');"
   ]
  },
  {
   "cell_type": "markdown",
   "metadata": {},
   "source": [
    "The idea of $R^2$ is that we will assess our actual model by comparing the its residuals to those of this benchmark model. Let's look at the standard deviation and variance of the residuals of the benchmark model:"
   ]
  },
  {
   "cell_type": "code",
   "execution_count": 31,
   "metadata": {},
   "outputs": [
    {
     "data": {
      "text/plain": [
       "(5.5927982640499838, 31.279392422360512)"
      ]
     },
     "execution_count": 31,
     "metadata": {},
     "output_type": "execute_result"
    }
   ],
   "source": [
    "benchmark_residuals.std(), benchmark_residuals.var()"
   ]
  },
  {
   "cell_type": "markdown",
   "metadata": {},
   "source": [
    "Indeed, in this case, the residual variance of our model is significantly less than the residual variance of the benchmark model. Let's compute the ratio of the two:"
   ]
  },
  {
   "cell_type": "code",
   "execution_count": 32,
   "metadata": {},
   "outputs": [
    {
     "data": {
      "text/plain": [
       "0.10940462744658909"
      ]
     },
     "execution_count": 32,
     "metadata": {},
     "output_type": "execute_result"
    }
   ],
   "source": [
    "residuals.var()/benchmark_residuals.var()"
   ]
  },
  {
   "cell_type": "markdown",
   "metadata": {},
   "source": [
    "This tells us that compared to the benchmark, our model gives an eror variance of about 10%. To compute the value of $R^2$, we compute $1.0$ minus this ratio:"
   ]
  },
  {
   "cell_type": "code",
   "execution_count": 33,
   "metadata": {},
   "outputs": [
    {
     "data": {
      "text/plain": [
       "0.89059537255341092"
      ]
     },
     "execution_count": 33,
     "metadata": {},
     "output_type": "execute_result"
    }
   ],
   "source": [
    "R2 = 1.0 - residuals.var()/benchmark_residuals.var()\n",
    "R2"
   ]
  },
  {
   "cell_type": "markdown",
   "metadata": {},
   "source": [
    "Thus, we see that $R^2$ has the following properties:\n",
    "\n",
    "* $ R^2 \\leq 1.0 $.\n",
    "* A value of $R^2=1.0$ is the best possible scenario.\n",
    "* A value of $R^2=0.0$ means our model has the same residual properties as the benchmark.\n",
    "* A value of $R^2<0.0$ means our model is worse than the benchmark.\n",
    "\n",
    "To conclude our discussion about errors in regression problems, here is a checklist of things to always do after you fit a regression model:\n",
    "\n",
    "* If you can (two-dimensions), always plot the model results with the raw data.\n",
    "* Always compute the residuals and plot them on a histogram.\n",
    "* Always compute $R^2$."
   ]
  },
  {
   "cell_type": "markdown",
   "metadata": {},
   "source": [
    "## 4. Model selection"
   ]
  },
  {
   "cell_type": "markdown",
   "metadata": {},
   "source": [
    "In this notebook, we started with a model and used that model to generate data. This was done to make it easy to check the predicted model parameters with the true values used to create the data set. However, in the real world, you almost never know the model underlying the data. Because of this, there is an additional step called **model selection** where you have to figure out a way to pick a good model. This is a notoriously difficult problem, especially when the randomness in the data is large.\n",
    "\n",
    "* Pick the simplest possible model. In general picking a more complex model will give a better fit and an $R^2$ closer to 1. However, it won't be a useful model and will make poor predictions about future data. This is known as [overfitting](http://en.wikipedia.org/wiki/Overfitting).\n",
    "* Whenever possible, pick a model that has a underlying theoretical foundation or motivation. For example, in Physics, most of our models come from well tested differential equations.\n",
    "* There are more advanced methods, such as [AIC](https://en.wikipedia.org/wiki/Akaike_information_criterion), [BIC](https://en.wikipedia.org/wiki/Bayesian_information_criterion) that can assist in this model selection process."
   ]
  }
 ],
 "metadata": {
  "kernelspec": {
   "display_name": "Python 3",
   "language": "python",
   "name": "python3"
  },
  "language_info": {
   "codemirror_mode": {
    "name": "ipython",
    "version": 3
   },
   "file_extension": ".py",
   "mimetype": "text/x-python",
   "name": "python",
   "nbconvert_exporter": "python",
   "pygments_lexer": "ipython3",
   "version": "3.6.3"
  },
  "widgets": {
   "state": {
    "572467a0be8247b7ac2c0daeba83bf9b": {
     "views": [
      {
       "cell_index": 17
      }
     ]
    }
   },
   "version": "1.2.0"
  }
 },
 "nbformat": 4,
 "nbformat_minor": 2
}
