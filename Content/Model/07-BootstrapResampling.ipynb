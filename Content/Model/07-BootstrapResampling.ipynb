{
 "cells": [
  {
   "cell_type": "markdown",
   "metadata": {},
   "source": [
    "# Bootstrap Resampling"
   ]
  },
  {
   "cell_type": "markdown",
   "metadata": {},
   "source": [
    "**Learning Objectives:** Learn how to use bootstrap resampling to assest the uncertainty in an estimator."
   ]
  },
  {
   "cell_type": "markdown",
   "metadata": {},
   "source": [
    "## Imports"
   ]
  },
  {
   "cell_type": "code",
   "execution_count": 5,
   "metadata": {
    "collapsed": true
   },
   "outputs": [],
   "source": [
    "import numpy as np\n",
    "from matplotlib import pyplot as plt\n",
    "%matplotlib inline"
   ]
  },
  {
   "cell_type": "markdown",
   "metadata": {},
   "source": [
    "## 1 Introduction"
   ]
  },
  {
   "cell_type": "markdown",
   "metadata": {},
   "source": [
    "We have seen how an estimator enables to you use observed data to work backwards to find the parameters of a model. Estimates produced by an estimators or statistics can have errors for a number of reasons:\n",
    "\n",
    "1. Wrong model: if the model is wrong, it won't matter how good the estimator is.\n",
    "1. Bias or variance in the estimator: these are fundamental properties of each estimator.\n",
    "1. Small number of observations: we have seen that many estimators become more accurate as the number of observations increases.\n",
    "\n",
    "Bootstrap resampling is a simple and elegant technique for quantifying this last type of uncertainty. To see how this works, let's flip \"fair\" coins using a Bernuolli distribution $B(p=0.5)$. First, use `numpy.random.choice` to simulate `n` tosses of a fair coin that has values of `H` and `T` with equal probabilities:"
   ]
  },
  {
   "cell_type": "code",
   "execution_count": 22,
   "metadata": {
    "collapsed": false
   },
   "outputs": [
    {
     "data": {
      "text/plain": [
       "array(['T', 'H', 'T', 'H', 'T', 'T', 'H', 'T', 'H', 'H', 'T', 'H', 'H',\n",
       "       'H', 'H', 'H', 'H', 'H', 'H', 'H', 'T', 'T', 'T', 'H', 'H', 'T',\n",
       "       'H', 'H', 'H', 'H', 'T', 'H', 'T', 'H', 'T', 'T', 'T', 'T', 'T',\n",
       "       'T', 'H', 'H', 'H', 'H', 'H', 'T', 'T', 'H', 'H', 'H', 'T', 'H',\n",
       "       'H', 'T', 'H', 'H', 'H', 'T', 'T', 'T', 'T', 'T', 'T', 'H', 'T',\n",
       "       'H', 'T', 'T', 'T', 'T', 'H', 'H', 'T', 'H', 'T', 'H', 'H', 'T',\n",
       "       'H', 'H', 'H', 'H', 'T', 'T', 'T', 'T', 'T', 'T', 'T', 'T', 'H',\n",
       "       'T', 'T', 'H', 'H', 'H', 'T', 'T', 'T', 'H'], \n",
       "      dtype='<U1')"
      ]
     },
     "execution_count": 22,
     "metadata": {},
     "output_type": "execute_result"
    }
   ],
   "source": [
    "m = 100\n",
    "data = np.random.choice(['H','T'], m, p=[0.5, 0.5])\n",
    "data"
   ]
  },
  {
   "cell_type": "markdown",
   "metadata": {},
   "source": [
    "Next we create an estimator (for $p$) that that computes the ratio of the number of `H` values to the total number of values:"
   ]
  },
  {
   "cell_type": "code",
   "execution_count": 23,
   "metadata": {
    "collapsed": false
   },
   "outputs": [],
   "source": [
    "def fair(data):\n",
    "    \"\"\"Compute the fraction of the tosses that have a value of `H`.\"\"\"\n",
    "    value_counts = {k: v for (k,v) in zip(*np.unique(data, return_counts=True))}\n",
    "    return value_counts.get('H',0.0)/sum(v for k,v in value_counts.items())"
   ]
  },
  {
   "cell_type": "markdown",
   "metadata": {},
   "source": [
    "Let's test this estimator:"
   ]
  },
  {
   "cell_type": "code",
   "execution_count": 25,
   "metadata": {
    "collapsed": false
   },
   "outputs": [],
   "source": [
    "assert fair(np.array(['H','H','T','T']))==0.5\n",
    "assert fair(np.array(['T','T','T','T']))==0.0\n",
    "assert fair(np.array(['H','H','H','T']))==0.75\n",
    "assert fair(np.array(['H','H','H','H']))==1.0"
   ]
  },
  {
   "cell_type": "markdown",
   "metadata": {},
   "source": [
    "And compute the estimator from the data:"
   ]
  },
  {
   "cell_type": "code",
   "execution_count": 28,
   "metadata": {
    "collapsed": false
   },
   "outputs": [
    {
     "data": {
      "text/plain": [
       "0.51000000000000001"
      ]
     },
     "execution_count": 28,
     "metadata": {},
     "output_type": "execute_result"
    }
   ],
   "source": [
    "fair(data)"
   ]
  },
  {
   "cell_type": "markdown",
   "metadata": {},
   "source": [
    "Now we get to the main idea of bootstrap resampling.\n",
    "\n",
    "How do we answer the basic question: \"is our coin fair?\" We are asking if $p$ is \"close enough\" to $0.5$ for us to call it \"fair\". If we still had access to the coin, we could continue to flip it and see if the estimator converged to $0.5$. For the simple case of a coin, it is reasonable to think we might still have access to the coin and could keep flipping it until we were satisfied. However, in many, if not most situations, we won't have the ability to observe additional data. So, what to do?\n",
    "\n",
    "Bootstrap resampling comes to the rescue with the following idea:\n",
    "\n",
    "**Instead of observing entirely new data, create new datasets by sampling (with replacement) from the existing observed data.**\n",
    "\n",
    "This is simple to do with `np.random.choice`:"
   ]
  },
  {
   "cell_type": "code",
   "execution_count": 30,
   "metadata": {
    "collapsed": false
   },
   "outputs": [
    {
     "data": {
      "text/plain": [
       "array(['T', 'T', 'T', 'T', 'T', 'H', 'H', 'H', 'H', 'T', 'T', 'T', 'T',\n",
       "       'H', 'T', 'T', 'T', 'H', 'T', 'T', 'T', 'T', 'T', 'T', 'T', 'H',\n",
       "       'H', 'H', 'H', 'T', 'T', 'H', 'H', 'T', 'H', 'H', 'H', 'H', 'T',\n",
       "       'T', 'H', 'T', 'T', 'H', 'H', 'H', 'T', 'T', 'H', 'H', 'T', 'T',\n",
       "       'H', 'H', 'T', 'H', 'H', 'T', 'T', 'H', 'H', 'H', 'H', 'H', 'T',\n",
       "       'H', 'H', 'H', 'T', 'T', 'H', 'H', 'H', 'H', 'T', 'H', 'H', 'H',\n",
       "       'H', 'T', 'T', 'H', 'H', 'H', 'H', 'H', 'T', 'T', 'H', 'H', 'T',\n",
       "       'T', 'H', 'T', 'H', 'T', 'H', 'H', 'H', 'H'], \n",
       "      dtype='<U1')"
      ]
     },
     "execution_count": 30,
     "metadata": {},
     "output_type": "execute_result"
    }
   ],
   "source": [
    "data2 = np.random.choice(data, size=len(data))\n",
    "data2"
   ]
  },
  {
   "cell_type": "markdown",
   "metadata": {},
   "source": [
    "And let's compute the estimator for this resampled data:"
   ]
  },
  {
   "cell_type": "code",
   "execution_count": 31,
   "metadata": {
    "collapsed": false
   },
   "outputs": [
    {
     "data": {
      "text/plain": [
       "0.55000000000000004"
      ]
     },
     "execution_count": 31,
     "metadata": {},
     "output_type": "execute_result"
    }
   ],
   "source": [
    "fair(data2)"
   ]
  },
  {
   "cell_type": "markdown",
   "metadata": {},
   "source": [
    "Notice, that it is slightly different! This small difference gives us a sense of the uncertainty in our estimate. Let's put this basic operation into a function:"
   ]
  },
  {
   "cell_type": "code",
   "execution_count": 34,
   "metadata": {
    "collapsed": true
   },
   "outputs": [],
   "source": [
    "def bootstrap_data(data):\n",
    "    \"\"\"Perform a single boostrap resampling of the input data array.\n",
    "    \n",
    "    Returns an array of the same size as the original.\n",
    "    \"\"\"\n",
    "    return np.random.choice(data, size=data.shape[0])"
   ]
  },
  {
   "cell_type": "markdown",
   "metadata": {},
   "source": [
    "Some tests for this function:"
   ]
  },
  {
   "cell_type": "code",
   "execution_count": 35,
   "metadata": {
    "collapsed": true
   },
   "outputs": [],
   "source": [
    "test_data = np.random.randint(10, size=10)\n",
    "test_data_re = bootstrap_data(test_data)\n",
    "assert test_data.shape==test_data_re.shape\n",
    "for element in test_data_re:\n",
    "    assert element in test_data"
   ]
  },
  {
   "cell_type": "markdown",
   "metadata": {},
   "source": [
    "Now let's use this to resample the data a bunch of times and compute the fairness for each resampled data:"
   ]
  },
  {
   "cell_type": "code",
   "execution_count": 36,
   "metadata": {
    "collapsed": false
   },
   "outputs": [
    {
     "name": "stdout",
     "output_type": "stream",
     "text": [
      "0.42\n",
      "0.52\n",
      "0.42\n",
      "0.47\n",
      "0.52\n",
      "0.48\n",
      "0.51\n",
      "0.55\n",
      "0.51\n",
      "0.51\n",
      "0.56\n",
      "0.56\n",
      "0.45\n",
      "0.45\n",
      "0.52\n",
      "0.54\n",
      "0.54\n",
      "0.53\n",
      "0.52\n",
      "0.53\n"
     ]
    }
   ],
   "source": [
    "for i in range(20):\n",
    "    re_data = bootstrap_data(data)\n",
    "    print(fair(re_data))"
   ]
  },
  {
   "cell_type": "markdown",
   "metadata": {},
   "source": [
    "The second idea in bootstrap resampling is this:\n",
    "\n",
    "**The uncertainy in the estimator can be quantified by studying the distribution of bootstrapped values.***\n",
    "\n",
    "To make this analysis easier, create a function that can compute an estimator for `n` resampled versions of an input array:"
   ]
  },
  {
   "cell_type": "code",
   "execution_count": 37,
   "metadata": {
    "collapsed": true
   },
   "outputs": [],
   "source": [
    "def bootstrap_function(data, f, n):\n",
    "    \"\"\"Compute an estimator on data bootstrapped n times.\n",
    "    \n",
    "    Parameters\n",
    "    ----------\n",
    "    data: ndarray\n",
    "        The input data to be resampled.\n",
    "    f: function(data)\n",
    "        The function to be applied to the boostrapped data. The function should take a single\n",
    "        argument (the data) and return a float.\n",
    "    n: int\n",
    "        The number of times to resample the data\n",
    "        \n",
    "    Returns\n",
    "    -------\n",
    "    result: ndarray\n",
    "        An n element array of the values of the function applied to the resampled data.\n",
    "    \"\"\"\n",
    "    result = np.empty(n, dtype=float)\n",
    "    for i in range(n):\n",
    "        data2 = bootstrap_data(data)\n",
    "        result[i] = f(data2)\n",
    "    return result"
   ]
  },
  {
   "cell_type": "markdown",
   "metadata": {},
   "source": [
    "Tests for our function:"
   ]
  },
  {
   "cell_type": "code",
   "execution_count": 13,
   "metadata": {
    "collapsed": false
   },
   "outputs": [],
   "source": [
    "test_data = np.array([0,0,0,0,1,1,1,1])\n",
    "fb = bootstrap_function(test_data, lambda data: 1.0, 10)\n",
    "assert np.allclose(fb, np.array(10*[1.0]))\n",
    "fb = bootstrap_function(test_data, lambda data: data.mean(), 10)\n",
    "assert fb.mean()<1.0 and fb.mean()>0.0"
   ]
  },
  {
   "cell_type": "markdown",
   "metadata": {},
   "source": [
    "Now use `bootstrap_function` to apply the `fair` function to `200` bootstrapped versions of the original data above to compute the bootstrapped distribution of coin fairness."
   ]
  },
  {
   "cell_type": "code",
   "execution_count": 38,
   "metadata": {
    "collapsed": false
   },
   "outputs": [],
   "source": [
    "fairs = bootstrap_function(data, fair, 200)"
   ]
  },
  {
   "cell_type": "markdown",
   "metadata": {},
   "source": [
    "Here is the result:"
   ]
  },
  {
   "cell_type": "code",
   "execution_count": 39,
   "metadata": {
    "collapsed": false
   },
   "outputs": [
    {
     "data": {
      "text/plain": [
       "array([ 0.53,  0.43,  0.52,  0.49,  0.48,  0.46,  0.5 ,  0.46,  0.46,\n",
       "        0.51,  0.48,  0.49,  0.49,  0.57,  0.47,  0.52,  0.55,  0.67,\n",
       "        0.46,  0.43,  0.55,  0.5 ,  0.46,  0.49,  0.53,  0.53,  0.56,\n",
       "        0.54,  0.56,  0.48,  0.49,  0.52,  0.5 ,  0.47,  0.47,  0.54,\n",
       "        0.55,  0.54,  0.55,  0.49,  0.58,  0.51,  0.45,  0.5 ,  0.54,\n",
       "        0.48,  0.46,  0.46,  0.49,  0.56,  0.44,  0.56,  0.56,  0.51,\n",
       "        0.53,  0.53,  0.55,  0.52,  0.59,  0.54,  0.48,  0.54,  0.55,\n",
       "        0.52,  0.53,  0.59,  0.47,  0.49,  0.54,  0.53,  0.45,  0.58,\n",
       "        0.49,  0.54,  0.55,  0.53,  0.53,  0.44,  0.64,  0.52,  0.53,\n",
       "        0.48,  0.47,  0.52,  0.53,  0.53,  0.57,  0.52,  0.52,  0.51,\n",
       "        0.51,  0.52,  0.49,  0.56,  0.48,  0.52,  0.49,  0.47,  0.53,\n",
       "        0.42,  0.42,  0.48,  0.52,  0.45,  0.43,  0.41,  0.43,  0.42,\n",
       "        0.58,  0.51,  0.42,  0.47,  0.51,  0.55,  0.45,  0.48,  0.44,\n",
       "        0.56,  0.48,  0.5 ,  0.51,  0.49,  0.48,  0.54,  0.49,  0.58,\n",
       "        0.58,  0.5 ,  0.43,  0.54,  0.48,  0.47,  0.46,  0.48,  0.53,\n",
       "        0.44,  0.47,  0.57,  0.54,  0.61,  0.57,  0.46,  0.43,  0.54,\n",
       "        0.49,  0.59,  0.5 ,  0.59,  0.55,  0.45,  0.56,  0.52,  0.47,\n",
       "        0.54,  0.49,  0.45,  0.5 ,  0.54,  0.54,  0.47,  0.58,  0.59,\n",
       "        0.52,  0.47,  0.56,  0.48,  0.63,  0.51,  0.47,  0.53,  0.55,\n",
       "        0.51,  0.48,  0.57,  0.52,  0.49,  0.51,  0.57,  0.42,  0.47,\n",
       "        0.55,  0.55,  0.48,  0.57,  0.47,  0.41,  0.46,  0.5 ,  0.53,\n",
       "        0.49,  0.48,  0.59,  0.47,  0.48,  0.48,  0.49,  0.49,  0.41,\n",
       "        0.51,  0.43])"
      ]
     },
     "execution_count": 39,
     "metadata": {},
     "output_type": "execute_result"
    }
   ],
   "source": [
    "fairs"
   ]
  },
  {
   "cell_type": "markdown",
   "metadata": {},
   "source": [
    "Now visualize the bootstrapped fairness distribution using a hisogram:"
   ]
  },
  {
   "cell_type": "code",
   "execution_count": 41,
   "metadata": {
    "collapsed": false
   },
   "outputs": [
    {
     "data": {
      "image/png": "[encoded data removed]",
      "text/plain": [
       "<matplotlib.figure.Figure at 0x7f743fec9898>"
      ]
     },
     "metadata": {},
     "output_type": "display_data"
    }
   ],
   "source": [
    "plt.hist(fairs, bins=20)\n",
    "plt.xlim(0, 1.0)\n",
    "plt.title(\"Bootstrapped coin fairness\")\n",
    "plt.xlabel(\"Fairness\")\n",
    "plt.grid(True)\n",
    "plt.ylabel(\"Count\");"
   ]
  },
  {
   "cell_type": "markdown",
   "metadata": {},
   "source": [
    "The distribution is peaked near 0.5 (fair coin), but it a finite variance indicating the uncertainty in the fairness. What do we do with this distribution? There are a couple of options:\n",
    "\n",
    "1. Just show the distribution and tell people that it represents the uncertainty in the estimator.\n",
    "2. Compute confidence intervals.\n",
    "\n",
    "For completeness, let's compute the mean and 95% confidence interval for the fairness using `np.percentile`:"
   ]
  },
  {
   "cell_type": "code",
   "execution_count": 43,
   "metadata": {
    "collapsed": false
   },
   "outputs": [
    {
     "name": "stdout",
     "output_type": "stream",
     "text": [
      "Mean fairness: 0.50775\n",
      "95% confidence interval: [ 0.42  0.59]\n"
     ]
    }
   ],
   "source": [
    "print(\"Mean fairness:\", fairs.mean())\n",
    "print(\"95% confidence interval:\", np.percentile(fairs, (2.5,97.5)))"
   ]
  },
  {
   "cell_type": "markdown",
   "metadata": {},
   "source": [
    "This confidence interval tells us that if we could continue to collect more and more truly new observations, the fairness would be in the interval $[0.42, 059]$ with a confidence of 95 percent."
   ]
  }
 ],
 "metadata": {
  "kernelspec": {
   "display_name": "Python 3",
   "language": "python",
   "name": "python3"
  },
  "language_info": {
   "codemirror_mode": {
    "name": "ipython",
    "version": 3
   },
   "file_extension": ".py",
   "mimetype": "text/x-python",
   "name": "python",
   "nbconvert_exporter": "python",
   "pygments_lexer": "ipython3",
   "version": "3.5.2"
  }
 },
 "nbformat": 4,
 "nbformat_minor": 1
}
