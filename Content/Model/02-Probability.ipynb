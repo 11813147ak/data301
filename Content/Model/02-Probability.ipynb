{
 "cells": [
  {
   "cell_type": "markdown",
   "metadata": {},
   "source": [
    "# Probability"
   ]
  },
  {
   "cell_type": "markdown",
   "metadata": {},
   "source": [
    "**Learning Objectives:** Learn about random variables and their relationship to discrete and continouous probability distributions. Learn about joint, conditional and marginal distributions and their relationship to tidy tables."
   ]
  },
  {
   "cell_type": "markdown",
   "metadata": {},
   "source": [
    "## Imports"
   ]
  },
  {
   "cell_type": "code",
   "execution_count": 1,
   "metadata": {
    "collapsed": true
   },
   "outputs": [],
   "source": [
    "import numpy as np\n",
    "import matplotlib as mpl\n",
    "import matplotlib.pyplot as plt\n",
    "from ipywidgets import interact"
   ]
  },
  {
   "cell_type": "code",
   "execution_count": 2,
   "metadata": {
    "collapsed": true
   },
   "outputs": [],
   "source": [
    "%matplotlib inline"
   ]
  },
  {
   "cell_type": "markdown",
   "metadata": {},
   "source": [
    "## 1. Probability"
   ]
  },
  {
   "cell_type": "markdown",
   "metadata": {},
   "source": [
    "## 2. Random variables"
   ]
  },
  {
   "cell_type": "markdown",
   "metadata": {},
   "source": [
    "We have learned previously that a **variable** is a quantity that has been measured or observed. In a tidy dataset, a variable is represented by a single column in a table. These variables are usually encoded using one of the fundamental data types:\n",
    "\n",
    "* Quantity\n",
    "* Categorical (ordinal, nominal)\n",
    "* Date/time\n",
    "* Text\n",
    "* Geographical\n",
    "\n",
    "A **random variable** is a variable whose value is different each time you ask it in a manner that is determined by chance or randomness. This definition doesn't make any assumptions about what the source of randomness is. Some possibilities:\n",
    "\n",
    "* Inherent randomness\n",
    "* Incomplete observability\n",
    "* Incomplete modelling\n",
    "\n",
    "Some examples:\n",
    "\n",
    "* Daily closing price of a stock.\n",
    "* Temperature in this room.\n",
    "* Ages of people taking this course.\n",
    "* The brands of mobile phones used by a group of people.\n",
    "* The sequence of n-grams from the text of a book.\n",
    "* The position of a particle whose motion is governed by Newton's laws.\n",
    "\n",
    "Notice that in many of these cases, there is some underlying process that may not be random. Normally, we wouldn't say that the text of a book is random. However, when we model that text statistically, it is still helpful to model aspects of it using random variables.\n",
    "\n",
    "In a programming language like Python, random variables are typically represented by functions, that must be called to return a new realization of the random variable. The `random` module in Python's standard library has some of these function as does the `numpy.random` package. Here are 10 realizations of a random variable with a uniform distribution between $0$ and $1$:"
   ]
  },
  {
   "cell_type": "code",
   "execution_count": 3,
   "metadata": {
    "collapsed": false
   },
   "outputs": [
    {
     "name": "stdout",
     "output_type": "stream",
     "text": [
      "0.32266880737343395\n",
      "0.10739081343079282\n",
      "0.027004392107210173\n",
      "0.6347160810763082\n",
      "0.7496011510040531\n",
      "0.6508369463761132\n",
      "0.8431508673008397\n",
      "0.48323421808563227\n",
      "0.9612216107029493\n",
      "0.3730544794788381\n"
     ]
    }
   ],
   "source": [
    "for i in range(10):\n",
    "    print(np.random.rand())"
   ]
  },
  {
   "cell_type": "markdown",
   "metadata": {},
   "source": [
    "As this example shows, random variables typically take on value that follow some distribution. In this case, the underlying distribution was the uniform distribution between $[0,1]$. In mathematical notation, we would write this as:\n",
    "\n",
    "$$x \\sim U(0,1) $$\n",
    "\n",
    "In english, we would say:\n",
    "\n",
    "> The random variable $x$ takes on values distributed according to the uniform distribution over the interval $[0,1]$.\n",
    "\n",
    "Here is another example:\n",
    "\n",
    "$$ x \\sim N\\left( \\mu=2.0, \\sigma^2=1.0 \\right)$$\n",
    "\n",
    "> The random variable $x$ takes on values distributed according to the normal distribution with a mean of $2.0$ and variance of $1.0$."
   ]
  },
  {
   "cell_type": "code",
   "execution_count": 4,
   "metadata": {
    "collapsed": false
   },
   "outputs": [
    {
     "name": "stdout",
     "output_type": "stream",
     "text": [
      "2.8118364452470717\n",
      "2.6845127241054323\n",
      "2.281905548832084\n",
      "1.6460171243560362\n",
      "2.8986418360136956\n",
      "2.6859481321713456\n",
      "0.9196867605395085\n",
      "2.06267723157424\n",
      "2.7646586828716844\n",
      "2.7666377529420427\n"
     ]
    }
   ],
   "source": [
    "μ = 2.0\n",
    "σ = np.sqrt(1.0)\n",
    "for i in range(10):\n",
    "    print(np.random.normal(μ, σ))"
   ]
  },
  {
   "cell_type": "markdown",
   "metadata": {},
   "source": [
    "Thus, in order to study random variables, we need to understand **probability distributions**."
   ]
  },
  {
   "cell_type": "markdown",
   "metadata": {},
   "source": [
    "## 3. Probability Distributions"
   ]
  },
  {
   "cell_type": "markdown",
   "metadata": {},
   "source": [
    "A **probability distribution** is a mathematical recipie for generating random variables with a particular distribution. There are two broad types fo probability distributions:\n",
    "\n",
    "* Discrete (integers, categorical, nominal, ordinal)\n",
    "* Continuous (quantitative, temporal)\n",
    "\n",
    "A full review of probability theory is beyond the scope of this notebook, but here is a very helpful Wikipedia page on the topic:\n",
    "\n",
    "https://en.wikipedia.org/wiki/Probability_distribution\n",
    "\n",
    "In general, there are two things that a probability distribution must specify:\n",
    "\n",
    "1. The set of values or outcomes the random variable can have.\n",
    "2. The relative probabilities of those outcomes."
   ]
  },
  {
   "cell_type": "markdown",
   "metadata": {},
   "source": [
    "### 3.1 Discrete variables"
   ]
  },
  {
   "cell_type": "markdown",
   "metadata": {},
   "source": [
    "For a discrete random variable, the probability distribution is specified by a **probability mass fuction** or **PMF** $P(x)$. A PMF has the following properties:\n",
    "\n",
    "1. For $P(x)$, the set of all outcomes of the random variable $x$ are a discrete set\n",
    "2. For all $x$, $0 \\geq P(x) \\leq $ 1\n",
    "3. $\\sum_x P(x) = 1$\n",
    "\n",
    "Here is an example of a discrete random variable that shows these properties:\n",
    "\n",
    "* The outcomes of $x$ are $\\{summer, winter\\}$\n",
    "* The probabilities are $[0.25, 0.75]$ and they add up to $1$"
   ]
  },
  {
   "cell_type": "code",
   "execution_count": 5,
   "metadata": {
    "collapsed": false
   },
   "outputs": [
    {
     "name": "stdout",
     "output_type": "stream",
     "text": [
      "winter\n",
      "winter\n",
      "winter\n",
      "winter\n",
      "winter\n",
      "winter\n",
      "winter\n",
      "summer\n",
      "summer\n",
      "winter\n"
     ]
    }
   ],
   "source": [
    "for i in range(10):\n",
    "    print(np.random.choice(['summer', 'winter'], p=[0.25, 0.75]))"
   ]
  },
  {
   "cell_type": "markdown",
   "metadata": {},
   "source": [
    "### 3.2 Continuous variables"
   ]
  },
  {
   "cell_type": "markdown",
   "metadata": {},
   "source": [
    "For a continuous random variable, the probability distribution is specified by a **probability density function** or **PDF**. A PDF has the following properties:\n",
    "\n",
    "1. For $P(x)$, the set of all outcomes of the random variable $x$ are an interval of real numbers $[x_1, x_2]$\n",
    "2. For all $x$, $P(x) \\geq 0$\n",
    "3. $\\int P(x) dx = 1 $\n",
    "\n",
    "Here is an example of a continuous random variable that shows these properties:\n",
    "\n",
    "* The outcomes are the real numbers in the interval $[1.0, 3.0]$\n",
    "* All outcomes are equally likely (uniform distribution)"
   ]
  },
  {
   "cell_type": "code",
   "execution_count": 6,
   "metadata": {
    "collapsed": true
   },
   "outputs": [],
   "source": [
    "x = np.random.uniform(1.0, 3.0, 100)"
   ]
  },
  {
   "cell_type": "code",
   "execution_count": 7,
   "metadata": {
    "collapsed": false
   },
   "outputs": [
    {
     "data": {
      "text/plain": [
       "array([ 2.70299594,  1.65214989,  1.64886855,  2.63706334,  1.94087   ,\n",
       "        2.44905817,  1.43984765,  2.55005817,  1.17734893,  2.90467294])"
      ]
     },
     "execution_count": 7,
     "metadata": {},
     "output_type": "execute_result"
    }
   ],
   "source": [
    "x[0:10]"
   ]
  },
  {
   "cell_type": "code",
   "execution_count": 8,
   "metadata": {
    "collapsed": false
   },
   "outputs": [
    {
     "data": {
      "image/png": "[encoded data removed]",
      "text/plain": [
       "<matplotlib.figure.Figure at 0x7ff39ae2c278>"
      ]
     },
     "metadata": {},
     "output_type": "display_data"
    }
   ],
   "source": [
    "pdf, bins, patches = plt.hist(x, normed=True)\n",
    "plt.xlabel('x')\n",
    "plt.ylabel('P(x)');"
   ]
  },
  {
   "cell_type": "markdown",
   "metadata": {},
   "source": [
    "When `normed=True`, Matplotlib, normalizes the histogram so that the area underneath the histogram is $1.0$, just as a proper PDF should have. It returns the PDF, and bins, so we can compute that area as an sum:"
   ]
  },
  {
   "cell_type": "code",
   "execution_count": 9,
   "metadata": {
    "collapsed": false
   },
   "outputs": [
    {
     "data": {
      "text/plain": [
       "0.99999999999999989"
      ]
     },
     "execution_count": 9,
     "metadata": {},
     "output_type": "execute_result"
    }
   ],
   "source": [
    "np.sum(pdf * np.diff(bins))"
   ]
  },
  {
   "cell_type": "markdown",
   "metadata": {},
   "source": [
    "Note that the actual PDF isn't jagged like this, but is rather completely smooth. To see the smooth PDf, we need to drawn more samples. Let's explore this using `interact`:"
   ]
  },
  {
   "cell_type": "code",
   "execution_count": 10,
   "metadata": {
    "collapsed": true
   },
   "outputs": [],
   "source": [
    "def plot_uniform_pdf(n):\n",
    "    x = np.random.uniform(1.0, 3.0, n)\n",
    "    plt.hist(x, normed=True, bins=20)\n",
    "    plt.xlabel('x')\n",
    "    plt.ylabel('P(x)')\n",
    "    plt.xlim(1.0, 3.0)\n",
    "    plt.ylim(0.0, 1.0)"
   ]
  },
  {
   "cell_type": "code",
   "execution_count": 12,
   "metadata": {
    "collapsed": false
   },
   "outputs": [
    {
     "data": {
      "image/png": "[encoded data removed]",
      "text/plain": [
       "<matplotlib.figure.Figure at 0x7ff3962f4048>"
      ]
     },
     "metadata": {},
     "output_type": "display_data"
    }
   ],
   "source": [
    "interact(plot_uniform_pdf, n=(100,2000,100));"
   ]
  },
  {
   "cell_type": "markdown",
   "metadata": {},
   "source": [
    "This illustrates some important ideas in statistical modelling:\n",
    "\n",
    "* Knowing individual samples/outcomes from a probability distribution isn't enough information to fully construct the parameters of the original distribution.\n",
    "* The more samples/outcomes you have, the closer you can get to the original distribution.\n",
    "* In general, if you don't know underlying probability distribution, you can't even infer which distribution generated the samples (uniform, normal, etc.)."
   ]
  },
  {
   "cell_type": "markdown",
   "metadata": {},
   "source": [
    "### 4. Marginal probability"
   ]
  },
  {
   "cell_type": "markdown",
   "metadata": {},
   "source": [
    "### 5. Conditional probability"
   ]
  },
  {
   "cell_type": "markdown",
   "metadata": {},
   "source": [
    "### 6. The chain rule of conditional probability"
   ]
  },
  {
   "cell_type": "markdown",
   "metadata": {},
   "source": [
    "### 7. Independence and conditional independence"
   ]
  },
  {
   "cell_type": "markdown",
   "metadata": {},
   "source": [
    "### 8. Expectation, variance and covariance"
   ]
  }
 ],
 "metadata": {
  "kernelspec": {
   "display_name": "Python 3",
   "language": "python",
   "name": "python3"
  },
  "language_info": {
   "codemirror_mode": {
    "name": "ipython",
    "version": 3
   },
   "file_extension": ".py",
   "mimetype": "text/x-python",
   "name": "python",
   "nbconvert_exporter": "python",
   "pygments_lexer": "ipython3",
   "version": "3.5.2"
  },
  "widgets": {
   "state": {
    "8a48388e5e6e4ed6a9676c75b311f08f": {
     "views": [
      {
       "cell_index": 26
      }
     ]
    }
   },
   "version": "1.2.0"
  }
 },
 "nbformat": 4,
 "nbformat_minor": 2
}
