{
 "cells": [
  {
   "cell_type": "markdown",
   "metadata": {},
   "source": [
    "# Maximum Likelihood Estimation Introduction"
   ]
  },
  {
   "cell_type": "markdown",
   "metadata": {},
   "source": [
    "**Learning Objectives:** Understand maximum likelihood estimation and how to use it to estimate parameters of probability distributions using observed data."
   ]
  },
  {
   "cell_type": "markdown",
   "metadata": {},
   "source": [
    "## Imports"
   ]
  },
  {
   "cell_type": "code",
   "execution_count": 46,
   "metadata": {},
   "outputs": [],
   "source": [
    "import numpy as np\n",
    "from matplotlib import pyplot as plt\n",
    "%matplotlib inline"
   ]
  },
  {
   "cell_type": "markdown",
   "metadata": {},
   "source": [
    "## 1. Maximum likelihood"
   ]
  },
  {
   "cell_type": "markdown",
   "metadata": {},
   "source": [
    "Previously, we have seen how to generate data from a probability distribution. Usually the underlying probability distribution depends on some parameters, such as $\\mu$ and $\\sigma$. As before, let's bundle up those parameters into a vector $\\theta = [\\theta_0, \\theta_1, \\ldots]$, so that the probability distribution is $P(\\theta)$. If the random variable $x$ is drawn from this distribution, we would write:\n",
    "\n",
    "$$ x \\sim P(\\theta) $$\n",
    "\n",
    "If $x$ is continuous, the **probability density function** would be a function of both $x$, conditional on $\\theta$:\n",
    "\n",
    "$$P(x \\mid \\theta)$$\n",
    "\n",
    "We expect this function to integrate to unity:\n",
    "\n",
    "$$ \\int P(x \\mid \\theta) dx = 1 $$\n",
    "\n",
    "We have seen previously that **statistical inference** allows us to find an estimate for $\\theta$, which we again refer to as $\\hat{\\theta}$. To do that, we need an **estimator** for $\\hat{\\theta}$, and preferrable one that has a low mean-squared error. One very here approach for performing such inference is called [maximum likelihood estimation](https://en.wikipedia.org/wiki/Maximum_likelihood). The foundation of this method is to interpret the above probability distribution in slightly different manner. Instead, we introduce the likelihood of a single data point $x$ as:\n",
    "\n",
    "$$ \\mathcal{L}(\\theta \\mid x) = P(x \\mid \\theta) $$\n",
    "\n",
    "This is the *likelihood* of $\\theta$ given our data $x$. For multiple, independent samples $[x_0, x_1, \\ldots]$ the likelihood is simply the product:\n",
    "\n",
    "$$ \\mathcal{L}(\\theta \\mid x_0, x_1, \\ldots) = \\prod_i \\mathcal{L}(\\theta \\mid x_i) = \\prod_i P(x_i \\mid \\theta) $$\n",
    "\n",
    "The maximum likelihood method consists of finding the value of $\\theta$ that maximizes this likelihood $ \\mathcal{L}(\\theta \\mid x_0, x_1, \\ldots) $. It is often more natural to maximize the natural log of this function, or the *log-likelihood*:\n",
    "\n",
    "$$ ln \\mathcal{L}(\\theta \\mid x_0, x_1, \\ldots) $$\n",
    "\n",
    "Or, we can throw in a minus sign and *minimize the negative log-likelihood*:\n",
    "\n",
    "$$ -ln \\mathcal{L}(\\theta \\mid x_0, x_1, \\ldots) = - \\sum_i ln P(x_i \\mid \\theta) $$\n",
    "\n",
    "Here is an outline of the process in words:\n",
    "\n",
    "1. Find the PDF of our model.\n",
    "2. For each observed data point $x_i$ evaluate the PDF at that point.\n",
    "3. Take its negative natural log.\n",
    "4. Sum up those values for all data points.\n",
    "5. Find the value of $\\theta$ that minimizes the sum."
   ]
  },
  {
   "cell_type": "markdown",
   "metadata": {},
   "source": [
    "## 2. MLE for the normal distribution"
   ]
  },
  {
   "cell_type": "markdown",
   "metadata": {},
   "source": [
    "Let's see how MLE works for the normal distribution. The probability density function is:\n",
    "\n",
    "$$ P(x \\mid \\mu,\\sigma^2) = \\frac{1}{\\sqrt{2 \\pi \\sigma^2}} \\exp{\\left[-\\frac{(x-\\mu)^2}{2 \\sigma^2}\\right]}$$\n",
    "\n",
    "The log-liklihood for a single sample is then:\n",
    "\n",
    "$$ ln \\mathcal{L}(\\mu,\\sigma^2 \\mid x) =  - \\frac{1}{2} ln(2 \\pi \\sigma^2) - \\frac{(x-\\mu)^2}{2 \\sigma^2} $$\n",
    "\n",
    "For an array of values $[x_1, x_2, \\ldots]$ the negative log-likelihood is then:\n",
    "\n",
    "$$ -ln \\mathcal{L}(\\mu,\\sigma^2 \\mid x_1, x_2, \\ldots) = \\frac{n}{2} ln(2 \\pi \\sigma^2) + \\frac{1}{2 \\sigma^2}\\sum_{i=1}^n (x_i-\\mu)^2 $$\n",
    "\n",
    "This is the function we need to minimize to find our estimates $\\hat{\\mu}$ and $\\hat{\\sigma}^2$."
   ]
  },
  {
   "cell_type": "code",
   "execution_count": 47,
   "metadata": {},
   "outputs": [],
   "source": [
    "mu = 5.0\n",
    "sigma2 = 2.0\n",
    "data = np.random.normal(mu, np.sqrt(sigma2), 50)"
   ]
  },
  {
   "cell_type": "markdown",
   "metadata": {},
   "source": [
    "Here is our distribution of generated data:"
   ]
  },
  {
   "cell_type": "code",
   "execution_count": 48,
   "metadata": {},
   "outputs": [
    {
     "data": {
      "image/png": "[encoded data removed]",
      "text/plain": [
       "<matplotlib.figure.Figure at 0x7fc8a7b8db38>"
      ]
     },
     "metadata": {},
     "output_type": "display_data"
    }
   ],
   "source": [
    "plt.hist(data, bins=20, normed=True)\n",
    "plt.xlabel('x')\n",
    "plt.ylabel('y')\n",
    "plt.title('Generated Sample Distribution for the Normal Distribution');"
   ]
  },
  {
   "cell_type": "markdown",
   "metadata": {},
   "source": [
    "The negative log-likelihood depends on two things: the data and the vector of parameters $\\theta$. Let's write a Python function that returns the negative log-likelihood for a value of $\\theta$ and an array of observed data:"
   ]
  },
  {
   "cell_type": "code",
   "execution_count": 49,
   "metadata": {},
   "outputs": [],
   "source": [
    "def neg_log_llh(theta, data):\n",
    "    \"\"\"Return the negative log-likelihood for the normal distribution.\n",
    "    \n",
    "    Parameters\n",
    "    ----------\n",
    "    theta: tuple\n",
    "        The parameters [mu, sigma**2] of the normal distribution.\n",
    "    data: ndarray\n",
    "        An array of data points that are being modelled by the normal distribution.\n",
    "    \"\"\"\n",
    "    mu = theta[0]\n",
    "    sigma2 = theta[1]\n",
    "    n = len(data)\n",
    "    result = 0.5*n*np.log(2.0*np.pi*sigma2) + (1.0/(2.0*sigma2))*np.sum((data-mu)**2)\n",
    "    return result"
   ]
  },
  {
   "cell_type": "code",
   "execution_count": 50,
   "metadata": {},
   "outputs": [
    {
     "data": {
      "text/plain": [
       "479.0480019957659"
      ]
     },
     "execution_count": 50,
     "metadata": {},
     "output_type": "execute_result"
    }
   ],
   "source": [
    "neg_log_llh([1.0,1.0], data)"
   ]
  },
  {
   "cell_type": "markdown",
   "metadata": {},
   "source": [
    "### 2.1 Minimization by hand"
   ]
  },
  {
   "cell_type": "markdown",
   "metadata": {},
   "source": [
    "First, to help us get intuition about this minimzation process, let's try to minimize this by hand using `interact`:"
   ]
  },
  {
   "cell_type": "code",
   "execution_count": 51,
   "metadata": {},
   "outputs": [],
   "source": [
    "from ipywidgets import interact"
   ]
  },
  {
   "cell_type": "code",
   "execution_count": 52,
   "metadata": {},
   "outputs": [],
   "source": [
    "def print_log_llh(mu, sigma2):\n",
    "    print(neg_log_llh((mu, sigma2), data))"
   ]
  },
  {
   "cell_type": "code",
   "execution_count": 53,
   "metadata": {},
   "outputs": [
    {
     "data": {
      "application/vnd.jupyter.widget-view+json": {
       "model_id": "f2632591a93d46ceb590de14b395a57e",
       "version_major": 2,
       "version_minor": 0
      },
      "text/html": [
       "<p>Failed to display Jupyter Widget of type <code>interactive</code>.</p>\n",
       "<p>\n",
       "  If you're reading this message in the Jupyter Notebook or JupyterLab Notebook, it may mean\n",
       "  that the widgets JavaScript is still loading. If this message persists, it\n",
       "  likely means that the widgets JavaScript library is either not installed or\n",
       "  not enabled. See the <a href=\"https://ipywidgets.readthedocs.io/en/stable/user_install.html\">Jupyter\n",
       "  Widgets Documentation</a> for setup instructions.\n",
       "</p>\n",
       "<p>\n",
       "  If you're reading this message in another frontend (for example, a static\n",
       "  rendering on GitHub or <a href=\"https://nbviewer.jupyter.org/\">NBViewer</a>),\n",
       "  it may mean that your frontend doesn't currently support widgets.\n",
       "</p>\n"
      ],
      "text/plain": [
       "interactive(children=(FloatSlider(value=5.0, description='mu', max=10.0), FloatSlider(value=5.0, description='sigma2', max=10.0, min=0.1), Output()), _dom_classes=('widget-interact',))"
      ]
     },
     "metadata": {},
     "output_type": "display_data"
    }
   ],
   "source": [
    "interact(print_log_llh, mu=(0.0, 10.0, 0.1), sigma2=(0.1, 10.0, 0.1));"
   ]
  },
  {
   "cell_type": "markdown",
   "metadata": {},
   "source": [
    "### 2.2 Minimization using `scipy.optimize`"
   ]
  },
  {
   "cell_type": "markdown",
   "metadata": {},
   "source": [
    "The `scipy.optimize` package contains a number of numerical optimization algorithms. In particular, the `minimize` function provides a very general interface to a number of algorithms:"
   ]
  },
  {
   "cell_type": "code",
   "execution_count": 54,
   "metadata": {},
   "outputs": [],
   "source": [
    "from scipy.optimize import minimize"
   ]
  },
  {
   "cell_type": "markdown",
   "metadata": {},
   "source": [
    "The `minimize` function takes two arguments:\n",
    "\n",
    "* A Python function that depends on an array of parameters $\\theta$.\n",
    "* An initial guess for that array of parameters.\n",
    "\n",
    "The trick in using this for MLE is that our negative log-likelihood depends on both the observed data and parameters. But remember, the whole point is that we already know the data:"
   ]
  },
  {
   "cell_type": "code",
   "execution_count": 55,
   "metadata": {},
   "outputs": [
    {
     "data": {
      "text/plain": [
       "array([ 2.10050083,  6.13935205,  6.11116119,  5.3025816 ,  6.57701175,\n",
       "        5.44763696,  5.27047997,  4.6872846 ,  4.54511358,  5.58383849,\n",
       "        3.64630632,  2.38136421,  5.34016793,  6.04728042,  5.1514908 ,\n",
       "        2.93341037,  3.97965277,  4.21088698,  5.41223823,  5.83673974,\n",
       "        4.85654338,  6.32098933,  6.9905069 ,  4.34404638,  2.63091757,\n",
       "        2.2825338 ,  5.54673972,  6.94600969,  3.81654039,  3.89299975,\n",
       "        4.34182862,  5.25830147,  7.78897148,  2.9319309 ,  3.64921081,\n",
       "        4.58349329,  3.57927846,  7.25189337,  5.36887912,  8.00706088,\n",
       "        6.73255604,  3.09902992,  4.38633909,  5.96048381,  4.63694125,\n",
       "        4.40225664,  6.56692794,  2.993174  ,  5.97883263,  2.92466066])"
      ]
     },
     "execution_count": 55,
     "metadata": {},
     "output_type": "execute_result"
    }
   ],
   "source": [
    "data"
   ]
  },
  {
   "cell_type": "markdown",
   "metadata": {},
   "source": [
    "To get a function of just $\\theta$, you can create a lambda that is a closure over the data and pass that as the first argument to `minimize`:"
   ]
  },
  {
   "cell_type": "code",
   "execution_count": 56,
   "metadata": {},
   "outputs": [
    {
     "data": {
      "text/plain": [
       "      fun: 90.074551093132\n",
       " hess_inv: array([[ 0.043554  , -0.00033798],\n",
       "       [-0.00033798,  0.18460015]])\n",
       "      jac: array([  0.00000000e+00,  -9.53674316e-07])\n",
       "  message: 'Optimization terminated successfully.'\n",
       "     nfev: 36\n",
       "      nit: 7\n",
       "     njev: 9\n",
       "   status: 0\n",
       "  success: True\n",
       "        x: array([ 4.89548751,  2.14921986])"
      ]
     },
     "execution_count": 56,
     "metadata": {},
     "output_type": "execute_result"
    }
   ],
   "source": [
    "fit = minimize(lambda theta: neg_log_llh(theta, data), [4.0,2.0])\n",
    "fit"
   ]
  },
  {
   "cell_type": "markdown",
   "metadata": {},
   "source": [
    "The estimated parameters are stored in the `x` attribute of the result:"
   ]
  },
  {
   "cell_type": "code",
   "execution_count": 57,
   "metadata": {},
   "outputs": [
    {
     "name": "stdout",
     "output_type": "stream",
     "text": [
      "mu:        4.89548750828\n",
      "sigma**2:  2.14921986083\n"
     ]
    }
   ],
   "source": [
    "print('mu:       ', fit.x[0])\n",
    "print('sigma**2: ', fit.x[1])"
   ]
  },
  {
   "cell_type": "markdown",
   "metadata": {},
   "source": [
    "Here are the true values we are estimating:"
   ]
  },
  {
   "cell_type": "code",
   "execution_count": 58,
   "metadata": {},
   "outputs": [
    {
     "name": "stdout",
     "output_type": "stream",
     "text": [
      "mu:        5.0\n",
      "sigma**2:  2.0\n"
     ]
    }
   ],
   "source": [
    "print('mu:       ', mu)\n",
    "print('sigma**2: ', sigma2)"
   ]
  },
  {
   "cell_type": "markdown",
   "metadata": {},
   "source": [
    "For the case of the normal distribution, the sample mean and variance are also estimators for these parameters:"
   ]
  },
  {
   "cell_type": "code",
   "execution_count": 59,
   "metadata": {},
   "outputs": [
    {
     "name": "stdout",
     "output_type": "stream",
     "text": [
      "sample mu:       4.89548752164\n",
      "sample sigma**2: 2.14921998216\n"
     ]
    }
   ],
   "source": [
    "print('sample mu:      ', data.mean())\n",
    "print('sample sigma**2:', data.var())"
   ]
  },
  {
   "cell_type": "markdown",
   "metadata": {},
   "source": [
    "Notice how the MLE values are almost identical. This is because the MLE approach an be used to analytically derive these estimators, by taking derivatives of the negative log-likelihood."
   ]
  },
  {
   "cell_type": "markdown",
   "metadata": {},
   "source": [
    "### 2.3 Minimization using `scipy.stats`"
   ]
  },
  {
   "cell_type": "markdown",
   "metadata": {},
   "source": [
    "The `scipy.stats` modules has a set of nice objects that represent different probability distributions. These objects go beyond the capabilities in `numpy.random` and provide:\n",
    "\n",
    "* Methods to evaluate the PMF or PDF.\n",
    "* Methods to evaluate the log-likelihood.\n",
    "* Methods to fit the MLE on data.\n",
    "* Many others.\n",
    "\n",
    "For more information, see the `scipy.stats` [documentation](https://docs.scipy.org/doc/scipy-0.18.1/reference/stats.html).\n",
    "\n",
    "For now, lets look at the normal distribution:"
   ]
  },
  {
   "cell_type": "code",
   "execution_count": 60,
   "metadata": {},
   "outputs": [],
   "source": [
    "from scipy.stats import norm"
   ]
  },
  {
   "cell_type": "markdown",
   "metadata": {},
   "source": [
    "If the parameters are known, you can create an object that represents the distributions with those parameters fixed:"
   ]
  },
  {
   "cell_type": "code",
   "execution_count": 61,
   "metadata": {},
   "outputs": [],
   "source": [
    "N = norm(mu, np.sqrt(sigma2))"
   ]
  },
  {
   "cell_type": "markdown",
   "metadata": {},
   "source": [
    "Then you can use various methods to query the distribution (with those parameters fixed). Here is the PDF $P(x)$ evaluated at $x=1.0$:"
   ]
  },
  {
   "cell_type": "code",
   "execution_count": 62,
   "metadata": {},
   "outputs": [
    {
     "data": {
      "text/plain": [
       "0.0051667463385230176"
      ]
     },
     "execution_count": 62,
     "metadata": {},
     "output_type": "execute_result"
    }
   ],
   "source": [
    "N.pdf(1.0)"
   ]
  },
  {
   "cell_type": "markdown",
   "metadata": {},
   "source": [
    "And the natural log of the pdf (which is useful in MLE):"
   ]
  },
  {
   "cell_type": "code",
   "execution_count": 63,
   "metadata": {},
   "outputs": [
    {
     "data": {
      "text/plain": [
       "-5.2655121234846449"
      ]
     },
     "execution_count": 63,
     "metadata": {},
     "output_type": "execute_result"
    }
   ],
   "source": [
    "N.logpdf(1.0)"
   ]
  },
  {
   "cell_type": "markdown",
   "metadata": {},
   "source": [
    "Like `numpy.random.rand` we can also generate samples:"
   ]
  },
  {
   "cell_type": "code",
   "execution_count": 64,
   "metadata": {},
   "outputs": [
    {
     "data": {
      "text/plain": [
       "array([ 7.51057758,  6.36476531,  4.33983582,  2.59425274,  5.42743955,\n",
       "        8.1665196 ,  6.67834238,  7.16961793,  5.87674665,  7.07729757])"
      ]
     },
     "execution_count": 64,
     "metadata": {},
     "output_type": "execute_result"
    }
   ],
   "source": [
    "N.rvs(10)"
   ]
  },
  {
   "cell_type": "markdown",
   "metadata": {},
   "source": [
    "Again, all of these usage case assume we have fixed the parameters at the beginning by instantiating the norm object using `norm(parameters...)`. We can also perform MLE given known data using the `fit` method:"
   ]
  },
  {
   "cell_type": "code",
   "execution_count": 65,
   "metadata": {},
   "outputs": [],
   "source": [
    "mu_hat, sigma_hat = norm.fit(data)"
   ]
  },
  {
   "cell_type": "markdown",
   "metadata": {},
   "source": [
    "It is important to note that the MLE here returns an estimate for $\\sigma$ rather than $\\sigma^2$. But the values are the same as above:"
   ]
  },
  {
   "cell_type": "code",
   "execution_count": 66,
   "metadata": {},
   "outputs": [
    {
     "name": "stdout",
     "output_type": "stream",
     "text": [
      "sample mu:       4.89548752164\n",
      "sample sigma**2: 2.14921998216\n"
     ]
    }
   ],
   "source": [
    "print('sample mu:      ', mu_hat)\n",
    "print('sample sigma**2:', sigma_hat**2)"
   ]
  },
  {
   "cell_type": "markdown",
   "metadata": {},
   "source": [
    "### 2.4 Minimization using TensorFlow"
   ]
  },
  {
   "cell_type": "markdown",
   "metadata": {},
   "source": [
    "Finally, let's perform MLE using TensorFlow. While this is overkill, it shows the general pattern that we are going to use in all modelling situations:\n",
    "\n",
    "1. Pick a model $M$ with parameters $\\theta$.\n",
    "2. Pick a Performance Metric $P$ that we wish to minimize/maximize.\n",
    "3. Use an optimization algorithm to find the estimated parameter vector $\\hat{\\theta}$ that minimizes/maximizes $P$.\n",
    "4. Use the estimated parameter vector $\\hat{\\theta}$ with the model."
   ]
  },
  {
   "cell_type": "code",
   "execution_count": 42,
   "metadata": {},
   "outputs": [],
   "source": [
    "import tensorflow as tf\n",
    "from tensorflow.contrib import distributions as dist"
   ]
  },
  {
   "cell_type": "markdown",
   "metadata": {},
   "source": [
    "Our first step is to create a model that represents the normal distribution and MLE on its parameters:"
   ]
  },
  {
   "cell_type": "code",
   "execution_count": 46,
   "metadata": {
    "collapsed": true
   },
   "outputs": [],
   "source": [
    "dist.Normal??"
   ]
  },
  {
   "cell_type": "code",
   "execution_count": 52,
   "metadata": {},
   "outputs": [],
   "source": [
    "mu = tf.Variable(1.0, dtype=tf.float64)     # Parameter\n",
    "sigma = tf.Variable(1.0, dtype=tf.float64) # Parameter\n",
    "x = tf.placeholder(dtype=tf.float64)       # Use a placeholder to represent observed data\n",
    "model = dist.Normal(mu, sigma)       # Normal distribution\n",
    "nll = tf.reduce_sum(-1.0*model.log_pdf(x))  # Performance metric = negative log-likelihood"
   ]
  },
  {
   "cell_type": "markdown",
   "metadata": {},
   "source": [
    "Now do the standard initialization of the TensorFlow `Session`:"
   ]
  },
  {
   "cell_type": "code",
   "execution_count": 57,
   "metadata": {
    "collapsed": true
   },
   "outputs": [],
   "source": [
    "sess = tf.Session()\n",
    "init = tf.global_variables_initializer()\n",
    "sess.run(init)"
   ]
  },
  {
   "cell_type": "markdown",
   "metadata": {},
   "source": [
    "Now we need to train our model by minimizing the negative log-likelihood. To do this, we need to instantiate an optimizer from `tf.train`. In this case we will use a `GradientDescentOptimizer` with a learning rate of `0.01`. The [gradient descent](https://en.wikipedia.org/wiki/Gradient_descent) optimization algorithm works well with large datasets and large numbers of parameters. In our case, it is overkill, but it is nonetheless useful to see how it works for later usage:"
   ]
  },
  {
   "cell_type": "code",
   "execution_count": 58,
   "metadata": {
    "collapsed": true
   },
   "outputs": [],
   "source": [
    "optimizer = tf.train.GradientDescentOptimizer(0.01)"
   ]
  },
  {
   "cell_type": "code",
   "execution_count": 59,
   "metadata": {
    "collapsed": true
   },
   "outputs": [],
   "source": [
    "train = optimizer.minimize(nll)"
   ]
  },
  {
   "cell_type": "markdown",
   "metadata": {},
   "source": [
    "Lastly, we will train our model. Conceptually, the gradient descent algorithm computes the gradient of the performance metric with respect to the parameters. It then takes a step in the most downhill direction. The optimization API for the `GradientDescentOptimizer` reflects this step-wise approach so we have to take 100 steps explicitly:"
   ]
  },
  {
   "cell_type": "code",
   "execution_count": 60,
   "metadata": {},
   "outputs": [],
   "source": [
    "for i in range(1000):\n",
    "    sess.run(train, {x: data})"
   ]
  },
  {
   "cell_type": "markdown",
   "metadata": {},
   "source": [
    "After we have trained the model, we can run the computational graph for $\\hat{\\mu}$ and $\\hat{\\sigma}$ itself:"
   ]
  },
  {
   "cell_type": "code",
   "execution_count": 61,
   "metadata": {},
   "outputs": [
    {
     "data": {
      "text/plain": [
       "[4.8010652773425537, 1.3323128800523563]"
      ]
     },
     "execution_count": 61,
     "metadata": {},
     "output_type": "execute_result"
    }
   ],
   "source": [
    "sess.run([mu, sigma])"
   ]
  },
  {
   "cell_type": "markdown",
   "metadata": {},
   "source": [
    "We can also look at the value of our performance metric:"
   ]
  },
  {
   "cell_type": "code",
   "execution_count": 64,
   "metadata": {},
   "outputs": [
    {
     "data": {
      "text/plain": [
       "85.292748633678798"
      ]
     },
     "execution_count": 64,
     "metadata": {},
     "output_type": "execute_result"
    }
   ],
   "source": [
    "sess.run(nll, {x: data})"
   ]
  },
  {
   "cell_type": "markdown",
   "metadata": {},
   "source": [
    "The power here is that we have a single, uniform API (`Session.run`) for querying about the model. Amazingly, this same API can be used to train a wide range of models, including state of the art deep neural networks."
   ]
  }
 ],
 "metadata": {
  "kernelspec": {
   "display_name": "Python 3",
   "language": "python",
   "name": "python3"
  },
  "language_info": {
   "codemirror_mode": {
    "name": "ipython",
    "version": 3
   },
   "file_extension": ".py",
   "mimetype": "text/x-python",
   "name": "python",
   "nbconvert_exporter": "python",
   "pygments_lexer": "ipython3",
   "version": "3.6.3"
  },
  "widgets": {
   "state": {
    "dcab71cd34ac42719a02872c0fd055fc": {
     "views": [
      {
       "cell_index": 18
      }
     ]
    }
   },
   "version": "1.2.0"
  }
 },
 "nbformat": 4,
 "nbformat_minor": 2
}
