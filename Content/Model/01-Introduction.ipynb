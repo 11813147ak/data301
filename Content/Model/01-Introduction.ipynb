{
 "cells": [
  {
   "cell_type": "markdown",
   "metadata": {},
   "source": [
    "# Introduction"
   ]
  },
  {
   "cell_type": "markdown",
   "metadata": {},
   "source": [
    "**Learning Objectives:** Learn about the theory and practice of statistical modelling."
   ]
  },
  {
   "cell_type": "markdown",
   "metadata": {},
   "source": [
    "## Ouline"
   ]
  },
  {
   "cell_type": "markdown",
   "metadata": {},
   "source": [
    "* [Probability](02-Probability.ipynb)\n",
    "* [Common Distributions](03-CommonDistributions.ipynb)\n",
    "* [Information Theory](04-InformationTheory.ipynb)\n",
    "* [Modelling Overview](05-ModellingOverview.ipynb)\n",
    "* [Estimators, Bias, Variance](06-EstimatorsBiasVariance.ipynb)\n",
    "* [Bootstrap Resampling](07-BootstrapResampling.ipynb)\n",
    "* [Maximum Likelihood Estomation](08-MLE.ipynb)\n",
    "* [Linear Regression](09-LinearRegression.ipynb)\n",
    "* [Specific Models](10-SpecificModels.ipynb)"
   ]
  }
 ],
 "metadata": {
  "kernelspec": {
   "display_name": "Python 3",
   "language": "python",
   "name": "python3"
  },
  "language_info": {
   "codemirror_mode": {
    "name": "ipython",
    "version": 3
   },
   "file_extension": ".py",
   "mimetype": "text/x-python",
   "name": "python",
   "nbconvert_exporter": "python",
   "pygments_lexer": "ipython3",
   "version": "3.5.2"
  }
 },
 "nbformat": 4,
 "nbformat_minor": 2
}
