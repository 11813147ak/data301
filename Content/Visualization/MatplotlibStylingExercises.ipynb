{
 "metadata": {
  "kernelspec": {
   "codemirror_mode": {
    "name": "ipython",
    "version": 2
   },
   "display_name": "IPython (Python 2)",
   "language": "python",
   "name": "python2"
  },
  "name": "",
  "signature": "sha256:38bb03e0effbbff84911b582d15b7933a74e00fb9cad0c153f596b357bbd020e"
 },
 "nbformat": 3,
 "nbformat_minor": 0,
 "worksheets": [
  {
   "cells": [
    {
     "cell_type": "markdown",
     "metadata": {},
     "source": [
      "# Matplotlib Styling Exercises"
     ]
    },
    {
     "cell_type": "code",
     "collapsed": false,
     "input": [
      "%matplotlib inline\n",
      "import matplotlib.pyplot as plt\n",
      "import numpy as np\n",
      "import pandas as pd"
     ],
     "language": "python",
     "metadata": {},
     "outputs": [],
     "prompt_number": 1
    },
    {
     "cell_type": "code",
     "collapsed": false,
     "input": [
      "import seaborn as sns"
     ],
     "language": "python",
     "metadata": {},
     "outputs": []
    },
    {
     "cell_type": "code",
     "collapsed": false,
     "input": [
      "from IPython.html.widgets import interact, fixed"
     ],
     "language": "python",
     "metadata": {},
     "outputs": [],
     "prompt_number": 30
    },
    {
     "cell_type": "markdown",
     "metadata": {},
     "source": [
      "## Interact with Seaborn styles"
     ]
    },
    {
     "cell_type": "markdown",
     "metadata": {},
     "source": [
      "For this exercise you will explore the different Seaborn styles and contexts by using `interact`.\n",
      "\n",
      "First, write a function named `scatter_plot` that makes a scatter plot using Matpotlib's `pyplot.scatter` function but takes the Seaborn `style` and `context` as arguments:"
     ]
    },
    {
     "cell_type": "code",
     "collapsed": false,
     "input": [
      "def scatter_plot(x, y, style='white', context='dark', despine=False):\n",
      "    \"\"\"Make a scatter plot of the x and y data with a particular style.\n",
      "    \n",
      "    Parameters\n",
      "    ----------\n",
      "    x : array\n",
      "        The array of x values.\n",
      "    y : array\n",
      "        The array of y values.\n",
      "    style : string\n",
      "        One of the Seaborn style values.\n",
      "    context : string\n",
      "        One of the Seaborn context values.\n",
      "    despine : bool\n",
      "        Should the figure be despined.\"\"\"\n",
      "    raise NotImplementedError()"
     ],
     "language": "python",
     "metadata": {},
     "outputs": [],
     "prompt_number": 80
    },
    {
     "cell_type": "code",
     "collapsed": false,
     "input": [
      "data = np.random.multivariate_normal([0, 0], [[1, -.5], [-.5, 1]], size=300)\n",
      "x = data.T[0]\n",
      "y = data.T[1]"
     ],
     "language": "python",
     "metadata": {},
     "outputs": [],
     "prompt_number": 82
    },
    {
     "cell_type": "markdown",
     "metadata": {},
     "source": [
      "Call the `scatter_plot` a single time by hand using the above data for `x` and `y`:"
     ]
    },
    {
     "cell_type": "code",
     "collapsed": false,
     "input": [],
     "language": "python",
     "metadata": {},
     "outputs": []
    },
    {
     "cell_type": "markdown",
     "metadata": {},
     "source": [
      "Create a UI for explorign the `scatter_plot` styles using `interact`:\n",
      "\n",
      "* `x` and `y`: fixed at the above data arrays.\n",
      "* `style`: a list of valid Seaborn styles.\n",
      "* `context`: a list of valid Seaborn contexts.\n",
      "* `despine`: `True`"
     ]
    },
    {
     "cell_type": "code",
     "collapsed": false,
     "input": [],
     "language": "python",
     "metadata": {},
     "outputs": []
    },
    {
     "cell_type": "markdown",
     "metadata": {},
     "source": [
      "## Exploring Seaborn color palettes"
     ]
    },
    {
     "cell_type": "markdown",
     "metadata": {},
     "source": [
      "Seaborn also has a fantastic set of built-in color palettes and functions for creating and visualizating palettes.\n",
      "\n",
      "Here is the documentation for Seaborn [color palettes](http://web.stanford.edu/~mwaskom/software/seaborn/tutorial/color_palettes.html#palette-tutorial)\n",
      "\n",
      "* Learn how to use `sns.color_palette` to create palettes.\n",
      "* Learn how to use `sns.palplot` to visualize palettes.\n",
      "* Learn how to use `sns.cubehelix_palette` to create cubehelix color palettes.\n",
      "* Learn how to get `sns.cubehelix_palette` to create a Matplotlib `cmap` and then pass it to a Matplotlib plotting function."
     ]
    },
    {
     "cell_type": "code",
     "collapsed": false,
     "input": [],
     "language": "python",
     "metadata": {},
     "outputs": []
    }
   ],
   "metadata": {}
  }
 ]
}