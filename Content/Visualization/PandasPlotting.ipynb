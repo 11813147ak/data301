{
 "metadata": {
  "kernelspec": {
   "codemirror_mode": {
    "name": "ipython",
    "version": 2
   },
   "display_name": "IPython (Python 2)",
   "language": "python",
   "name": "python2"
  },
  "name": "",
  "signature": "sha256:92d081f4eaf6e2ebda63fe1ea42a31b12c3f88ea43262216689e9784bdf72777"
 },
 "nbformat": 3,
 "nbformat_minor": 0,
 "worksheets": [
  {
   "cells": [
    {
     "cell_type": "markdown",
     "metadata": {},
     "source": [
      "# Pandas Plotting"
     ]
    },
    {
     "cell_type": "markdown",
     "metadata": {},
     "source": [
      "**Learning Objective:** Perform exporatory visualization of a data set using Pandas's built-in plotting capabilities.\n",
      "\n",
      "While Matplotlib can always be used to create visualizations, there are other libraries that build on top of Matplotlib to make different types of visualizations easier:\n",
      "\n",
      "* Pandas\n",
      "* Seaborn\n",
      "* ggplot\n",
      "\n",
      "All of these libraries use Matplotlib underneath the hood. This notebook describes the plotting capabilties of Pandas."
     ]
    },
    {
     "cell_type": "code",
     "collapsed": false,
     "input": [
      "%matplotlib inline\n",
      "import matplotlib.pyplot as plt\n",
      "import numpy as np\n",
      "import pandas as pd"
     ],
     "language": "python",
     "metadata": {},
     "outputs": [],
     "prompt_number": 1
    },
    {
     "cell_type": "code",
     "collapsed": false,
     "input": [
      "import seaborn as sns"
     ],
     "language": "python",
     "metadata": {},
     "outputs": [],
     "prompt_number": 2
    },
    {
     "cell_type": "markdown",
     "metadata": {},
     "source": [
      "## Titanic data set"
     ]
    },
    {
     "cell_type": "markdown",
     "metadata": {},
     "source": [
      "For this notebook, we will use the now famous Titanic data set. This data set contains information for each of the passengers on the ship Titanic and whether or not they survived."
     ]
    },
    {
     "cell_type": "code",
     "collapsed": false,
     "input": [
      "t = sns.load_dataset('titanic')"
     ],
     "language": "python",
     "metadata": {},
     "outputs": [],
     "prompt_number": 21
    },
    {
     "cell_type": "code",
     "collapsed": false,
     "input": [
      "t.head()"
     ],
     "language": "python",
     "metadata": {},
     "outputs": [
      {
       "html": [
        "<div style=\"max-height:1000px;max-width:1500px;overflow:auto;\">\n",
        "<table border=\"1\" class=\"dataframe\">\n",
        "  <thead>\n",
        "    <tr style=\"text-align: right;\">\n",
        "      <th></th>\n",
        "      <th>survived</th>\n",
        "      <th>pclass</th>\n",
        "      <th>sex</th>\n",
        "      <th>age</th>\n",
        "      <th>sibsp</th>\n",
        "      <th>parch</th>\n",
        "      <th>fare</th>\n",
        "      <th>embarked</th>\n",
        "      <th>class</th>\n",
        "      <th>who</th>\n",
        "      <th>adult_male</th>\n",
        "      <th>deck</th>\n",
        "      <th>embark_town</th>\n",
        "      <th>alive</th>\n",
        "      <th>alone</th>\n",
        "    </tr>\n",
        "  </thead>\n",
        "  <tbody>\n",
        "    <tr>\n",
        "      <th>0</th>\n",
        "      <td> 0</td>\n",
        "      <td> 3</td>\n",
        "      <td>   male</td>\n",
        "      <td> 22</td>\n",
        "      <td> 1</td>\n",
        "      <td> 0</td>\n",
        "      <td>  7.2500</td>\n",
        "      <td> S</td>\n",
        "      <td> Third</td>\n",
        "      <td>   man</td>\n",
        "      <td>  True</td>\n",
        "      <td> NaN</td>\n",
        "      <td> Southampton</td>\n",
        "      <td>  no</td>\n",
        "      <td> False</td>\n",
        "    </tr>\n",
        "    <tr>\n",
        "      <th>1</th>\n",
        "      <td> 1</td>\n",
        "      <td> 1</td>\n",
        "      <td> female</td>\n",
        "      <td> 38</td>\n",
        "      <td> 1</td>\n",
        "      <td> 0</td>\n",
        "      <td> 71.2833</td>\n",
        "      <td> C</td>\n",
        "      <td> First</td>\n",
        "      <td> woman</td>\n",
        "      <td> False</td>\n",
        "      <td>   C</td>\n",
        "      <td>   Cherbourg</td>\n",
        "      <td> yes</td>\n",
        "      <td> False</td>\n",
        "    </tr>\n",
        "    <tr>\n",
        "      <th>2</th>\n",
        "      <td> 1</td>\n",
        "      <td> 3</td>\n",
        "      <td> female</td>\n",
        "      <td> 26</td>\n",
        "      <td> 0</td>\n",
        "      <td> 0</td>\n",
        "      <td>  7.9250</td>\n",
        "      <td> S</td>\n",
        "      <td> Third</td>\n",
        "      <td> woman</td>\n",
        "      <td> False</td>\n",
        "      <td> NaN</td>\n",
        "      <td> Southampton</td>\n",
        "      <td> yes</td>\n",
        "      <td>  True</td>\n",
        "    </tr>\n",
        "    <tr>\n",
        "      <th>3</th>\n",
        "      <td> 1</td>\n",
        "      <td> 1</td>\n",
        "      <td> female</td>\n",
        "      <td> 35</td>\n",
        "      <td> 1</td>\n",
        "      <td> 0</td>\n",
        "      <td> 53.1000</td>\n",
        "      <td> S</td>\n",
        "      <td> First</td>\n",
        "      <td> woman</td>\n",
        "      <td> False</td>\n",
        "      <td>   C</td>\n",
        "      <td> Southampton</td>\n",
        "      <td> yes</td>\n",
        "      <td> False</td>\n",
        "    </tr>\n",
        "    <tr>\n",
        "      <th>4</th>\n",
        "      <td> 0</td>\n",
        "      <td> 3</td>\n",
        "      <td>   male</td>\n",
        "      <td> 35</td>\n",
        "      <td> 0</td>\n",
        "      <td> 0</td>\n",
        "      <td>  8.0500</td>\n",
        "      <td> S</td>\n",
        "      <td> Third</td>\n",
        "      <td>   man</td>\n",
        "      <td>  True</td>\n",
        "      <td> NaN</td>\n",
        "      <td> Southampton</td>\n",
        "      <td>  no</td>\n",
        "      <td>  True</td>\n",
        "    </tr>\n",
        "  </tbody>\n",
        "</table>\n",
        "</div>"
       ],
       "metadata": {},
       "output_type": "pyout",
       "prompt_number": 23,
       "text": [
        "   survived  pclass     sex  age  sibsp  parch     fare embarked  class  \\\n",
        "0         0       3    male   22      1      0   7.2500        S  Third   \n",
        "1         1       1  female   38      1      0  71.2833        C  First   \n",
        "2         1       3  female   26      0      0   7.9250        S  Third   \n",
        "3         1       1  female   35      1      0  53.1000        S  First   \n",
        "4         0       3    male   35      0      0   8.0500        S  Third   \n",
        "\n",
        "     who adult_male deck  embark_town alive  alone  \n",
        "0    man       True  NaN  Southampton    no  False  \n",
        "1  woman      False    C    Cherbourg   yes  False  \n",
        "2  woman      False  NaN  Southampton   yes   True  \n",
        "3  woman      False    C  Southampton   yes  False  \n",
        "4    man       True  NaN  Southampton    no   True  "
       ]
      }
     ],
     "prompt_number": 23
    },
    {
     "cell_type": "code",
     "collapsed": false,
     "input": [
      "t.info()"
     ],
     "language": "python",
     "metadata": {},
     "outputs": [
      {
       "output_type": "stream",
       "stream": "stdout",
       "text": [
        "<class 'pandas.core.frame.DataFrame'>\n",
        "Int64Index: 891 entries, 0 to 890\n",
        "Data columns (total 15 columns):\n",
        "survived       891 non-null int64\n",
        "pclass         891 non-null int64\n",
        "sex            891 non-null object\n",
        "age            714 non-null float64\n",
        "sibsp          891 non-null int64\n",
        "parch          891 non-null int64\n",
        "fare           891 non-null float64\n",
        "embarked       889 non-null object\n",
        "class          891 non-null object\n",
        "who            891 non-null object\n",
        "adult_male     891 non-null bool\n",
        "deck           203 non-null object\n",
        "embark_town    889 non-null object\n",
        "alive          891 non-null object\n",
        "alone          891 non-null bool\n",
        "dtypes: bool(2), float64(2), int64(4), object(7)\n",
        "memory usage: 99.2 KB\n"
       ]
      }
     ],
     "prompt_number": 75
    },
    {
     "cell_type": "markdown",
     "metadata": {},
     "source": [
      "## Distributions of numerical data: histogram"
     ]
    },
    {
     "cell_type": "markdown",
     "metadata": {},
     "source": [
      "A **histogram** is the simplest way of visualizing the statistical distribution of a single variable of numerical (interval/ratio) data.\n",
      "\n",
      "In Pandas, most plotting is done through the `plot` method. A histogram can be created by passing `kind='hist'`:"
     ]
    },
    {
     "cell_type": "code",
     "collapsed": false,
     "input": [
      "t.fare.plot(kind='hist')"
     ],
     "language": "python",
     "metadata": {},
     "outputs": [
      {
       "metadata": {},
       "output_type": "pyout",
       "prompt_number": 32,
       "text": [
        "<matplotlib.axes._subplots.AxesSubplot at 0x110b710d0>"
       ]
      },
      {
       "metadata": {},
       "output_type": "display_data",
       "png": "[encoded data removed]",
       "text": [
        "<matplotlib.figure.Figure at 0x11139a610>"
       ]
      }
     ],
     "prompt_number": 32
    },
    {
     "cell_type": "markdown",
     "metadata": {},
     "source": [
      "The number of histogram bins can be set using the `bins` option:"
     ]
    },
    {
     "cell_type": "code",
     "collapsed": false,
     "input": [
      "t.fare.plot(kind='hist', bins=20)"
     ],
     "language": "python",
     "metadata": {},
     "outputs": [
      {
       "metadata": {},
       "output_type": "pyout",
       "prompt_number": 34,
       "text": [
        "<matplotlib.axes._subplots.AxesSubplot at 0x115aaead0>"
       ]
      },
      {
       "metadata": {},
       "output_type": "display_data",
       "png": "[encoded data removed]",
       "text": [
        "<matplotlib.figure.Figure at 0x1119401d0>"
       ]
      }
     ],
     "prompt_number": 34
    },
    {
     "cell_type": "markdown",
     "metadata": {},
     "source": [
      "There are a number of other options. Here a horizontal layout is used the distribution is normalized:"
     ]
    },
    {
     "cell_type": "code",
     "collapsed": false,
     "input": [
      "t.age.plot(kind='hist', bins=20, orientation='horizontal', normed=True)"
     ],
     "language": "python",
     "metadata": {},
     "outputs": [
      {
       "metadata": {},
       "output_type": "pyout",
       "prompt_number": 39,
       "text": [
        "<matplotlib.axes._subplots.AxesSubplot at 0x11684b150>"
       ]
      },
      {
       "metadata": {},
       "output_type": "display_data",
       "png": "[encoded data removed]",
       "text": [
        "<matplotlib.figure.Figure at 0x116845ad0>"
       ]
      }
     ],
     "prompt_number": 39
    },
    {
     "cell_type": "markdown",
     "metadata": {},
     "source": [
      "To look for correlations between a numerical variable and a categorical (ordinal/nominal) variable it is useful to **facet** the plots by the categorical variable. For histograms, this can be done by:\n",
      "\n",
      "1. Using the `hist` method rather than `plot(kind='hist')` (confusing!).\n",
      "2. Passing the `by` argument to specify the categorical column to facet by."
     ]
    },
    {
     "cell_type": "code",
     "collapsed": false,
     "input": [
      "t.hist(column='fare', by='sex')"
     ],
     "language": "python",
     "metadata": {},
     "outputs": [
      {
       "metadata": {},
       "output_type": "pyout",
       "prompt_number": 48,
       "text": [
        "array([<matplotlib.axes._subplots.AxesSubplot object at 0x11bca8310>,\n",
        "       <matplotlib.axes._subplots.AxesSubplot object at 0x11c9fd3d0>], dtype=object)"
       ]
      },
      {
       "metadata": {},
       "output_type": "display_data",
       "png": "[encoded data removed]",
       "text": [
        "<matplotlib.figure.Figure at 0x11bacdd90>"
       ]
      }
     ],
     "prompt_number": 48
    },
    {
     "cell_type": "markdown",
     "metadata": {},
     "source": [
      "Later we will see a much nicer and general way of faceting plots using Seaborn."
     ]
    },
    {
     "cell_type": "markdown",
     "metadata": {},
     "source": [
      "## Distributions of categorical data: bar plot"
     ]
    },
    {
     "cell_type": "markdown",
     "metadata": {},
     "source": [
      "A **bar plot** is similar to a histogram, but for a categorical variable."
     ]
    },
    {
     "cell_type": "code",
     "collapsed": false,
     "input": [
      "t.head()"
     ],
     "language": "python",
     "metadata": {},
     "outputs": [
      {
       "html": [
        "<div style=\"max-height:1000px;max-width:1500px;overflow:auto;\">\n",
        "<table border=\"1\" class=\"dataframe\">\n",
        "  <thead>\n",
        "    <tr style=\"text-align: right;\">\n",
        "      <th></th>\n",
        "      <th>survived</th>\n",
        "      <th>pclass</th>\n",
        "      <th>sex</th>\n",
        "      <th>age</th>\n",
        "      <th>sibsp</th>\n",
        "      <th>parch</th>\n",
        "      <th>fare</th>\n",
        "      <th>embarked</th>\n",
        "      <th>class</th>\n",
        "      <th>who</th>\n",
        "      <th>adult_male</th>\n",
        "      <th>deck</th>\n",
        "      <th>embark_town</th>\n",
        "      <th>alive</th>\n",
        "      <th>alone</th>\n",
        "    </tr>\n",
        "  </thead>\n",
        "  <tbody>\n",
        "    <tr>\n",
        "      <th>0</th>\n",
        "      <td> 0</td>\n",
        "      <td> 3</td>\n",
        "      <td>   male</td>\n",
        "      <td> 22</td>\n",
        "      <td> 1</td>\n",
        "      <td> 0</td>\n",
        "      <td>  7.2500</td>\n",
        "      <td> S</td>\n",
        "      <td> Third</td>\n",
        "      <td>   man</td>\n",
        "      <td>  True</td>\n",
        "      <td> NaN</td>\n",
        "      <td> Southampton</td>\n",
        "      <td>  no</td>\n",
        "      <td> False</td>\n",
        "    </tr>\n",
        "    <tr>\n",
        "      <th>1</th>\n",
        "      <td> 1</td>\n",
        "      <td> 1</td>\n",
        "      <td> female</td>\n",
        "      <td> 38</td>\n",
        "      <td> 1</td>\n",
        "      <td> 0</td>\n",
        "      <td> 71.2833</td>\n",
        "      <td> C</td>\n",
        "      <td> First</td>\n",
        "      <td> woman</td>\n",
        "      <td> False</td>\n",
        "      <td>   C</td>\n",
        "      <td>   Cherbourg</td>\n",
        "      <td> yes</td>\n",
        "      <td> False</td>\n",
        "    </tr>\n",
        "    <tr>\n",
        "      <th>2</th>\n",
        "      <td> 1</td>\n",
        "      <td> 3</td>\n",
        "      <td> female</td>\n",
        "      <td> 26</td>\n",
        "      <td> 0</td>\n",
        "      <td> 0</td>\n",
        "      <td>  7.9250</td>\n",
        "      <td> S</td>\n",
        "      <td> Third</td>\n",
        "      <td> woman</td>\n",
        "      <td> False</td>\n",
        "      <td> NaN</td>\n",
        "      <td> Southampton</td>\n",
        "      <td> yes</td>\n",
        "      <td>  True</td>\n",
        "    </tr>\n",
        "    <tr>\n",
        "      <th>3</th>\n",
        "      <td> 1</td>\n",
        "      <td> 1</td>\n",
        "      <td> female</td>\n",
        "      <td> 35</td>\n",
        "      <td> 1</td>\n",
        "      <td> 0</td>\n",
        "      <td> 53.1000</td>\n",
        "      <td> S</td>\n",
        "      <td> First</td>\n",
        "      <td> woman</td>\n",
        "      <td> False</td>\n",
        "      <td>   C</td>\n",
        "      <td> Southampton</td>\n",
        "      <td> yes</td>\n",
        "      <td> False</td>\n",
        "    </tr>\n",
        "    <tr>\n",
        "      <th>4</th>\n",
        "      <td> 0</td>\n",
        "      <td> 3</td>\n",
        "      <td>   male</td>\n",
        "      <td> 35</td>\n",
        "      <td> 0</td>\n",
        "      <td> 0</td>\n",
        "      <td>  8.0500</td>\n",
        "      <td> S</td>\n",
        "      <td> Third</td>\n",
        "      <td>   man</td>\n",
        "      <td>  True</td>\n",
        "      <td> NaN</td>\n",
        "      <td> Southampton</td>\n",
        "      <td>  no</td>\n",
        "      <td>  True</td>\n",
        "    </tr>\n",
        "  </tbody>\n",
        "</table>\n",
        "</div>"
       ],
       "metadata": {},
       "output_type": "pyout",
       "prompt_number": 40,
       "text": [
        "   survived  pclass     sex  age  sibsp  parch     fare embarked  class  \\\n",
        "0         0       3    male   22      1      0   7.2500        S  Third   \n",
        "1         1       1  female   38      1      0  71.2833        C  First   \n",
        "2         1       3  female   26      0      0   7.9250        S  Third   \n",
        "3         1       1  female   35      1      0  53.1000        S  First   \n",
        "4         0       3    male   35      0      0   8.0500        S  Third   \n",
        "\n",
        "     who adult_male deck  embark_town alive  alone  \n",
        "0    man       True  NaN  Southampton    no  False  \n",
        "1  woman      False    C    Cherbourg   yes  False  \n",
        "2  woman      False  NaN  Southampton   yes   True  \n",
        "3  woman      False    C  Southampton   yes  False  \n",
        "4    man       True  NaN  Southampton    no   True  "
       ]
      }
     ],
     "prompt_number": 40
    },
    {
     "cell_type": "markdown",
     "metadata": {},
     "source": [
      "We might guess that we can simple pass `kind='bar'`, but that doesn't quite work:"
     ]
    },
    {
     "cell_type": "code",
     "collapsed": false,
     "input": [
      "t.survived.plot(kind='bar')"
     ],
     "language": "python",
     "metadata": {},
     "outputs": [
      {
       "metadata": {},
       "output_type": "pyout",
       "prompt_number": 41,
       "text": [
        "<matplotlib.axes._subplots.AxesSubplot at 0x116b09f90>"
       ]
      },
      {
       "metadata": {},
       "output_type": "display_data",
       "png": "[encoded data removed]",
       "text": [
        "<matplotlib.figure.Figure at 0x116855390>"
       ]
      }
     ],
     "prompt_number": 41
    },
    {
     "cell_type": "markdown",
     "metadata": {},
     "source": [
      "The secret is to visualize the underlying frequencies or counts using `value_counts`:"
     ]
    },
    {
     "cell_type": "code",
     "collapsed": false,
     "input": [
      "t.survived.value_counts().plot(kind='bar')"
     ],
     "language": "python",
     "metadata": {},
     "outputs": [
      {
       "metadata": {},
       "output_type": "pyout",
       "prompt_number": 42,
       "text": [
        "<matplotlib.axes._subplots.AxesSubplot at 0x116d0aa50>"
       ]
      },
      {
       "metadata": {},
       "output_type": "display_data",
       "png": "[encoded data removed]",
       "text": [
        "<matplotlib.figure.Figure at 0x116539b90>"
       ]
      }
     ],
     "prompt_number": 42
    },
    {
     "cell_type": "markdown",
     "metadata": {},
     "source": [
      "We can use a horizontal layout by passing `kind='barh'`:"
     ]
    },
    {
     "cell_type": "code",
     "collapsed": false,
     "input": [
      "t.sex.value_counts().plot(kind='barh')"
     ],
     "language": "python",
     "metadata": {},
     "outputs": [
      {
       "metadata": {},
       "output_type": "pyout",
       "prompt_number": 43,
       "text": [
        "<matplotlib.axes._subplots.AxesSubplot at 0x1173c6350>"
       ]
      },
      {
       "metadata": {},
       "output_type": "display_data",
       "png": "[encoded data removed]",
       "text": [
        "<matplotlib.figure.Figure at 0x119aaae50>"
       ]
      }
     ],
     "prompt_number": 43
    },
    {
     "cell_type": "markdown",
     "metadata": {},
     "source": [
      "## Distributions of numerical data: box plot"
     ]
    },
    {
     "cell_type": "markdown",
     "metadata": {},
     "source": [
      "A **box plot** is a another way of visualizing a numerical (interval/ratio) variable. Box plots were invested by John W. Tukey. The inner box gives the median and first and third quartiles. The outer \"whiskers\" usually give the outer limits of the data, outside which, points are considered outliers (usually 1.5 the IQR).\n",
      "\n",
      "Here is a simple box plot of the fare. Notice how we can use the `ylim` function to set the y axis limits and the title using `title`. All of the plotting in Pandas is done using Matplotlib so all of the regular Matplotlib API can still be used to customize the plots. "
     ]
    },
    {
     "cell_type": "code",
     "collapsed": false,
     "input": [
      "t.fare.plot(kind='box')\n",
      "plt.ylim(0,100)\n",
      "plt.title('Fare Distribution')"
     ],
     "language": "python",
     "metadata": {},
     "outputs": [
      {
       "metadata": {},
       "output_type": "pyout",
       "prompt_number": 76,
       "text": [
        "<matplotlib.text.Text at 0x11db0f7d0>"
       ]
      },
      {
       "metadata": {},
       "output_type": "display_data",
       "png": "[encoded data removed]",
       "text": [
        "<matplotlib.figure.Figure at 0x120fb1f90>"
       ]
      }
     ],
     "prompt_number": 76
    },
    {
     "cell_type": "markdown",
     "metadata": {},
     "source": [
      "There is a separate `boxplot` function that can be used for facetting by a categorical variable:"
     ]
    },
    {
     "cell_type": "code",
     "collapsed": false,
     "input": [
      "t.boxplot(column='fare', by='survived')\n",
      "plt.ylim(0,150)"
     ],
     "language": "python",
     "metadata": {},
     "outputs": [
      {
       "metadata": {},
       "output_type": "pyout",
       "prompt_number": 57,
       "text": [
        "(0, 150)"
       ]
      },
      {
       "metadata": {},
       "output_type": "display_data",
       "png": "[encoded data removed]",
       "text": [
        "<matplotlib.figure.Figure at 0x11db24950>"
       ]
      }
     ],
     "prompt_number": 57
    },
    {
     "cell_type": "markdown",
     "metadata": {},
     "source": [
      "## Correlations between numerical data: scatter plot"
     ]
    },
    {
     "cell_type": "markdown",
     "metadata": {},
     "source": [
      "A scatter plot is used to visualize the relationship between two different numerical variables. This is often used to uncover correlations between variables. However, it is important to note that \"correlation is not causation.\" For some hillarious examples, see [Spurious Correlations](http://tylervigen.com/).\n",
      "\n",
      "A scatter plot can be created in Pandas using the `plot` method and `kind='scatter'`. The names of the columns to use are passed in as the `x` and `y` arguments:"
     ]
    },
    {
     "cell_type": "code",
     "collapsed": false,
     "input": [
      "t.plot(kind='scatter', x='fare', y='age')"
     ],
     "language": "python",
     "metadata": {},
     "outputs": [
      {
       "metadata": {},
       "output_type": "pyout",
       "prompt_number": 58,
       "text": [
        "<matplotlib.axes._subplots.AxesSubplot at 0x11dcb61d0>"
       ]
      },
      {
       "metadata": {},
       "output_type": "display_data",
       "png": "[encoded data removed]",
       "text": [
        "<matplotlib.figure.Figure at 0x11d882bd0>"
       ]
      }
     ],
     "prompt_number": 58
    },
    {
     "cell_type": "markdown",
     "metadata": {},
     "source": [
      "Facetting scatter plots in Pandas is a bit of a pain. Here is one way of doing this by capturing and passing the Matplotlib axes object around. This examples also shows how you can set the color and sizes of the points and create a legend with labels."
     ]
    },
    {
     "cell_type": "code",
     "collapsed": false,
     "input": [
      "ax = t[t.survived==1].plot(kind='scatter', x='fare', y='age', c='blue', s=50, alpha=0.5, label='Survived')\n",
      "t[t.survived==0].plot(kind='scatter', x='fare', y='age', c='red', s=50, alpha=0.5, label='Not Survived', ax=ax)"
     ],
     "language": "python",
     "metadata": {},
     "outputs": [
      {
       "metadata": {},
       "output_type": "pyout",
       "prompt_number": 73,
       "text": [
        "<matplotlib.axes._subplots.AxesSubplot at 0x11fe70610>"
       ]
      },
      {
       "metadata": {},
       "output_type": "display_data",
       "png": "[encoded data removed]",
       "text": [
        "<matplotlib.figure.Figure at 0x11fe366d0>"
       ]
      }
     ],
     "prompt_number": 73
    },
    {
     "cell_type": "markdown",
     "metadata": {},
     "source": [
      "## Resources"
     ]
    },
    {
     "cell_type": "markdown",
     "metadata": {},
     "source": [
      "* [Description](https://www.kaggle.com/c/titanic-gettingStarted) of the Titanic data set on Kaggle: .\n",
      "* A beautiful [notebook](http://nbviewer.ipython.org/gist/mwaskom/8224591) that explores the Titanic data set using Seaborn, Michael Waskom.\n",
      "* [Box Plots](http://en.wikipedia.org/wiki/Box_plot), Wikipedia, 2014."
     ]
    }
   ],
   "metadata": {}
  }
 ]
}