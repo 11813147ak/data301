{
 "metadata": {
  "kernelspec": {
   "codemirror_mode": {
    "name": "ipython",
    "version": 2
   },
   "display_name": "IPython (Python 2)",
   "language": "python",
   "name": "python2"
  },
  "name": "",
  "signature": "sha256:442fde1be704f8543bcd1b46bf47ab03d2cb65c5bfc210a01e4f895cdbeb12ee"
 },
 "nbformat": 3,
 "nbformat_minor": 0,
 "worksheets": [
  {
   "cells": [
    {
     "cell_type": "markdown",
     "metadata": {},
     "source": [
      "# Visualization 1: Matplotlib Basics Exercises"
     ]
    },
    {
     "cell_type": "code",
     "collapsed": false,
     "input": [
      "%matplotlib inline\n",
      "import matplotlib.pyplot as plt\n",
      "import numpy as np"
     ],
     "language": "python",
     "metadata": {},
     "outputs": []
    },
    {
     "cell_type": "markdown",
     "metadata": {},
     "source": [
      "## Scatter plots"
     ]
    },
    {
     "cell_type": "markdown",
     "metadata": {},
     "source": [
      "Learn how to use Matplotlib's `plt.scatter` function to make a 2d scatter plot.\n",
      "\n",
      "* Generate random data using `np.random.randn`.\n",
      "* Style the markers (color, size, shape, alpha) appropriately.\n",
      "* Include an x and y label and title."
     ]
    },
    {
     "cell_type": "code",
     "collapsed": false,
     "input": [],
     "language": "python",
     "metadata": {},
     "outputs": []
    },
    {
     "cell_type": "markdown",
     "metadata": {},
     "source": [
      "## Histogram"
     ]
    },
    {
     "cell_type": "markdown",
     "metadata": {},
     "source": [
      "Learn how to use Matplotlib's `plt.hist` function to make a 1d histogram.\n",
      "\n",
      "* Generate randpom data using `np.random.randn`.\n",
      "* Figure out how to set the number of histogram bins and other style options.\n",
      "* Include an x and y label and title."
     ]
    },
    {
     "cell_type": "code",
     "collapsed": false,
     "input": [],
     "language": "python",
     "metadata": {},
     "outputs": []
    }
   ],
   "metadata": {}
  }
 ]
}