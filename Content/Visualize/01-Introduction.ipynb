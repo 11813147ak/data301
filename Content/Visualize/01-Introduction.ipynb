{
 "cells": [
  {
   "cell_type": "markdown",
   "metadata": {},
   "source": [
    "# Introduction to Data Visualization"
   ]
  },
  {
   "cell_type": "markdown",
   "metadata": {},
   "source": [
    "To do just about anything with data, you need to be able to look at it. In many, if not most cases, that will mean creating a visualization. This section of the course will cover the basics of data visualization. Our approach here tries to follow the Zen of Python:"
   ]
  },
  {
   "cell_type": "code",
   "execution_count": 1,
   "metadata": {
    "collapsed": false
   },
   "outputs": [
    {
     "name": "stdout",
     "output_type": "stream",
     "text": [
      "The Zen of Python, by Tim Peters\n",
      "\n",
      "Beautiful is better than ugly.\n",
      "Explicit is better than implicit.\n",
      "Simple is better than complex.\n",
      "Complex is better than complicated.\n",
      "Flat is better than nested.\n",
      "Sparse is better than dense.\n",
      "Readability counts.\n",
      "Special cases aren't special enough to break the rules.\n",
      "Although practicality beats purity.\n",
      "Errors should never pass silently.\n",
      "Unless explicitly silenced.\n",
      "In the face of ambiguity, refuse the temptation to guess.\n",
      "There should be one-- and preferably only one --obvious way to do it.\n",
      "Although that way may not be obvious at first unless you're Dutch.\n",
      "Now is better than never.\n",
      "Although never is often better than *right* now.\n",
      "If the implementation is hard to explain, it's a bad idea.\n",
      "If the implementation is easy to explain, it may be a good idea.\n",
      "Namespaces are one honking great idea -- let's do more of those!\n"
     ]
    }
   ],
   "source": [
    "import this"
   ]
  },
  {
   "cell_type": "markdown",
   "metadata": {},
   "source": [
    "One one side there is a rich body of research literature that approaches data visualization from a formal and principled perspective. On the other side are numerous Python libraries which all offer slightly different ways of expressing visual concepts in code. These libraries are many (Matplotlib, ggplot, Bokeh, Altair, BQPlot, Seaborn, etc.) and they all cover some subset of data visualization quite well. Herein, I will briefly cover foundational results from data visualization research, and then turn quickly to their application by covering two very different visualization libraries: Altair and Matplotlib. These two Python libraries complement each other well, with Altair focusing narrowly on formal statistical visualization and Matplotlib covering everything else."
   ]
  },
  {
   "cell_type": "markdown",
   "metadata": {},
   "source": [
    "## Resources\n",
    "\n",
    "The following resources are the main ones for this section:\n",
    "\n",
    "- [Jeff Heer's CSE512](http://courses.cs.washington.edu/courses/cse512/14wi/index.html)\n",
    "- [Altair](https://altair-viz.github.io/)\n",
    "- [Matplotlib](http://matplotlib.org/)\n",
    "- [The work of Edward Tufte](https://www.edwardtufte.com/tufte/)"
   ]
  }
 ],
 "metadata": {
  "kernelspec": {
   "display_name": "Python 3",
   "language": "python",
   "name": "python3"
  },
  "language_info": {
   "codemirror_mode": {
    "name": "ipython",
    "version": 3
   },
   "file_extension": ".py",
   "mimetype": "text/x-python",
   "name": "python",
   "nbconvert_exporter": "python",
   "pygments_lexer": "ipython3",
   "version": "3.5.2"
  }
 },
 "nbformat": 4,
 "nbformat_minor": 2
}
