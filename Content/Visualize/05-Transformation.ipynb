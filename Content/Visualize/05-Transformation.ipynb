{
 "cells": [
  {
   "cell_type": "markdown",
   "metadata": {},
   "source": [
    "# Data Transformation"
   ]
  },
  {
   "cell_type": "markdown",
   "metadata": {},
   "source": [
    "**Learning Objective**: Understand how to apply transformations to data such as aggregation, binning, filtering and the creation of new variables."
   ]
  },
  {
   "cell_type": "markdown",
   "metadata": {},
   "source": [
    "## Imports"
   ]
  },
  {
   "cell_type": "code",
   "execution_count": 1,
   "metadata": {
    "collapsed": true
   },
   "outputs": [],
   "source": [
    "import altair as alt\n",
    "alt.data_transformers.enable('json')\n",
    "from vega_datasets import data"
   ]
  },
  {
   "cell_type": "code",
   "execution_count": 2,
   "metadata": {
    "collapsed": false
   },
   "outputs": [
    {
     "data": {
      "text/html": [
       "<div>\n",
       "<style>\n",
       "    .dataframe thead tr:only-child th {\n",
       "        text-align: right;\n",
       "    }\n",
       "\n",
       "    .dataframe thead th {\n",
       "        text-align: left;\n",
       "    }\n",
       "\n",
       "    .dataframe tbody tr th {\n",
       "        vertical-align: top;\n",
       "    }\n",
       "</style>\n",
       "<table border=\"1\" class=\"dataframe\">\n",
       "  <thead>\n",
       "    <tr style=\"text-align: right;\">\n",
       "      <th></th>\n",
       "      <th>Acceleration</th>\n",
       "      <th>Cylinders</th>\n",
       "      <th>Displacement</th>\n",
       "      <th>Horsepower</th>\n",
       "      <th>Miles_per_Gallon</th>\n",
       "      <th>Name</th>\n",
       "      <th>Origin</th>\n",
       "      <th>Weight_in_lbs</th>\n",
       "      <th>Year</th>\n",
       "    </tr>\n",
       "  </thead>\n",
       "  <tbody>\n",
       "    <tr>\n",
       "      <th>0</th>\n",
       "      <td>12.0</td>\n",
       "      <td>8</td>\n",
       "      <td>307.0</td>\n",
       "      <td>130.0</td>\n",
       "      <td>18.0</td>\n",
       "      <td>chevrolet chevelle malibu</td>\n",
       "      <td>USA</td>\n",
       "      <td>3504</td>\n",
       "      <td>1970-01-01</td>\n",
       "    </tr>\n",
       "    <tr>\n",
       "      <th>1</th>\n",
       "      <td>11.5</td>\n",
       "      <td>8</td>\n",
       "      <td>350.0</td>\n",
       "      <td>165.0</td>\n",
       "      <td>15.0</td>\n",
       "      <td>buick skylark 320</td>\n",
       "      <td>USA</td>\n",
       "      <td>3693</td>\n",
       "      <td>1970-01-01</td>\n",
       "    </tr>\n",
       "    <tr>\n",
       "      <th>2</th>\n",
       "      <td>11.0</td>\n",
       "      <td>8</td>\n",
       "      <td>318.0</td>\n",
       "      <td>150.0</td>\n",
       "      <td>18.0</td>\n",
       "      <td>plymouth satellite</td>\n",
       "      <td>USA</td>\n",
       "      <td>3436</td>\n",
       "      <td>1970-01-01</td>\n",
       "    </tr>\n",
       "    <tr>\n",
       "      <th>3</th>\n",
       "      <td>12.0</td>\n",
       "      <td>8</td>\n",
       "      <td>304.0</td>\n",
       "      <td>150.0</td>\n",
       "      <td>16.0</td>\n",
       "      <td>amc rebel sst</td>\n",
       "      <td>USA</td>\n",
       "      <td>3433</td>\n",
       "      <td>1970-01-01</td>\n",
       "    </tr>\n",
       "    <tr>\n",
       "      <th>4</th>\n",
       "      <td>10.5</td>\n",
       "      <td>8</td>\n",
       "      <td>302.0</td>\n",
       "      <td>140.0</td>\n",
       "      <td>17.0</td>\n",
       "      <td>ford torino</td>\n",
       "      <td>USA</td>\n",
       "      <td>3449</td>\n",
       "      <td>1970-01-01</td>\n",
       "    </tr>\n",
       "  </tbody>\n",
       "</table>\n",
       "</div>"
      ],
      "text/plain": [
       "   Acceleration  Cylinders  Displacement  Horsepower  Miles_per_Gallon  \\\n",
       "0          12.0          8         307.0       130.0              18.0   \n",
       "1          11.5          8         350.0       165.0              15.0   \n",
       "2          11.0          8         318.0       150.0              18.0   \n",
       "3          12.0          8         304.0       150.0              16.0   \n",
       "4          10.5          8         302.0       140.0              17.0   \n",
       "\n",
       "                        Name Origin  Weight_in_lbs       Year  \n",
       "0  chevrolet chevelle malibu    USA           3504 1970-01-01  \n",
       "1          buick skylark 320    USA           3693 1970-01-01  \n",
       "2         plymouth satellite    USA           3436 1970-01-01  \n",
       "3              amc rebel sst    USA           3433 1970-01-01  \n",
       "4                ford torino    USA           3449 1970-01-01  "
      ]
     },
     "execution_count": 2,
     "metadata": {},
     "output_type": "execute_result"
    }
   ],
   "source": [
    "cars = data.cars()\n",
    "cars.head()"
   ]
  },
  {
   "cell_type": "markdown",
   "metadata": {},
   "source": [
    "## Aggregation\n",
    "\n",
    "Aggregation is the process of reducing multiple data values to a single data value by computing some sort of summary statistic (mean, min, max, count, etc). In Altair, aggregations of one variable respect the grouping implied by the visual encodings of the other variables. Here are the supported aggregations in Altair:\n",
    "\n",
    "<table>\n",
    "  <thead>\n",
    "    <tr>\n",
    "      <th style=\"text-align: left\">Operation</th>\n",
    "      <th style=\"text-align: left\">Description</th>\n",
    "    </tr>\n",
    "  </thead>\n",
    "  <tbody>\n",
    "    <tr>\n",
    "      <td style=\"text-align: left\">count</td>\n",
    "      <td style=\"text-align: left\">Count the total number of elements in the group. <span class=\"note-line\"><strong>Note:</strong> <em>‘count’</em> operates directly on the input objects and return the same value regardless of the provided field. Similar to SQL’s <code class=\"highlighter-rouge\">count(*)</code>, count can be specified with a <code class=\"highlighter-rouge\">field</code> <code class=\"highlighter-rouge\">\"*\"</code>.</span></td>\n",
    "    </tr>\n",
    "    <tr>\n",
    "      <td style=\"text-align: left\">valid</td>\n",
    "      <td style=\"text-align: left\">Count values that are not <code class=\"highlighter-rouge\">null</code>, <code class=\"highlighter-rouge\">undefined</code> or <code class=\"highlighter-rouge\">NaN</code>.</td>\n",
    "    </tr>\n",
    "    <tr>\n",
    "      <td style=\"text-align: left\">missing</td>\n",
    "      <td style=\"text-align: left\">Count the number of <code class=\"highlighter-rouge\">null</code> or <code class=\"highlighter-rouge\">undefined</code> values.</td>\n",
    "    </tr>\n",
    "    <tr>\n",
    "      <td style=\"text-align: left\">distinct</td>\n",
    "      <td style=\"text-align: left\">Count the number distinct values.</td>\n",
    "    </tr>\n",
    "    <tr>\n",
    "      <td style=\"text-align: left\">sum</td>\n",
    "      <td style=\"text-align: left\">Compute the sum of values in a group.</td>\n",
    "    </tr>\n",
    "    <tr>\n",
    "      <td style=\"text-align: left\">mean</td>\n",
    "      <td style=\"text-align: left\">Compute the mean (average) of values in a group.</td>\n",
    "    </tr>\n",
    "    <tr>\n",
    "      <td style=\"text-align: left\">average</td>\n",
    "      <td style=\"text-align: left\">Compute the mean (average) of values in a group. Identical to <em>mean</em>.</td>\n",
    "    </tr>\n",
    "    <tr>\n",
    "      <td style=\"text-align: left\">variance</td>\n",
    "      <td style=\"text-align: left\">Compute the sample variance of values in a group.</td>\n",
    "    </tr>\n",
    "    <tr>\n",
    "      <td style=\"text-align: left\">variancep</td>\n",
    "      <td style=\"text-align: left\">Compute the population variance of values in a group.</td>\n",
    "    </tr>\n",
    "    <tr>\n",
    "      <td style=\"text-align: left\">stdev</td>\n",
    "      <td style=\"text-align: left\">Compute the sample standard deviation of values in a group.</td>\n",
    "    </tr>\n",
    "    <tr>\n",
    "      <td style=\"text-align: left\">stdevp</td>\n",
    "      <td style=\"text-align: left\">Compute the population standard deviation of values in a group.</td>\n",
    "    </tr>\n",
    "    <tr>\n",
    "      <td style=\"text-align: left\">median</td>\n",
    "      <td style=\"text-align: left\">Compute the median of values in a group.</td>\n",
    "    </tr>\n",
    "    <tr>\n",
    "      <td style=\"text-align: left\">q1</td>\n",
    "      <td style=\"text-align: left\">Compute the lower quartile boundary of values in a group.</td>\n",
    "    </tr>\n",
    "    <tr>\n",
    "      <td style=\"text-align: left\">q3</td>\n",
    "      <td style=\"text-align: left\">Compute the upper quartile boundary of values in a group.</td>\n",
    "    </tr>\n",
    "    <tr>\n",
    "      <td style=\"text-align: left\">modeskew</td>\n",
    "      <td style=\"text-align: left\">Compute the mode skewness of values in a group.</td>\n",
    "    </tr>\n",
    "    <tr>\n",
    "      <td style=\"text-align: left\">min</td>\n",
    "      <td style=\"text-align: left\">Compute the minimum value in a group.</td>\n",
    "    </tr>\n",
    "    <tr>\n",
    "      <td style=\"text-align: left\">max</td>\n",
    "      <td style=\"text-align: left\">Compute the maximum value in a group.</td>\n",
    "    </tr>\n",
    "  </tbody>\n",
    "</table>\n",
    "\n",
    "There are two ways to apply a aggregation in Altair:\n",
    "\n",
    "1. Wrap the column name in an aggregation function: `average(Horsepower)`.\n",
    "2. Pass the `aggregate` keyword argument to the channel object: `X(\"Horsepower\", aggregate=\"average\")`\n",
    "\n",
    "Here is an example that computes the average horsepower for each year and origin:"
   ]
  },
  {
   "cell_type": "code",
   "execution_count": 3,
   "metadata": {
    "collapsed": false
   },
   "outputs": [
    {
     "data": {
      "application/vnd.vegalite.v2+json": {
       "$schema": "https://vega.github.io/schema/vega-lite/v2.3.0.json",
       "config": {
        "view": {
         "height": 300,
         "width": 400
        }
       },
       "data": {
        "format": {
         "type": "json"
        },
        "url": "altair-data-17dc9301-cb5e-47c8-949e-75f82bb767bb.json"
       },
       "encoding": {
        "color": {
         "field": "Origin",
         "type": "nominal"
        },
        "x": {
         "field": "Year",
         "type": "temporal"
        },
        "y": {
         "aggregate": "average",
         "field": "Horsepower",
         "type": "quantitative"
        }
       },
       "mark": "point"
      },
      "image/png": "[encoded data removed]",
      "text/plain": [
       "<VegaLite 2 object>\n",
       "\n",
       "If you see this message, it means the renderer has not been properly enabled\n",
       "for the frontend that you are using. For more information, see\n",
       "https://altair-viz.github.io/user_guide/troubleshooting.html\n"
      ]
     },
     "execution_count": 3,
     "metadata": {},
     "output_type": "execute_result"
    }
   ],
   "source": [
    "alt.Chart(cars).mark_point().encode(\n",
    "    x='Year:T',\n",
    "    y='average(Horsepower):Q',\n",
    "    color='Origin:N'\n",
    ")"
   ]
  },
  {
   "cell_type": "markdown",
   "metadata": {},
   "source": [
    "Here is an example that show how to use `count` to count the number of cars with a given MPG and display the result using bars:"
   ]
  },
  {
   "cell_type": "code",
   "execution_count": 4,
   "metadata": {
    "collapsed": false
   },
   "outputs": [
    {
     "data": {
      "application/vnd.vegalite.v2+json": {
       "$schema": "https://vega.github.io/schema/vega-lite/v2.3.0.json",
       "config": {
        "view": {
         "height": 300,
         "width": 400
        }
       },
       "data": {
        "format": {
         "type": "json"
        },
        "url": "altair-data-60ff636b-63f1-41fc-b842-a61dfd3c9422.json"
       },
       "encoding": {
        "x": {
         "field": "Miles_per_Gallon",
         "type": "quantitative"
        },
        "y": {
         "aggregate": "count",
         "field": "*",
         "type": "quantitative"
        }
       },
       "mark": "bar"
      },
      "image/png": "[encoded data removed]",
      "text/plain": [
       "<VegaLite 2 object>\n",
       "\n",
       "If you see this message, it means the renderer has not been properly enabled\n",
       "for the frontend that you are using. For more information, see\n",
       "https://altair-viz.github.io/user_guide/troubleshooting.html\n"
      ]
     },
     "execution_count": 4,
     "metadata": {},
     "output_type": "execute_result"
    }
   ],
   "source": [
    "alt.Chart(cars).mark_bar().encode(\n",
    "    x='Miles_per_Gallon:Q',\n",
    "    y='count(*):Q'\n",
    ")"
   ]
  },
  {
   "cell_type": "markdown",
   "metadata": {},
   "source": [
    "Note here that we get a bar for each unique value of the MPG. This is similar to a histogram, but not quite. In the next section, we will add *binning* to create an actual histogram."
   ]
  },
  {
   "cell_type": "markdown",
   "metadata": {},
   "source": [
    "## Binning\n",
    "\n",
    "When working with quantitative variables, you will often want to reduce their many continuous values to equally-spaced discrete values. Here is the distribution of the actual values of the MPG variable:"
   ]
  },
  {
   "cell_type": "code",
   "execution_count": 5,
   "metadata": {
    "collapsed": false
   },
   "outputs": [
    {
     "data": {
      "application/vnd.vegalite.v2+json": {
       "$schema": "https://vega.github.io/schema/vega-lite/v2.3.0.json",
       "config": {
        "view": {
         "height": 300,
         "width": 400
        }
       },
       "data": {
        "format": {
         "type": "json"
        },
        "url": "altair-data-477efcc8-5a2c-4f55-bd5d-c97cf9724e60.json"
       },
       "encoding": {
        "x": {
         "field": "Miles_per_Gallon",
         "type": "quantitative"
        }
       },
       "mark": "tick"
      },
      "image/png": "[encoded data removed]",
      "text/plain": [
       "<VegaLite 2 object>\n",
       "\n",
       "If you see this message, it means the renderer has not been properly enabled\n",
       "for the frontend that you are using. For more information, see\n",
       "https://altair-viz.github.io/user_guide/troubleshooting.html\n"
      ]
     },
     "execution_count": 5,
     "metadata": {},
     "output_type": "execute_result"
    }
   ],
   "source": [
    "alt.Chart(cars).mark_tick().encode(\n",
    "    x='Miles_per_Gallon:Q'\n",
    ")"
   ]
  },
  {
   "cell_type": "markdown",
   "metadata": {},
   "source": [
    "Binning the data replaces each individual value by the nearest equally spaced discrete values. The idea is to let these discrete values represent groups of samples in the raw data. Here is what the binned MPG variable looks like. In this case, the color of the ticks indicates how many samples went into each binned value:"
   ]
  },
  {
   "cell_type": "code",
   "execution_count": 6,
   "metadata": {
    "collapsed": false
   },
   "outputs": [
    {
     "data": {
      "application/vnd.vegalite.v2+json": {
       "$schema": "https://vega.github.io/schema/vega-lite/v2.3.0.json",
       "config": {
        "view": {
         "height": 300,
         "width": 400
        }
       },
       "data": {
        "format": {
         "type": "json"
        },
        "url": "altair-data-91edac1e-5102-4701-9c19-552caabb4162.json"
       },
       "encoding": {
        "color": {
         "aggregate": "count",
         "field": "*",
         "type": "quantitative"
        },
        "x": {
         "bin": true,
         "field": "Miles_per_Gallon",
         "type": "quantitative"
        }
       },
       "mark": "tick"
      },
      "image/png": "[encoded data removed]",
      "text/plain": [
       "<VegaLite 2 object>\n",
       "\n",
       "If you see this message, it means the renderer has not been properly enabled\n",
       "for the frontend that you are using. For more information, see\n",
       "https://altair-viz.github.io/user_guide/troubleshooting.html\n"
      ]
     },
     "execution_count": 6,
     "metadata": {},
     "output_type": "execute_result"
    }
   ],
   "source": [
    "alt.Chart(cars).mark_tick().encode(\n",
    "    alt.X('Miles_per_Gallon:Q', bin=True),\n",
    "    alt.Color('count(*):Q')\n",
    ")"
   ]
  },
  {
   "cell_type": "markdown",
   "metadata": {},
   "source": [
    "While this visualization allows us to see how binning works, color is not a particularly effective visual encoding of a quantitative variable. A more effective encoding is to use a bar mark. This is known as a *histogram*: binning a quantitative variable and encoding the counts using bars:"
   ]
  },
  {
   "cell_type": "code",
   "execution_count": 7,
   "metadata": {
    "collapsed": false
   },
   "outputs": [
    {
     "data": {
      "application/vnd.vegalite.v2+json": {
       "$schema": "https://vega.github.io/schema/vega-lite/v2.3.0.json",
       "config": {
        "view": {
         "height": 300,
         "width": 400
        }
       },
       "data": {
        "format": {
         "type": "json"
        },
        "url": "altair-data-a5f7e206-7fd7-4a1c-b484-e97f3e7e2d42.json"
       },
       "encoding": {
        "x": {
         "bin": true,
         "field": "Miles_per_Gallon",
         "type": "quantitative"
        },
        "y": {
         "aggregate": "count",
         "field": "*",
         "type": "quantitative"
        }
       },
       "mark": "bar"
      },
      "image/png": "[encoded data removed]",
      "text/plain": [
       "<VegaLite 2 object>\n",
       "\n",
       "If you see this message, it means the renderer has not been properly enabled\n",
       "for the frontend that you are using. For more information, see\n",
       "https://altair-viz.github.io/user_guide/troubleshooting.html\n"
      ]
     },
     "execution_count": 7,
     "metadata": {},
     "output_type": "execute_result"
    }
   ],
   "source": [
    "alt.Chart(cars).mark_bar().encode(\n",
    "    alt.X('Miles_per_Gallon:Q', bin=True),\n",
    "    y='count(*):Q'\n",
    ")"
   ]
  },
  {
   "cell_type": "markdown",
   "metadata": {},
   "source": [
    "The number of bins can be configured by passing a `Bin` object with arguments:"
   ]
  },
  {
   "cell_type": "code",
   "execution_count": 8,
   "metadata": {
    "collapsed": false
   },
   "outputs": [
    {
     "data": {
      "application/vnd.vegalite.v2+json": {
       "$schema": "https://vega.github.io/schema/vega-lite/v2.3.0.json",
       "config": {
        "view": {
         "height": 300,
         "width": 400
        }
       },
       "data": {
        "format": {
         "type": "json"
        },
        "url": "altair-data-abe49aaf-ea46-4d47-8c8f-80c2c328ac48.json"
       },
       "encoding": {
        "x": {
         "bin": {
          "maxbins": 30
         },
         "field": "Miles_per_Gallon",
         "type": "quantitative"
        },
        "y": {
         "aggregate": "count",
         "field": "*",
         "type": "quantitative"
        }
       },
       "mark": "bar"
      },
      "image/png": "[encoded data removed]",
      "text/plain": [
       "<VegaLite 2 object>\n",
       "\n",
       "If you see this message, it means the renderer has not been properly enabled\n",
       "for the frontend that you are using. For more information, see\n",
       "https://altair-viz.github.io/user_guide/troubleshooting.html\n"
      ]
     },
     "execution_count": 8,
     "metadata": {},
     "output_type": "execute_result"
    }
   ],
   "source": [
    "alt.Chart(cars).mark_bar().encode(\n",
    "    alt.X('Miles_per_Gallon:Q', bin=alt.Bin(maxbins=30)),\n",
    "    y='count(*):Q'\n",
    ")"
   ]
  }
 ],
 "metadata": {
  "kernelspec": {
   "display_name": "Python 3",
   "language": "python",
   "name": "python3"
  },
  "language_info": {
   "codemirror_mode": {
    "name": "ipython",
    "version": 3
   },
   "file_extension": ".py",
   "mimetype": "text/x-python",
   "name": "python",
   "nbconvert_exporter": "python",
   "pygments_lexer": "ipython3",
   "version": "3.6.3"
  }
 },
 "nbformat": 4,
 "nbformat_minor": 2
}
