{
 "cells": [
  {
   "cell_type": "markdown",
   "metadata": {},
   "source": [
    "# Introduction"
   ]
  },
  {
   "cell_type": "markdown",
   "metadata": {},
   "source": [
    "## Course materials\n",
    "\n",
    "- https://github.com/jakevdp/WhirlwindTourOfPython\n",
    "- https://github.com/jakevdp/PythonDataScienceHandbook\n",
    "- http://r4ds.had.co.nz/index.html\n",
    "- https://github.com/amueller/introduction_to_ml_with_python"
   ]
  },
  {
   "cell_type": "markdown",
   "metadata": {},
   "source": [
    "## Introduction to Data Science\n",
    "\n",
    "- [What is Data Science?](./02-WhatIsDataScience.ipynb)\n",
    "- [Theory of Data](./03-TheoryofData.ipynb)\n",
    "- [Programming](../Programming/01-Introduction.ipynb)\n",
    "- [Workflow](../Workflow/01-Introduction.ipynb)"
   ]
  },
  {
   "cell_type": "markdown",
   "metadata": {},
   "source": [
    "## Explore\n",
    "\n",
    "Explore = Visualize + Transform\n",
    "\n",
    "- [Data Visualisation](../Visualize/01-Introduction.ipynb)\n",
    "- [Basic Data Transformation](../Transform/02-BasicDataTransformation.ipynb)\n",
    "- [Exploratory Data Analysis (EDA)](../Explore/02-EDA.ipynb)"
   ]
  },
  {
   "cell_type": "markdown",
   "metadata": {},
   "source": [
    "## Wrangle\n",
    "\n",
    "Wrangle = Import + Tidy + Transform\n",
    "\n",
    "- [Import](../Import/01-Introduction.ipynb)\n",
    "- [Tidy](../Tidy/01-Introduction.ipynb)\n",
    "- [Transform](../Transform/01-Introduction.ipynb)"
   ]
  },
  {
   "cell_type": "markdown",
   "metadata": {},
   "source": [
    "## Model\n",
    "\n",
    "- [Model](../Model/01-Introduction.ipynb)"
   ]
  },
  {
   "cell_type": "markdown",
   "metadata": {},
   "source": [
    "## Communicate\n",
    "\n",
    "- GitHub and Notebooks\n",
    "- nbconvert\n",
    "- nbviewer"
   ]
  }
 ],
 "metadata": {
  "kernelspec": {
   "display_name": "Python 3",
   "language": "python",
   "name": "python3"
  },
  "language_info": {
   "codemirror_mode": {
    "name": "ipython",
    "version": 3
   },
   "file_extension": ".py",
   "mimetype": "text/x-python",
   "name": "python",
   "nbconvert_exporter": "python",
   "pygments_lexer": "ipython3",
   "version": "3.6.3"
  }
 },
 "nbformat": 4,
 "nbformat_minor": 2
}
