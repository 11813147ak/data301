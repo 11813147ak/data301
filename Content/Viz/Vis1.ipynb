{
 "metadata": {
  "kernelspec": {
   "codemirror_mode": {
    "name": "ipython",
    "version": 2
   },
   "display_name": "IPython (Python 2)",
   "language": "python",
   "name": "python2"
  },
  "name": "",
  "signature": "sha256:1e403791553141b3ae371fc0c60903e6c59b3926917c7358387de0ae040e136d"
 },
 "nbformat": 3,
 "nbformat_minor": 0,
 "worksheets": [
  {
   "cells": [
    {
     "cell_type": "markdown",
     "metadata": {},
     "source": [
      "# Visualization 1: Matplotlib Basics"
     ]
    },
    {
     "cell_type": "markdown",
     "metadata": {},
     "source": [
      "## Imports"
     ]
    },
    {
     "cell_type": "markdown",
     "metadata": {},
     "source": [
      "The following imports should be used in all of your notebooks where Matplotlib in used:"
     ]
    },
    {
     "cell_type": "code",
     "collapsed": false,
     "input": [
      "%matplotlib inline\n",
      "import matplotlib.pyplot as plt\n",
      "import numpy as np"
     ],
     "language": "python",
     "metadata": {},
     "outputs": []
    },
    {
     "cell_type": "markdown",
     "metadata": {},
     "source": [
      "## Basic plotting"
     ]
    },
    {
     "cell_type": "markdown",
     "metadata": {},
     "source": [
      "For now, we will work with basic x, y plots to show how the Matplotlib plotting API works."
     ]
    },
    {
     "cell_type": "code",
     "collapsed": false,
     "input": [
      "t = np.linspace(0,4*np.pi,100)\n",
      "plt.plot(t, np.sin(t))\n",
      "plt.xlabel('Time')\n",
      "plt.ylabel('Signal')\n",
      "plt.title('My Plot')"
     ],
     "language": "python",
     "metadata": {},
     "outputs": []
    },
    {
     "cell_type": "markdown",
     "metadata": {},
     "source": [
      "## Quick series styling"
     ]
    },
    {
     "cell_type": "markdown",
     "metadata": {},
     "source": [
      "With a third argument you can provide the series color and line/marker style:"
     ]
    },
    {
     "cell_type": "code",
     "collapsed": false,
     "input": [
      "plt.plot(t, np.sin(t), 'r.')"
     ],
     "language": "python",
     "metadata": {},
     "outputs": []
    },
    {
     "cell_type": "markdown",
     "metadata": {},
     "source": [
      "Here is a list of the single character color strings:\n",
      "\n",
      "```\n",
      "    b: blue\n",
      "    g: green\n",
      "    r: red\n",
      "    c: cyan\n",
      "    m: magenta\n",
      "    y: yellow\n",
      "    k: black\n",
      "    w: white\n",
      "```"
     ]
    },
    {
     "cell_type": "markdown",
     "metadata": {},
     "source": [
      "The following will show all of the line and marker styles:"
     ]
    },
    {
     "cell_type": "code",
     "collapsed": false,
     "input": [
      "from matplotlib import lines\n",
      "lines.lineStyles.keys()"
     ],
     "language": "python",
     "metadata": {},
     "outputs": []
    },
    {
     "cell_type": "code",
     "collapsed": false,
     "input": [
      "from matplotlib import markers\n",
      "markers.MarkerStyle.markers.keys()"
     ],
     "language": "python",
     "metadata": {},
     "outputs": []
    },
    {
     "cell_type": "markdown",
     "metadata": {},
     "source": [
      "To change the plot's viewport, use `plt.axis([xmin,xmax,ymin,ymax])`:"
     ]
    },
    {
     "cell_type": "code",
     "collapsed": false,
     "input": [
      "plt.plot(t, np.sin(t)*np.exp(-0.1*t),'bo')\n",
      "plt.axis([-1,14,-1.5,1.5])"
     ],
     "language": "python",
     "metadata": {},
     "outputs": []
    },
    {
     "cell_type": "markdown",
     "metadata": {},
     "source": [
      "## Multiple series"
     ]
    },
    {
     "cell_type": "markdown",
     "metadata": {},
     "source": [
      "You can provide multiple series in a single call to `plot`:"
     ]
    },
    {
     "cell_type": "code",
     "collapsed": false,
     "input": [
      "plt.plot(t, np.sin(t), 'r.', t, np.cos(t), 'g-')"
     ],
     "language": "python",
     "metadata": {},
     "outputs": []
    },
    {
     "cell_type": "markdown",
     "metadata": {},
     "source": [
      "Or you can make multiple calls to `plot`:"
     ]
    },
    {
     "cell_type": "code",
     "collapsed": false,
     "input": [
      "plt.plot(t, np.sin(t))\n",
      "plt.plot(t, np.cos(t))"
     ],
     "language": "python",
     "metadata": {},
     "outputs": []
    },
    {
     "cell_type": "markdown",
     "metadata": {},
     "source": [
      "## Subplots"
     ]
    },
    {
     "cell_type": "code",
     "collapsed": false,
     "input": [
      "plt.subplot(2,1,1)\n",
      "plt.plot(t, np.exp(0.1*t))\n",
      "plt.ylabel('Exponential')\n",
      "plt.subplot(2,1,2)\n",
      "plt.plot(t, t**2)\n",
      "plt.ylabel('Quadratic')\n",
      "plt.xlabel('x')"
     ],
     "language": "python",
     "metadata": {},
     "outputs": []
    },
    {
     "cell_type": "markdown",
     "metadata": {},
     "source": [
      "## More line styling"
     ]
    },
    {
     "cell_type": "markdown",
     "metadata": {},
     "source": [
      "All plot commands, including `plot`, accept keyword arguments that can be used to style the lines in more detail. See [Controlling line properties](http://matplotlib.org/users/pyplot_tutorial.html#controlling-line-properties) for more details:"
     ]
    },
    {
     "cell_type": "code",
     "collapsed": false,
     "input": [
      "plt.plot(t, np.sin(t), marker='o', color='darkblue',\n",
      "         linestyle='--', alpha=0.3, markersize=10)"
     ],
     "language": "python",
     "metadata": {},
     "outputs": []
    },
    {
     "cell_type": "markdown",
     "metadata": {},
     "source": [
      "## Other plot types"
     ]
    },
    {
     "cell_type": "markdown",
     "metadata": {},
     "source": [
      "Here are some of the other important plot types we will be using in this course:\n",
      "\n",
      "* Scatter plots (`plt.scatter`)\n",
      "* Bar plots (`plt.bar` and `plt.barh`)\n",
      "* Box plots (`plt.boxplot`)\n",
      "* Histogram (`plt.hist`)"
     ]
    },
    {
     "cell_type": "markdown",
     "metadata": {},
     "source": [
      "## Resources\n",
      "\n",
      "* [Matplotlib Documentation](http://matplotlib.org/contents.html), Matplotlib developers.\n",
      "* [Matplotlib Gallery](http://matplotlib.org/gallery.html), Matplotlib developers.\n",
      "* [Matplotlib List of Plotting Commands](http://matplotlib.org/api/pyplot_summary.html), Matplotlib developers.\n",
      "* [Matplotlib Tutorial](http://nbviewer.ipython.org/github/jrjohansson/scientific-python-lectures/blob/master/Lecture-4-Matplotlib.ipynb), J.R. Johansson."
     ]
    }
   ],
   "metadata": {}
  }
 ]
}