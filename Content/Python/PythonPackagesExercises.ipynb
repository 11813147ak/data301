{
 "metadata": {
  "kernelspec": {
   "codemirror_mode": {
    "name": "ipython",
    "version": 2
   },
   "display_name": "IPython (Python 2)",
   "language": "python",
   "name": "python2"
  },
  "name": "",
  "signature": "sha256:6a5c2f32af5b4a2c8f2ddc8867e8bbf33e602f59b39e770b1b18793e0ba75a13"
 },
 "nbformat": 3,
 "nbformat_minor": 0,
 "worksheets": [
  {
   "cells": [
    {
     "cell_type": "markdown",
     "metadata": {},
     "source": [
      "# Python Packages Exercises"
     ]
    },
    {
     "cell_type": "markdown",
     "metadata": {},
     "source": [
      "## Update conda and anaconda"
     ]
    },
    {
     "cell_type": "markdown",
     "metadata": {},
     "source": [
      "Use the `conda` command, either in the IPython Notebook or at the system command line, to update all of your Anaconda packages."
     ]
    },
    {
     "cell_type": "markdown",
     "metadata": {},
     "source": [
      "## Check your version numbers"
     ]
    },
    {
     "cell_type": "markdown",
     "metadata": {},
     "source": [
      "Use `conda` and/or `pip` to check the version numbers of the following packages:\n",
      "\n",
      "* ipython\n",
      "* numpy\n",
      "* scipy\n",
      "* matplotlib\n",
      "* pandas"
     ]
    },
    {
     "cell_type": "markdown",
     "metadata": {},
     "source": [
      "## Install other packages we will use in this course"
     ]
    },
    {
     "cell_type": "markdown",
     "metadata": {},
     "source": [
      "Use `conda` and/or `pip` to install the following packages:\n",
      "\n",
      "* `ipythonblocks`\n",
      "* `seaborn`\n",
      "* `ggplot`"
     ]
    }
   ],
   "metadata": {}
  }
 ]
}