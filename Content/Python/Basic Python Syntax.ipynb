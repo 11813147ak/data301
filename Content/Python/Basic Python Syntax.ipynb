{
 "metadata": {
  "kernelspec": {
   "codemirror_mode": {
    "name": "ipython",
    "version": 2
   },
   "display_name": "IPython (Python 2)",
   "language": "python",
   "name": "python2"
  },
  "name": "",
  "signature": "sha256:46606f9db77f56ab4ab72ce6546a5159605003ef6b75858a78fb221385d004f9"
 },
 "nbformat": 3,
 "nbformat_minor": 0,
 "worksheets": [
  {
   "cells": [
    {
     "cell_type": "markdown",
     "metadata": {},
     "source": [
      "# Basic Python Syntax"
     ]
    },
    {
     "cell_type": "markdown",
     "metadata": {},
     "source": [
      "**Learning Objective:** identify and use the basic syntax of the Python language including variables, functions, objects and packages.\n",
      "\n",
      "This notebook is meant to provide the absolute minimal syntax needed to start using Python packages such as NumPy, SciPy, Matplotlib, etc. for data science. For a full tutorial to the Python language see [codecademy's](http://www.codecademy.com/) execellent [Python Course](http://www.codecademy.com/tracks/python). For reference here is the full [Python Documentation](https://docs.python.org/2/). This class uses Python 2."
     ]
    },
    {
     "cell_type": "markdown",
     "metadata": {},
     "source": [
      "## Objects"
     ]
    },
    {
     "cell_type": "markdown",
     "metadata": {},
     "source": [
      "* Objects are the **nouns** of the Python programming language.\n",
      "* Objects are the virtual equivalent of \"people, places and things.\"\n",
      "* Objects typically encode some sort of **data**\n",
      "\n",
      "Here are some examples of objects.\n",
      "\n",
      "An `str`, or string, is a bit of text:"
     ]
    },
    {
     "cell_type": "code",
     "collapsed": false,
     "input": [
      "\"Hi there\""
     ],
     "language": "python",
     "metadata": {},
     "outputs": [
      {
       "metadata": {},
       "output_type": "pyout",
       "prompt_number": 9,
       "text": [
        "'Hi there'"
       ]
      }
     ],
     "prompt_number": 9
    },
    {
     "cell_type": "markdown",
     "metadata": {},
     "source": [
      "An `int`, or integer, is a number without a decimal point:"
     ]
    },
    {
     "cell_type": "code",
     "collapsed": false,
     "input": [
      "12345"
     ],
     "language": "python",
     "metadata": {},
     "outputs": [
      {
       "metadata": {},
       "output_type": "pyout",
       "prompt_number": 11,
       "text": [
        "12345"
       ]
      }
     ],
     "prompt_number": 11
    },
    {
     "cell_type": "markdown",
     "metadata": {},
     "source": [
      "A `float`, or floating point number, is a number with a decimal point:"
     ]
    },
    {
     "cell_type": "code",
     "collapsed": false,
     "input": [
      "3.141"
     ],
     "language": "python",
     "metadata": {},
     "outputs": [
      {
       "metadata": {},
       "output_type": "pyout",
       "prompt_number": 3,
       "text": [
        "3.141"
       ]
      }
     ],
     "prompt_number": 3
    },
    {
     "cell_type": "markdown",
     "metadata": {},
     "source": [
      "Some objects are containers. That is, they *contain* other objects. Here is a `list`, which is an ordered sequence objects:"
     ]
    },
    {
     "cell_type": "code",
     "collapsed": false,
     "input": [
      "[0,1,2,3,4,5]"
     ],
     "language": "python",
     "metadata": {},
     "outputs": [
      {
       "metadata": {},
       "output_type": "pyout",
       "prompt_number": 4,
       "text": [
        "[0, 1, 2, 3, 4, 5]"
       ]
      }
     ],
     "prompt_number": 4
    },
    {
     "cell_type": "markdown",
     "metadata": {},
     "source": [
      "Here is a `dict`, or dictionary. A `dict` is an unordered pair of `{'key': value}` pairs:"
     ]
    },
    {
     "cell_type": "code",
     "collapsed": false,
     "input": [
      "{'name': 'Bart Simpson',\n",
      " 'address': '742 Evergreen Terrace'}"
     ],
     "language": "python",
     "metadata": {},
     "outputs": [
      {
       "metadata": {},
       "output_type": "pyout",
       "prompt_number": 7,
       "text": [
        "{'address': '742 Evergreen Terrace', 'name': 'Bart Simpson'}"
       ]
      }
     ],
     "prompt_number": 7
    },
    {
     "cell_type": "code",
     "collapsed": false,
     "input": [
      "True, False"
     ],
     "language": "python",
     "metadata": {},
     "outputs": [
      {
       "metadata": {},
       "output_type": "pyout",
       "prompt_number": 12,
       "text": [
        "(True, False)"
       ]
      }
     ],
     "prompt_number": 12
    },
    {
     "cell_type": "markdown",
     "metadata": {},
     "source": [
      "## Variables"
     ]
    },
    {
     "cell_type": "markdown",
     "metadata": {},
     "source": [
      "* A variable is a way of naming or labeling an object.\n",
      "* A variable is created using a single `=` sign.\n",
      "\n",
      "Create a variable named `a` with the value `Hi There`:"
     ]
    },
    {
     "cell_type": "code",
     "collapsed": false,
     "input": [
      "a = 'Hi There'"
     ],
     "language": "python",
     "metadata": {},
     "outputs": [],
     "prompt_number": 13
    },
    {
     "cell_type": "markdown",
     "metadata": {},
     "source": [
      "Notice that there is no output when a variable is created. To see the value of a variable, you can use the `print` function:"
     ]
    },
    {
     "cell_type": "code",
     "collapsed": false,
     "input": [
      "print(a)"
     ],
     "language": "python",
     "metadata": {},
     "outputs": [
      {
       "output_type": "stream",
       "stream": "stdout",
       "text": [
        "Hi There\n"
       ]
      }
     ],
     "prompt_number": 14
    },
    {
     "cell_type": "markdown",
     "metadata": {},
     "source": [
      "Create a variable named `b` with the value `12345`:"
     ]
    },
    {
     "cell_type": "code",
     "collapsed": false,
     "input": [
      "b = 12345"
     ],
     "language": "python",
     "metadata": {},
     "outputs": [],
     "prompt_number": 15
    },
    {
     "cell_type": "markdown",
     "metadata": {},
     "source": [
      "Create a variable named `c` with the value `3.141`:"
     ]
    },
    {
     "cell_type": "code",
     "collapsed": false,
     "input": [
      "c = 3.141"
     ],
     "language": "python",
     "metadata": {},
     "outputs": [],
     "prompt_number": 16
    },
    {
     "cell_type": "markdown",
     "metadata": {},
     "source": [
      "Create variables `c` and `d` pointing to a list and a dict:"
     ]
    },
    {
     "cell_type": "code",
     "collapsed": false,
     "input": [
      "d = [0,1,2,3,4,5]"
     ],
     "language": "python",
     "metadata": {},
     "outputs": [],
     "prompt_number": 17
    },
    {
     "cell_type": "code",
     "collapsed": false,
     "input": [
      "e = {'name': 'Bart Simpson',\n",
      "     'address': '742 Evergreen Terrace'}"
     ],
     "language": "python",
     "metadata": {},
     "outputs": [],
     "prompt_number": 18
    },
    {
     "cell_type": "markdown",
     "metadata": {},
     "source": [
      "## Functions"
     ]
    },
    {
     "cell_type": "markdown",
     "metadata": {},
     "source": [
      "* If objects are the **nouns** of Python syntax, then `functions` are the **verbs**.\n",
      "* Functions perform actions on objects.\n",
      "* In Python, functions are defined and called with parentheses `()`.\n",
      "\n",
      "Let's define a simple function `f` that returns the sum of its arguments `x` and `y`:"
     ]
    },
    {
     "cell_type": "code",
     "collapsed": false,
     "input": [
      "def f(x,y):\n",
      "    return x+y"
     ],
     "language": "python",
     "metadata": {},
     "outputs": [],
     "prompt_number": 19
    },
    {
     "cell_type": "markdown",
     "metadata": {},
     "source": [
      "We \"call\" the function with the exact same notation we would use in mathematics:"
     ]
    },
    {
     "cell_type": "code",
     "collapsed": false,
     "input": [
      "f(2,2)"
     ],
     "language": "python",
     "metadata": {},
     "outputs": [
      {
       "metadata": {},
       "output_type": "pyout",
       "prompt_number": 20,
       "text": [
        "4"
       ]
      }
     ],
     "prompt_number": 20
    },
    {
     "cell_type": "markdown",
     "metadata": {},
     "source": [
      "Another way of calling a function is by explicitely naming the arguments:"
     ]
    },
    {
     "cell_type": "code",
     "collapsed": false,
     "input": [
      "f(x=2,y=2)"
     ],
     "language": "python",
     "metadata": {},
     "outputs": [
      {
       "metadata": {},
       "output_type": "pyout",
       "prompt_number": 22,
       "text": [
        "4"
       ]
      }
     ],
     "prompt_number": 22
    },
    {
     "cell_type": "markdown",
     "metadata": {},
     "source": [
      "Here the arguments are passed as **keywords**."
     ]
    },
    {
     "cell_type": "markdown",
     "metadata": {},
     "source": [
      "If you don't know how a function works, you can use `?` to get help:"
     ]
    },
    {
     "cell_type": "code",
     "collapsed": false,
     "input": [
      "import math"
     ],
     "language": "python",
     "metadata": {},
     "outputs": [],
     "prompt_number": 1
    },
    {
     "cell_type": "code",
     "collapsed": false,
     "input": [
      "math.cos?"
     ],
     "language": "python",
     "metadata": {},
     "outputs": [
      {
       "output_type": "stream",
       "stream": "stdout",
       "text": [
        "\u001b[0;31mType:        \u001b[0mbuiltin_function_or_method\n",
        "\u001b[0;31mString form: \u001b[0m<built-in function cos>\n",
        "\u001b[0;31mDocstring:\u001b[0m\n",
        "cos(x)\n",
        "\n",
        "Return the cosine of x (measured in radians).\n"
       ]
      }
     ],
     "prompt_number": 2
    },
    {
     "cell_type": "markdown",
     "metadata": {},
     "source": [
      "## Object containment"
     ]
    },
    {
     "cell_type": "markdown",
     "metadata": {},
     "source": [
      "* Objects can **contain** other objects\n",
      "* There are two types of containment:\n",
      "  - One to one, indicated by `.`\n",
      "  - One to many, indicated by `[]`"
     ]
    },
    {
     "cell_type": "code",
     "collapsed": false,
     "input": [
      "class Student():\n",
      "    pass"
     ],
     "language": "python",
     "metadata": {},
     "outputs": [],
     "prompt_number": 41
    },
    {
     "cell_type": "code",
     "collapsed": false,
     "input": [
      "bart = Student()"
     ],
     "language": "python",
     "metadata": {},
     "outputs": [],
     "prompt_number": 52
    },
    {
     "cell_type": "markdown",
     "metadata": {},
     "source": [
      "A student has a `name` and `address` that are accessed using a `.`:"
     ]
    },
    {
     "cell_type": "code",
     "collapsed": false,
     "input": [
      "bart.name = \"Bart Simpson\"\n",
      "bart.address = \"742 Evergreen Terrace\""
     ],
     "language": "python",
     "metadata": {},
     "outputs": [],
     "prompt_number": 53
    },
    {
     "cell_type": "code",
     "collapsed": false,
     "input": [
      "bart.name"
     ],
     "language": "python",
     "metadata": {},
     "outputs": [
      {
       "metadata": {},
       "output_type": "pyout",
       "prompt_number": 54,
       "text": [
        "'Bart Simpson'"
       ]
      }
     ],
     "prompt_number": 54
    },
    {
     "cell_type": "code",
     "collapsed": false,
     "input": [
      "bart.address"
     ],
     "language": "python",
     "metadata": {},
     "outputs": [
      {
       "metadata": {},
       "output_type": "pyout",
       "prompt_number": 55,
       "text": [
        "'742 Evergreen Terrace'"
       ]
      }
     ],
     "prompt_number": 55
    },
    {
     "cell_type": "markdown",
     "metadata": {},
     "source": [
      "A student has a list of `classes`:"
     ]
    },
    {
     "cell_type": "code",
     "collapsed": false,
     "input": [
      "bart.classes = ['Gym',None,None,None]"
     ],
     "language": "python",
     "metadata": {},
     "outputs": [],
     "prompt_number": 56
    },
    {
     "cell_type": "markdown",
     "metadata": {},
     "source": [
      "Individual classes are accessed using `[]`:"
     ]
    },
    {
     "cell_type": "code",
     "collapsed": false,
     "input": [
      "bart.classes[0]"
     ],
     "language": "python",
     "metadata": {},
     "outputs": [
      {
       "metadata": {},
       "output_type": "pyout",
       "prompt_number": 57,
       "text": [
        "'gym'"
       ]
      }
     ],
     "prompt_number": 57
    },
    {
     "cell_type": "code",
     "collapsed": false,
     "input": [
      "bart.classes[2] = 'Skateboarding'"
     ],
     "language": "python",
     "metadata": {},
     "outputs": [],
     "prompt_number": 61
    },
    {
     "cell_type": "code",
     "collapsed": false,
     "input": [
      "bart.classes"
     ],
     "language": "python",
     "metadata": {},
     "outputs": [
      {
       "metadata": {},
       "output_type": "pyout",
       "prompt_number": 62,
       "text": [
        "['gym', None, 'Skateboarding', None]"
       ]
      }
     ],
     "prompt_number": 62
    },
    {
     "cell_type": "markdown",
     "metadata": {},
     "source": [
      "Notice how the objects contained inside a `Student` themselves have names (they are variables). Variables that are attached to objects are called **attributes**.\n",
      "\n",
      "You can use \"tab completion\" to inspect what attributes an object has:"
     ]
    },
    {
     "cell_type": "code",
     "collapsed": false,
     "input": [
      "bart."
     ],
     "language": "python",
     "metadata": {},
     "outputs": []
    },
    {
     "cell_type": "markdown",
     "metadata": {},
     "source": [
      "## Functions attached to objects"
     ]
    },
    {
     "cell_type": "markdown",
     "metadata": {},
     "source": [
      "* Objects can have functions attached to them.\n",
      "* For example we might want to *start* a *car*.\n",
      "* In Python, functions attached to objects are called \"methods\".\n",
      "* A method involves **containment** and a **verb** so you need to use both `.` and `()`."
     ]
    },
    {
     "cell_type": "markdown",
     "metadata": {},
     "source": [
      "Here is a Python list:"
     ]
    },
    {
     "cell_type": "code",
     "collapsed": false,
     "input": [
      "colors = ['blue', 'red', 'green']"
     ],
     "language": "python",
     "metadata": {},
     "outputs": [],
     "prompt_number": 3
    },
    {
     "cell_type": "markdown",
     "metadata": {},
     "source": [
      "The list object can be sorted using the `sort` method:"
     ]
    },
    {
     "cell_type": "code",
     "collapsed": false,
     "input": [
      "colors.sort()"
     ],
     "language": "python",
     "metadata": {},
     "outputs": [],
     "prompt_number": 5
    },
    {
     "cell_type": "code",
     "collapsed": false,
     "input": [
      "colors"
     ],
     "language": "python",
     "metadata": {},
     "outputs": [
      {
       "metadata": {},
       "output_type": "pyout",
       "prompt_number": 6,
       "text": [
        "['blue', 'green', 'red']"
       ]
      }
     ],
     "prompt_number": 6
    }
   ],
   "metadata": {}
  }
 ]
}