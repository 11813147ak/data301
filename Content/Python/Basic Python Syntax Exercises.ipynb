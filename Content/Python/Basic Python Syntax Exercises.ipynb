{
 "metadata": {
  "kernelspec": {
   "codemirror_mode": {
    "name": "ipython",
    "version": 2
   },
   "display_name": "IPython (Python 2)",
   "language": "python",
   "name": "python2"
  },
  "name": "",
  "signature": "sha256:fffe73ffc3825f71bf34e16b46f3577d5d7e2779c75259695b11609d37232ae2"
 },
 "nbformat": 3,
 "nbformat_minor": 0,
 "worksheets": [
  {
   "cells": [
    {
     "cell_type": "markdown",
     "metadata": {},
     "source": [
      "# Basic Python Syntax Exercises"
     ]
    },
    {
     "cell_type": "markdown",
     "metadata": {},
     "source": [
      "## Basic objects"
     ]
    },
    {
     "cell_type": "markdown",
     "metadata": {},
     "source": [
      "* Practice creating different types of Python objects:\n",
      "  - Strings\n",
      "  - Integers\n",
      "  - Floating point numbers\n",
      "  - Booleans\n",
      "  - Lists\n",
      "  - Dictionaries\n",
      "* Assign your objects to variables.\n",
      "* Use tab completion and `?` to explore these objects.\n",
      "* Display the objects you create using `print` and by returning them as expressions."
     ]
    },
    {
     "cell_type": "markdown",
     "metadata": {},
     "source": [
      "## Functions"
     ]
    },
    {
     "cell_type": "markdown",
     "metadata": {},
     "source": [
      "* Import the `randint` function from the `random` package.\n",
      "* Use `?` to learn how to call `randint`.\n",
      "* Try calling `randint` with different arguments."
     ]
    },
    {
     "cell_type": "code",
     "collapsed": false,
     "input": [
      "from random import randint"
     ],
     "language": "python",
     "metadata": {},
     "outputs": [],
     "prompt_number": 6
    },
    {
     "cell_type": "markdown",
     "metadata": {},
     "source": [
      "## Car objects"
     ]
    },
    {
     "cell_type": "markdown",
     "metadata": {},
     "source": [
      "Create a Python `Car` object with sub-objects for different parts of the car:\n",
      "\n",
      "* Create an emtpy (`pass`) class named `Car`.\n",
      "* The parts of the car will be sub-objects (think containment).\n",
      "* For each part, create an empty (`pass`) class. Capitalize the first letter of the class name.\n",
      "* Create two part that have a one-to-one relationship with the parent `Car` object.\n",
      "* Create two parts that have a one-to-many relationship with the parent `Car` object.\n",
      "* After you build the car, demonstrate how to use `.` and `[]` to access the parts."
     ]
    }
   ],
   "metadata": {}
  }
 ]
}