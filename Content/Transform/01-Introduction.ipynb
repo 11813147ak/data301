{
 "cells": [
  {
   "cell_type": "markdown",
   "metadata": {},
   "source": [
    "# Data Transformation\n",
    "\n",
    "**Learning Objective**: Learn how to transform data during the different stages of the data science process, from tidying a messy dataset to transforming during the the visualization and modeling stages."
   ]
  },
  {
   "cell_type": "markdown",
   "metadata": {},
   "source": [
    "## Overview\n",
    "\n",
    "Data transformation is one of most important phases in the data science process. Data transformation is needed:\n",
    "\n",
    "1. To bring a raw dataset into the tidy format.\n",
    "2. During the visualization phase to compute groups, aggregations, statistical summaries, etc.\n",
    "3. During the iterative process of *Visualizing* and *Modeling*.\n",
    "\n",
    "One of the strength of Python and its various data science packages are their power, flexibility and convenience to transform data. Sometimes Python and its standard library will be sufficient. Other times, we will need more powerful packges such as [NumPy](http://www.numpy.org/), [Pandas](http://pandas.pydata.org/) or [SQL](https://en.wikipedia.org/wiki/SQL). In this section of the course, you will learn how to leverage these tools to transform data."
   ]
  },
  {
   "cell_type": "markdown",
   "metadata": {},
   "source": [
    "## Outline\n",
    "\n",
    "Here is an outline of this section of the course:\n",
    "\n",
    "* [Basic Data Transformation](02-BasicDataTransformation.ipynb)\n",
    "* [NumPy](03-Numpy.ipynb)\n",
    "* [Pandas](04-Pandas.ipynb)\n",
    "* [Relational Data](05-RelationalData.ipynb)"
   ]
  }
 ],
 "metadata": {
  "kernelspec": {
   "display_name": "Python 3",
   "language": "python",
   "name": "python3"
  },
  "language_info": {
   "codemirror_mode": {
    "name": "ipython",
    "version": 3
   },
   "file_extension": ".py",
   "mimetype": "text/x-python",
   "name": "python",
   "nbconvert_exporter": "python",
   "pygments_lexer": "ipython3",
   "version": "3.5.2"
  }
 },
 "nbformat": 4,
 "nbformat_minor": 2
}
