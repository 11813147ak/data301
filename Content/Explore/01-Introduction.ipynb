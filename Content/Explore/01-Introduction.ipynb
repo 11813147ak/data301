{
 "cells": [
  {
   "cell_type": "markdown",
   "metadata": {},
   "source": [
    "# Explore"
   ]
  },
  {
   "cell_type": "markdown",
   "metadata": {},
   "source": [
    "**Learning Objective:** learn how to explore data using visualization, basic data transformation and interaction."
   ]
  },
  {
   "cell_type": "markdown",
   "metadata": {},
   "source": [
    "## Overview\n",
    "\n",
    "The *explore* phase of data science encompasses a couple of different topics:\n",
    "\n",
    "* Data visualization\n",
    "* Basic data transformation\n",
    "* Exploratory data analysis (EDA)\n",
    "* Interaction\n",
    "\n",
    "The first two of these are covered in the Visualize and Transform sections of the course. This section covers exploratory data analysis and interaction."
   ]
  },
  {
   "cell_type": "markdown",
   "metadata": {},
   "source": [
    "## Outline\n",
    "\n",
    "* [Data Visualization](../Visualize/01-Introduction.ipynb)\n",
    "* [Basic Data Transformation](../Transform/02-BasicDataTransformation.ipynb)\n",
    "* [Exploratory Data Analysis (EDA)](02-EDA.ipynb)\n",
    "* [Interact](03-Interact.ipynb)\n",
    "* [Widgets](04-Widgets.ipynb)"
   ]
  }
 ],
 "metadata": {
  "kernelspec": {
   "display_name": "Python 3",
   "language": "python",
   "name": "python3"
  },
  "language_info": {
   "codemirror_mode": {
    "name": "ipython",
    "version": 3
   },
   "file_extension": ".py",
   "mimetype": "text/x-python",
   "name": "python",
   "nbconvert_exporter": "python",
   "pygments_lexer": "ipython3",
   "version": "3.5.2"
  }
 },
 "nbformat": 4,
 "nbformat_minor": 2
}
