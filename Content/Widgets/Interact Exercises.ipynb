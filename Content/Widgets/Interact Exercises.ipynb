{
 "metadata": {
  "kernelspec": {
   "codemirror_mode": {
    "name": "ipython",
    "version": 2
   },
   "display_name": "IPython (Python 2)",
   "language": "python",
   "name": "python2"
  },
  "name": "",
  "signature": "sha256:7f2f3e43384d5f524f4aca7aa8d55b0bb84006873badf2676e78789ab2726129"
 },
 "nbformat": 3,
 "nbformat_minor": 0,
 "worksheets": [
  {
   "cells": [
    {
     "cell_type": "heading",
     "level": 1,
     "metadata": {},
     "source": [
      "Interact Exercises"
     ]
    },
    {
     "cell_type": "code",
     "collapsed": false,
     "input": [
      "%matplotlib inline\n",
      "from matplotlib import pyplot as plt\n",
      "import numpy as np\n",
      "\n",
      "from IPython.html.widgets import *\n",
      "from IPython.display import display"
     ],
     "language": "python",
     "metadata": {},
     "outputs": []
    },
    {
     "cell_type": "heading",
     "level": 2,
     "metadata": {},
     "source": [
      "Plotting with parameters"
     ]
    },
    {
     "cell_type": "markdown",
     "metadata": {},
     "source": [
      "Write a `plot_sin` function that plots $sin(ax+b)$ over the interval $[0,4\\pi]$.\n",
      "\n",
      "Then use `interact` to create a user interface for exploring your function:\n",
      "\n",
      "* `a` should be a floating point number over the interval $[0.0,5.0]$.\n",
      "* `b` should be a floating point number over the interval $[-5.0,5.0]$."
     ]
    },
    {
     "cell_type": "code",
     "collapsed": false,
     "input": [],
     "language": "python",
     "metadata": {},
     "outputs": []
    },
    {
     "cell_type": "markdown",
     "metadata": {},
     "source": [
      "In matplotlib, the line style and color can be set with a third argument to `plot`. Examples of this argument:\n",
      "\n",
      "* dashed red: `r--`\n",
      "* blue circles: `bo`\n",
      "* dotted black: `k.`\n",
      "\n",
      "Add a `style` argument to your `plot_sin` function that allows you to set the line style of the plot.\n",
      "\n",
      "Use `interact` to create a UI for `plot_sin` that has a drop down menu for selecting the line style between a **dotted red** line and a **dashed black line**. This time use `interact` as a decorator."
     ]
    },
    {
     "cell_type": "code",
     "collapsed": false,
     "input": [],
     "language": "python",
     "metadata": {},
     "outputs": []
    }
   ],
   "metadata": {}
  }
 ]
}