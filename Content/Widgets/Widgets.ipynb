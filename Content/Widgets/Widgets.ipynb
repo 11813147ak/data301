{
 "metadata": {
  "kernelspec": {
   "codemirror_mode": {
    "name": "ipython",
    "version": 2
   },
   "display_name": "IPython (Python 2)",
   "language": "python",
   "name": "python2"
  },
  "name": "",
  "signature": "sha256:dd7d92d361d95678236ff4de06736e78f66f6cba5c8ddf083754f1ea01b233c0"
 },
 "nbformat": 3,
 "nbformat_minor": 0,
 "worksheets": [
  {
   "cells": [
    {
     "cell_type": "heading",
     "level": 1,
     "metadata": {},
     "source": [
      "Using Interact"
     ]
    },
    {
     "cell_type": "markdown",
     "metadata": {},
     "source": [
      "The `interact` function (`IPython.html.widgets.interact`) automatically creates a graphical user interface (GUI) for exploring code and data interactively. It is the easiest way to get started using IPython's widgets."
     ]
    },
    {
     "cell_type": "code",
     "collapsed": false,
     "input": [
      "from __future__ import print_function\n",
      "from IPython.html.widgets import interact, interactive, fixed\n",
      "from IPython.html import widgets"
     ],
     "language": "python",
     "metadata": {},
     "outputs": [],
     "prompt_number": 1
    },
    {
     "cell_type": "heading",
     "level": 2,
     "metadata": {},
     "source": [
      "Basic `interact`"
     ]
    },
    {
     "cell_type": "markdown",
     "metadata": {},
     "source": [
      "At the most basic level, `interact` autogenerates UI controls for function arguments, and then calls the function with those arguments when you manipulate the controls interactively. To use `interact`, you need to define a function that you want to explore. Here is a function that prints its only argument `x`."
     ]
    },
    {
     "cell_type": "code",
     "collapsed": false,
     "input": [
      "def f(x):\n",
      "    print(x)"
     ],
     "language": "python",
     "metadata": {},
     "outputs": [],
     "prompt_number": 2
    },
    {
     "cell_type": "markdown",
     "metadata": {},
     "source": [
      "When you pass this function as the first argument to `interact` along with an integer keyword argument (`x=10`), a slider is generated and bound to the function."
     ]
    },
    {
     "cell_type": "code",
     "collapsed": false,
     "input": [
      "interact(f, x=10);"
     ],
     "language": "python",
     "metadata": {},
     "outputs": [
      {
       "output_type": "stream",
       "stream": "stdout",
       "text": [
        "15\n"
       ]
      }
     ],
     "prompt_number": 3
    },
    {
     "cell_type": "markdown",
     "metadata": {},
     "source": [
      "When you move the slider, the function is called and the current value of `x` is printed.\n",
      "\n",
      "If you pass `True` or `False`, `interact` will generate a checkbox:"
     ]
    },
    {
     "cell_type": "code",
     "collapsed": false,
     "input": [
      "interact(f, x=True);"
     ],
     "language": "python",
     "metadata": {},
     "outputs": [
      {
       "output_type": "stream",
       "stream": "stdout",
       "text": [
        "True\n"
       ]
      }
     ],
     "prompt_number": 4
    },
    {
     "cell_type": "markdown",
     "metadata": {},
     "source": [
      "If you pass a string, `interact` will generate a text area."
     ]
    },
    {
     "cell_type": "code",
     "collapsed": false,
     "input": [
      "interact(f, x='Hi there!');"
     ],
     "language": "python",
     "metadata": {},
     "outputs": [
      {
       "output_type": "stream",
       "stream": "stdout",
       "text": [
        "Hi there!\n"
       ]
      }
     ],
     "prompt_number": 5
    },
    {
     "cell_type": "markdown",
     "metadata": {},
     "source": [
      "`interact` can also be used as a decorator. This allows you to define a function and interact with it in a single shot. As this example shows, `interact` also works with functions that have multiple arguments."
     ]
    },
    {
     "cell_type": "code",
     "collapsed": false,
     "input": [
      "@interact(x=True, y=1.0)\n",
      "def g(x, y):\n",
      "    print(x, y)"
     ],
     "language": "python",
     "metadata": {},
     "outputs": [
      {
       "output_type": "stream",
       "stream": "stdout",
       "text": [
        "True 1.0\n"
       ]
      }
     ],
     "prompt_number": 6
    },
    {
     "cell_type": "heading",
     "level": 2,
     "metadata": {},
     "source": [
      "Fixing arguments using `fixed`"
     ]
    },
    {
     "cell_type": "markdown",
     "metadata": {},
     "source": [
      "There are times when you may want to explore a function using `interact`, but fix one or more of its arguments to specific values. This can be accomplished by wrapping values with the `fixed` function."
     ]
    },
    {
     "cell_type": "code",
     "collapsed": false,
     "input": [
      "def h(p, q):\n",
      "    print(p, q)"
     ],
     "language": "python",
     "metadata": {},
     "outputs": [],
     "prompt_number": 7
    },
    {
     "cell_type": "markdown",
     "metadata": {},
     "source": [
      "When we call `interact`, we pass `fixed(20)` for q to hold it fixed at a value of `20`."
     ]
    },
    {
     "cell_type": "code",
     "collapsed": false,
     "input": [
      "interact(h, p=5, q=fixed(20));"
     ],
     "language": "python",
     "metadata": {},
     "outputs": [
      {
       "output_type": "stream",
       "stream": "stdout",
       "text": [
        "5 20\n"
       ]
      }
     ],
     "prompt_number": 8
    },
    {
     "cell_type": "markdown",
     "metadata": {},
     "source": [
      "Notice that a slider is only produced for `p` as the value of `q` is fixed."
     ]
    },
    {
     "cell_type": "heading",
     "level": 2,
     "metadata": {},
     "source": [
      "Widget abbreviations"
     ]
    },
    {
     "cell_type": "markdown",
     "metadata": {},
     "source": [
      "When you pass an integer valued keyword argument (`x=10`) to `interact`, it generates an integer valued slider control with a range of $[-10,+3\\times10]$. In this case `10` is an *abbreviation* for an actual slider widget:\n",
      "\n",
      "```python\n",
      "IntSlider(min=-10,max=30,step=1,value=10)\n",
      "```\n",
      "\n",
      "In fact, we can get the same result if we pass this `IntSlider` as the keyword argument for `x`:"
     ]
    },
    {
     "cell_type": "code",
     "collapsed": false,
     "input": [
      "interact(f, x=widgets.IntSlider(min=-10,max=30,step=1,value=10));"
     ],
     "language": "python",
     "metadata": {},
     "outputs": [
      {
       "output_type": "stream",
       "stream": "stdout",
       "text": [
        "10\n"
       ]
      }
     ],
     "prompt_number": 9
    },
    {
     "cell_type": "markdown",
     "metadata": {},
     "source": [
      "This examples clarifies how `interact` proceses its keyword arguments:\n",
      "\n",
      "1. If the keyword argument is `Widget` instance with a `value` attribute, that widget is used. Any widget with a `value` attribute can be used, even custom ones.\n",
      "2. Otherwise, the value is treated as a *widget abbreviation* that is converted to a widget before it is used.\n",
      "\n",
      "The following table gives an overview of different widget abbreviations:\n",
      "\n",
      "<table class=\"table table-condensed table-bordered\">\n",
      "  <tr><td><strong>Keyword argument</strong></td><td><strong>Widget</strong></td></tr>  \n",
      "  <tr><td>`True` or `False`</td><td>Checkbox</td></tr>  \n",
      "  <tr><td>`'Hi there'`</td><td>Textarea</td></tr>\n",
      "  <tr><td>`value` or `(min,max)` or `(min,max,step)` if integers are passed</td><td>IntSlider</td></tr>\n",
      "  <tr><td>`value` or `(min,max)` or `(min,max,step)` if floats are passed</td><td>FloatSlider</td></tr>\n",
      "  <tr><td>`('orange','apple')` or `{'one':1,'two':2}`</td><td>Dropdown</td></tr>\n",
      "</table>"
     ]
    },
    {
     "cell_type": "markdown",
     "metadata": {},
     "source": [
      "You have seen how the checkbox and textarea widgets work above. Here, more details about the different abbreviations for sliders and dropdowns are given.\n",
      "\n",
      "If a 2-tuple of integers is passed `(min,max)` a integer valued slider is produced with those minimum and maximum (inclusive) values. In this case, the default step size of `1` is used."
     ]
    },
    {
     "cell_type": "code",
     "collapsed": false,
     "input": [
      "interact(f, x=(0,4));"
     ],
     "language": "python",
     "metadata": {},
     "outputs": [
      {
       "output_type": "stream",
       "stream": "stdout",
       "text": [
        "2\n"
       ]
      }
     ],
     "prompt_number": 10
    },
    {
     "cell_type": "markdown",
     "metadata": {},
     "source": [
      "If a 3-tuple of integers is passed `(min,max,step)` the step size can also be set."
     ]
    },
    {
     "cell_type": "code",
     "collapsed": false,
     "input": [
      "interact(f, x=(0,8,2));"
     ],
     "language": "python",
     "metadata": {},
     "outputs": [
      {
       "output_type": "stream",
       "stream": "stdout",
       "text": [
        "4\n"
       ]
      }
     ],
     "prompt_number": 11
    },
    {
     "cell_type": "markdown",
     "metadata": {},
     "source": [
      "A float valued slider is produced if the elements of the tuples are floats. Here the minimum is `0.0`, the maximum is `10.0` and step size is `0.1` (the default)."
     ]
    },
    {
     "cell_type": "code",
     "collapsed": false,
     "input": [
      "interact(f, x=(0.0,10.0));"
     ],
     "language": "python",
     "metadata": {},
     "outputs": [
      {
       "output_type": "stream",
       "stream": "stdout",
       "text": [
        "5.0\n"
       ]
      }
     ],
     "prompt_number": 12
    },
    {
     "cell_type": "markdown",
     "metadata": {},
     "source": [
      "The step size can be changed by passing a 3rd element in the tuple."
     ]
    },
    {
     "cell_type": "code",
     "collapsed": false,
     "input": [
      "interact(f, x=(0.0,10.0,0.01));"
     ],
     "language": "python",
     "metadata": {},
     "outputs": [
      {
       "output_type": "stream",
       "stream": "stdout",
       "text": [
        "4.99\n"
       ]
      }
     ],
     "prompt_number": 13
    },
    {
     "cell_type": "markdown",
     "metadata": {},
     "source": [
      "For both integer and float valued sliders, you can pick the initial value of the widget by passing a default keyword argument to the underlying Python function. Here we set the initial value of a float slider to `5.5`."
     ]
    },
    {
     "cell_type": "code",
     "collapsed": false,
     "input": [
      "def h(x=5.5):\n",
      "    print(x)\n",
      "    \n",
      "interact(h, x=(0.0,20.0,0.5));"
     ],
     "language": "python",
     "metadata": {},
     "outputs": [
      {
       "output_type": "stream",
       "stream": "stdout",
       "text": [
        "5.5\n"
       ]
      }
     ],
     "prompt_number": 14
    },
    {
     "cell_type": "markdown",
     "metadata": {},
     "source": [
      "Dropdown menus can be produced by passing a tuple of strings. In this case, the strings are both used as the names in the dropdown menu UI and passed to the underlying Python function."
     ]
    },
    {
     "cell_type": "code",
     "collapsed": false,
     "input": [
      "interact(f, x=('apples','oranges'));"
     ],
     "language": "python",
     "metadata": {},
     "outputs": [
      {
       "output_type": "stream",
       "stream": "stdout",
       "text": [
        "apples\n"
       ]
      }
     ],
     "prompt_number": 15
    },
    {
     "cell_type": "markdown",
     "metadata": {},
     "source": [
      "If you want a dropdown menu that passes non-string values to the Python function, you can pass a dictionary. The keys in the dictionary are used for the names in the dropdown menu UI and the values are the arguments that are passed to the underlying Python function."
     ]
    },
    {
     "cell_type": "code",
     "collapsed": false,
     "input": [
      "interact(f, x={'one': 10, 'two': 20});"
     ],
     "language": "python",
     "metadata": {},
     "outputs": [
      {
       "output_type": "stream",
       "stream": "stdout",
       "text": [
        "20\n"
       ]
      }
     ],
     "prompt_number": 16
    },
    {
     "cell_type": "heading",
     "level": 2,
     "metadata": {},
     "source": [
      "`interactive`"
     ]
    },
    {
     "cell_type": "markdown",
     "metadata": {},
     "source": [
      "In addition to `interact` IPython provides another function, `interactive`, that is useful when you want to reuse the widget that are produced or access the data that is bound to the UI controls."
     ]
    },
    {
     "cell_type": "markdown",
     "metadata": {},
     "source": [
      "Here is a function that returns the sum of its two arguments."
     ]
    },
    {
     "cell_type": "code",
     "collapsed": false,
     "input": [
      "def f(a, b):\n",
      "    return a+b"
     ],
     "language": "python",
     "metadata": {},
     "outputs": [],
     "prompt_number": 17
    },
    {
     "cell_type": "markdown",
     "metadata": {},
     "source": [
      "Unlike `interact`, `interactive` returns a `Widget` instance rather than immediately displaying the widget."
     ]
    },
    {
     "cell_type": "code",
     "collapsed": false,
     "input": [
      "w = interactive(f, a=10, b=20)"
     ],
     "language": "python",
     "metadata": {},
     "outputs": [],
     "prompt_number": 18
    },
    {
     "cell_type": "markdown",
     "metadata": {},
     "source": [
      "The widget is a `Box`, which is a container for other widgets."
     ]
    },
    {
     "cell_type": "code",
     "collapsed": false,
     "input": [
      "type(w)"
     ],
     "language": "python",
     "metadata": {},
     "outputs": [
      {
       "metadata": {},
       "output_type": "pyout",
       "prompt_number": 19,
       "text": [
        "IPython.html.widgets.widget_box.Box"
       ]
      }
     ],
     "prompt_number": 19
    },
    {
     "cell_type": "markdown",
     "metadata": {},
     "source": [
      "The children of the `Box` are two integer valued sliders produced by the widget abbreviations above."
     ]
    },
    {
     "cell_type": "code",
     "collapsed": false,
     "input": [
      "w.children"
     ],
     "language": "python",
     "metadata": {},
     "outputs": [
      {
       "metadata": {},
       "output_type": "pyout",
       "prompt_number": 20,
       "text": [
        "(<IPython.html.widgets.widget_int.IntSlider at 0x104a9e510>,\n",
        " <IPython.html.widgets.widget_int.IntSlider at 0x104a9eb10>)"
       ]
      }
     ],
     "prompt_number": 20
    },
    {
     "cell_type": "markdown",
     "metadata": {},
     "source": [
      "To actually display the widgets, you can use IPython's `display` function."
     ]
    },
    {
     "cell_type": "code",
     "collapsed": false,
     "input": [
      "from IPython.display import display\n",
      "display(w)"
     ],
     "language": "python",
     "metadata": {},
     "outputs": [],
     "prompt_number": 21
    },
    {
     "cell_type": "markdown",
     "metadata": {},
     "source": [
      "Or return the value"
     ]
    },
    {
     "cell_type": "code",
     "collapsed": true,
     "input": [
      "w"
     ],
     "language": "python",
     "metadata": {},
     "outputs": [],
     "prompt_number": 22
    },
    {
     "cell_type": "markdown",
     "metadata": {},
     "source": [
      "At this point, the UI controls work just like they would if `interact` had been used. You can manipulate them interactively and the function will be called. However, the widget instance returned by `interactive` also give you access to the current keyword arguments and return value of the underlying Python function.\n",
      "\n",
      "Here are the current keyword arguments. If you rerun this cell after manipulating the sliders, the values will have changed."
     ]
    },
    {
     "cell_type": "code",
     "collapsed": false,
     "input": [
      "w.kwargs"
     ],
     "language": "python",
     "metadata": {},
     "outputs": [
      {
       "metadata": {},
       "output_type": "pyout",
       "prompt_number": 23,
       "text": [
        "{u'a': 3, u'b': 20}"
       ]
      }
     ],
     "prompt_number": 23
    },
    {
     "cell_type": "markdown",
     "metadata": {},
     "source": [
      "Here is the current return value of the function."
     ]
    },
    {
     "cell_type": "code",
     "collapsed": false,
     "input": [
      "w.result"
     ],
     "language": "python",
     "metadata": {},
     "outputs": [
      {
       "metadata": {},
       "output_type": "pyout",
       "prompt_number": 24,
       "text": [
        "23"
       ]
      }
     ],
     "prompt_number": 24
    },
    {
     "cell_type": "markdown",
     "metadata": {},
     "source": [
      "### Example"
     ]
    },
    {
     "cell_type": "markdown",
     "metadata": {},
     "source": [
      "In this example, you will use interact to build a UI for exploring [San Francisco department purchases by city agency](https://data.sfgov.org/Economy-and-Community/Delegated-Departmental-Purchases-by-City-Agency-Pr/4q92-gm9f) data."
     ]
    },
    {
     "cell_type": "code",
     "collapsed": false,
     "input": [
      "# Import Pandas and then load the data.\n",
      "from pandas import read_csv, DataFrame\n",
      "df = read_csv('SFDeptPurchases.csv')\n",
      "df[:5]"
     ],
     "language": "python",
     "metadata": {},
     "outputs": [
      {
       "html": [
        "<div style=\"max-height:1000px;max-width:1500px;overflow:auto;\">\n",
        "<table border=\"1\" class=\"dataframe\">\n",
        "  <thead>\n",
        "    <tr style=\"text-align: right;\">\n",
        "      <th></th>\n",
        "      <th>Purchase Order ID</th>\n",
        "      <th>Dept  Code</th>\n",
        "      <th>Dept Name</th>\n",
        "      <th>Vendor Number</th>\n",
        "      <th>Vendor Name</th>\n",
        "      <th>Commodity Title</th>\n",
        "      <th>Post Date</th>\n",
        "      <th>Total</th>\n",
        "      <th>Vendor Zip</th>\n",
        "    </tr>\n",
        "  </thead>\n",
        "  <tbody>\n",
        "    <tr>\n",
        "      <th>0</th>\n",
        "      <td> DPAP10000038</td>\n",
        "      <td> ADP</td>\n",
        "      <td> ADULT PROBATION</td>\n",
        "      <td> 14326</td>\n",
        "      <td>                     PATRICK &amp; CO</td>\n",
        "      <td>                       FURNITURE- OFFICE;ERGONOMIC</td>\n",
        "      <td> 06/11/2010 07:00:00 AM +0000</td>\n",
        "      <td> $8884.71</td>\n",
        "      <td>     94104</td>\n",
        "    </tr>\n",
        "    <tr>\n",
        "      <th>1</th>\n",
        "      <td> DPAP10000037</td>\n",
        "      <td> ADP</td>\n",
        "      <td> ADULT PROBATION</td>\n",
        "      <td> 77720</td>\n",
        "      <td>                    AT&amp;T MOBILITY</td>\n",
        "      <td>                 CHARGE, EXTRA-ORDINARY FEES/TAXES</td>\n",
        "      <td> 05/28/2010 07:00:00 AM +0000</td>\n",
        "      <td>  $238.10</td>\n",
        "      <td> 980739767</td>\n",
        "    </tr>\n",
        "    <tr>\n",
        "      <th>2</th>\n",
        "      <td> DPAP10000044</td>\n",
        "      <td> ADP</td>\n",
        "      <td> ADULT PROBATION</td>\n",
        "      <td> 58893</td>\n",
        "      <td> EN POINTE TECHNOLOGIES SALES INC</td>\n",
        "      <td> A/V;ENTERTAINMENT SYS,EQPT,ACCESS&amp;SUPPL;RADIOS...</td>\n",
        "      <td> 06/28/2010 07:00:00 AM +0000</td>\n",
        "      <td> $3242.54</td>\n",
        "      <td> 900514429</td>\n",
        "    </tr>\n",
        "    <tr>\n",
        "      <th>3</th>\n",
        "      <td> DPAP10000043</td>\n",
        "      <td> ADP</td>\n",
        "      <td> ADULT PROBATION</td>\n",
        "      <td> 12467</td>\n",
        "      <td>         MICROBIZ SECURITY CO INC</td>\n",
        "      <td>  COMMUNICATIONS HARDWARE, PERSONAL COMPUTER BASED</td>\n",
        "      <td> 06/22/2010 07:00:00 AM +0000</td>\n",
        "      <td>  $448.95</td>\n",
        "      <td>     94103</td>\n",
        "    </tr>\n",
        "    <tr>\n",
        "      <th>4</th>\n",
        "      <td> DPAP10000042</td>\n",
        "      <td> ADP</td>\n",
        "      <td> ADULT PROBATION</td>\n",
        "      <td>  7766</td>\n",
        "      <td>                FORT MASON CENTER</td>\n",
        "      <td>                         RENT,REAL ESTATE;FACILITY</td>\n",
        "      <td> 06/23/2010 07:00:00 AM +0000</td>\n",
        "      <td> $1095.00</td>\n",
        "      <td> 941231382</td>\n",
        "    </tr>\n",
        "  </tbody>\n",
        "</table>\n",
        "</div>"
       ],
       "metadata": {},
       "output_type": "pyout",
       "prompt_number": 25,
       "text": [
        "  Purchase Order ID Dept  Code        Dept Name Vendor Number  \\\n",
        "0      DPAP10000038        ADP  ADULT PROBATION         14326   \n",
        "1      DPAP10000037        ADP  ADULT PROBATION         77720   \n",
        "2      DPAP10000044        ADP  ADULT PROBATION         58893   \n",
        "3      DPAP10000043        ADP  ADULT PROBATION         12467   \n",
        "4      DPAP10000042        ADP  ADULT PROBATION          7766   \n",
        "\n",
        "                        Vendor Name  \\\n",
        "0                      PATRICK & CO   \n",
        "1                     AT&T MOBILITY   \n",
        "2  EN POINTE TECHNOLOGIES SALES INC   \n",
        "3          MICROBIZ SECURITY CO INC   \n",
        "4                 FORT MASON CENTER   \n",
        "\n",
        "                                     Commodity Title  \\\n",
        "0                        FURNITURE- OFFICE;ERGONOMIC   \n",
        "1                  CHARGE, EXTRA-ORDINARY FEES/TAXES   \n",
        "2  A/V;ENTERTAINMENT SYS,EQPT,ACCESS&SUPPL;RADIOS...   \n",
        "3   COMMUNICATIONS HARDWARE, PERSONAL COMPUTER BASED   \n",
        "4                          RENT,REAL ESTATE;FACILITY   \n",
        "\n",
        "                      Post Date     Total Vendor Zip  \n",
        "0  06/11/2010 07:00:00 AM +0000  $8884.71      94104  \n",
        "1  05/28/2010 07:00:00 AM +0000   $238.10  980739767  \n",
        "2  06/28/2010 07:00:00 AM +0000  $3242.54  900514429  \n",
        "3  06/22/2010 07:00:00 AM +0000   $448.95      94103  \n",
        "4  06/23/2010 07:00:00 AM +0000  $1095.00  941231382  "
       ]
      }
     ],
     "prompt_number": 25
    },
    {
     "cell_type": "markdown",
     "metadata": {},
     "source": [
      "Convert the totals into floating point numbers."
     ]
    },
    {
     "cell_type": "code",
     "collapsed": false,
     "input": [
      "df['Total'] = df['Total'].str.replace(r'[$,]', '').convert_objects(convert_numeric=True)\n",
      "df[:5]['Total']"
     ],
     "language": "python",
     "metadata": {},
     "outputs": [
      {
       "metadata": {},
       "output_type": "pyout",
       "prompt_number": 26,
       "text": [
        "0    8884.71\n",
        "1     238.10\n",
        "2    3242.54\n",
        "3     448.95\n",
        "4    1095.00\n",
        "Name: Total, dtype: float64"
       ]
      }
     ],
     "prompt_number": 26
    },
    {
     "cell_type": "markdown",
     "metadata": {},
     "source": [
      "List the columns of the Pandas data frame:"
     ]
    },
    {
     "cell_type": "code",
     "collapsed": true,
     "input": [
      "%matplotlib inline\n",
      "from matplotlib import pyplot as plt\n",
      "plt.style.use('ggplot')\n",
      "\n",
      "def plot_by(df, column='Dept Name', count=10, ascending=False):\n",
      "    \n",
      "    # Group the data by the column specified and sum the totals.\n",
      "    data = df.groupby(column)['Total'].sum().dropna()\n",
      "    \n",
      "    # Sort the data.\n",
      "    data = DataFrame(data, columns=['Total']).sort('Total', ascending=ascending)\n",
      "    \n",
      "    # Plot the subset of the sorted data that the user is interested in.\n",
      "    data = data[:count].plot(kind='bar')\n",
      "    \n",
      "    # Plot settings.\n",
      "    plt.title('%s Costs' % column)\n",
      "    plt.ylabel('Cost ($)')"
     ],
     "language": "python",
     "metadata": {},
     "outputs": [],
     "prompt_number": 85
    },
    {
     "cell_type": "code",
     "collapsed": false,
     "input": [
      "interact(plot_by, df=fixed(df), column=df.columns.tolist(), count=(5,15));"
     ],
     "language": "python",
     "metadata": {},
     "outputs": [
      {
       "metadata": {},
       "output_type": "display_data",
       "png": "[encoded data removed]",
       "text": [
        "<matplotlib.figure.Figure at 0x10b95b290>"
       ]
      }
     ],
     "prompt_number": 87
    },
    {
     "cell_type": "heading",
     "level": 1,
     "metadata": {},
     "source": [
      "Widgets"
     ]
    },
    {
     "cell_type": "heading",
     "level": 2,
     "metadata": {},
     "source": [
      "Using widgets  "
     ]
    },
    {
     "cell_type": "markdown",
     "metadata": {
      "slideshow": {
       "slide_type": "slide"
      }
     },
     "source": [
      "To use the widget framework, you need to **import `IPython.html.widgets`**."
     ]
    },
    {
     "cell_type": "code",
     "collapsed": false,
     "input": [
      "from IPython.html.widgets import *"
     ],
     "language": "python",
     "metadata": {},
     "outputs": [],
     "prompt_number": 30
    },
    {
     "cell_type": "heading",
     "level": 3,
     "metadata": {
      "slideshow": {
       "slide_type": "slide"
      }
     },
     "source": [
      "repr"
     ]
    },
    {
     "cell_type": "markdown",
     "metadata": {},
     "source": [
      "Widgets have their own display `repr` which allows them to be displayed using IPython's display framework.  Constructing and returning an `IntSlider` automatically displays the widget (as seen below).  Widgets are **displayed inside the `widget area`**, which sits between the code cell and output.  **You can hide all of the widgets** in the `widget area` by clicking the grey *x* in the margin."
     ]
    },
    {
     "cell_type": "code",
     "collapsed": false,
     "input": [
      "IntSlider()"
     ],
     "language": "python",
     "metadata": {},
     "outputs": [],
     "prompt_number": 31
    },
    {
     "cell_type": "heading",
     "level": 3,
     "metadata": {
      "slideshow": {
       "slide_type": "slide"
      }
     },
     "source": [
      "display()"
     ]
    },
    {
     "cell_type": "markdown",
     "metadata": {},
     "source": [
      "You can also explicitly display the widget using `display(...)`."
     ]
    },
    {
     "cell_type": "code",
     "collapsed": false,
     "input": [
      "from IPython.display import display\n",
      "w = IntSlider()\n",
      "display(w)"
     ],
     "language": "python",
     "metadata": {},
     "outputs": [],
     "prompt_number": 32
    },
    {
     "cell_type": "heading",
     "level": 3,
     "metadata": {
      "slideshow": {
       "slide_type": "slide"
      }
     },
     "source": [
      "Multiple display() calls"
     ]
    },
    {
     "cell_type": "markdown",
     "metadata": {},
     "source": [
      "If you display the same widget twice, the displayed instances in the front-end **will remain in sync** with each other."
     ]
    },
    {
     "cell_type": "code",
     "collapsed": false,
     "input": [
      "display(w)"
     ],
     "language": "python",
     "metadata": {},
     "outputs": [],
     "prompt_number": 33
    },
    {
     "cell_type": "heading",
     "level": 2,
     "metadata": {},
     "source": [
      "Why does displaying the same widget twice work?"
     ]
    },
    {
     "cell_type": "markdown",
     "metadata": {
      "slideshow": {
       "slide_type": "slide"
      }
     },
     "source": [
      "Widgets are **represented in the back-end by a single object**.  Each time a widget is displayed, **a new representation** of that same object is created in the front-end.  These representations are called **views**."
     ]
    },
    {
     "cell_type": "heading",
     "level": 3,
     "metadata": {
      "slideshow": {
       "slide_type": "slide"
      }
     },
     "source": [
      "Closing widgets"
     ]
    },
    {
     "cell_type": "markdown",
     "metadata": {},
     "source": [
      "You can close a widget by calling its `close()` method."
     ]
    },
    {
     "cell_type": "code",
     "collapsed": false,
     "input": [
      "display(w)"
     ],
     "language": "python",
     "metadata": {},
     "outputs": [],
     "prompt_number": 34
    },
    {
     "cell_type": "code",
     "collapsed": false,
     "input": [
      "w.close()"
     ],
     "language": "python",
     "metadata": {},
     "outputs": [],
     "prompt_number": 35
    },
    {
     "cell_type": "heading",
     "level": 2,
     "metadata": {},
     "source": [
      "Widget properties"
     ]
    },
    {
     "cell_type": "markdown",
     "metadata": {
      "slideshow": {
       "slide_type": "slide"
      }
     },
     "source": [
      "All of the IPython widgets **share a similar naming scheme**.  To read the value of a widget, you can query its `value` property."
     ]
    },
    {
     "cell_type": "code",
     "collapsed": false,
     "input": [
      "w = IntSlider()\n",
      "display(w)"
     ],
     "language": "python",
     "metadata": {},
     "outputs": [],
     "prompt_number": 36
    },
    {
     "cell_type": "code",
     "collapsed": false,
     "input": [
      "w.value"
     ],
     "language": "python",
     "metadata": {},
     "outputs": [
      {
       "metadata": {},
       "output_type": "pyout",
       "prompt_number": 37,
       "text": [
        "0"
       ]
      }
     ],
     "prompt_number": 37
    },
    {
     "cell_type": "markdown",
     "metadata": {},
     "source": [
      "Similarly, to set a widget's value, you can set its `value` property."
     ]
    },
    {
     "cell_type": "code",
     "collapsed": false,
     "input": [
      "w.value = 100"
     ],
     "language": "python",
     "metadata": {},
     "outputs": [],
     "prompt_number": 38
    },
    {
     "cell_type": "heading",
     "level": 3,
     "metadata": {
      "slideshow": {
       "slide_type": "slide"
      }
     },
     "source": [
      "Keys"
     ]
    },
    {
     "cell_type": "markdown",
     "metadata": {},
     "source": [
      "In addition to `value`, most widgets share `keys`, `description`, `disabled`, and `visible`.  To see the entire list of synchronized, stateful properties, of any specific widget, you can **query the `keys` property**."
     ]
    },
    {
     "cell_type": "code",
     "collapsed": false,
     "input": [
      "w.keys"
     ],
     "language": "python",
     "metadata": {},
     "outputs": [
      {
       "metadata": {},
       "output_type": "pyout",
       "prompt_number": 39,
       "text": [
        "['_view_name',\n",
        " 'orientation',\n",
        " 'color',\n",
        " 'height',\n",
        " 'disabled',\n",
        " 'visible',\n",
        " 'border_radius',\n",
        " 'border_width',\n",
        " 'background_color',\n",
        " 'font_style',\n",
        " 'min',\n",
        " '_range',\n",
        " 'width',\n",
        " 'font_family',\n",
        " '_dom_classes',\n",
        " 'description',\n",
        " 'slider_color',\n",
        " 'max',\n",
        " 'border_color',\n",
        " 'readout',\n",
        " 'padding',\n",
        " 'font_weight',\n",
        " 'step',\n",
        " 'border_style',\n",
        " 'font_size',\n",
        " 'msg_throttle',\n",
        " '_css',\n",
        " 'value',\n",
        " 'margin']"
       ]
      }
     ],
     "prompt_number": 39
    },
    {
     "cell_type": "heading",
     "level": 3,
     "metadata": {},
     "source": [
      "Shorthand for setting the initial values of widget properties"
     ]
    },
    {
     "cell_type": "markdown",
     "metadata": {
      "slideshow": {
       "slide_type": "slide"
      }
     },
     "source": [
      "While creating a widget, you can set some or all of the initial values of that widget by **defining them as keyword arguments in the widget's constructor** (as seen below)."
     ]
    },
    {
     "cell_type": "code",
     "collapsed": false,
     "input": [
      "Text(value='Hello World!', disabled=True)"
     ],
     "language": "python",
     "metadata": {},
     "outputs": [],
     "prompt_number": 40
    },
    {
     "cell_type": "heading",
     "level": 2,
     "metadata": {},
     "source": [
      "Linking two similar widgets"
     ]
    },
    {
     "cell_type": "markdown",
     "metadata": {
      "slideshow": {
       "slide_type": "slide"
      }
     },
     "source": [
      "If you need to display the same value two different ways, you'll have to use two different widgets.  Instead of **attempting to manually synchronize the values** of the two widgets, you can use the `traitlet` `link` function **to link two properties together**.  Below, the values of three widgets are linked together."
     ]
    },
    {
     "cell_type": "code",
     "collapsed": false,
     "input": [
      "from IPython.utils.traitlets import link\n",
      "a = FloatText()\n",
      "b = FloatSlider()\n",
      "c = FloatProgress()\n",
      "display(a,b,c)\n",
      "\n",
      "\n",
      "mylink = link((a, 'value'), (b, 'value'), (c, 'value'))"
     ],
     "language": "python",
     "metadata": {},
     "outputs": [],
     "prompt_number": 41
    },
    {
     "cell_type": "heading",
     "level": 3,
     "metadata": {},
     "source": [
      "Unlinking widgets"
     ]
    },
    {
     "cell_type": "markdown",
     "metadata": {
      "slideshow": {
       "slide_type": "slide"
      }
     },
     "source": [
      "Unlinking the widgets is simple.  All you have to do is call `.unlink` on the link object."
     ]
    },
    {
     "cell_type": "code",
     "collapsed": false,
     "input": [
      "mylink.unlink()"
     ],
     "language": "python",
     "metadata": {},
     "outputs": [],
     "prompt_number": 42
    },
    {
     "cell_type": "heading",
     "level": 1,
     "metadata": {},
     "source": [
      "Widget List"
     ]
    },
    {
     "cell_type": "heading",
     "level": 2,
     "metadata": {},
     "source": [
      "Complete list"
     ]
    },
    {
     "cell_type": "markdown",
     "metadata": {
      "slideshow": {
       "slide_type": "slide"
      }
     },
     "source": [
      "For a complete list of the widgets available to you, you can list the classes in the widget namespace (as seen below).  `Widget` and `DOMWidget`, not listed below, are base classes."
     ]
    },
    {
     "cell_type": "code",
     "collapsed": false,
     "input": [
      "from IPython.html import widgets\n",
      "[n for n in dir(widgets) if not n.endswith('Widget') and n[0] == n[0].upper() and not n[0] == '_']"
     ],
     "language": "python",
     "metadata": {},
     "outputs": [
      {
       "metadata": {},
       "output_type": "pyout",
       "prompt_number": 43,
       "text": [
        "['Accordion',\n",
        " 'BoundedFloatText',\n",
        " 'BoundedIntText',\n",
        " 'Box',\n",
        " 'Button',\n",
        " 'CallbackDispatcher',\n",
        " 'Checkbox',\n",
        " 'Dropdown',\n",
        " 'FlexBox',\n",
        " 'FloatProgress',\n",
        " 'FloatRangeSlider',\n",
        " 'FloatSlider',\n",
        " 'FloatText',\n",
        " 'HBox',\n",
        " 'HTML',\n",
        " 'Image',\n",
        " 'IntProgress',\n",
        " 'IntRangeSlider',\n",
        " 'IntSlider',\n",
        " 'IntText',\n",
        " 'Latex',\n",
        " 'Popup',\n",
        " 'RadioButtons',\n",
        " 'Select',\n",
        " 'Tab',\n",
        " 'Text',\n",
        " 'Textarea',\n",
        " 'ToggleButton',\n",
        " 'ToggleButtons',\n",
        " 'VBox']"
       ]
      }
     ],
     "prompt_number": 43
    },
    {
     "cell_type": "heading",
     "level": 2,
     "metadata": {
      "slideshow": {
       "slide_type": "slide"
      }
     },
     "source": [
      "Numeric widgets"
     ]
    },
    {
     "cell_type": "markdown",
     "metadata": {},
     "source": [
      "There are 8 widgets distributed with IPython that are designed to display numeric values.  Widgets exist for displaying integers and floats, both bounded and unbounded.  The integer widgets share a similar naming scheme to their floating point counterparts.  By replacing `Float` with `Int` in the widget name, you can find the Integer equivalent."
     ]
    },
    {
     "cell_type": "heading",
     "level": 3,
     "metadata": {
      "slideshow": {
       "slide_type": "slide"
      }
     },
     "source": [
      "FloatSlider"
     ]
    },
    {
     "cell_type": "code",
     "collapsed": false,
     "input": [
      "widgets.FloatSlider(\n",
      "    value=7.5,\n",
      "    min=5.0,\n",
      "    max=10.0,\n",
      "    step=0.1,\n",
      "    description='Test:',\n",
      ")"
     ],
     "language": "python",
     "metadata": {},
     "outputs": [],
     "prompt_number": 44
    },
    {
     "cell_type": "markdown",
     "metadata": {},
     "source": [
      "Sliders can also be **displayed vertically**."
     ]
    },
    {
     "cell_type": "code",
     "collapsed": false,
     "input": [
      "widgets.FloatSlider(\n",
      "    value=7.5,\n",
      "    min=5.0,\n",
      "    max=10.0,\n",
      "    step=0.1,\n",
      "    description='Test',\n",
      "    orientation='vertical',\n",
      ")"
     ],
     "language": "python",
     "metadata": {},
     "outputs": [],
     "prompt_number": 45
    },
    {
     "cell_type": "heading",
     "level": 3,
     "metadata": {
      "slideshow": {
       "slide_type": "slide"
      }
     },
     "source": [
      "FloatProgress"
     ]
    },
    {
     "cell_type": "code",
     "collapsed": false,
     "input": [
      "widgets.FloatProgress(\n",
      "    value=7.5,\n",
      "    min=5.0,\n",
      "    max=10.0,\n",
      "    step=0.1,\n",
      "    description='Loading:',\n",
      ")"
     ],
     "language": "python",
     "metadata": {},
     "outputs": [],
     "prompt_number": 46
    },
    {
     "cell_type": "heading",
     "level": 3,
     "metadata": {
      "slideshow": {
       "slide_type": "slide"
      }
     },
     "source": [
      "BoundedFloatText"
     ]
    },
    {
     "cell_type": "code",
     "collapsed": false,
     "input": [
      "widgets.BoundedFloatText(\n",
      "    value=7.5,\n",
      "    min=5.0,\n",
      "    max=10.0,\n",
      "    description='Text:',\n",
      ")"
     ],
     "language": "python",
     "metadata": {},
     "outputs": [],
     "prompt_number": 47
    },
    {
     "cell_type": "heading",
     "level": 3,
     "metadata": {
      "slideshow": {
       "slide_type": "slide"
      }
     },
     "source": [
      "FloatText"
     ]
    },
    {
     "cell_type": "code",
     "collapsed": false,
     "input": [
      "widgets.FloatText(\n",
      "    value=7.5,\n",
      "    description='Any:',\n",
      ")"
     ],
     "language": "python",
     "metadata": {},
     "outputs": [],
     "prompt_number": 48
    },
    {
     "cell_type": "heading",
     "level": 2,
     "metadata": {
      "slideshow": {
       "slide_type": "slide"
      }
     },
     "source": [
      "Boolean widgets"
     ]
    },
    {
     "cell_type": "markdown",
     "metadata": {},
     "source": [
      "There are two widgets that are designed to display a boolean value."
     ]
    },
    {
     "cell_type": "heading",
     "level": 3,
     "metadata": {},
     "source": [
      "ToggleButton"
     ]
    },
    {
     "cell_type": "code",
     "collapsed": false,
     "input": [
      "widgets.ToggleButton(\n",
      "    description='Click me',\n",
      "    value=False,\n",
      ")"
     ],
     "language": "python",
     "metadata": {},
     "outputs": [],
     "prompt_number": 49
    },
    {
     "cell_type": "heading",
     "level": 3,
     "metadata": {
      "slideshow": {
       "slide_type": "slide"
      }
     },
     "source": [
      "Checkbox"
     ]
    },
    {
     "cell_type": "code",
     "collapsed": false,
     "input": [
      "widgets.Checkbox(\n",
      "    description='Check me',\n",
      "    value=True,\n",
      ")"
     ],
     "language": "python",
     "metadata": {},
     "outputs": [],
     "prompt_number": 50
    },
    {
     "cell_type": "heading",
     "level": 2,
     "metadata": {
      "slideshow": {
       "slide_type": "slide"
      }
     },
     "source": [
      "Selection widgets"
     ]
    },
    {
     "cell_type": "markdown",
     "metadata": {},
     "source": [
      "There are four widgets that can be used to display single selection lists.  All four inherit from the same base class.  You can specify the **enumeration of selectables by passing a list**.  You can **also specify the enumeration as a dictionary**, in which case the **keys will be used as the item displayed** in the list and the corresponding **value will be returned** when an item is selected."
     ]
    },
    {
     "cell_type": "heading",
     "level": 3,
     "metadata": {
      "slideshow": {
       "slide_type": "slide"
      }
     },
     "source": [
      "Dropdown"
     ]
    },
    {
     "cell_type": "code",
     "collapsed": false,
     "input": [
      "from IPython.display import display\n",
      "w = widgets.Dropdown(\n",
      "    values=[1, 2, 3],\n",
      "    value=2,\n",
      "    description='Number:',\n",
      ")\n",
      "display(w)"
     ],
     "language": "python",
     "metadata": {},
     "outputs": [],
     "prompt_number": 51
    },
    {
     "cell_type": "code",
     "collapsed": false,
     "input": [
      "w.value"
     ],
     "language": "python",
     "metadata": {},
     "outputs": [
      {
       "metadata": {},
       "output_type": "pyout",
       "prompt_number": 52,
       "text": [
        "2"
       ]
      }
     ],
     "prompt_number": 52
    },
    {
     "cell_type": "markdown",
     "metadata": {},
     "source": [
      "The following is also valid:"
     ]
    },
    {
     "cell_type": "code",
     "collapsed": false,
     "input": [
      "w = widgets.Dropdown(\n",
      "    values={'One': 1, 'Two': 2, 'Three': 3},\n",
      "    value=2,\n",
      "    description='Number:',\n",
      ")\n",
      "display(w)"
     ],
     "language": "python",
     "metadata": {},
     "outputs": [],
     "prompt_number": 53
    },
    {
     "cell_type": "code",
     "collapsed": false,
     "input": [
      "w.value"
     ],
     "language": "python",
     "metadata": {},
     "outputs": [
      {
       "metadata": {},
       "output_type": "pyout",
       "prompt_number": 54,
       "text": [
        "2"
       ]
      }
     ],
     "prompt_number": 54
    },
    {
     "cell_type": "heading",
     "level": 3,
     "metadata": {
      "slideshow": {
       "slide_type": "slide"
      }
     },
     "source": [
      "RadioButtons"
     ]
    },
    {
     "cell_type": "code",
     "collapsed": false,
     "input": [
      "widgets.RadioButtons(\n",
      "    description='Pizza topping:',\n",
      "    values=['pepperoni', 'pineapple', 'anchovies'],\n",
      ")"
     ],
     "language": "python",
     "metadata": {},
     "outputs": [],
     "prompt_number": 55
    },
    {
     "cell_type": "heading",
     "level": 3,
     "metadata": {
      "slideshow": {
       "slide_type": "slide"
      }
     },
     "source": [
      "Select"
     ]
    },
    {
     "cell_type": "code",
     "collapsed": false,
     "input": [
      "widgets.Select(\n",
      "    description='OS:',\n",
      "    values=['Linux', 'Windows', 'OSX'],\n",
      ")"
     ],
     "language": "python",
     "metadata": {},
     "outputs": [],
     "prompt_number": 56
    },
    {
     "cell_type": "heading",
     "level": 3,
     "metadata": {
      "slideshow": {
       "slide_type": "slide"
      }
     },
     "source": [
      "ToggleButtons"
     ]
    },
    {
     "cell_type": "code",
     "collapsed": false,
     "input": [
      "widgets.ToggleButtons(\n",
      "    description='Speed:',\n",
      "    values=['Slow', 'Regular', 'Fast'],\n",
      ")"
     ],
     "language": "python",
     "metadata": {},
     "outputs": [],
     "prompt_number": 57
    },
    {
     "cell_type": "heading",
     "level": 2,
     "metadata": {
      "slideshow": {
       "slide_type": "slide"
      }
     },
     "source": [
      "String widgets"
     ]
    },
    {
     "cell_type": "markdown",
     "metadata": {},
     "source": [
      "There are 4 widgets that can be used to display a string value.  Of those, the **`Text` and `Textarea` widgets accept input**.  The **`Latex` and `HTML` widgets display the string** as either Latex or HTML respectively, but **do not accept input**."
     ]
    },
    {
     "cell_type": "heading",
     "level": 3,
     "metadata": {
      "slideshow": {
       "slide_type": "slide"
      }
     },
     "source": [
      "Text"
     ]
    },
    {
     "cell_type": "code",
     "collapsed": false,
     "input": [
      "widgets.Text(\n",
      "    description='String:',\n",
      "    value='Hello World',\n",
      ")"
     ],
     "language": "python",
     "metadata": {},
     "outputs": [],
     "prompt_number": 58
    },
    {
     "cell_type": "heading",
     "level": 3,
     "metadata": {},
     "source": [
      "Textarea"
     ]
    },
    {
     "cell_type": "code",
     "collapsed": false,
     "input": [
      "widgets.Textarea(\n",
      "    description='String:',\n",
      "    value='Hello World',\n",
      ")"
     ],
     "language": "python",
     "metadata": {},
     "outputs": [],
     "prompt_number": 59
    },
    {
     "cell_type": "heading",
     "level": 3,
     "metadata": {
      "slideshow": {
       "slide_type": "slide"
      }
     },
     "source": [
      "Latex"
     ]
    },
    {
     "cell_type": "code",
     "collapsed": false,
     "input": [
      "widgets.Latex(\n",
      "    value=\"$$\\\\frac{n!}{k!(n-k)!} = \\\\binom{n}{k}$$\",\n",
      ")"
     ],
     "language": "python",
     "metadata": {},
     "outputs": [],
     "prompt_number": 60
    },
    {
     "cell_type": "heading",
     "level": 3,
     "metadata": {},
     "source": [
      "HTML"
     ]
    },
    {
     "cell_type": "code",
     "collapsed": false,
     "input": [
      "widgets.HTML(\n",
      "    value=\"Hello <b>World</b>\"\n",
      ")"
     ],
     "language": "python",
     "metadata": {},
     "outputs": [],
     "prompt_number": 61
    },
    {
     "cell_type": "heading",
     "level": 2,
     "metadata": {
      "slideshow": {
       "slide_type": "slide"
      }
     },
     "source": [
      "Button"
     ]
    },
    {
     "cell_type": "code",
     "collapsed": false,
     "input": [
      "widgets.Button(description='Click me')"
     ],
     "language": "python",
     "metadata": {},
     "outputs": [],
     "prompt_number": 62
    },
    {
     "cell_type": "heading",
     "level": 1,
     "metadata": {
      "slideshow": {
       "slide_type": "slide"
      }
     },
     "source": [
      "Widget Events"
     ]
    },
    {
     "cell_type": "heading",
     "level": 2,
     "metadata": {},
     "source": [
      "Special events"
     ]
    },
    {
     "cell_type": "markdown",
     "metadata": {},
     "source": [
      "The `Button` is not used to represent a data type.  Instead the button widget is used to **handle mouse clicks**.  The **`on_click` method** of the `Button` can be used to register function to be called when the button is clicked.  The doc string of the `on_click` can be seen below."
     ]
    },
    {
     "cell_type": "code",
     "collapsed": false,
     "input": [
      "from IPython.html import widgets\n",
      "print(widgets.Button.on_click.__doc__)"
     ],
     "language": "python",
     "metadata": {},
     "outputs": [
      {
       "output_type": "stream",
       "stream": "stdout",
       "text": [
        "Register a callback to execute when the button is clicked.\n",
        "\n",
        "        The callback will be called with one argument,\n",
        "        the clicked button widget instance.\n",
        "\n",
        "        Parameters\n",
        "        ----------\n",
        "        remove : bool (optional)\n",
        "            Set to true to remove the callback from the list of callbacks.\n"
       ]
      }
     ],
     "prompt_number": 64
    },
    {
     "cell_type": "heading",
     "level": 3,
     "metadata": {
      "slideshow": {
       "slide_type": "slide"
      }
     },
     "source": [
      "Example"
     ]
    },
    {
     "cell_type": "markdown",
     "metadata": {},
     "source": [
      "Since button clicks are **stateless**, they are **transmitted from the front-end to the back-end using custom messages**.  By using the `on_click` method, a button that prints a message when it has been clicked is shown below."
     ]
    },
    {
     "cell_type": "code",
     "collapsed": false,
     "input": [
      "from IPython.display import display\n",
      "button = widgets.Button(description=\"Click Me!\")\n",
      "display(button)\n",
      "\n",
      "def on_button_clicked(b):\n",
      "    print(\"Button clicked.\")\n",
      "\n",
      "button.on_click(on_button_clicked)"
     ],
     "language": "python",
     "metadata": {},
     "outputs": [],
     "prompt_number": 65
    },
    {
     "cell_type": "heading",
     "level": 3,
     "metadata": {
      "slideshow": {
       "slide_type": "slide"
      }
     },
     "source": [
      "on_sumbit"
     ]
    },
    {
     "cell_type": "markdown",
     "metadata": {},
     "source": [
      "The **`Text`** also has a special **`on_submit` event**.  The `on_submit` event **fires when the user hits return**."
     ]
    },
    {
     "cell_type": "code",
     "collapsed": false,
     "input": [
      "text = widgets.Text()\n",
      "display(text)\n",
      "\n",
      "def handle_submit(sender):\n",
      "    print(text.value)\n",
      "\n",
      "text.on_submit(handle_submit)"
     ],
     "language": "python",
     "metadata": {},
     "outputs": [],
     "prompt_number": 66
    },
    {
     "cell_type": "heading",
     "level": 2,
     "metadata": {
      "slideshow": {
       "slide_type": "slide"
      }
     },
     "source": [
      "Traitlet events"
     ]
    },
    {
     "cell_type": "markdown",
     "metadata": {},
     "source": [
      "**Widget properties are IPython traitlets** and **traitlets are eventful**.  To handle  changes, the **`on_trait_change` method** of the widget can be used to **register a callback**.  The doc string for `on_trait_change` can be seen below."
     ]
    },
    {
     "cell_type": "code",
     "collapsed": false,
     "input": [
      "print(widgets.Widget.on_trait_change.__doc__)"
     ],
     "language": "python",
     "metadata": {},
     "outputs": [
      {
       "output_type": "stream",
       "stream": "stdout",
       "text": [
        "Setup a handler to be called when a trait changes.\n",
        "\n",
        "        This is used to setup dynamic notifications of trait changes.\n",
        "\n",
        "        Static handlers can be created by creating methods on a HasTraits\n",
        "        subclass with the naming convention '_[traitname]_changed'.  Thus,\n",
        "        to create static handler for the trait 'a', create the method\n",
        "        _a_changed(self, name, old, new) (fewer arguments can be used, see\n",
        "        below).\n",
        "\n",
        "        Parameters\n",
        "        ----------\n",
        "        handler : callable\n",
        "            A callable that is called when a trait changes.  Its\n",
        "            signature can be handler(), handler(name), handler(name, new)\n",
        "            or handler(name, old, new).\n",
        "        name : list, str, None\n",
        "            If None, the handler will apply to all traits.  If a list\n",
        "            of str, handler will apply to all names in the list.  If a\n",
        "            str, the handler will apply just to that name.\n",
        "        remove : bool\n",
        "            If False (the default), then install the handler.  If True\n",
        "            then unintall it.\n",
        "        \n"
       ]
      }
     ],
     "prompt_number": 67
    },
    {
     "cell_type": "heading",
     "level": 3,
     "metadata": {
      "slideshow": {
       "slide_type": "slide"
      }
     },
     "source": [
      "Signatures"
     ]
    },
    {
     "cell_type": "markdown",
     "metadata": {},
     "source": [
      "Mentioned in the doc string, the callback registered can have **4 possible signatures**:\n",
      "\n",
      "- callback()\n",
      "- callback(trait_name)\n",
      "- callback(trait_name, new_value)\n",
      "- callback(trait_name, old_value, new_value)\n",
      "\n",
      "Using this method, an example of how to output an `IntSlider`'s value as it is changed can be seen below."
     ]
    },
    {
     "cell_type": "code",
     "collapsed": false,
     "input": [
      "int_range = widgets.IntSlider()\n",
      "display(int_range)\n",
      "\n",
      "def on_value_change(name, value):\n",
      "    print(value)\n",
      "\n",
      "int_range.on_trait_change(on_value_change, 'value')"
     ],
     "language": "python",
     "metadata": {},
     "outputs": [],
     "prompt_number": 68
    },
    {
     "cell_type": "code",
     "collapsed": false,
     "input": [
      "%%html\n",
      "<style>\n",
      ".example-container { background: #999999; padding: 2px; min-height: 100px; }\n",
      ".example-container.sm { min-height: 50px; }\n",
      ".example-box { background: #9999FF; width: 50px; height: 50px; text-align: center; vertical-align: middle; color: white; font-weight: bold; margin: 2px;}\n",
      ".example-box.med { width: 65px; height: 65px; }   \n",
      ".example-box.lrg { width: 80px; height: 80px; }   \n",
      "</style>"
     ],
     "language": "python",
     "metadata": {},
     "outputs": [
      {
       "html": [
        "<style>\n",
        ".example-container { background: #999999; padding: 2px; min-height: 100px; }\n",
        ".example-container.sm { min-height: 50px; }\n",
        ".example-box { background: #9999FF; width: 50px; height: 50px; text-align: center; vertical-align: middle; color: white; font-weight: bold; margin: 2px;}\n",
        ".example-box.med { width: 65px; height: 65px; }   \n",
        ".example-box.lrg { width: 80px; height: 80px; }   \n",
        "</style>"
       ],
       "metadata": {},
       "output_type": "display_data",
       "text": [
        "<IPython.core.display.HTML object>"
       ]
      }
     ],
     "prompt_number": 69
    },
    {
     "cell_type": "heading",
     "level": 1,
     "metadata": {
      "slideshow": {
       "slide_type": "slide"
      }
     },
     "source": [
      "Widget Styling"
     ]
    },
    {
     "cell_type": "heading",
     "level": 2,
     "metadata": {},
     "source": [
      "Basic styling"
     ]
    },
    {
     "cell_type": "markdown",
     "metadata": {},
     "source": [
      "The widgets distributed with IPython can be styled by setting the following traits:\n",
      "\n",
      "- width  \n",
      "- height  \n",
      "- fore_color  \n",
      "- back_color  \n",
      "- border_color  \n",
      "- border_width  \n",
      "- border_style  \n",
      "- font_style  \n",
      "- font_weight  \n",
      "- font_size  \n",
      "- font_family  \n",
      "\n",
      "The example below shows how a `Button` widget can be styled:"
     ]
    },
    {
     "cell_type": "code",
     "collapsed": false,
     "input": [
      "button = widgets.Button(\n",
      "    description='Hello World!',\n",
      "    width=100, # Integers are interpreted as pixel measurements.\n",
      "    height='2em', # em is valid HTML unit of measurement.\n",
      "    color='lime', # Colors can be set by name,\n",
      "    background_color='#0022FF', # and also by color code.\n",
      "    border_color='red')\n",
      "display(button)"
     ],
     "language": "python",
     "metadata": {},
     "outputs": [],
     "prompt_number": 70
    },
    {
     "cell_type": "heading",
     "level": 2,
     "metadata": {
      "slideshow": {
       "slide_type": "slide"
      }
     },
     "source": [
      "Parent/child relationships"
     ]
    },
    {
     "cell_type": "markdown",
     "metadata": {},
     "source": [
      "To display widget A inside widget B, widget A must be a child of widget B.  Widgets that can contain other widgets have a **`children` attribute**.  This attribute can be **set via a keyword argument** in the widget's constructor **or after construction**.  Calling display on an **object with children automatically displays those children**, too."
     ]
    },
    {
     "cell_type": "code",
     "collapsed": false,
     "input": [
      "from IPython.display import display\n",
      "\n",
      "float_range = widgets.FloatSlider()\n",
      "string = widgets.Text(value='hi')\n",
      "container = widgets.Box(children=[float_range, string])\n",
      "\n",
      "container.border_color = 'red'\n",
      "container.border_style = 'dotted'\n",
      "container.border_width = 3\n",
      "display(container) # Displays the `container` and all of it's children."
     ],
     "language": "python",
     "metadata": {},
     "outputs": [],
     "prompt_number": 71
    },
    {
     "cell_type": "heading",
     "level": 3,
     "metadata": {},
     "source": [
      "After the parent is displayed"
     ]
    },
    {
     "cell_type": "markdown",
     "metadata": {
      "slideshow": {
       "slide_type": "slide"
      }
     },
     "source": [
      "Children **can be added to parents** after the parent has been displayed.  The **parent is responsible for rendering its children**."
     ]
    },
    {
     "cell_type": "code",
     "collapsed": false,
     "input": [
      "container = widgets.Box()\n",
      "container.border_color = 'red'\n",
      "container.border_style = 'dotted'\n",
      "container.border_width = 3\n",
      "display(container)\n",
      "\n",
      "int_range = widgets.IntSlider()\n",
      "container.children=[int_range]"
     ],
     "language": "python",
     "metadata": {},
     "outputs": [],
     "prompt_number": 72
    },
    {
     "cell_type": "heading",
     "level": 2,
     "metadata": {
      "slideshow": {
       "slide_type": "slide"
      }
     },
     "source": [
      "Fancy boxes"
     ]
    },
    {
     "cell_type": "markdown",
     "metadata": {},
     "source": [
      "If you need to display a more complicated set of widgets, there are **specialized containers** that you can use.  To display **multiple sets of widgets**, you can use an **`Accordion` or a `Tab` in combination with one `Box` per set of widgets** (as seen below).  The \"pages\" of these widgets are their children.  To set the titles of the pages, one must **call `set_title` after the widget has been displayed**."
     ]
    },
    {
     "cell_type": "heading",
     "level": 3,
     "metadata": {},
     "source": [
      "Accordion"
     ]
    },
    {
     "cell_type": "code",
     "collapsed": false,
     "input": [
      "name1 = widgets.Text(description='Location:')\n",
      "zip1 = widgets.BoundedIntText(description='Zip:', min=0, max=99999)\n",
      "page1 = widgets.Box(children=[name1, zip1])\n",
      "\n",
      "name2 = widgets.Text(description='Location:')\n",
      "zip2 = widgets.BoundedIntText(description='Zip:', min=0, max=99999)\n",
      "page2 = widgets.Box(children=[name2, zip2])\n",
      "\n",
      "accord = widgets.Accordion(children=[page1, page2])\n",
      "display(accord)\n",
      "\n",
      "accord.set_title(0, 'From')\n",
      "accord.set_title(1, 'To')"
     ],
     "language": "python",
     "metadata": {},
     "outputs": [],
     "prompt_number": 73
    },
    {
     "cell_type": "heading",
     "level": 3,
     "metadata": {
      "slideshow": {
       "slide_type": "slide"
      }
     },
     "source": [
      "TabWidget"
     ]
    },
    {
     "cell_type": "code",
     "collapsed": false,
     "input": [
      "name = widgets.Text(description='Name:')\n",
      "color = widgets.Dropdown(description='Color:', values=['red', 'orange', 'yellow', 'green', 'blue', 'indigo', 'violet'])\n",
      "page1 = widgets.Box(children=[name, color])\n",
      "\n",
      "age = widgets.IntSlider(description='Age:', min=0, max=120, value=50)\n",
      "gender = widgets.RadioButtons(description='Gender:', values=['male', 'female'])\n",
      "page2 = widgets.Box(children=[age, gender])\n",
      "\n",
      "tabs = widgets.Tab(children=[page1, page2])\n",
      "display(tabs)\n",
      "\n",
      "tabs.set_title(0, 'Name')\n",
      "tabs.set_title(1, 'Details')"
     ],
     "language": "python",
     "metadata": {},
     "outputs": [],
     "prompt_number": 74
    },
    {
     "cell_type": "heading",
     "level": 3,
     "metadata": {
      "slideshow": {
       "slide_type": "slide"
      }
     },
     "source": [
      "Popup"
     ]
    },
    {
     "cell_type": "markdown",
     "metadata": {},
     "source": [
      "Unlike the other two special containers, the `Popup` is only **designed to display one set of widgets**.  The `Popup` can be used to **display widgets outside of the widget area**.  "
     ]
    },
    {
     "cell_type": "code",
     "collapsed": false,
     "input": [
      "counter = widgets.IntText(description='Counter:')\n",
      "popup = widgets.Popup(children=[counter], description='Popup Demo', button_text='Popup Button')\n",
      "display(popup)"
     ],
     "language": "python",
     "metadata": {},
     "outputs": [],
     "prompt_number": 75
    },
    {
     "cell_type": "code",
     "collapsed": false,
     "input": [
      "counter.value += 1"
     ],
     "language": "python",
     "metadata": {},
     "outputs": [],
     "prompt_number": 76
    },
    {
     "cell_type": "code",
     "collapsed": false,
     "input": [],
     "language": "python",
     "metadata": {},
     "outputs": []
    },
    {
     "cell_type": "code",
     "collapsed": false,
     "input": [],
     "language": "python",
     "metadata": {},
     "outputs": []
    },
    {
     "cell_type": "code",
     "collapsed": false,
     "input": [],
     "language": "python",
     "metadata": {},
     "outputs": []
    },
    {
     "cell_type": "code",
     "collapsed": false,
     "input": [],
     "language": "python",
     "metadata": {},
     "outputs": []
    },
    {
     "cell_type": "code",
     "collapsed": false,
     "input": [],
     "language": "python",
     "metadata": {},
     "outputs": []
    },
    {
     "cell_type": "code",
     "collapsed": false,
     "input": [],
     "language": "python",
     "metadata": {},
     "outputs": []
    },
    {
     "cell_type": "code",
     "collapsed": false,
     "input": [],
     "language": "python",
     "metadata": {},
     "outputs": []
    },
    {
     "cell_type": "code",
     "collapsed": false,
     "input": [],
     "language": "python",
     "metadata": {},
     "outputs": []
    },
    {
     "cell_type": "code",
     "collapsed": false,
     "input": [],
     "language": "python",
     "metadata": {},
     "outputs": []
    },
    {
     "cell_type": "code",
     "collapsed": false,
     "input": [],
     "language": "python",
     "metadata": {},
     "outputs": []
    },
    {
     "cell_type": "code",
     "collapsed": false,
     "input": [],
     "language": "python",
     "metadata": {},
     "outputs": []
    },
    {
     "cell_type": "code",
     "collapsed": false,
     "input": [],
     "language": "python",
     "metadata": {},
     "outputs": []
    },
    {
     "cell_type": "code",
     "collapsed": false,
     "input": [],
     "language": "python",
     "metadata": {},
     "outputs": []
    },
    {
     "cell_type": "code",
     "collapsed": false,
     "input": [],
     "language": "python",
     "metadata": {},
     "outputs": []
    },
    {
     "cell_type": "code",
     "collapsed": false,
     "input": [
      "counter.value += 1"
     ],
     "language": "python",
     "metadata": {},
     "outputs": []
    },
    {
     "cell_type": "code",
     "collapsed": false,
     "input": [
      "popup.close()"
     ],
     "language": "python",
     "metadata": {},
     "outputs": []
    },
    {
     "cell_type": "heading",
     "level": 1,
     "metadata": {
      "slideshow": {
       "slide_type": "slide"
      }
     },
     "source": [
      "Alignment"
     ]
    },
    {
     "cell_type": "markdown",
     "metadata": {},
     "source": [
      "Most widgets have a **`description` attribute**, which allows a label for the widget to be defined.\n",
      "The label of the widget **has a fixed minimum width**.\n",
      "The text of the label is **always right aligned and the widget is left aligned**:"
     ]
    },
    {
     "cell_type": "code",
     "collapsed": false,
     "input": [
      "display(widgets.Text(description=\"a:\"))\n",
      "display(widgets.Text(description=\"aa:\"))\n",
      "display(widgets.Text(description=\"aaa:\"))"
     ],
     "language": "python",
     "metadata": {},
     "outputs": []
    },
    {
     "cell_type": "markdown",
     "metadata": {
      "slideshow": {
       "slide_type": "slide"
      }
     },
     "source": [
      "If a **label is longer** than the minimum width, the **widget is shifted to the right**:"
     ]
    },
    {
     "cell_type": "code",
     "collapsed": false,
     "input": [
      "display(widgets.Text(description=\"a:\"))\n",
      "display(widgets.Text(description=\"aa:\"))\n",
      "display(widgets.Text(description=\"aaa:\"))\n",
      "display(widgets.Text(description=\"aaaaaaaaaaaaaaaaaa:\"))"
     ],
     "language": "python",
     "metadata": {},
     "outputs": []
    },
    {
     "cell_type": "markdown",
     "metadata": {
      "slideshow": {
       "slide_type": "slide"
      }
     },
     "source": [
      "If a `description` is **not set** for the widget, the **label is not displayed**:"
     ]
    },
    {
     "cell_type": "code",
     "collapsed": false,
     "input": [
      "display(widgets.Text(description=\"a:\"))\n",
      "display(widgets.Text(description=\"aa:\"))\n",
      "display(widgets.Text(description=\"aaa:\"))\n",
      "display(widgets.Text())"
     ],
     "language": "python",
     "metadata": {},
     "outputs": []
    },
    {
     "cell_type": "heading",
     "level": 2,
     "metadata": {
      "slideshow": {
       "slide_type": "slide"
      }
     },
     "source": [
      "Flex boxes"
     ]
    },
    {
     "cell_type": "markdown",
     "metadata": {},
     "source": [
      "Widgets can be aligned using the `FlexBox`, `HBox`, and `VBox` widgets."
     ]
    },
    {
     "cell_type": "heading",
     "level": 3,
     "metadata": {
      "slideshow": {
       "slide_type": "slide"
      }
     },
     "source": [
      "Application to widgets"
     ]
    },
    {
     "cell_type": "markdown",
     "metadata": {},
     "source": [
      "Widgets display vertically by default:"
     ]
    },
    {
     "cell_type": "code",
     "collapsed": false,
     "input": [
      "buttons = [widgets.Button(description=str(i)) for i in range(3)]\n",
      "display(*buttons)"
     ],
     "language": "python",
     "metadata": {},
     "outputs": [],
     "prompt_number": 77
    },
    {
     "cell_type": "heading",
     "level": 3,
     "metadata": {
      "slideshow": {
       "slide_type": "slide"
      }
     },
     "source": [
      "Using hbox"
     ]
    },
    {
     "cell_type": "markdown",
     "metadata": {},
     "source": [
      "To make widgets display horizontally, you need to **child them to a `HBox` widget**."
     ]
    },
    {
     "cell_type": "code",
     "collapsed": false,
     "input": [
      "container = widgets.HBox(children=buttons)\n",
      "display(container)"
     ],
     "language": "python",
     "metadata": {},
     "outputs": [],
     "prompt_number": 78
    },
    {
     "cell_type": "markdown",
     "metadata": {},
     "source": [
      "By setting the width of the container to 100% and its `pack` to `center`, you can center the buttons."
     ]
    },
    {
     "cell_type": "code",
     "collapsed": false,
     "input": [
      "container.width = '100%'\n",
      "container.pack = 'center'"
     ],
     "language": "python",
     "metadata": {},
     "outputs": [],
     "prompt_number": 79
    },
    {
     "cell_type": "heading",
     "level": 2,
     "metadata": {
      "slideshow": {
       "slide_type": "slide"
      }
     },
     "source": [
      "Visibility"
     ]
    },
    {
     "cell_type": "markdown",
     "metadata": {},
     "source": [
      "Sometimes it is necessary to **hide or show widgets** in place, **without having to re-display** the widget.\n",
      "The `visibility` property of widgets can be used to hide or show **widgets that have already been displayed** (as seen below)."
     ]
    },
    {
     "cell_type": "code",
     "collapsed": false,
     "input": [
      "string = widgets.Latex(value=\"Hello World!\")\n",
      "display(string) "
     ],
     "language": "python",
     "metadata": {},
     "outputs": [],
     "prompt_number": 80
    },
    {
     "cell_type": "code",
     "collapsed": false,
     "input": [
      "string.visible=False"
     ],
     "language": "python",
     "metadata": {},
     "outputs": [],
     "prompt_number": 81
    },
    {
     "cell_type": "code",
     "collapsed": false,
     "input": [
      "string.visible=True"
     ],
     "language": "python",
     "metadata": {},
     "outputs": [],
     "prompt_number": 82
    },
    {
     "cell_type": "heading",
     "level": 3,
     "metadata": {
      "slideshow": {
       "slide_type": "slide"
      }
     },
     "source": [
      "Another example"
     ]
    },
    {
     "cell_type": "markdown",
     "metadata": {},
     "source": [
      "In the example below, a form is rendered, which conditionally displays widgets depending on the state of other widgets.  Try toggling the student checkbox."
     ]
    },
    {
     "cell_type": "code",
     "collapsed": false,
     "input": [
      "form = widgets.VBox()\n",
      "first = widgets.Text(description=\"First Name:\")\n",
      "last = widgets.Text(description=\"Last Name:\")\n",
      "\n",
      "student = widgets.Checkbox(description=\"Student:\", value=False)\n",
      "school_info = widgets.VBox(visible=False, children=[\n",
      "    widgets.Text(description=\"School:\"),\n",
      "    widgets.IntText(description=\"Grade:\", min=0, max=12)\n",
      "    ])\n",
      "\n",
      "pet = widgets.Text(description=\"Pet's Name:\")\n",
      "form.children = [first, last, student, school_info, pet]\n",
      "display(form)\n",
      "\n",
      "def on_student_toggle(name, value):\n",
      "    if value:\n",
      "        school_info.visible = True\n",
      "    else:\n",
      "        school_info.visible = False\n",
      "student.on_trait_change(on_student_toggle, 'value')\n"
     ],
     "language": "python",
     "metadata": {},
     "outputs": [],
     "prompt_number": 83
    }
   ],
   "metadata": {}
  }
 ]
}