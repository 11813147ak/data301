{
 "metadata": {
  "kernelspec": {
   "codemirror_mode": {
    "name": "ipython",
    "version": 2
   },
   "display_name": "IPython (Python 2)",
   "language": "python",
   "name": "python2"
  },
  "name": "",
  "signature": "sha256:ffc5ba4c5a903a19dee4a87cb134f836241a5e988f05a3295e7a1026b137eebf"
 },
 "nbformat": 3,
 "nbformat_minor": 0,
 "worksheets": [
  {
   "cells": [
    {
     "cell_type": "markdown",
     "metadata": {},
     "source": [
      "# NumPy: Numerical Arrays for Python"
     ]
    },
    {
     "cell_type": "markdown",
     "metadata": {},
     "source": [
      "NumPy is the foundation for scientific computing and data science in Python.\n",
      "\n",
      "* Any number of dimensions\n",
      "* All elements of an array have the same data type\n",
      "* Array elements are usually native data dtype\n",
      "* The memory for an array is a contiguous block that can be easily passed to other numerical libraries (BLAS, LAPACK, etc.).\n",
      "* Most of NumPy is implemented in C, so it is fast\n",
      "\n",
      "**NumPy arrays are the foundational data type that the entire Python numerical computing stack is built upon**"
     ]
    },
    {
     "cell_type": "markdown",
     "metadata": {},
     "source": [
      "## Plotting"
     ]
    },
    {
     "cell_type": "markdown",
     "metadata": {},
     "source": [
      "While this notebook doesn't focus on plotting, matplotlib will be used to make a few basic plots."
     ]
    },
    {
     "cell_type": "code",
     "collapsed": false,
     "input": [
      "%matplotlib inline\n",
      "from matplotlib import pyplot as plt\n",
      "plt.style.use('ggplot')"
     ],
     "language": "python",
     "metadata": {},
     "outputs": [],
     "prompt_number": 25
    },
    {
     "cell_type": "markdown",
     "metadata": {},
     "source": [
      "## Multidimensional array type"
     ]
    },
    {
     "cell_type": "code",
     "collapsed": false,
     "input": [
      "import numpy as np\n",
      "import vizarray as vz"
     ],
     "language": "python",
     "metadata": {},
     "outputs": [],
     "prompt_number": 118
    },
    {
     "cell_type": "code",
     "collapsed": false,
     "input": [
      "data = [0,2,4,6]\n",
      "a = np.array(data)"
     ],
     "language": "python",
     "metadata": {},
     "outputs": [],
     "prompt_number": 119
    },
    {
     "cell_type": "code",
     "collapsed": false,
     "input": [
      "type(a)"
     ],
     "language": "python",
     "metadata": {},
     "outputs": [
      {
       "metadata": {},
       "output_type": "pyout",
       "prompt_number": 120,
       "text": [
        "numpy.ndarray"
       ]
      }
     ],
     "prompt_number": 120
    },
    {
     "cell_type": "code",
     "collapsed": false,
     "input": [
      "a"
     ],
     "language": "python",
     "metadata": {},
     "outputs": [
      {
       "metadata": {},
       "output_type": "pyout",
       "prompt_number": 121,
       "text": [
        "array([0, 2, 4, 6])"
       ]
      }
     ],
     "prompt_number": 121
    },
    {
     "cell_type": "code",
     "collapsed": false,
     "input": [
      "vz.vizarray(a)"
     ],
     "language": "python",
     "metadata": {},
     "outputs": [
      {
       "html": [
        "<style type=\"text/css\">table.blockgrid {border: none;} .blockgrid tr {border: none;} .blockgrid td {padding: 0px;} #blocks698eb3ec-8869-488c-9b6c-b9e0d37786f4 td {border: 1px solid white;}</style><table id=\"blocks698eb3ec-8869-488c-9b6c-b9e0d37786f4\" class=\"blockgrid\"><tbody><tr><td title=\"Index: [0, 0]&#10;Color: (0, 0, 128)\" style=\"width: 30px; height: 30px;background-color: rgb(0, 0, 128);\"></td><td title=\"Index: [0, 1]&#10;Color: (0, 213, 255)\" style=\"width: 30px; height: 30px;background-color: rgb(0, 213, 255);\"></td><td title=\"Index: [0, 2]&#10;Color: (255, 230, 0)\" style=\"width: 30px; height: 30px;background-color: rgb(255, 230, 0);\"></td><td title=\"Index: [0, 3]&#10;Color: (128, 0, 0)\" style=\"width: 30px; height: 30px;background-color: rgb(128, 0, 0);\"></td></tr></tbody></table>"
       ],
       "metadata": {},
       "output_type": "pyout",
       "prompt_number": 122,
       "text": [
        "<ipythonblocks.ipythonblocks.BlockGrid at 0x107f09810>"
       ]
      }
     ],
     "prompt_number": 122
    },
    {
     "cell_type": "code",
     "collapsed": false,
     "input": [
      "a.shape"
     ],
     "language": "python",
     "metadata": {},
     "outputs": [
      {
       "metadata": {},
       "output_type": "pyout",
       "prompt_number": 123,
       "text": [
        "(4,)"
       ]
      }
     ],
     "prompt_number": 123
    },
    {
     "cell_type": "code",
     "collapsed": false,
     "input": [
      "a.ndim"
     ],
     "language": "python",
     "metadata": {},
     "outputs": [
      {
       "metadata": {},
       "output_type": "pyout",
       "prompt_number": 124,
       "text": [
        "1"
       ]
      }
     ],
     "prompt_number": 124
    },
    {
     "cell_type": "code",
     "collapsed": false,
     "input": [
      "a.size"
     ],
     "language": "python",
     "metadata": {},
     "outputs": [
      {
       "metadata": {},
       "output_type": "pyout",
       "prompt_number": 125,
       "text": [
        "4"
       ]
      }
     ],
     "prompt_number": 125
    },
    {
     "cell_type": "code",
     "collapsed": false,
     "input": [
      "a.nbytes"
     ],
     "language": "python",
     "metadata": {},
     "outputs": [
      {
       "metadata": {},
       "output_type": "pyout",
       "prompt_number": 126,
       "text": [
        "32"
       ]
      }
     ],
     "prompt_number": 126
    },
    {
     "cell_type": "code",
     "collapsed": false,
     "input": [
      "a.dtype"
     ],
     "language": "python",
     "metadata": {},
     "outputs": [
      {
       "metadata": {},
       "output_type": "pyout",
       "prompt_number": 127,
       "text": [
        "dtype('int64')"
       ]
      }
     ],
     "prompt_number": 127
    },
    {
     "cell_type": "markdown",
     "metadata": {},
     "source": [
      "## Creating arrays"
     ]
    },
    {
     "cell_type": "code",
     "collapsed": false,
     "input": [
      "data = [[0.0,2.0,4.0,6.0],[1.0,3.0,5.0,7.0]]\n",
      "b = np.array(data)"
     ],
     "language": "python",
     "metadata": {},
     "outputs": [],
     "prompt_number": 128
    },
    {
     "cell_type": "code",
     "collapsed": false,
     "input": [
      "b"
     ],
     "language": "python",
     "metadata": {},
     "outputs": [
      {
       "metadata": {},
       "output_type": "pyout",
       "prompt_number": 129,
       "text": [
        "array([[ 0.,  2.,  4.,  6.],\n",
        "       [ 1.,  3.,  5.,  7.]])"
       ]
      }
     ],
     "prompt_number": 129
    },
    {
     "cell_type": "code",
     "collapsed": false,
     "input": [
      "vz.vizarray(b)"
     ],
     "language": "python",
     "metadata": {},
     "outputs": [
      {
       "html": [
        "<style type=\"text/css\">table.blockgrid {border: none;} .blockgrid tr {border: none;} .blockgrid td {padding: 0px;} #blocks2e9f6fbe-9ef4-4a84-b740-258504e89a9b td {border: 1px solid white;}</style><table id=\"blocks2e9f6fbe-9ef4-4a84-b740-258504e89a9b\" class=\"blockgrid\"><tbody><tr><td title=\"Index: [0, 0]&#10;Color: (0, 0, 128)\" style=\"width: 30px; height: 30px;background-color: rgb(0, 0, 128);\"></td><td title=\"Index: [0, 1]&#10;Color: (0, 165, 255)\" style=\"width: 30px; height: 30px;background-color: rgb(0, 165, 255);\"></td><td title=\"Index: [0, 2]&#10;Color: (183, 255, 64)\" style=\"width: 30px; height: 30px;background-color: rgb(183, 255, 64);\"></td><td title=\"Index: [0, 3]&#10;Color: (255, 48, 0)\" style=\"width: 30px; height: 30px;background-color: rgb(255, 48, 0);\"></td></tr><tr><td title=\"Index: [1, 0]&#10;Color: (0, 17, 255)\" style=\"width: 30px; height: 30px;background-color: rgb(0, 17, 255);\"></td><td title=\"Index: [1, 1]&#10;Color: (64, 255, 183)\" style=\"width: 30px; height: 30px;background-color: rgb(64, 255, 183);\"></td><td title=\"Index: [1, 2]&#10;Color: (255, 185, 0)\" style=\"width: 30px; height: 30px;background-color: rgb(255, 185, 0);\"></td><td title=\"Index: [1, 3]&#10;Color: (128, 0, 0)\" style=\"width: 30px; height: 30px;background-color: rgb(128, 0, 0);\"></td></tr></tbody></table>"
       ],
       "metadata": {},
       "output_type": "pyout",
       "prompt_number": 130,
       "text": [
        "<ipythonblocks.ipythonblocks.BlockGrid at 0x107f09590>"
       ]
      }
     ],
     "prompt_number": 130
    },
    {
     "cell_type": "code",
     "collapsed": false,
     "input": [
      "b.shape, b.ndim, b.size, b.nbytes"
     ],
     "language": "python",
     "metadata": {},
     "outputs": [
      {
       "metadata": {},
       "output_type": "pyout",
       "prompt_number": 131,
       "text": [
        "((2, 4), 2, 8, 64)"
       ]
      }
     ],
     "prompt_number": 131
    },
    {
     "cell_type": "code",
     "collapsed": false,
     "input": [
      "c = np.arange(0.0, 10.0, 1.0) # Step size of 1.0\n",
      "c"
     ],
     "language": "python",
     "metadata": {},
     "outputs": [
      {
       "metadata": {},
       "output_type": "pyout",
       "prompt_number": 132,
       "text": [
        "array([ 0.,  1.,  2.,  3.,  4.,  5.,  6.,  7.,  8.,  9.])"
       ]
      }
     ],
     "prompt_number": 132
    },
    {
     "cell_type": "code",
     "collapsed": false,
     "input": [
      "e = np.linspace(0.0, 5.0, 11) # 11 points\n",
      "e"
     ],
     "language": "python",
     "metadata": {},
     "outputs": [
      {
       "metadata": {},
       "output_type": "pyout",
       "prompt_number": 133,
       "text": [
        "array([ 0. ,  0.5,  1. ,  1.5,  2. ,  2.5,  3. ,  3.5,  4. ,  4.5,  5. ])"
       ]
      }
     ],
     "prompt_number": 133
    },
    {
     "cell_type": "code",
     "collapsed": false,
     "input": [
      "np.empty((4,4))"
     ],
     "language": "python",
     "metadata": {},
     "outputs": [
      {
       "metadata": {},
       "output_type": "pyout",
       "prompt_number": 134,
       "text": [
        "array([[ 0.,  0.,  0.,  0.],\n",
        "       [ 0.,  0.,  0.,  0.],\n",
        "       [ 0.,  0.,  0.,  0.],\n",
        "       [ 0.,  0.,  0.,  0.]])"
       ]
      }
     ],
     "prompt_number": 134
    },
    {
     "cell_type": "code",
     "collapsed": false,
     "input": [
      "np.zeros((3,3))"
     ],
     "language": "python",
     "metadata": {},
     "outputs": [
      {
       "metadata": {},
       "output_type": "pyout",
       "prompt_number": 135,
       "text": [
        "array([[ 0.,  0.,  0.],\n",
        "       [ 0.,  0.,  0.],\n",
        "       [ 0.,  0.,  0.]])"
       ]
      }
     ],
     "prompt_number": 135
    },
    {
     "cell_type": "code",
     "collapsed": false,
     "input": [
      "np.ones((3,3))"
     ],
     "language": "python",
     "metadata": {},
     "outputs": [
      {
       "metadata": {},
       "output_type": "pyout",
       "prompt_number": 136,
       "text": [
        "array([[ 1.,  1.,  1.],\n",
        "       [ 1.,  1.,  1.],\n",
        "       [ 1.,  1.,  1.]])"
       ]
      }
     ],
     "prompt_number": 136
    },
    {
     "cell_type": "markdown",
     "metadata": {},
     "source": [
      "See also:\n",
      "\n",
      "* `empty_like`, `ones_like`, `zeros_like`\n",
      "* `eye`, `identity`"
     ]
    },
    {
     "cell_type": "markdown",
     "metadata": {},
     "source": [
      "## dtype"
     ]
    },
    {
     "cell_type": "markdown",
     "metadata": {},
     "source": [
      "Arrays have a `dtype` attribute that encapsulates the data type of each element. It can be set:\n",
      "\n",
      "* Implicitely by the element type\n",
      "* By passing the `dtype` argument to an array creation function"
     ]
    },
    {
     "cell_type": "code",
     "collapsed": false,
     "input": [
      "a = np.array([0,1,2,3])"
     ],
     "language": "python",
     "metadata": {},
     "outputs": [],
     "prompt_number": 137
    },
    {
     "cell_type": "code",
     "collapsed": false,
     "input": [
      "a, a.dtype"
     ],
     "language": "python",
     "metadata": {},
     "outputs": [
      {
       "metadata": {},
       "output_type": "pyout",
       "prompt_number": 138,
       "text": [
        "(array([0, 1, 2, 3]), dtype('int64'))"
       ]
      }
     ],
     "prompt_number": 138
    },
    {
     "cell_type": "markdown",
     "metadata": {},
     "source": [
      "All array creation functions accept an optional `dtype` argument:"
     ]
    },
    {
     "cell_type": "code",
     "collapsed": false,
     "input": [
      "b = np.zeros((2,2), dtype=np.complex64)\n",
      "b"
     ],
     "language": "python",
     "metadata": {},
     "outputs": [
      {
       "metadata": {},
       "output_type": "pyout",
       "prompt_number": 139,
       "text": [
        "array([[ 0.+0.j,  0.+0.j],\n",
        "       [ 0.+0.j,  0.+0.j]], dtype=complex64)"
       ]
      }
     ],
     "prompt_number": 139
    },
    {
     "cell_type": "code",
     "collapsed": false,
     "input": [
      "c = np.arange(0, 10, 2, dtype=np.float)\n",
      "c"
     ],
     "language": "python",
     "metadata": {},
     "outputs": [
      {
       "metadata": {},
       "output_type": "pyout",
       "prompt_number": 140,
       "text": [
        "array([ 0.,  2.,  4.,  6.,  8.])"
       ]
      }
     ],
     "prompt_number": 140
    },
    {
     "cell_type": "markdown",
     "metadata": {},
     "source": [
      "You can use the `astype` method to create a copy of the array with a given `dtype`:"
     ]
    },
    {
     "cell_type": "code",
     "collapsed": false,
     "input": [
      "d = c.astype(dtype=np.int)\n",
      "d"
     ],
     "language": "python",
     "metadata": {},
     "outputs": [
      {
       "metadata": {},
       "output_type": "pyout",
       "prompt_number": 141,
       "text": [
        "array([0, 2, 4, 6, 8])"
       ]
      }
     ],
     "prompt_number": 141
    },
    {
     "cell_type": "markdown",
     "metadata": {},
     "source": [
      "IPython's tab completion is useful for exploring the various available `dtypes`:"
     ]
    },
    {
     "cell_type": "code",
     "collapsed": false,
     "input": [
      "np.float*?"
     ],
     "language": "python",
     "metadata": {},
     "outputs": [
      {
       "output_type": "stream",
       "stream": "stdout",
       "text": [
        "np.float\n",
        "np.float128\n",
        "np.float16\n",
        "np.float32\n",
        "np.float64\n",
        "np.float_\n",
        "np.floating\n"
       ]
      }
     ],
     "prompt_number": 142
    },
    {
     "cell_type": "markdown",
     "metadata": {},
     "source": [
      "The NumPy documentation on [dtypes](http://docs.scipy.org/doc/numpy/reference/arrays.dtypes.html) describes the many other ways of specifying dtypes."
     ]
    },
    {
     "cell_type": "markdown",
     "metadata": {},
     "source": [
      "## Array operations"
     ]
    },
    {
     "cell_type": "markdown",
     "metadata": {},
     "source": [
      "Basic mathematical operations are **elementwise** for:\n",
      "\n",
      "* Scalars and arrays\n",
      "* Arrays and arrays"
     ]
    },
    {
     "cell_type": "code",
     "collapsed": false,
     "input": [
      "a = np.empty((3,3))\n",
      "a.fill(0.1)\n",
      "a"
     ],
     "language": "python",
     "metadata": {},
     "outputs": [
      {
       "metadata": {},
       "output_type": "pyout",
       "prompt_number": 143,
       "text": [
        "array([[ 0.1,  0.1,  0.1],\n",
        "       [ 0.1,  0.1,  0.1],\n",
        "       [ 0.1,  0.1,  0.1]])"
       ]
      }
     ],
     "prompt_number": 143
    },
    {
     "cell_type": "code",
     "collapsed": false,
     "input": [
      "b = np.ones((3,3))\n",
      "b"
     ],
     "language": "python",
     "metadata": {},
     "outputs": [
      {
       "metadata": {},
       "output_type": "pyout",
       "prompt_number": 144,
       "text": [
        "array([[ 1.,  1.,  1.],\n",
        "       [ 1.,  1.,  1.],\n",
        "       [ 1.,  1.,  1.]])"
       ]
      }
     ],
     "prompt_number": 144
    },
    {
     "cell_type": "code",
     "collapsed": false,
     "input": [
      "a+b"
     ],
     "language": "python",
     "metadata": {},
     "outputs": [
      {
       "metadata": {},
       "output_type": "pyout",
       "prompt_number": 145,
       "text": [
        "array([[ 1.1,  1.1,  1.1],\n",
        "       [ 1.1,  1.1,  1.1],\n",
        "       [ 1.1,  1.1,  1.1]])"
       ]
      }
     ],
     "prompt_number": 145
    },
    {
     "cell_type": "code",
     "collapsed": false,
     "input": [
      "b/a"
     ],
     "language": "python",
     "metadata": {},
     "outputs": [
      {
       "metadata": {},
       "output_type": "pyout",
       "prompt_number": 146,
       "text": [
        "array([[ 10.,  10.,  10.],\n",
        "       [ 10.,  10.,  10.],\n",
        "       [ 10.,  10.,  10.]])"
       ]
      }
     ],
     "prompt_number": 146
    },
    {
     "cell_type": "code",
     "collapsed": false,
     "input": [
      "a**2"
     ],
     "language": "python",
     "metadata": {},
     "outputs": [
      {
       "metadata": {},
       "output_type": "pyout",
       "prompt_number": 147,
       "text": [
        "array([[ 0.01,  0.01,  0.01],\n",
        "       [ 0.01,  0.01,  0.01],\n",
        "       [ 0.01,  0.01,  0.01]])"
       ]
      }
     ],
     "prompt_number": 147
    },
    {
     "cell_type": "code",
     "collapsed": false,
     "input": [
      "np.pi*b"
     ],
     "language": "python",
     "metadata": {},
     "outputs": [
      {
       "metadata": {},
       "output_type": "pyout",
       "prompt_number": 148,
       "text": [
        "array([[ 3.14159265,  3.14159265,  3.14159265],\n",
        "       [ 3.14159265,  3.14159265,  3.14159265],\n",
        "       [ 3.14159265,  3.14159265,  3.14159265]])"
       ]
      }
     ],
     "prompt_number": 148
    },
    {
     "cell_type": "markdown",
     "metadata": {},
     "source": [
      "## Indexing and slicing"
     ]
    },
    {
     "cell_type": "markdown",
     "metadata": {},
     "source": [
      "Indexing and slicing provide an efficient way of getting the values in an array and modifying them."
     ]
    },
    {
     "cell_type": "code",
     "collapsed": false,
     "input": [
      "a = np.random.rand(10,10)"
     ],
     "language": "python",
     "metadata": {},
     "outputs": [],
     "prompt_number": 149
    },
    {
     "cell_type": "markdown",
     "metadata": {},
     "source": [
      "The `enable` function is part of `vizarray` and enables a nice display of arrays:"
     ]
    },
    {
     "cell_type": "code",
     "collapsed": false,
     "input": [
      "vz.enable()"
     ],
     "language": "python",
     "metadata": {},
     "outputs": [],
     "prompt_number": 150
    },
    {
     "cell_type": "code",
     "collapsed": false,
     "input": [
      "a"
     ],
     "language": "python",
     "metadata": {},
     "outputs": [
      {
       "html": [
        "<style type=\"text/css\">table.blockgrid {border: none;} .blockgrid tr {border: none;} .blockgrid td {padding: 0px;} #blockse71e7405-2114-4d58-b5a0-daa235ae2c54 td {border: 1px solid white;}</style><table id=\"blockse71e7405-2114-4d58-b5a0-daa235ae2c54\" class=\"blockgrid\"><tbody><tr><td title=\"Index: [0, 0]&#10;Color: (0, 49, 255)\" style=\"width: 30px; height: 30px;background-color: rgb(0, 49, 255);\"></td><td title=\"Index: [0, 1]&#10;Color: (209, 0, 0)\" style=\"width: 30px; height: 30px;background-color: rgb(209, 0, 0);\"></td><td title=\"Index: [0, 2]&#10;Color: (244, 248, 2)\" style=\"width: 30px; height: 30px;background-color: rgb(244, 248, 2);\"></td><td title=\"Index: [0, 3]&#10;Color: (255, 178, 0)\" style=\"width: 30px; height: 30px;background-color: rgb(255, 178, 0);\"></td><td title=\"Index: [0, 4]&#10;Color: (255, 30, 0)\" style=\"width: 30px; height: 30px;background-color: rgb(255, 30, 0);\"></td><td title=\"Index: [0, 5]&#10;Color: (0, 9, 255)\" style=\"width: 30px; height: 30px;background-color: rgb(0, 9, 255);\"></td><td title=\"Index: [0, 6]&#10;Color: (122, 255, 125)\" style=\"width: 30px; height: 30px;background-color: rgb(122, 255, 125);\"></td><td title=\"Index: [0, 7]&#10;Color: (0, 0, 241)\" style=\"width: 30px; height: 30px;background-color: rgb(0, 0, 241);\"></td><td title=\"Index: [0, 8]&#10;Color: (255, 89, 0)\" style=\"width: 30px; height: 30px;background-color: rgb(255, 89, 0);\"></td><td title=\"Index: [0, 9]&#10;Color: (0, 49, 255)\" style=\"width: 30px; height: 30px;background-color: rgb(0, 49, 255);\"></td></tr><tr><td title=\"Index: [1, 0]&#10;Color: (255, 93, 0)\" style=\"width: 30px; height: 30px;background-color: rgb(255, 93, 0);\"></td><td title=\"Index: [1, 1]&#10;Color: (255, 226, 0)\" style=\"width: 30px; height: 30px;background-color: rgb(255, 226, 0);\"></td><td title=\"Index: [1, 2]&#10;Color: (255, 171, 0)\" style=\"width: 30px; height: 30px;background-color: rgb(255, 171, 0);\"></td><td title=\"Index: [1, 3]&#10;Color: (183, 255, 64)\" style=\"width: 30px; height: 30px;background-color: rgb(183, 255, 64);\"></td><td title=\"Index: [1, 4]&#10;Color: (255, 56, 0)\" style=\"width: 30px; height: 30px;background-color: rgb(255, 56, 0);\"></td><td title=\"Index: [1, 5]&#10;Color: (0, 0, 128)\" style=\"width: 30px; height: 30px;background-color: rgb(0, 0, 128);\"></td><td title=\"Index: [1, 6]&#10;Color: (0, 61, 255)\" style=\"width: 30px; height: 30px;background-color: rgb(0, 61, 255);\"></td><td title=\"Index: [1, 7]&#10;Color: (238, 255, 9)\" style=\"width: 30px; height: 30px;background-color: rgb(238, 255, 9);\"></td><td title=\"Index: [1, 8]&#10;Color: (2, 232, 244)\" style=\"width: 30px; height: 30px;background-color: rgb(2, 232, 244);\"></td><td title=\"Index: [1, 9]&#10;Color: (0, 0, 132)\" style=\"width: 30px; height: 30px;background-color: rgb(0, 0, 132);\"></td></tr><tr><td title=\"Index: [2, 0]&#10;Color: (214, 0, 0)\" style=\"width: 30px; height: 30px;background-color: rgb(214, 0, 0);\"></td><td title=\"Index: [2, 1]&#10;Color: (0, 229, 248)\" style=\"width: 30px; height: 30px;background-color: rgb(0, 229, 248);\"></td><td title=\"Index: [2, 2]&#10;Color: (0, 0, 227)\" style=\"width: 30px; height: 30px;background-color: rgb(0, 0, 227);\"></td><td title=\"Index: [2, 3]&#10;Color: (196, 0, 0)\" style=\"width: 30px; height: 30px;background-color: rgb(196, 0, 0);\"></td><td title=\"Index: [2, 4]&#10;Color: (0, 193, 255)\" style=\"width: 30px; height: 30px;background-color: rgb(0, 193, 255);\"></td><td title=\"Index: [2, 5]&#10;Color: (0, 0, 214)\" style=\"width: 30px; height: 30px;background-color: rgb(0, 0, 214);\"></td><td title=\"Index: [2, 6]&#10;Color: (255, 96, 0)\" style=\"width: 30px; height: 30px;background-color: rgb(255, 96, 0);\"></td><td title=\"Index: [2, 7]&#10;Color: (255, 171, 0)\" style=\"width: 30px; height: 30px;background-color: rgb(255, 171, 0);\"></td><td title=\"Index: [2, 8]&#10;Color: (144, 255, 102)\" style=\"width: 30px; height: 30px;background-color: rgb(144, 255, 102);\"></td><td title=\"Index: [2, 9]&#10;Color: (173, 255, 73)\" style=\"width: 30px; height: 30px;background-color: rgb(173, 255, 73);\"></td></tr><tr><td title=\"Index: [3, 0]&#10;Color: (255, 119, 0)\" style=\"width: 30px; height: 30px;background-color: rgb(255, 119, 0);\"></td><td title=\"Index: [3, 1]&#10;Color: (202, 255, 44)\" style=\"width: 30px; height: 30px;background-color: rgb(202, 255, 44);\"></td><td title=\"Index: [3, 2]&#10;Color: (255, 211, 0)\" style=\"width: 30px; height: 30px;background-color: rgb(255, 211, 0);\"></td><td title=\"Index: [3, 3]&#10;Color: (146, 0, 0)\" style=\"width: 30px; height: 30px;background-color: rgb(146, 0, 0);\"></td><td title=\"Index: [3, 4]&#10;Color: (0, 0, 141)\" style=\"width: 30px; height: 30px;background-color: rgb(0, 0, 141);\"></td><td title=\"Index: [3, 5]&#10;Color: (0, 61, 255)\" style=\"width: 30px; height: 30px;background-color: rgb(0, 61, 255);\"></td><td title=\"Index: [3, 6]&#10;Color: (255, 89, 0)\" style=\"width: 30px; height: 30px;background-color: rgb(255, 89, 0);\"></td><td title=\"Index: [3, 7]&#10;Color: (237, 4, 0)\" style=\"width: 30px; height: 30px;background-color: rgb(237, 4, 0);\"></td><td title=\"Index: [3, 8]&#10;Color: (0, 9, 255)\" style=\"width: 30px; height: 30px;background-color: rgb(0, 9, 255);\"></td><td title=\"Index: [3, 9]&#10;Color: (0, 0, 223)\" style=\"width: 30px; height: 30px;background-color: rgb(0, 0, 223);\"></td></tr><tr><td title=\"Index: [4, 0]&#10;Color: (157, 255, 90)\" style=\"width: 30px; height: 30px;background-color: rgb(157, 255, 90);\"></td><td title=\"Index: [4, 1]&#10;Color: (255, 48, 0)\" style=\"width: 30px; height: 30px;background-color: rgb(255, 48, 0);\"></td><td title=\"Index: [4, 2]&#10;Color: (255, 215, 0)\" style=\"width: 30px; height: 30px;background-color: rgb(255, 215, 0);\"></td><td title=\"Index: [4, 3]&#10;Color: (12, 245, 235)\" style=\"width: 30px; height: 30px;background-color: rgb(12, 245, 235);\"></td><td title=\"Index: [4, 4]&#10;Color: (0, 125, 255)\" style=\"width: 30px; height: 30px;background-color: rgb(0, 125, 255);\"></td><td title=\"Index: [4, 5]&#10;Color: (255, 211, 0)\" style=\"width: 30px; height: 30px;background-color: rgb(255, 211, 0);\"></td><td title=\"Index: [4, 6]&#10;Color: (131, 255, 115)\" style=\"width: 30px; height: 30px;background-color: rgb(131, 255, 115);\"></td><td title=\"Index: [4, 7]&#10;Color: (28, 255, 219)\" style=\"width: 30px; height: 30px;background-color: rgb(28, 255, 219);\"></td><td title=\"Index: [4, 8]&#10;Color: (255, 96, 0)\" style=\"width: 30px; height: 30px;background-color: rgb(255, 96, 0);\"></td><td title=\"Index: [4, 9]&#10;Color: (0, 189, 255)\" style=\"width: 30px; height: 30px;background-color: rgb(0, 189, 255);\"></td></tr><tr><td title=\"Index: [5, 0]&#10;Color: (0, 89, 255)\" style=\"width: 30px; height: 30px;background-color: rgb(0, 89, 255);\"></td><td title=\"Index: [5, 1]&#10;Color: (205, 0, 0)\" style=\"width: 30px; height: 30px;background-color: rgb(205, 0, 0);\"></td><td title=\"Index: [5, 2]&#10;Color: (31, 255, 215)\" style=\"width: 30px; height: 30px;background-color: rgb(31, 255, 215);\"></td><td title=\"Index: [5, 3]&#10;Color: (241, 8, 0)\" style=\"width: 30px; height: 30px;background-color: rgb(241, 8, 0);\"></td><td title=\"Index: [5, 4]&#10;Color: (0, 81, 255)\" style=\"width: 30px; height: 30px;background-color: rgb(0, 81, 255);\"></td><td title=\"Index: [5, 5]&#10;Color: (255, 148, 0)\" style=\"width: 30px; height: 30px;background-color: rgb(255, 148, 0);\"></td><td title=\"Index: [5, 6]&#10;Color: (0, 0, 255)\" style=\"width: 30px; height: 30px;background-color: rgb(0, 0, 255);\"></td><td title=\"Index: [5, 7]&#10;Color: (0, 161, 255)\" style=\"width: 30px; height: 30px;background-color: rgb(0, 161, 255);\"></td><td title=\"Index: [5, 8]&#10;Color: (255, 222, 0)\" style=\"width: 30px; height: 30px;background-color: rgb(255, 222, 0);\"></td><td title=\"Index: [5, 9]&#10;Color: (255, 126, 0)\" style=\"width: 30px; height: 30px;background-color: rgb(255, 126, 0);\"></td></tr><tr><td title=\"Index: [6, 0]&#10;Color: (0, 61, 255)\" style=\"width: 30px; height: 30px;background-color: rgb(0, 61, 255);\"></td><td title=\"Index: [6, 1]&#10;Color: (146, 0, 0)\" style=\"width: 30px; height: 30px;background-color: rgb(146, 0, 0);\"></td><td title=\"Index: [6, 2]&#10;Color: (215, 255, 31)\" style=\"width: 30px; height: 30px;background-color: rgb(215, 255, 31);\"></td><td title=\"Index: [6, 3]&#10;Color: (9, 241, 238)\" style=\"width: 30px; height: 30px;background-color: rgb(9, 241, 238);\"></td><td title=\"Index: [6, 4]&#10;Color: (255, 67, 0)\" style=\"width: 30px; height: 30px;background-color: rgb(255, 67, 0);\"></td><td title=\"Index: [6, 5]&#10;Color: (80, 255, 167)\" style=\"width: 30px; height: 30px;background-color: rgb(80, 255, 167);\"></td><td title=\"Index: [6, 6]&#10;Color: (255, 215, 0)\" style=\"width: 30px; height: 30px;background-color: rgb(255, 215, 0);\"></td><td title=\"Index: [6, 7]&#10;Color: (0, 0, 150)\" style=\"width: 30px; height: 30px;background-color: rgb(0, 0, 150);\"></td><td title=\"Index: [6, 8]&#10;Color: (0, 173, 255)\" style=\"width: 30px; height: 30px;background-color: rgb(0, 173, 255);\"></td><td title=\"Index: [6, 9]&#10;Color: (0, 189, 255)\" style=\"width: 30px; height: 30px;background-color: rgb(0, 189, 255);\"></td></tr><tr><td title=\"Index: [7, 0]&#10;Color: (77, 255, 170)\" style=\"width: 30px; height: 30px;background-color: rgb(77, 255, 170);\"></td><td title=\"Index: [7, 1]&#10;Color: (209, 0, 0)\" style=\"width: 30px; height: 30px;background-color: rgb(209, 0, 0);\"></td><td title=\"Index: [7, 2]&#10;Color: (0, 213, 255)\" style=\"width: 30px; height: 30px;background-color: rgb(0, 213, 255);\"></td><td title=\"Index: [7, 3]&#10;Color: (0, 197, 255)\" style=\"width: 30px; height: 30px;background-color: rgb(0, 197, 255);\"></td><td title=\"Index: [7, 4]&#10;Color: (212, 255, 35)\" style=\"width: 30px; height: 30px;background-color: rgb(212, 255, 35);\"></td><td title=\"Index: [7, 5]&#10;Color: (255, 222, 0)\" style=\"width: 30px; height: 30px;background-color: rgb(255, 222, 0);\"></td><td title=\"Index: [7, 6]&#10;Color: (255, 22, 0)\" style=\"width: 30px; height: 30px;background-color: rgb(255, 22, 0);\"></td><td title=\"Index: [7, 7]&#10;Color: (182, 0, 0)\" style=\"width: 30px; height: 30px;background-color: rgb(182, 0, 0);\"></td><td title=\"Index: [7, 8]&#10;Color: (35, 255, 212)\" style=\"width: 30px; height: 30px;background-color: rgb(35, 255, 212);\"></td><td title=\"Index: [7, 9]&#10;Color: (93, 255, 154)\" style=\"width: 30px; height: 30px;background-color: rgb(93, 255, 154);\"></td></tr><tr><td title=\"Index: [8, 0]&#10;Color: (241, 252, 6)\" style=\"width: 30px; height: 30px;background-color: rgb(241, 252, 6);\"></td><td title=\"Index: [8, 1]&#10;Color: (200, 0, 0)\" style=\"width: 30px; height: 30px;background-color: rgb(200, 0, 0);\"></td><td title=\"Index: [8, 2]&#10;Color: (0, 149, 255)\" style=\"width: 30px; height: 30px;background-color: rgb(0, 149, 255);\"></td><td title=\"Index: [8, 3]&#10;Color: (255, 130, 0)\" style=\"width: 30px; height: 30px;background-color: rgb(255, 130, 0);\"></td><td title=\"Index: [8, 4]&#10;Color: (0, 0, 173)\" style=\"width: 30px; height: 30px;background-color: rgb(0, 0, 173);\"></td><td title=\"Index: [8, 5]&#10;Color: (255, 122, 0)\" style=\"width: 30px; height: 30px;background-color: rgb(255, 122, 0);\"></td><td title=\"Index: [8, 6]&#10;Color: (214, 0, 0)\" style=\"width: 30px; height: 30px;background-color: rgb(214, 0, 0);\"></td><td title=\"Index: [8, 7]&#10;Color: (128, 0, 0)\" style=\"width: 30px; height: 30px;background-color: rgb(128, 0, 0);\"></td><td title=\"Index: [8, 8]&#10;Color: (255, 52, 0)\" style=\"width: 30px; height: 30px;background-color: rgb(255, 52, 0);\"></td><td title=\"Index: [8, 9]&#10;Color: (251, 241, 0)\" style=\"width: 30px; height: 30px;background-color: rgb(251, 241, 0);\"></td></tr><tr><td title=\"Index: [9, 0]&#10;Color: (180, 255, 67)\" style=\"width: 30px; height: 30px;background-color: rgb(180, 255, 67);\"></td><td title=\"Index: [9, 1]&#10;Color: (80, 255, 167)\" style=\"width: 30px; height: 30px;background-color: rgb(80, 255, 167);\"></td><td title=\"Index: [9, 2]&#10;Color: (0, 157, 255)\" style=\"width: 30px; height: 30px;background-color: rgb(0, 157, 255);\"></td><td title=\"Index: [9, 3]&#10;Color: (187, 0, 0)\" style=\"width: 30px; height: 30px;background-color: rgb(187, 0, 0);\"></td><td title=\"Index: [9, 4]&#10;Color: (0, 141, 255)\" style=\"width: 30px; height: 30px;background-color: rgb(0, 141, 255);\"></td><td title=\"Index: [9, 5]&#10;Color: (0, 125, 255)\" style=\"width: 30px; height: 30px;background-color: rgb(0, 125, 255);\"></td><td title=\"Index: [9, 6]&#10;Color: (196, 0, 0)\" style=\"width: 30px; height: 30px;background-color: rgb(196, 0, 0);\"></td><td title=\"Index: [9, 7]&#10;Color: (255, 82, 0)\" style=\"width: 30px; height: 30px;background-color: rgb(255, 82, 0);\"></td><td title=\"Index: [9, 8]&#10;Color: (25, 255, 222)\" style=\"width: 30px; height: 30px;background-color: rgb(25, 255, 222);\"></td><td title=\"Index: [9, 9]&#10;Color: (0, 81, 255)\" style=\"width: 30px; height: 30px;background-color: rgb(0, 81, 255);\"></td></tr></tbody></table>"
       ],
       "metadata": {},
       "output_type": "pyout",
       "prompt_number": 151,
       "text": [
        "array([[ 0.1700388 ,  0.89251562,  0.62387263,  0.69410785,  0.84235432,\n",
        "         0.13348661,  0.48196689,  0.09803957,  0.78302429,  0.1689128 ],\n",
        "       [ 0.78034697,  0.64593235,  0.69946854,  0.55004992,  0.81790569,\n",
        "         0.00342341,  0.18199019,  0.61426387,  0.34294973,  0.00936548],\n",
        "       [ 0.88881271,  0.33872946,  0.08821235,  0.90241918,  0.30562961,\n",
        "         0.07654226,  0.77691252,  0.70067204,  0.50708637,  0.53957937],\n",
        "       [ 0.75366301,  0.57507852,  0.65833603,  0.94283735,  0.01807048,\n",
        "         0.1824157 ,  0.78343611,  0.8692183 ,  0.13236888,  0.08368956],\n",
        "       [ 0.52036046,  0.82262702,  0.65548587,  0.35493152,  0.24174242,\n",
        "         0.65887468,  0.49237543,  0.37120149,  0.77551809,  0.30100575],\n",
        "       [ 0.20691173,  0.89681633,  0.37651823,  0.86578751,  0.19943671,\n",
        "         0.72237194,  0.11523334,  0.27442178,  0.64739572,  0.74672901],\n",
        "       [ 0.18216958,  0.94370577,  0.58799071,  0.34893181,  0.80573583,\n",
        "         0.43092252,  0.65790758,  0.02528455,  0.28510027,  0.30015988],\n",
        "       [ 0.42630073,  0.89010471,  0.32477616,  0.30833984,  0.58574349,\n",
        "         0.64850839,  0.84937884,  0.91562702,  0.379276  ,  0.44547016],\n",
        "       [ 0.61783216,  0.89740332,  0.26354416,  0.74207037,  0.04191076,\n",
        "         0.75147502,  0.88755412,  0.96094283,  0.82138589,  0.6294864 ],\n",
        "       [ 0.54885086,  0.42984671,  0.27201939,  0.91226087,  0.25551305,\n",
        "         0.24001571,  0.90323771,  0.79072064,  0.36733257,  0.19977482]])"
       ]
      }
     ],
     "prompt_number": 151
    },
    {
     "cell_type": "code",
     "collapsed": false,
     "input": [
      "a[0,0]"
     ],
     "language": "python",
     "metadata": {},
     "outputs": [
      {
       "metadata": {},
       "output_type": "pyout",
       "prompt_number": 152,
       "text": [
        "0.17003880416984829"
       ]
      }
     ],
     "prompt_number": 152
    },
    {
     "cell_type": "code",
     "collapsed": false,
     "input": [
      "a[-1,-1] == a[9,9]"
     ],
     "language": "python",
     "metadata": {},
     "outputs": [
      {
       "metadata": {},
       "output_type": "pyout",
       "prompt_number": 153,
       "text": [
        "True"
       ]
      }
     ],
     "prompt_number": 153
    },
    {
     "cell_type": "markdown",
     "metadata": {},
     "source": [
      "Extract the 0th column:"
     ]
    },
    {
     "cell_type": "code",
     "collapsed": false,
     "input": [
      "a[:,0]"
     ],
     "language": "python",
     "metadata": {},
     "outputs": [
      {
       "html": [
        "<style type=\"text/css\">table.blockgrid {border: none;} .blockgrid tr {border: none;} .blockgrid td {padding: 0px;} #blocksb5f17f07-9c5d-4b8f-8349-f61535df9c23 td {border: 1px solid white;}</style><table id=\"blocksb5f17f07-9c5d-4b8f-8349-f61535df9c23\" class=\"blockgrid\"><tbody><tr><td title=\"Index: [0, 0]&#10;Color: (0, 49, 255)\" style=\"width: 30px; height: 30px;background-color: rgb(0, 49, 255);\"></td><td title=\"Index: [0, 1]&#10;Color: (255, 93, 0)\" style=\"width: 30px; height: 30px;background-color: rgb(255, 93, 0);\"></td><td title=\"Index: [0, 2]&#10;Color: (214, 0, 0)\" style=\"width: 30px; height: 30px;background-color: rgb(214, 0, 0);\"></td><td title=\"Index: [0, 3]&#10;Color: (255, 119, 0)\" style=\"width: 30px; height: 30px;background-color: rgb(255, 119, 0);\"></td><td title=\"Index: [0, 4]&#10;Color: (157, 255, 90)\" style=\"width: 30px; height: 30px;background-color: rgb(157, 255, 90);\"></td><td title=\"Index: [0, 5]&#10;Color: (0, 89, 255)\" style=\"width: 30px; height: 30px;background-color: rgb(0, 89, 255);\"></td><td title=\"Index: [0, 6]&#10;Color: (0, 61, 255)\" style=\"width: 30px; height: 30px;background-color: rgb(0, 61, 255);\"></td><td title=\"Index: [0, 7]&#10;Color: (77, 255, 170)\" style=\"width: 30px; height: 30px;background-color: rgb(77, 255, 170);\"></td><td title=\"Index: [0, 8]&#10;Color: (241, 252, 6)\" style=\"width: 30px; height: 30px;background-color: rgb(241, 252, 6);\"></td><td title=\"Index: [0, 9]&#10;Color: (180, 255, 67)\" style=\"width: 30px; height: 30px;background-color: rgb(180, 255, 67);\"></td></tr></tbody></table>"
       ],
       "metadata": {},
       "output_type": "pyout",
       "prompt_number": 154,
       "text": [
        "array([ 0.1700388 ,  0.78034697,  0.88881271,  0.75366301,  0.52036046,\n",
        "        0.20691173,  0.18216958,  0.42630073,  0.61783216,  0.54885086])"
       ]
      }
     ],
     "prompt_number": 154
    },
    {
     "cell_type": "markdown",
     "metadata": {},
     "source": [
      "The last row:"
     ]
    },
    {
     "cell_type": "code",
     "collapsed": false,
     "input": [
      "a[-1,:]"
     ],
     "language": "python",
     "metadata": {},
     "outputs": [
      {
       "html": [
        "<style type=\"text/css\">table.blockgrid {border: none;} .blockgrid tr {border: none;} .blockgrid td {padding: 0px;} #blocks78a33c1b-6b10-42ae-aa9f-528076e813ac td {border: 1px solid white;}</style><table id=\"blocks78a33c1b-6b10-42ae-aa9f-528076e813ac\" class=\"blockgrid\"><tbody><tr><td title=\"Index: [0, 0]&#10;Color: (180, 255, 67)\" style=\"width: 30px; height: 30px;background-color: rgb(180, 255, 67);\"></td><td title=\"Index: [0, 1]&#10;Color: (80, 255, 167)\" style=\"width: 30px; height: 30px;background-color: rgb(80, 255, 167);\"></td><td title=\"Index: [0, 2]&#10;Color: (0, 157, 255)\" style=\"width: 30px; height: 30px;background-color: rgb(0, 157, 255);\"></td><td title=\"Index: [0, 3]&#10;Color: (187, 0, 0)\" style=\"width: 30px; height: 30px;background-color: rgb(187, 0, 0);\"></td><td title=\"Index: [0, 4]&#10;Color: (0, 141, 255)\" style=\"width: 30px; height: 30px;background-color: rgb(0, 141, 255);\"></td><td title=\"Index: [0, 5]&#10;Color: (0, 125, 255)\" style=\"width: 30px; height: 30px;background-color: rgb(0, 125, 255);\"></td><td title=\"Index: [0, 6]&#10;Color: (196, 0, 0)\" style=\"width: 30px; height: 30px;background-color: rgb(196, 0, 0);\"></td><td title=\"Index: [0, 7]&#10;Color: (255, 82, 0)\" style=\"width: 30px; height: 30px;background-color: rgb(255, 82, 0);\"></td><td title=\"Index: [0, 8]&#10;Color: (25, 255, 222)\" style=\"width: 30px; height: 30px;background-color: rgb(25, 255, 222);\"></td><td title=\"Index: [0, 9]&#10;Color: (0, 81, 255)\" style=\"width: 30px; height: 30px;background-color: rgb(0, 81, 255);\"></td></tr></tbody></table>"
       ],
       "metadata": {},
       "output_type": "pyout",
       "prompt_number": 155,
       "text": [
        "array([ 0.54885086,  0.42984671,  0.27201939,  0.91226087,  0.25551305,\n",
        "        0.24001571,  0.90323771,  0.79072064,  0.36733257,  0.19977482])"
       ]
      }
     ],
     "prompt_number": 155
    },
    {
     "cell_type": "markdown",
     "metadata": {},
     "source": [
      "You can also slice ranges:"
     ]
    },
    {
     "cell_type": "code",
     "collapsed": false,
     "input": [
      "a[0:2,0:2]"
     ],
     "language": "python",
     "metadata": {},
     "outputs": [
      {
       "html": [
        "<style type=\"text/css\">table.blockgrid {border: none;} .blockgrid tr {border: none;} .blockgrid td {padding: 0px;} #blocks3d17242b-c2c5-42da-ad3d-aa32f31aac01 td {border: 1px solid white;}</style><table id=\"blocks3d17242b-c2c5-42da-ad3d-aa32f31aac01\" class=\"blockgrid\"><tbody><tr><td title=\"Index: [0, 0]&#10;Color: (0, 49, 255)\" style=\"width: 30px; height: 30px;background-color: rgb(0, 49, 255);\"></td><td title=\"Index: [0, 1]&#10;Color: (209, 0, 0)\" style=\"width: 30px; height: 30px;background-color: rgb(209, 0, 0);\"></td></tr><tr><td title=\"Index: [1, 0]&#10;Color: (255, 93, 0)\" style=\"width: 30px; height: 30px;background-color: rgb(255, 93, 0);\"></td><td title=\"Index: [1, 1]&#10;Color: (255, 226, 0)\" style=\"width: 30px; height: 30px;background-color: rgb(255, 226, 0);\"></td></tr></tbody></table>"
       ],
       "metadata": {},
       "output_type": "pyout",
       "prompt_number": 156,
       "text": [
        "array([[ 0.1700388 ,  0.89251562],\n",
        "       [ 0.78034697,  0.64593235]])"
       ]
      }
     ],
     "prompt_number": 156
    },
    {
     "cell_type": "markdown",
     "metadata": {},
     "source": [
      "Assignment also works with slices:"
     ]
    },
    {
     "cell_type": "code",
     "collapsed": false,
     "input": [
      "a[0:5,0:5] = 1.0"
     ],
     "language": "python",
     "metadata": {},
     "outputs": [],
     "prompt_number": 157
    },
    {
     "cell_type": "code",
     "collapsed": false,
     "input": [
      "a"
     ],
     "language": "python",
     "metadata": {},
     "outputs": [
      {
       "html": [
        "<style type=\"text/css\">table.blockgrid {border: none;} .blockgrid tr {border: none;} .blockgrid td {padding: 0px;} #blocks911853a8-56ea-4b75-b3da-9322bffc0235 td {border: 1px solid white;}</style><table id=\"blocks911853a8-56ea-4b75-b3da-9322bffc0235\" class=\"blockgrid\"><tbody><tr><td title=\"Index: [0, 0]&#10;Color: (128, 0, 0)\" style=\"width: 30px; height: 30px;background-color: rgb(128, 0, 0);\"></td><td title=\"Index: [0, 1]&#10;Color: (128, 0, 0)\" style=\"width: 30px; height: 30px;background-color: rgb(128, 0, 0);\"></td><td title=\"Index: [0, 2]&#10;Color: (128, 0, 0)\" style=\"width: 30px; height: 30px;background-color: rgb(128, 0, 0);\"></td><td title=\"Index: [0, 3]&#10;Color: (128, 0, 0)\" style=\"width: 30px; height: 30px;background-color: rgb(128, 0, 0);\"></td><td title=\"Index: [0, 4]&#10;Color: (128, 0, 0)\" style=\"width: 30px; height: 30px;background-color: rgb(128, 0, 0);\"></td><td title=\"Index: [0, 5]&#10;Color: (0, 4, 255)\" style=\"width: 30px; height: 30px;background-color: rgb(0, 4, 255);\"></td><td title=\"Index: [0, 6]&#10;Color: (106, 255, 141)\" style=\"width: 30px; height: 30px;background-color: rgb(106, 255, 141);\"></td><td title=\"Index: [0, 7]&#10;Color: (0, 0, 237)\" style=\"width: 30px; height: 30px;background-color: rgb(0, 0, 237);\"></td><td title=\"Index: [0, 8]&#10;Color: (255, 119, 0)\" style=\"width: 30px; height: 30px;background-color: rgb(255, 119, 0);\"></td><td title=\"Index: [0, 9]&#10;Color: (0, 41, 255)\" style=\"width: 30px; height: 30px;background-color: rgb(0, 41, 255);\"></td></tr><tr><td title=\"Index: [1, 0]&#10;Color: (128, 0, 0)\" style=\"width: 30px; height: 30px;background-color: rgb(128, 0, 0);\"></td><td title=\"Index: [1, 1]&#10;Color: (128, 0, 0)\" style=\"width: 30px; height: 30px;background-color: rgb(128, 0, 0);\"></td><td title=\"Index: [1, 2]&#10;Color: (128, 0, 0)\" style=\"width: 30px; height: 30px;background-color: rgb(128, 0, 0);\"></td><td title=\"Index: [1, 3]&#10;Color: (128, 0, 0)\" style=\"width: 30px; height: 30px;background-color: rgb(128, 0, 0);\"></td><td title=\"Index: [1, 4]&#10;Color: (128, 0, 0)\" style=\"width: 30px; height: 30px;background-color: rgb(128, 0, 0);\"></td><td title=\"Index: [1, 5]&#10;Color: (0, 0, 128)\" style=\"width: 30px; height: 30px;background-color: rgb(0, 0, 128);\"></td><td title=\"Index: [1, 6]&#10;Color: (0, 52, 255)\" style=\"width: 30px; height: 30px;background-color: rgb(0, 52, 255);\"></td><td title=\"Index: [1, 7]&#10;Color: (215, 255, 31)\" style=\"width: 30px; height: 30px;background-color: rgb(215, 255, 31);\"></td><td title=\"Index: [1, 8]&#10;Color: (0, 221, 254)\" style=\"width: 30px; height: 30px;background-color: rgb(0, 221, 254);\"></td><td title=\"Index: [1, 9]&#10;Color: (0, 0, 132)\" style=\"width: 30px; height: 30px;background-color: rgb(0, 0, 132);\"></td></tr><tr><td title=\"Index: [2, 0]&#10;Color: (128, 0, 0)\" style=\"width: 30px; height: 30px;background-color: rgb(128, 0, 0);\"></td><td title=\"Index: [2, 1]&#10;Color: (128, 0, 0)\" style=\"width: 30px; height: 30px;background-color: rgb(128, 0, 0);\"></td><td title=\"Index: [2, 2]&#10;Color: (128, 0, 0)\" style=\"width: 30px; height: 30px;background-color: rgb(128, 0, 0);\"></td><td title=\"Index: [2, 3]&#10;Color: (128, 0, 0)\" style=\"width: 30px; height: 30px;background-color: rgb(128, 0, 0);\"></td><td title=\"Index: [2, 4]&#10;Color: (128, 0, 0)\" style=\"width: 30px; height: 30px;background-color: rgb(128, 0, 0);\"></td><td title=\"Index: [2, 5]&#10;Color: (0, 0, 209)\" style=\"width: 30px; height: 30px;background-color: rgb(0, 0, 209);\"></td><td title=\"Index: [2, 6]&#10;Color: (255, 126, 0)\" style=\"width: 30px; height: 30px;background-color: rgb(255, 126, 0);\"></td><td title=\"Index: [2, 7]&#10;Color: (255, 196, 0)\" style=\"width: 30px; height: 30px;background-color: rgb(255, 196, 0);\"></td><td title=\"Index: [2, 8]&#10;Color: (128, 255, 119)\" style=\"width: 30px; height: 30px;background-color: rgb(128, 255, 119);\"></td><td title=\"Index: [2, 9]&#10;Color: (154, 255, 93)\" style=\"width: 30px; height: 30px;background-color: rgb(154, 255, 93);\"></td></tr><tr><td title=\"Index: [3, 0]&#10;Color: (128, 0, 0)\" style=\"width: 30px; height: 30px;background-color: rgb(128, 0, 0);\"></td><td title=\"Index: [3, 1]&#10;Color: (128, 0, 0)\" style=\"width: 30px; height: 30px;background-color: rgb(128, 0, 0);\"></td><td title=\"Index: [3, 2]&#10;Color: (128, 0, 0)\" style=\"width: 30px; height: 30px;background-color: rgb(128, 0, 0);\"></td><td title=\"Index: [3, 3]&#10;Color: (128, 0, 0)\" style=\"width: 30px; height: 30px;background-color: rgb(128, 0, 0);\"></td><td title=\"Index: [3, 4]&#10;Color: (128, 0, 0)\" style=\"width: 30px; height: 30px;background-color: rgb(128, 0, 0);\"></td><td title=\"Index: [3, 5]&#10;Color: (0, 52, 255)\" style=\"width: 30px; height: 30px;background-color: rgb(0, 52, 255);\"></td><td title=\"Index: [3, 6]&#10;Color: (255, 119, 0)\" style=\"width: 30px; height: 30px;background-color: rgb(255, 119, 0);\"></td><td title=\"Index: [3, 7]&#10;Color: (255, 37, 0)\" style=\"width: 30px; height: 30px;background-color: rgb(255, 37, 0);\"></td><td title=\"Index: [3, 8]&#10;Color: (0, 4, 255)\" style=\"width: 30px; height: 30px;background-color: rgb(0, 4, 255);\"></td><td title=\"Index: [3, 9]&#10;Color: (0, 0, 218)\" style=\"width: 30px; height: 30px;background-color: rgb(0, 0, 218);\"></td></tr><tr><td title=\"Index: [4, 0]&#10;Color: (128, 0, 0)\" style=\"width: 30px; height: 30px;background-color: rgb(128, 0, 0);\"></td><td title=\"Index: [4, 1]&#10;Color: (128, 0, 0)\" style=\"width: 30px; height: 30px;background-color: rgb(128, 0, 0);\"></td><td title=\"Index: [4, 2]&#10;Color: (128, 0, 0)\" style=\"width: 30px; height: 30px;background-color: rgb(128, 0, 0);\"></td><td title=\"Index: [4, 3]&#10;Color: (128, 0, 0)\" style=\"width: 30px; height: 30px;background-color: rgb(128, 0, 0);\"></td><td title=\"Index: [4, 4]&#10;Color: (128, 0, 0)\" style=\"width: 30px; height: 30px;background-color: rgb(128, 0, 0);\"></td><td title=\"Index: [4, 5]&#10;Color: (254, 237, 0)\" style=\"width: 30px; height: 30px;background-color: rgb(254, 237, 0);\"></td><td title=\"Index: [4, 6]&#10;Color: (115, 255, 131)\" style=\"width: 30px; height: 30px;background-color: rgb(115, 255, 131);\"></td><td title=\"Index: [4, 7]&#10;Color: (15, 249, 231)\" style=\"width: 30px; height: 30px;background-color: rgb(15, 249, 231);\"></td><td title=\"Index: [4, 8]&#10;Color: (255, 126, 0)\" style=\"width: 30px; height: 30px;background-color: rgb(255, 126, 0);\"></td><td title=\"Index: [4, 9]&#10;Color: (0, 177, 255)\" style=\"width: 30px; height: 30px;background-color: rgb(0, 177, 255);\"></td></tr><tr><td title=\"Index: [5, 0]&#10;Color: (0, 81, 255)\" style=\"width: 30px; height: 30px;background-color: rgb(0, 81, 255);\"></td><td title=\"Index: [5, 1]&#10;Color: (246, 11, 0)\" style=\"width: 30px; height: 30px;background-color: rgb(246, 11, 0);\"></td><td title=\"Index: [5, 2]&#10;Color: (19, 253, 228)\" style=\"width: 30px; height: 30px;background-color: rgb(19, 253, 228);\"></td><td title=\"Index: [5, 3]&#10;Color: (255, 41, 0)\" style=\"width: 30px; height: 30px;background-color: rgb(255, 41, 0);\"></td><td title=\"Index: [5, 4]&#10;Color: (0, 73, 255)\" style=\"width: 30px; height: 30px;background-color: rgb(0, 73, 255);\"></td><td title=\"Index: [5, 5]&#10;Color: (255, 178, 0)\" style=\"width: 30px; height: 30px;background-color: rgb(255, 178, 0);\"></td><td title=\"Index: [5, 6]&#10;Color: (0, 0, 255)\" style=\"width: 30px; height: 30px;background-color: rgb(0, 0, 255);\"></td><td title=\"Index: [5, 7]&#10;Color: (0, 149, 255)\" style=\"width: 30px; height: 30px;background-color: rgb(0, 149, 255);\"></td><td title=\"Index: [5, 8]&#10;Color: (244, 248, 2)\" style=\"width: 30px; height: 30px;background-color: rgb(244, 248, 2);\"></td><td title=\"Index: [5, 9]&#10;Color: (255, 156, 0)\" style=\"width: 30px; height: 30px;background-color: rgb(255, 156, 0);\"></td></tr><tr><td title=\"Index: [6, 0]&#10;Color: (0, 52, 255)\" style=\"width: 30px; height: 30px;background-color: rgb(0, 52, 255);\"></td><td title=\"Index: [6, 1]&#10;Color: (191, 0, 0)\" style=\"width: 30px; height: 30px;background-color: rgb(191, 0, 0);\"></td><td title=\"Index: [6, 2]&#10;Color: (196, 255, 51)\" style=\"width: 30px; height: 30px;background-color: rgb(196, 255, 51);\"></td><td title=\"Index: [6, 3]&#10;Color: (0, 225, 251)\" style=\"width: 30px; height: 30px;background-color: rgb(0, 225, 251);\"></td><td title=\"Index: [6, 4]&#10;Color: (255, 96, 0)\" style=\"width: 30px; height: 30px;background-color: rgb(255, 96, 0);\"></td><td title=\"Index: [6, 5]&#10;Color: (64, 255, 183)\" style=\"width: 30px; height: 30px;background-color: rgb(64, 255, 183);\"></td><td title=\"Index: [6, 6]&#10;Color: (254, 237, 0)\" style=\"width: 30px; height: 30px;background-color: rgb(254, 237, 0);\"></td><td title=\"Index: [6, 7]&#10;Color: (0, 0, 150)\" style=\"width: 30px; height: 30px;background-color: rgb(0, 0, 150);\"></td><td title=\"Index: [6, 8]&#10;Color: (0, 161, 255)\" style=\"width: 30px; height: 30px;background-color: rgb(0, 161, 255);\"></td><td title=\"Index: [6, 9]&#10;Color: (0, 177, 255)\" style=\"width: 30px; height: 30px;background-color: rgb(0, 177, 255);\"></td></tr><tr><td title=\"Index: [7, 0]&#10;Color: (60, 255, 186)\" style=\"width: 30px; height: 30px;background-color: rgb(60, 255, 186);\"></td><td title=\"Index: [7, 1]&#10;Color: (255, 19, 0)\" style=\"width: 30px; height: 30px;background-color: rgb(255, 19, 0);\"></td><td title=\"Index: [7, 2]&#10;Color: (0, 200, 255)\" style=\"width: 30px; height: 30px;background-color: rgb(0, 200, 255);\"></td><td title=\"Index: [7, 3]&#10;Color: (0, 185, 255)\" style=\"width: 30px; height: 30px;background-color: rgb(0, 185, 255);\"></td><td title=\"Index: [7, 4]&#10;Color: (193, 255, 54)\" style=\"width: 30px; height: 30px;background-color: rgb(193, 255, 54);\"></td><td title=\"Index: [7, 5]&#10;Color: (244, 248, 2)\" style=\"width: 30px; height: 30px;background-color: rgb(244, 248, 2);\"></td><td title=\"Index: [7, 6]&#10;Color: (255, 56, 0)\" style=\"width: 30px; height: 30px;background-color: rgb(255, 56, 0);\"></td><td title=\"Index: [7, 7]&#10;Color: (223, 0, 0)\" style=\"width: 30px; height: 30px;background-color: rgb(223, 0, 0);\"></td><td title=\"Index: [7, 8]&#10;Color: (22, 255, 225)\" style=\"width: 30px; height: 30px;background-color: rgb(22, 255, 225);\"></td><td title=\"Index: [7, 9]&#10;Color: (77, 255, 170)\" style=\"width: 30px; height: 30px;background-color: rgb(77, 255, 170);\"></td></tr><tr><td title=\"Index: [8, 0]&#10;Color: (219, 255, 28)\" style=\"width: 30px; height: 30px;background-color: rgb(219, 255, 28);\"></td><td title=\"Index: [8, 1]&#10;Color: (246, 11, 0)\" style=\"width: 30px; height: 30px;background-color: rgb(246, 11, 0);\"></td><td title=\"Index: [8, 2]&#10;Color: (0, 136, 255)\" style=\"width: 30px; height: 30px;background-color: rgb(0, 136, 255);\"></td><td title=\"Index: [8, 3]&#10;Color: (255, 159, 0)\" style=\"width: 30px; height: 30px;background-color: rgb(255, 159, 0);\"></td><td title=\"Index: [8, 4]&#10;Color: (0, 0, 168)\" style=\"width: 30px; height: 30px;background-color: rgb(0, 0, 168);\"></td><td title=\"Index: [8, 5]&#10;Color: (255, 148, 0)\" style=\"width: 30px; height: 30px;background-color: rgb(255, 148, 0);\"></td><td title=\"Index: [8, 6]&#10;Color: (255, 19, 0)\" style=\"width: 30px; height: 30px;background-color: rgb(255, 19, 0);\"></td><td title=\"Index: [8, 7]&#10;Color: (173, 0, 0)\" style=\"width: 30px; height: 30px;background-color: rgb(173, 0, 0);\"></td><td title=\"Index: [8, 8]&#10;Color: (255, 82, 0)\" style=\"width: 30px; height: 30px;background-color: rgb(255, 82, 0);\"></td><td title=\"Index: [8, 9]&#10;Color: (228, 255, 19)\" style=\"width: 30px; height: 30px;background-color: rgb(228, 255, 19);\"></td></tr><tr><td title=\"Index: [9, 0]&#10;Color: (164, 255, 83)\" style=\"width: 30px; height: 30px;background-color: rgb(164, 255, 83);\"></td><td title=\"Index: [9, 1]&#10;Color: (64, 255, 183)\" style=\"width: 30px; height: 30px;background-color: rgb(64, 255, 183);\"></td><td title=\"Index: [9, 2]&#10;Color: (0, 145, 255)\" style=\"width: 30px; height: 30px;background-color: rgb(0, 145, 255);\"></td><td title=\"Index: [9, 3]&#10;Color: (228, 0, 0)\" style=\"width: 30px; height: 30px;background-color: rgb(228, 0, 0);\"></td><td title=\"Index: [9, 4]&#10;Color: (0, 129, 255)\" style=\"width: 30px; height: 30px;background-color: rgb(0, 129, 255);\"></td><td title=\"Index: [9, 5]&#10;Color: (0, 113, 255)\" style=\"width: 30px; height: 30px;background-color: rgb(0, 113, 255);\"></td><td title=\"Index: [9, 6]&#10;Color: (237, 4, 0)\" style=\"width: 30px; height: 30px;background-color: rgb(237, 4, 0);\"></td><td title=\"Index: [9, 7]&#10;Color: (255, 111, 0)\" style=\"width: 30px; height: 30px;background-color: rgb(255, 111, 0);\"></td><td title=\"Index: [9, 8]&#10;Color: (12, 245, 235)\" style=\"width: 30px; height: 30px;background-color: rgb(12, 245, 235);\"></td><td title=\"Index: [9, 9]&#10;Color: (0, 73, 255)\" style=\"width: 30px; height: 30px;background-color: rgb(0, 73, 255);\"></td></tr></tbody></table>"
       ],
       "metadata": {},
       "output_type": "pyout",
       "prompt_number": 158,
       "text": [
        "array([[ 1.        ,  1.        ,  1.        ,  1.        ,  1.        ,\n",
        "         0.13348661,  0.48196689,  0.09803957,  0.78302429,  0.1689128 ],\n",
        "       [ 1.        ,  1.        ,  1.        ,  1.        ,  1.        ,\n",
        "         0.00342341,  0.18199019,  0.61426387,  0.34294973,  0.00936548],\n",
        "       [ 1.        ,  1.        ,  1.        ,  1.        ,  1.        ,\n",
        "         0.07654226,  0.77691252,  0.70067204,  0.50708637,  0.53957937],\n",
        "       [ 1.        ,  1.        ,  1.        ,  1.        ,  1.        ,\n",
        "         0.1824157 ,  0.78343611,  0.8692183 ,  0.13236888,  0.08368956],\n",
        "       [ 1.        ,  1.        ,  1.        ,  1.        ,  1.        ,\n",
        "         0.65887468,  0.49237543,  0.37120149,  0.77551809,  0.30100575],\n",
        "       [ 0.20691173,  0.89681633,  0.37651823,  0.86578751,  0.19943671,\n",
        "         0.72237194,  0.11523334,  0.27442178,  0.64739572,  0.74672901],\n",
        "       [ 0.18216958,  0.94370577,  0.58799071,  0.34893181,  0.80573583,\n",
        "         0.43092252,  0.65790758,  0.02528455,  0.28510027,  0.30015988],\n",
        "       [ 0.42630073,  0.89010471,  0.32477616,  0.30833984,  0.58574349,\n",
        "         0.64850839,  0.84937884,  0.91562702,  0.379276  ,  0.44547016],\n",
        "       [ 0.61783216,  0.89740332,  0.26354416,  0.74207037,  0.04191076,\n",
        "         0.75147502,  0.88755412,  0.96094283,  0.82138589,  0.6294864 ],\n",
        "       [ 0.54885086,  0.42984671,  0.27201939,  0.91226087,  0.25551305,\n",
        "         0.24001571,  0.90323771,  0.79072064,  0.36733257,  0.19977482]])"
       ]
      }
     ],
     "prompt_number": 158
    },
    {
     "cell_type": "code",
     "collapsed": false,
     "input": [
      "vz.disable()"
     ],
     "language": "python",
     "metadata": {},
     "outputs": [],
     "prompt_number": 159
    },
    {
     "cell_type": "markdown",
     "metadata": {},
     "source": [
      "Note how even though we assigned the value to the slice, the original array was changed. This clarifies that slices are **views** of the same data, not a copy."
     ]
    },
    {
     "cell_type": "markdown",
     "metadata": {},
     "source": [
      "### Boolean indexing"
     ]
    },
    {
     "cell_type": "code",
     "collapsed": false,
     "input": [
      "ages = np.array([23,56,67,89,23,56,27,12,8,72])\n",
      "genders = np.array(['m','m','f','f','m','f','m','m','m','f'])"
     ],
     "language": "python",
     "metadata": {},
     "outputs": [],
     "prompt_number": 160
    },
    {
     "cell_type": "code",
     "collapsed": false,
     "input": [
      "ages > 30"
     ],
     "language": "python",
     "metadata": {},
     "outputs": [
      {
       "metadata": {},
       "output_type": "pyout",
       "prompt_number": 161,
       "text": [
        "array([False,  True,  True,  True, False,  True, False, False, False,  True], dtype=bool)"
       ]
      }
     ],
     "prompt_number": 161
    },
    {
     "cell_type": "code",
     "collapsed": false,
     "input": [
      "genders == 'm'"
     ],
     "language": "python",
     "metadata": {},
     "outputs": [
      {
       "metadata": {},
       "output_type": "pyout",
       "prompt_number": 162,
       "text": [
        "array([ True,  True, False, False,  True, False,  True,  True,  True, False], dtype=bool)"
       ]
      }
     ],
     "prompt_number": 162
    },
    {
     "cell_type": "code",
     "collapsed": false,
     "input": [
      "(ages > 10) & (ages < 50)"
     ],
     "language": "python",
     "metadata": {},
     "outputs": [
      {
       "metadata": {},
       "output_type": "pyout",
       "prompt_number": 163,
       "text": [
        "array([ True, False, False, False,  True, False,  True,  True, False, False], dtype=bool)"
       ]
      }
     ],
     "prompt_number": 163
    },
    {
     "cell_type": "markdown",
     "metadata": {},
     "source": [
      "You can use a boolean array to index into the original or another array:"
     ]
    },
    {
     "cell_type": "code",
     "collapsed": false,
     "input": [
      "mask = (genders == 'f')\n",
      "ages[mask]"
     ],
     "language": "python",
     "metadata": {},
     "outputs": [
      {
       "metadata": {},
       "output_type": "pyout",
       "prompt_number": 164,
       "text": [
        "array([67, 89, 56, 72])"
       ]
      }
     ],
     "prompt_number": 164
    },
    {
     "cell_type": "code",
     "collapsed": false,
     "input": [
      "ages[ages>30]"
     ],
     "language": "python",
     "metadata": {},
     "outputs": [
      {
       "metadata": {},
       "output_type": "pyout",
       "prompt_number": 165,
       "text": [
        "array([56, 67, 89, 56, 72])"
       ]
      }
     ],
     "prompt_number": 165
    },
    {
     "cell_type": "markdown",
     "metadata": {},
     "source": [
      "## Reshaping, transposing"
     ]
    },
    {
     "cell_type": "code",
     "collapsed": false,
     "input": [
      "vz.enable()"
     ],
     "language": "python",
     "metadata": {},
     "outputs": [],
     "prompt_number": 219
    },
    {
     "cell_type": "code",
     "collapsed": false,
     "input": [
      "a = np.random.rand(3,4)"
     ],
     "language": "python",
     "metadata": {},
     "outputs": [],
     "prompt_number": 220
    },
    {
     "cell_type": "code",
     "collapsed": false,
     "input": [
      "a"
     ],
     "language": "python",
     "metadata": {},
     "outputs": [
      {
       "html": [
        "<style type=\"text/css\">table.blockgrid {border: none;} .blockgrid tr {border: none;} .blockgrid td {padding: 0px;} #blocks46ad20b6-4821-402e-9fa2-41851f304446 td {border: 1px solid white;}</style><table id=\"blocks46ad20b6-4821-402e-9fa2-41851f304446\" class=\"blockgrid\"><tbody><tr><td title=\"Index: [0, 0]&#10;Color: (128, 0, 0)\" style=\"width: 30px; height: 30px;background-color: rgb(128, 0, 0);\"></td><td title=\"Index: [0, 1]&#10;Color: (0, 205, 255)\" style=\"width: 30px; height: 30px;background-color: rgb(0, 205, 255);\"></td><td title=\"Index: [0, 2]&#10;Color: (0, 0, 187)\" style=\"width: 30px; height: 30px;background-color: rgb(0, 0, 187);\"></td><td title=\"Index: [0, 3]&#10;Color: (0, 68, 255)\" style=\"width: 30px; height: 30px;background-color: rgb(0, 68, 255);\"></td></tr><tr><td title=\"Index: [1, 0]&#10;Color: (0, 0, 128)\" style=\"width: 30px; height: 30px;background-color: rgb(0, 0, 128);\"></td><td title=\"Index: [1, 1]&#10;Color: (255, 178, 0)\" style=\"width: 30px; height: 30px;background-color: rgb(255, 178, 0);\"></td><td title=\"Index: [1, 2]&#10;Color: (64, 255, 183)\" style=\"width: 30px; height: 30px;background-color: rgb(64, 255, 183);\"></td><td title=\"Index: [1, 3]&#10;Color: (0, 61, 255)\" style=\"width: 30px; height: 30px;background-color: rgb(0, 61, 255);\"></td></tr><tr><td title=\"Index: [2, 0]&#10;Color: (0, 0, 146)\" style=\"width: 30px; height: 30px;background-color: rgb(0, 0, 146);\"></td><td title=\"Index: [2, 1]&#10;Color: (255, 226, 0)\" style=\"width: 30px; height: 30px;background-color: rgb(255, 226, 0);\"></td><td title=\"Index: [2, 2]&#10;Color: (54, 255, 193)\" style=\"width: 30px; height: 30px;background-color: rgb(54, 255, 193);\"></td><td title=\"Index: [2, 3]&#10;Color: (255, 48, 0)\" style=\"width: 30px; height: 30px;background-color: rgb(255, 48, 0);\"></td></tr></tbody></table>"
       ],
       "metadata": {},
       "output_type": "pyout",
       "prompt_number": 221,
       "text": [
        "array([[ 0.97571266,  0.32530303,  0.06148628,  0.19715477],\n",
        "       [ 0.01078472,  0.70647346,  0.4224147 ,  0.19166829],\n",
        "       [ 0.02860143,  0.65894638,  0.41375172,  0.83781716]])"
       ]
      }
     ],
     "prompt_number": 221
    },
    {
     "cell_type": "code",
     "collapsed": false,
     "input": [
      "a.T"
     ],
     "language": "python",
     "metadata": {},
     "outputs": [
      {
       "html": [
        "<style type=\"text/css\">table.blockgrid {border: none;} .blockgrid tr {border: none;} .blockgrid td {padding: 0px;} #blockscb90af54-c1e8-45b0-88a0-80527b014420 td {border: 1px solid white;}</style><table id=\"blockscb90af54-c1e8-45b0-88a0-80527b014420\" class=\"blockgrid\"><tbody><tr><td title=\"Index: [0, 0]&#10;Color: (128, 0, 0)\" style=\"width: 30px; height: 30px;background-color: rgb(128, 0, 0);\"></td><td title=\"Index: [0, 1]&#10;Color: (0, 0, 128)\" style=\"width: 30px; height: 30px;background-color: rgb(0, 0, 128);\"></td><td title=\"Index: [0, 2]&#10;Color: (0, 0, 146)\" style=\"width: 30px; height: 30px;background-color: rgb(0, 0, 146);\"></td></tr><tr><td title=\"Index: [1, 0]&#10;Color: (0, 205, 255)\" style=\"width: 30px; height: 30px;background-color: rgb(0, 205, 255);\"></td><td title=\"Index: [1, 1]&#10;Color: (255, 178, 0)\" style=\"width: 30px; height: 30px;background-color: rgb(255, 178, 0);\"></td><td title=\"Index: [1, 2]&#10;Color: (255, 226, 0)\" style=\"width: 30px; height: 30px;background-color: rgb(255, 226, 0);\"></td></tr><tr><td title=\"Index: [2, 0]&#10;Color: (0, 0, 187)\" style=\"width: 30px; height: 30px;background-color: rgb(0, 0, 187);\"></td><td title=\"Index: [2, 1]&#10;Color: (64, 255, 183)\" style=\"width: 30px; height: 30px;background-color: rgb(64, 255, 183);\"></td><td title=\"Index: [2, 2]&#10;Color: (54, 255, 193)\" style=\"width: 30px; height: 30px;background-color: rgb(54, 255, 193);\"></td></tr><tr><td title=\"Index: [3, 0]&#10;Color: (0, 68, 255)\" style=\"width: 30px; height: 30px;background-color: rgb(0, 68, 255);\"></td><td title=\"Index: [3, 1]&#10;Color: (0, 61, 255)\" style=\"width: 30px; height: 30px;background-color: rgb(0, 61, 255);\"></td><td title=\"Index: [3, 2]&#10;Color: (255, 48, 0)\" style=\"width: 30px; height: 30px;background-color: rgb(255, 48, 0);\"></td></tr></tbody></table>"
       ],
       "metadata": {},
       "output_type": "pyout",
       "prompt_number": 222,
       "text": [
        "array([[ 0.97571266,  0.01078472,  0.02860143],\n",
        "       [ 0.32530303,  0.70647346,  0.65894638],\n",
        "       [ 0.06148628,  0.4224147 ,  0.41375172],\n",
        "       [ 0.19715477,  0.19166829,  0.83781716]])"
       ]
      }
     ],
     "prompt_number": 222
    },
    {
     "cell_type": "code",
     "collapsed": false,
     "input": [
      "a.reshape(2,6)"
     ],
     "language": "python",
     "metadata": {},
     "outputs": [
      {
       "html": [
        "<style type=\"text/css\">table.blockgrid {border: none;} .blockgrid tr {border: none;} .blockgrid td {padding: 0px;} #blocksaa01714e-0494-4d63-a066-9ee918865052 td {border: 1px solid white;}</style><table id=\"blocksaa01714e-0494-4d63-a066-9ee918865052\" class=\"blockgrid\"><tbody><tr><td title=\"Index: [0, 0]&#10;Color: (128, 0, 0)\" style=\"width: 30px; height: 30px;background-color: rgb(128, 0, 0);\"></td><td title=\"Index: [0, 1]&#10;Color: (0, 205, 255)\" style=\"width: 30px; height: 30px;background-color: rgb(0, 205, 255);\"></td><td title=\"Index: [0, 2]&#10;Color: (0, 0, 187)\" style=\"width: 30px; height: 30px;background-color: rgb(0, 0, 187);\"></td><td title=\"Index: [0, 3]&#10;Color: (0, 68, 255)\" style=\"width: 30px; height: 30px;background-color: rgb(0, 68, 255);\"></td><td title=\"Index: [0, 4]&#10;Color: (0, 0, 128)\" style=\"width: 30px; height: 30px;background-color: rgb(0, 0, 128);\"></td><td title=\"Index: [0, 5]&#10;Color: (255, 178, 0)\" style=\"width: 30px; height: 30px;background-color: rgb(255, 178, 0);\"></td></tr><tr><td title=\"Index: [1, 0]&#10;Color: (64, 255, 183)\" style=\"width: 30px; height: 30px;background-color: rgb(64, 255, 183);\"></td><td title=\"Index: [1, 1]&#10;Color: (0, 61, 255)\" style=\"width: 30px; height: 30px;background-color: rgb(0, 61, 255);\"></td><td title=\"Index: [1, 2]&#10;Color: (0, 0, 146)\" style=\"width: 30px; height: 30px;background-color: rgb(0, 0, 146);\"></td><td title=\"Index: [1, 3]&#10;Color: (255, 226, 0)\" style=\"width: 30px; height: 30px;background-color: rgb(255, 226, 0);\"></td><td title=\"Index: [1, 4]&#10;Color: (54, 255, 193)\" style=\"width: 30px; height: 30px;background-color: rgb(54, 255, 193);\"></td><td title=\"Index: [1, 5]&#10;Color: (255, 48, 0)\" style=\"width: 30px; height: 30px;background-color: rgb(255, 48, 0);\"></td></tr></tbody></table>"
       ],
       "metadata": {},
       "output_type": "pyout",
       "prompt_number": 223,
       "text": [
        "array([[ 0.97571266,  0.32530303,  0.06148628,  0.19715477,  0.01078472,\n",
        "         0.70647346],\n",
        "       [ 0.4224147 ,  0.19166829,  0.02860143,  0.65894638,  0.41375172,\n",
        "         0.83781716]])"
       ]
      }
     ],
     "prompt_number": 223
    },
    {
     "cell_type": "code",
     "collapsed": false,
     "input": [
      "a.reshape(6,2)"
     ],
     "language": "python",
     "metadata": {},
     "outputs": [
      {
       "html": [
        "<style type=\"text/css\">table.blockgrid {border: none;} .blockgrid tr {border: none;} .blockgrid td {padding: 0px;} #blocks039569c1-e8b6-4487-bd5a-2a136295cc0d td {border: 1px solid white;}</style><table id=\"blocks039569c1-e8b6-4487-bd5a-2a136295cc0d\" class=\"blockgrid\"><tbody><tr><td title=\"Index: [0, 0]&#10;Color: (128, 0, 0)\" style=\"width: 30px; height: 30px;background-color: rgb(128, 0, 0);\"></td><td title=\"Index: [0, 1]&#10;Color: (0, 205, 255)\" style=\"width: 30px; height: 30px;background-color: rgb(0, 205, 255);\"></td></tr><tr><td title=\"Index: [1, 0]&#10;Color: (0, 0, 187)\" style=\"width: 30px; height: 30px;background-color: rgb(0, 0, 187);\"></td><td title=\"Index: [1, 1]&#10;Color: (0, 68, 255)\" style=\"width: 30px; height: 30px;background-color: rgb(0, 68, 255);\"></td></tr><tr><td title=\"Index: [2, 0]&#10;Color: (0, 0, 128)\" style=\"width: 30px; height: 30px;background-color: rgb(0, 0, 128);\"></td><td title=\"Index: [2, 1]&#10;Color: (255, 178, 0)\" style=\"width: 30px; height: 30px;background-color: rgb(255, 178, 0);\"></td></tr><tr><td title=\"Index: [3, 0]&#10;Color: (64, 255, 183)\" style=\"width: 30px; height: 30px;background-color: rgb(64, 255, 183);\"></td><td title=\"Index: [3, 1]&#10;Color: (0, 61, 255)\" style=\"width: 30px; height: 30px;background-color: rgb(0, 61, 255);\"></td></tr><tr><td title=\"Index: [4, 0]&#10;Color: (0, 0, 146)\" style=\"width: 30px; height: 30px;background-color: rgb(0, 0, 146);\"></td><td title=\"Index: [4, 1]&#10;Color: (255, 226, 0)\" style=\"width: 30px; height: 30px;background-color: rgb(255, 226, 0);\"></td></tr><tr><td title=\"Index: [5, 0]&#10;Color: (54, 255, 193)\" style=\"width: 30px; height: 30px;background-color: rgb(54, 255, 193);\"></td><td title=\"Index: [5, 1]&#10;Color: (255, 48, 0)\" style=\"width: 30px; height: 30px;background-color: rgb(255, 48, 0);\"></td></tr></tbody></table>"
       ],
       "metadata": {},
       "output_type": "pyout",
       "prompt_number": 224,
       "text": [
        "array([[ 0.97571266,  0.32530303],\n",
        "       [ 0.06148628,  0.19715477],\n",
        "       [ 0.01078472,  0.70647346],\n",
        "       [ 0.4224147 ,  0.19166829],\n",
        "       [ 0.02860143,  0.65894638],\n",
        "       [ 0.41375172,  0.83781716]])"
       ]
      }
     ],
     "prompt_number": 224
    },
    {
     "cell_type": "code",
     "collapsed": false,
     "input": [
      "a.ravel()"
     ],
     "language": "python",
     "metadata": {},
     "outputs": [
      {
       "html": [
        "<style type=\"text/css\">table.blockgrid {border: none;} .blockgrid tr {border: none;} .blockgrid td {padding: 0px;} #blocks0a4cf2b1-71a7-4c94-84b2-91b3fcf58b69 td {border: 1px solid white;}</style><table id=\"blocks0a4cf2b1-71a7-4c94-84b2-91b3fcf58b69\" class=\"blockgrid\"><tbody><tr><td title=\"Index: [0, 0]&#10;Color: (128, 0, 0)\" style=\"width: 30px; height: 30px;background-color: rgb(128, 0, 0);\"></td><td title=\"Index: [0, 1]&#10;Color: (0, 205, 255)\" style=\"width: 30px; height: 30px;background-color: rgb(0, 205, 255);\"></td><td title=\"Index: [0, 2]&#10;Color: (0, 0, 187)\" style=\"width: 30px; height: 30px;background-color: rgb(0, 0, 187);\"></td><td title=\"Index: [0, 3]&#10;Color: (0, 68, 255)\" style=\"width: 30px; height: 30px;background-color: rgb(0, 68, 255);\"></td><td title=\"Index: [0, 4]&#10;Color: (0, 0, 128)\" style=\"width: 30px; height: 30px;background-color: rgb(0, 0, 128);\"></td><td title=\"Index: [0, 5]&#10;Color: (255, 178, 0)\" style=\"width: 30px; height: 30px;background-color: rgb(255, 178, 0);\"></td><td title=\"Index: [0, 6]&#10;Color: (64, 255, 183)\" style=\"width: 30px; height: 30px;background-color: rgb(64, 255, 183);\"></td><td title=\"Index: [0, 7]&#10;Color: (0, 61, 255)\" style=\"width: 30px; height: 30px;background-color: rgb(0, 61, 255);\"></td><td title=\"Index: [0, 8]&#10;Color: (0, 0, 146)\" style=\"width: 30px; height: 30px;background-color: rgb(0, 0, 146);\"></td><td title=\"Index: [0, 9]&#10;Color: (255, 226, 0)\" style=\"width: 30px; height: 30px;background-color: rgb(255, 226, 0);\"></td><td title=\"Index: [0, 10]&#10;Color: (54, 255, 193)\" style=\"width: 30px; height: 30px;background-color: rgb(54, 255, 193);\"></td><td title=\"Index: [0, 11]&#10;Color: (255, 48, 0)\" style=\"width: 30px; height: 30px;background-color: rgb(255, 48, 0);\"></td></tr></tbody></table>"
       ],
       "metadata": {},
       "output_type": "pyout",
       "prompt_number": 225,
       "text": [
        "array([ 0.97571266,  0.32530303,  0.06148628,  0.19715477,  0.01078472,\n",
        "        0.70647346,  0.4224147 ,  0.19166829,  0.02860143,  0.65894638,\n",
        "        0.41375172,  0.83781716])"
       ]
      }
     ],
     "prompt_number": 225
    },
    {
     "cell_type": "code",
     "collapsed": false,
     "input": [
      "vz.disable()"
     ],
     "language": "python",
     "metadata": {},
     "outputs": [],
     "prompt_number": 226
    },
    {
     "cell_type": "markdown",
     "metadata": {},
     "source": [
      "## Universal functions"
     ]
    },
    {
     "cell_type": "markdown",
     "metadata": {},
     "source": [
      "Universal function, or \"ufuncs,\" are functions that take and return arrays or scalars:\n",
      "\n",
      "* Vectorized C implementations, much faster than hand written loops in Python\n",
      "* Allow for concise Pythonic code\n",
      "* Here is a complete list of the [available NumPy ufuncs](http://docs.scipy.org/doc/numpy/reference/ufuncs.html#available-ufuncs) lists the available ufuncs."
     ]
    },
    {
     "cell_type": "code",
     "collapsed": false,
     "input": [
      "vz.set_block_size(5)\n",
      "vz.enable()"
     ],
     "language": "python",
     "metadata": {},
     "outputs": [],
     "prompt_number": 185
    },
    {
     "cell_type": "code",
     "collapsed": false,
     "input": [
      "t = np.linspace(0.0, 4*np.pi, 100)\n",
      "t"
     ],
     "language": "python",
     "metadata": {},
     "outputs": [
      {
       "html": [
        "<style type=\"text/css\">table.blockgrid {border: none;} .blockgrid tr {border: none;} .blockgrid td {padding: 0px;} #blocksf88110cc-33c9-49c9-bcf2-9ff88321d7d9 td {border: 1px solid white;}</style><table id=\"blocksf88110cc-33c9-49c9-bcf2-9ff88321d7d9\" class=\"blockgrid\"><tbody><tr><td title=\"Index: [0, 0]&#10;Color: (0, 0, 128)\" style=\"width: 5px; height: 5px;background-color: rgb(0, 0, 128);\"></td><td title=\"Index: [0, 1]&#10;Color: (0, 0, 137)\" style=\"width: 5px; height: 5px;background-color: rgb(0, 0, 137);\"></td><td title=\"Index: [0, 2]&#10;Color: (0, 0, 150)\" style=\"width: 5px; height: 5px;background-color: rgb(0, 0, 150);\"></td><td title=\"Index: [0, 3]&#10;Color: (0, 0, 159)\" style=\"width: 5px; height: 5px;background-color: rgb(0, 0, 159);\"></td><td title=\"Index: [0, 4]&#10;Color: (0, 0, 173)\" style=\"width: 5px; height: 5px;background-color: rgb(0, 0, 173);\"></td><td title=\"Index: [0, 5]&#10;Color: (0, 0, 182)\" style=\"width: 5px; height: 5px;background-color: rgb(0, 0, 182);\"></td><td title=\"Index: [0, 6]&#10;Color: (0, 0, 196)\" style=\"width: 5px; height: 5px;background-color: rgb(0, 0, 196);\"></td><td title=\"Index: [0, 7]&#10;Color: (0, 0, 209)\" style=\"width: 5px; height: 5px;background-color: rgb(0, 0, 209);\"></td><td title=\"Index: [0, 8]&#10;Color: (0, 0, 218)\" style=\"width: 5px; height: 5px;background-color: rgb(0, 0, 218);\"></td><td title=\"Index: [0, 9]&#10;Color: (0, 0, 232)\" style=\"width: 5px; height: 5px;background-color: rgb(0, 0, 232);\"></td><td title=\"Index: [0, 10]&#10;Color: (0, 0, 241)\" style=\"width: 5px; height: 5px;background-color: rgb(0, 0, 241);\"></td><td title=\"Index: [0, 11]&#10;Color: (0, 0, 255)\" style=\"width: 5px; height: 5px;background-color: rgb(0, 0, 255);\"></td><td title=\"Index: [0, 12]&#10;Color: (0, 0, 255)\" style=\"width: 5px; height: 5px;background-color: rgb(0, 0, 255);\"></td><td title=\"Index: [0, 13]&#10;Color: (0, 4, 255)\" style=\"width: 5px; height: 5px;background-color: rgb(0, 4, 255);\"></td><td title=\"Index: [0, 14]&#10;Color: (0, 17, 255)\" style=\"width: 5px; height: 5px;background-color: rgb(0, 17, 255);\"></td><td title=\"Index: [0, 15]&#10;Color: (0, 25, 255)\" style=\"width: 5px; height: 5px;background-color: rgb(0, 25, 255);\"></td><td title=\"Index: [0, 16]&#10;Color: (0, 36, 255)\" style=\"width: 5px; height: 5px;background-color: rgb(0, 36, 255);\"></td><td title=\"Index: [0, 17]&#10;Color: (0, 45, 255)\" style=\"width: 5px; height: 5px;background-color: rgb(0, 45, 255);\"></td><td title=\"Index: [0, 18]&#10;Color: (0, 57, 255)\" style=\"width: 5px; height: 5px;background-color: rgb(0, 57, 255);\"></td><td title=\"Index: [0, 19]&#10;Color: (0, 68, 255)\" style=\"width: 5px; height: 5px;background-color: rgb(0, 68, 255);\"></td><td title=\"Index: [0, 20]&#10;Color: (0, 77, 255)\" style=\"width: 5px; height: 5px;background-color: rgb(0, 77, 255);\"></td><td title=\"Index: [0, 21]&#10;Color: (0, 89, 255)\" style=\"width: 5px; height: 5px;background-color: rgb(0, 89, 255);\"></td><td title=\"Index: [0, 22]&#10;Color: (0, 97, 255)\" style=\"width: 5px; height: 5px;background-color: rgb(0, 97, 255);\"></td><td title=\"Index: [0, 23]&#10;Color: (0, 109, 255)\" style=\"width: 5px; height: 5px;background-color: rgb(0, 109, 255);\"></td><td title=\"Index: [0, 24]&#10;Color: (0, 121, 255)\" style=\"width: 5px; height: 5px;background-color: rgb(0, 121, 255);\"></td><td title=\"Index: [0, 25]&#10;Color: (0, 129, 255)\" style=\"width: 5px; height: 5px;background-color: rgb(0, 129, 255);\"></td><td title=\"Index: [0, 26]&#10;Color: (0, 141, 255)\" style=\"width: 5px; height: 5px;background-color: rgb(0, 141, 255);\"></td><td title=\"Index: [0, 27]&#10;Color: (0, 149, 255)\" style=\"width: 5px; height: 5px;background-color: rgb(0, 149, 255);\"></td><td title=\"Index: [0, 28]&#10;Color: (0, 161, 255)\" style=\"width: 5px; height: 5px;background-color: rgb(0, 161, 255);\"></td><td title=\"Index: [0, 29]&#10;Color: (0, 168, 255)\" style=\"width: 5px; height: 5px;background-color: rgb(0, 168, 255);\"></td><td title=\"Index: [0, 30]&#10;Color: (0, 181, 255)\" style=\"width: 5px; height: 5px;background-color: rgb(0, 181, 255);\"></td><td title=\"Index: [0, 31]&#10;Color: (0, 193, 255)\" style=\"width: 5px; height: 5px;background-color: rgb(0, 193, 255);\"></td><td title=\"Index: [0, 32]&#10;Color: (0, 200, 255)\" style=\"width: 5px; height: 5px;background-color: rgb(0, 200, 255);\"></td><td title=\"Index: [0, 33]&#10;Color: (0, 213, 255)\" style=\"width: 5px; height: 5px;background-color: rgb(0, 213, 255);\"></td><td title=\"Index: [0, 34]&#10;Color: (0, 221, 254)\" style=\"width: 5px; height: 5px;background-color: rgb(0, 221, 254);\"></td><td title=\"Index: [0, 35]&#10;Color: (2, 232, 244)\" style=\"width: 5px; height: 5px;background-color: rgb(2, 232, 244);\"></td><td title=\"Index: [0, 36]&#10;Color: (12, 245, 235)\" style=\"width: 5px; height: 5px;background-color: rgb(12, 245, 235);\"></td><td title=\"Index: [0, 37]&#10;Color: (19, 253, 228)\" style=\"width: 5px; height: 5px;background-color: rgb(19, 253, 228);\"></td><td title=\"Index: [0, 38]&#10;Color: (28, 255, 219)\" style=\"width: 5px; height: 5px;background-color: rgb(28, 255, 219);\"></td><td title=\"Index: [0, 39]&#10;Color: (35, 255, 212)\" style=\"width: 5px; height: 5px;background-color: rgb(35, 255, 212);\"></td><td title=\"Index: [0, 40]&#10;Color: (44, 255, 202)\" style=\"width: 5px; height: 5px;background-color: rgb(44, 255, 202);\"></td><td title=\"Index: [0, 41]&#10;Color: (54, 255, 193)\" style=\"width: 5px; height: 5px;background-color: rgb(54, 255, 193);\"></td><td title=\"Index: [0, 42]&#10;Color: (60, 255, 186)\" style=\"width: 5px; height: 5px;background-color: rgb(60, 255, 186);\"></td><td title=\"Index: [0, 43]&#10;Color: (70, 255, 177)\" style=\"width: 5px; height: 5px;background-color: rgb(70, 255, 177);\"></td><td title=\"Index: [0, 44]&#10;Color: (77, 255, 170)\" style=\"width: 5px; height: 5px;background-color: rgb(77, 255, 170);\"></td><td title=\"Index: [0, 45]&#10;Color: (86, 255, 160)\" style=\"width: 5px; height: 5px;background-color: rgb(86, 255, 160);\"></td><td title=\"Index: [0, 46]&#10;Color: (93, 255, 154)\" style=\"width: 5px; height: 5px;background-color: rgb(93, 255, 154);\"></td><td title=\"Index: [0, 47]&#10;Color: (102, 255, 144)\" style=\"width: 5px; height: 5px;background-color: rgb(102, 255, 144);\"></td><td title=\"Index: [0, 48]&#10;Color: (112, 255, 135)\" style=\"width: 5px; height: 5px;background-color: rgb(112, 255, 135);\"></td><td title=\"Index: [0, 49]&#10;Color: (119, 255, 128)\" style=\"width: 5px; height: 5px;background-color: rgb(119, 255, 128);\"></td><td title=\"Index: [0, 50]&#10;Color: (128, 255, 119)\" style=\"width: 5px; height: 5px;background-color: rgb(128, 255, 119);\"></td><td title=\"Index: [0, 51]&#10;Color: (135, 255, 112)\" style=\"width: 5px; height: 5px;background-color: rgb(135, 255, 112);\"></td><td title=\"Index: [0, 52]&#10;Color: (144, 255, 102)\" style=\"width: 5px; height: 5px;background-color: rgb(144, 255, 102);\"></td><td title=\"Index: [0, 53]&#10;Color: (154, 255, 93)\" style=\"width: 5px; height: 5px;background-color: rgb(154, 255, 93);\"></td><td title=\"Index: [0, 54]&#10;Color: (160, 255, 86)\" style=\"width: 5px; height: 5px;background-color: rgb(160, 255, 86);\"></td><td title=\"Index: [0, 55]&#10;Color: (170, 255, 77)\" style=\"width: 5px; height: 5px;background-color: rgb(170, 255, 77);\"></td><td title=\"Index: [0, 56]&#10;Color: (177, 255, 70)\" style=\"width: 5px; height: 5px;background-color: rgb(177, 255, 70);\"></td><td title=\"Index: [0, 57]&#10;Color: (186, 255, 60)\" style=\"width: 5px; height: 5px;background-color: rgb(186, 255, 60);\"></td><td title=\"Index: [0, 58]&#10;Color: (193, 255, 54)\" style=\"width: 5px; height: 5px;background-color: rgb(193, 255, 54);\"></td><td title=\"Index: [0, 59]&#10;Color: (202, 255, 44)\" style=\"width: 5px; height: 5px;background-color: rgb(202, 255, 44);\"></td><td title=\"Index: [0, 60]&#10;Color: (212, 255, 35)\" style=\"width: 5px; height: 5px;background-color: rgb(212, 255, 35);\"></td><td title=\"Index: [0, 61]&#10;Color: (219, 255, 28)\" style=\"width: 5px; height: 5px;background-color: rgb(219, 255, 28);\"></td><td title=\"Index: [0, 62]&#10;Color: (228, 255, 19)\" style=\"width: 5px; height: 5px;background-color: rgb(228, 255, 19);\"></td><td title=\"Index: [0, 63]&#10;Color: (235, 255, 12)\" style=\"width: 5px; height: 5px;background-color: rgb(235, 255, 12);\"></td><td title=\"Index: [0, 64]&#10;Color: (244, 248, 2)\" style=\"width: 5px; height: 5px;background-color: rgb(244, 248, 2);\"></td><td title=\"Index: [0, 65]&#10;Color: (254, 237, 0)\" style=\"width: 5px; height: 5px;background-color: rgb(254, 237, 0);\"></td><td title=\"Index: [0, 66]&#10;Color: (255, 230, 0)\" style=\"width: 5px; height: 5px;background-color: rgb(255, 230, 0);\"></td><td title=\"Index: [0, 67]&#10;Color: (255, 219, 0)\" style=\"width: 5px; height: 5px;background-color: rgb(255, 219, 0);\"></td><td title=\"Index: [0, 68]&#10;Color: (255, 211, 0)\" style=\"width: 5px; height: 5px;background-color: rgb(255, 211, 0);\"></td><td title=\"Index: [0, 69]&#10;Color: (255, 200, 0)\" style=\"width: 5px; height: 5px;background-color: rgb(255, 200, 0);\"></td><td title=\"Index: [0, 70]&#10;Color: (255, 189, 0)\" style=\"width: 5px; height: 5px;background-color: rgb(255, 189, 0);\"></td><td title=\"Index: [0, 71]&#10;Color: (255, 182, 0)\" style=\"width: 5px; height: 5px;background-color: rgb(255, 182, 0);\"></td><td title=\"Index: [0, 72]&#10;Color: (255, 171, 0)\" style=\"width: 5px; height: 5px;background-color: rgb(255, 171, 0);\"></td><td title=\"Index: [0, 73]&#10;Color: (255, 163, 0)\" style=\"width: 5px; height: 5px;background-color: rgb(255, 163, 0);\"></td><td title=\"Index: [0, 74]&#10;Color: (255, 152, 0)\" style=\"width: 5px; height: 5px;background-color: rgb(255, 152, 0);\"></td><td title=\"Index: [0, 75]&#10;Color: (255, 145, 0)\" style=\"width: 5px; height: 5px;background-color: rgb(255, 145, 0);\"></td><td title=\"Index: [0, 76]&#10;Color: (255, 134, 0)\" style=\"width: 5px; height: 5px;background-color: rgb(255, 134, 0);\"></td><td title=\"Index: [0, 77]&#10;Color: (255, 122, 0)\" style=\"width: 5px; height: 5px;background-color: rgb(255, 122, 0);\"></td><td title=\"Index: [0, 78]&#10;Color: (255, 115, 0)\" style=\"width: 5px; height: 5px;background-color: rgb(255, 115, 0);\"></td><td title=\"Index: [0, 79]&#10;Color: (255, 104, 0)\" style=\"width: 5px; height: 5px;background-color: rgb(255, 104, 0);\"></td><td title=\"Index: [0, 80]&#10;Color: (255, 96, 0)\" style=\"width: 5px; height: 5px;background-color: rgb(255, 96, 0);\"></td><td title=\"Index: [0, 81]&#10;Color: (255, 85, 0)\" style=\"width: 5px; height: 5px;background-color: rgb(255, 85, 0);\"></td><td title=\"Index: [0, 82]&#10;Color: (255, 74, 0)\" style=\"width: 5px; height: 5px;background-color: rgb(255, 74, 0);\"></td><td title=\"Index: [0, 83]&#10;Color: (255, 67, 0)\" style=\"width: 5px; height: 5px;background-color: rgb(255, 67, 0);\"></td><td title=\"Index: [0, 84]&#10;Color: (255, 56, 0)\" style=\"width: 5px; height: 5px;background-color: rgb(255, 56, 0);\"></td><td title=\"Index: [0, 85]&#10;Color: (255, 48, 0)\" style=\"width: 5px; height: 5px;background-color: rgb(255, 48, 0);\"></td><td title=\"Index: [0, 86]&#10;Color: (255, 37, 0)\" style=\"width: 5px; height: 5px;background-color: rgb(255, 37, 0);\"></td><td title=\"Index: [0, 87]&#10;Color: (255, 30, 0)\" style=\"width: 5px; height: 5px;background-color: rgb(255, 30, 0);\"></td><td title=\"Index: [0, 88]&#10;Color: (255, 19, 0)\" style=\"width: 5px; height: 5px;background-color: rgb(255, 19, 0);\"></td><td title=\"Index: [0, 89]&#10;Color: (241, 8, 0)\" style=\"width: 5px; height: 5px;background-color: rgb(241, 8, 0);\"></td><td title=\"Index: [0, 90]&#10;Color: (232, 0, 0)\" style=\"width: 5px; height: 5px;background-color: rgb(232, 0, 0);\"></td><td title=\"Index: [0, 91]&#10;Color: (218, 0, 0)\" style=\"width: 5px; height: 5px;background-color: rgb(218, 0, 0);\"></td><td title=\"Index: [0, 92]&#10;Color: (209, 0, 0)\" style=\"width: 5px; height: 5px;background-color: rgb(209, 0, 0);\"></td><td title=\"Index: [0, 93]&#10;Color: (196, 0, 0)\" style=\"width: 5px; height: 5px;background-color: rgb(196, 0, 0);\"></td><td title=\"Index: [0, 94]&#10;Color: (182, 0, 0)\" style=\"width: 5px; height: 5px;background-color: rgb(182, 0, 0);\"></td><td title=\"Index: [0, 95]&#10;Color: (173, 0, 0)\" style=\"width: 5px; height: 5px;background-color: rgb(173, 0, 0);\"></td><td title=\"Index: [0, 96]&#10;Color: (159, 0, 0)\" style=\"width: 5px; height: 5px;background-color: rgb(159, 0, 0);\"></td><td title=\"Index: [0, 97]&#10;Color: (150, 0, 0)\" style=\"width: 5px; height: 5px;background-color: rgb(150, 0, 0);\"></td><td title=\"Index: [0, 98]&#10;Color: (137, 0, 0)\" style=\"width: 5px; height: 5px;background-color: rgb(137, 0, 0);\"></td><td title=\"Index: [0, 99]&#10;Color: (128, 0, 0)\" style=\"width: 5px; height: 5px;background-color: rgb(128, 0, 0);\"></td></tr></tbody></table>"
       ],
       "metadata": {},
       "output_type": "pyout",
       "prompt_number": 186,
       "text": [
        "array([  0.        ,   0.12693304,   0.25386607,   0.38079911,\n",
        "         0.50773215,   0.63466518,   0.76159822,   0.88853126,\n",
        "         1.01546429,   1.14239733,   1.26933037,   1.3962634 ,\n",
        "         1.52319644,   1.65012947,   1.77706251,   1.90399555,\n",
        "         2.03092858,   2.15786162,   2.28479466,   2.41172769,\n",
        "         2.53866073,   2.66559377,   2.7925268 ,   2.91945984,\n",
        "         3.04639288,   3.17332591,   3.30025895,   3.42719199,\n",
        "         3.55412502,   3.68105806,   3.8079911 ,   3.93492413,\n",
        "         4.06185717,   4.1887902 ,   4.31572324,   4.44265628,\n",
        "         4.56958931,   4.69652235,   4.82345539,   4.95038842,\n",
        "         5.07732146,   5.2042545 ,   5.33118753,   5.45812057,\n",
        "         5.58505361,   5.71198664,   5.83891968,   5.96585272,\n",
        "         6.09278575,   6.21971879,   6.34665183,   6.47358486,\n",
        "         6.6005179 ,   6.72745093,   6.85438397,   6.98131701,\n",
        "         7.10825004,   7.23518308,   7.36211612,   7.48904915,\n",
        "         7.61598219,   7.74291523,   7.86984826,   7.9967813 ,\n",
        "         8.12371434,   8.25064737,   8.37758041,   8.50451345,\n",
        "         8.63144648,   8.75837952,   8.88531256,   9.01224559,\n",
        "         9.13917863,   9.26611167,   9.3930447 ,   9.51997774,\n",
        "         9.64691077,   9.77384381,   9.90077685,  10.02770988,\n",
        "        10.15464292,  10.28157596,  10.40850899,  10.53544203,\n",
        "        10.66237507,  10.7893081 ,  10.91624114,  11.04317418,\n",
        "        11.17010721,  11.29704025,  11.42397329,  11.55090632,\n",
        "        11.67783936,  11.8047724 ,  11.93170543,  12.05863847,\n",
        "        12.1855715 ,  12.31250454,  12.43943758,  12.56637061])"
       ]
      }
     ],
     "prompt_number": 186
    },
    {
     "cell_type": "code",
     "collapsed": false,
     "input": [
      "np.sin(t)"
     ],
     "language": "python",
     "metadata": {},
     "outputs": [
      {
       "html": [
        "<style type=\"text/css\">table.blockgrid {border: none;} .blockgrid tr {border: none;} .blockgrid td {padding: 0px;} #blocksaf4609fc-a9b1-4b54-95b8-40b978f90bd4 td {border: 1px solid white;}</style><table id=\"blocksaf4609fc-a9b1-4b54-95b8-40b978f90bd4\" class=\"blockgrid\"><tbody><tr><td title=\"Index: [0, 0]&#10;Color: (125, 255, 122)\" style=\"width: 5px; height: 5px;background-color: rgb(125, 255, 122);\"></td><td title=\"Index: [0, 1]&#10;Color: (177, 255, 70)\" style=\"width: 5px; height: 5px;background-color: rgb(177, 255, 70);\"></td><td title=\"Index: [0, 2]&#10;Color: (228, 255, 19)\" style=\"width: 5px; height: 5px;background-color: rgb(228, 255, 19);\"></td><td title=\"Index: [0, 3]&#10;Color: (255, 211, 0)\" style=\"width: 5px; height: 5px;background-color: rgb(255, 211, 0);\"></td><td title=\"Index: [0, 4]&#10;Color: (255, 156, 0)\" style=\"width: 5px; height: 5px;background-color: rgb(255, 156, 0);\"></td><td title=\"Index: [0, 5]&#10;Color: (255, 108, 0)\" style=\"width: 5px; height: 5px;background-color: rgb(255, 108, 0);\"></td><td title=\"Index: [0, 6]&#10;Color: (255, 59, 0)\" style=\"width: 5px; height: 5px;background-color: rgb(255, 59, 0);\"></td><td title=\"Index: [0, 7]&#10;Color: (255, 19, 0)\" style=\"width: 5px; height: 5px;background-color: rgb(255, 19, 0);\"></td><td title=\"Index: [0, 8]&#10;Color: (214, 0, 0)\" style=\"width: 5px; height: 5px;background-color: rgb(214, 0, 0);\"></td><td title=\"Index: [0, 9]&#10;Color: (178, 0, 0)\" style=\"width: 5px; height: 5px;background-color: rgb(178, 0, 0);\"></td><td title=\"Index: [0, 10]&#10;Color: (150, 0, 0)\" style=\"width: 5px; height: 5px;background-color: rgb(150, 0, 0);\"></td><td title=\"Index: [0, 11]&#10;Color: (132, 0, 0)\" style=\"width: 5px; height: 5px;background-color: rgb(132, 0, 0);\"></td><td title=\"Index: [0, 12]&#10;Color: (128, 0, 0)\" style=\"width: 5px; height: 5px;background-color: rgb(128, 0, 0);\"></td><td title=\"Index: [0, 13]&#10;Color: (128, 0, 0)\" style=\"width: 5px; height: 5px;background-color: rgb(128, 0, 0);\"></td><td title=\"Index: [0, 14]&#10;Color: (137, 0, 0)\" style=\"width: 5px; height: 5px;background-color: rgb(137, 0, 0);\"></td><td title=\"Index: [0, 15]&#10;Color: (159, 0, 0)\" style=\"width: 5px; height: 5px;background-color: rgb(159, 0, 0);\"></td><td title=\"Index: [0, 16]&#10;Color: (187, 0, 0)\" style=\"width: 5px; height: 5px;background-color: rgb(187, 0, 0);\"></td><td title=\"Index: [0, 17]&#10;Color: (223, 0, 0)\" style=\"width: 5px; height: 5px;background-color: rgb(223, 0, 0);\"></td><td title=\"Index: [0, 18]&#10;Color: (255, 30, 0)\" style=\"width: 5px; height: 5px;background-color: rgb(255, 30, 0);\"></td><td title=\"Index: [0, 19]&#10;Color: (255, 71, 0)\" style=\"width: 5px; height: 5px;background-color: rgb(255, 71, 0);\"></td><td title=\"Index: [0, 20]&#10;Color: (255, 119, 0)\" style=\"width: 5px; height: 5px;background-color: rgb(255, 119, 0);\"></td><td title=\"Index: [0, 21]&#10;Color: (255, 171, 0)\" style=\"width: 5px; height: 5px;background-color: rgb(255, 171, 0);\"></td><td title=\"Index: [0, 22]&#10;Color: (255, 226, 0)\" style=\"width: 5px; height: 5px;background-color: rgb(255, 226, 0);\"></td><td title=\"Index: [0, 23]&#10;Color: (215, 255, 31)\" style=\"width: 5px; height: 5px;background-color: rgb(215, 255, 31);\"></td><td title=\"Index: [0, 24]&#10;Color: (164, 255, 83)\" style=\"width: 5px; height: 5px;background-color: rgb(164, 255, 83);\"></td><td title=\"Index: [0, 25]&#10;Color: (109, 255, 138)\" style=\"width: 5px; height: 5px;background-color: rgb(109, 255, 138);\"></td><td title=\"Index: [0, 26]&#10;Color: (57, 255, 190)\" style=\"width: 5px; height: 5px;background-color: rgb(57, 255, 190);\"></td><td title=\"Index: [0, 27]&#10;Color: (6, 237, 241)\" style=\"width: 5px; height: 5px;background-color: rgb(6, 237, 241);\"></td><td title=\"Index: [0, 28]&#10;Color: (0, 177, 255)\" style=\"width: 5px; height: 5px;background-color: rgb(0, 177, 255);\"></td><td title=\"Index: [0, 29]&#10;Color: (0, 121, 255)\" style=\"width: 5px; height: 5px;background-color: rgb(0, 121, 255);\"></td><td title=\"Index: [0, 30]&#10;Color: (0, 65, 255)\" style=\"width: 5px; height: 5px;background-color: rgb(0, 65, 255);\"></td><td title=\"Index: [0, 31]&#10;Color: (0, 17, 255)\" style=\"width: 5px; height: 5px;background-color: rgb(0, 17, 255);\"></td><td title=\"Index: [0, 32]&#10;Color: (0, 0, 246)\" style=\"width: 5px; height: 5px;background-color: rgb(0, 0, 246);\"></td><td title=\"Index: [0, 33]&#10;Color: (0, 0, 205)\" style=\"width: 5px; height: 5px;background-color: rgb(0, 0, 205);\"></td><td title=\"Index: [0, 34]&#10;Color: (0, 0, 168)\" style=\"width: 5px; height: 5px;background-color: rgb(0, 0, 168);\"></td><td title=\"Index: [0, 35]&#10;Color: (0, 0, 146)\" style=\"width: 5px; height: 5px;background-color: rgb(0, 0, 146);\"></td><td title=\"Index: [0, 36]&#10;Color: (0, 0, 132)\" style=\"width: 5px; height: 5px;background-color: rgb(0, 0, 132);\"></td><td title=\"Index: [0, 37]&#10;Color: (0, 0, 128)\" style=\"width: 5px; height: 5px;background-color: rgb(0, 0, 128);\"></td><td title=\"Index: [0, 38]&#10;Color: (0, 0, 128)\" style=\"width: 5px; height: 5px;background-color: rgb(0, 0, 128);\"></td><td title=\"Index: [0, 39]&#10;Color: (0, 0, 141)\" style=\"width: 5px; height: 5px;background-color: rgb(0, 0, 141);\"></td><td title=\"Index: [0, 40]&#10;Color: (0, 0, 164)\" style=\"width: 5px; height: 5px;background-color: rgb(0, 0, 164);\"></td><td title=\"Index: [0, 41]&#10;Color: (0, 0, 196)\" style=\"width: 5px; height: 5px;background-color: rgb(0, 0, 196);\"></td><td title=\"Index: [0, 42]&#10;Color: (0, 0, 232)\" style=\"width: 5px; height: 5px;background-color: rgb(0, 0, 232);\"></td><td title=\"Index: [0, 43]&#10;Color: (0, 4, 255)\" style=\"width: 5px; height: 5px;background-color: rgb(0, 4, 255);\"></td><td title=\"Index: [0, 44]&#10;Color: (0, 52, 255)\" style=\"width: 5px; height: 5px;background-color: rgb(0, 52, 255);\"></td><td title=\"Index: [0, 45]&#10;Color: (0, 105, 255)\" style=\"width: 5px; height: 5px;background-color: rgb(0, 105, 255);\"></td><td title=\"Index: [0, 46]&#10;Color: (0, 161, 255)\" style=\"width: 5px; height: 5px;background-color: rgb(0, 161, 255);\"></td><td title=\"Index: [0, 47]&#10;Color: (0, 225, 251)\" style=\"width: 5px; height: 5px;background-color: rgb(0, 225, 251);\"></td><td title=\"Index: [0, 48]&#10;Color: (44, 255, 202)\" style=\"width: 5px; height: 5px;background-color: rgb(44, 255, 202);\"></td><td title=\"Index: [0, 49]&#10;Color: (96, 255, 151)\" style=\"width: 5px; height: 5px;background-color: rgb(96, 255, 151);\"></td><td title=\"Index: [0, 50]&#10;Color: (151, 255, 96)\" style=\"width: 5px; height: 5px;background-color: rgb(151, 255, 96);\"></td><td title=\"Index: [0, 51]&#10;Color: (202, 255, 44)\" style=\"width: 5px; height: 5px;background-color: rgb(202, 255, 44);\"></td><td title=\"Index: [0, 52]&#10;Color: (251, 241, 0)\" style=\"width: 5px; height: 5px;background-color: rgb(251, 241, 0);\"></td><td title=\"Index: [0, 53]&#10;Color: (255, 182, 0)\" style=\"width: 5px; height: 5px;background-color: rgb(255, 182, 0);\"></td><td title=\"Index: [0, 54]&#10;Color: (255, 130, 0)\" style=\"width: 5px; height: 5px;background-color: rgb(255, 130, 0);\"></td><td title=\"Index: [0, 55]&#10;Color: (255, 82, 0)\" style=\"width: 5px; height: 5px;background-color: rgb(255, 82, 0);\"></td><td title=\"Index: [0, 56]&#10;Color: (255, 37, 0)\" style=\"width: 5px; height: 5px;background-color: rgb(255, 37, 0);\"></td><td title=\"Index: [0, 57]&#10;Color: (232, 0, 0)\" style=\"width: 5px; height: 5px;background-color: rgb(232, 0, 0);\"></td><td title=\"Index: [0, 58]&#10;Color: (196, 0, 0)\" style=\"width: 5px; height: 5px;background-color: rgb(196, 0, 0);\"></td><td title=\"Index: [0, 59]&#10;Color: (164, 0, 0)\" style=\"width: 5px; height: 5px;background-color: rgb(164, 0, 0);\"></td><td title=\"Index: [0, 60]&#10;Color: (141, 0, 0)\" style=\"width: 5px; height: 5px;background-color: rgb(141, 0, 0);\"></td><td title=\"Index: [0, 61]&#10;Color: (128, 0, 0)\" style=\"width: 5px; height: 5px;background-color: rgb(128, 0, 0);\"></td><td title=\"Index: [0, 62]&#10;Color: (128, 0, 0)\" style=\"width: 5px; height: 5px;background-color: rgb(128, 0, 0);\"></td><td title=\"Index: [0, 63]&#10;Color: (132, 0, 0)\" style=\"width: 5px; height: 5px;background-color: rgb(132, 0, 0);\"></td><td title=\"Index: [0, 64]&#10;Color: (146, 0, 0)\" style=\"width: 5px; height: 5px;background-color: rgb(146, 0, 0);\"></td><td title=\"Index: [0, 65]&#10;Color: (168, 0, 0)\" style=\"width: 5px; height: 5px;background-color: rgb(168, 0, 0);\"></td><td title=\"Index: [0, 66]&#10;Color: (205, 0, 0)\" style=\"width: 5px; height: 5px;background-color: rgb(205, 0, 0);\"></td><td title=\"Index: [0, 67]&#10;Color: (246, 11, 0)\" style=\"width: 5px; height: 5px;background-color: rgb(246, 11, 0);\"></td><td title=\"Index: [0, 68]&#10;Color: (255, 48, 0)\" style=\"width: 5px; height: 5px;background-color: rgb(255, 48, 0);\"></td><td title=\"Index: [0, 69]&#10;Color: (255, 93, 0)\" style=\"width: 5px; height: 5px;background-color: rgb(255, 93, 0);\"></td><td title=\"Index: [0, 70]&#10;Color: (255, 145, 0)\" style=\"width: 5px; height: 5px;background-color: rgb(255, 145, 0);\"></td><td title=\"Index: [0, 71]&#10;Color: (255, 196, 0)\" style=\"width: 5px; height: 5px;background-color: rgb(255, 196, 0);\"></td><td title=\"Index: [0, 72]&#10;Color: (241, 252, 6)\" style=\"width: 5px; height: 5px;background-color: rgb(241, 252, 6);\"></td><td title=\"Index: [0, 73]&#10;Color: (190, 255, 57)\" style=\"width: 5px; height: 5px;background-color: rgb(190, 255, 57);\"></td><td title=\"Index: [0, 74]&#10;Color: (138, 255, 109)\" style=\"width: 5px; height: 5px;background-color: rgb(138, 255, 109);\"></td><td title=\"Index: [0, 75]&#10;Color: (83, 255, 164)\" style=\"width: 5px; height: 5px;background-color: rgb(83, 255, 164);\"></td><td title=\"Index: [0, 76]&#10;Color: (31, 255, 215)\" style=\"width: 5px; height: 5px;background-color: rgb(31, 255, 215);\"></td><td title=\"Index: [0, 77]&#10;Color: (0, 209, 255)\" style=\"width: 5px; height: 5px;background-color: rgb(0, 209, 255);\"></td><td title=\"Index: [0, 78]&#10;Color: (0, 149, 255)\" style=\"width: 5px; height: 5px;background-color: rgb(0, 149, 255);\"></td><td title=\"Index: [0, 79]&#10;Color: (0, 93, 255)\" style=\"width: 5px; height: 5px;background-color: rgb(0, 93, 255);\"></td><td title=\"Index: [0, 80]&#10;Color: (0, 41, 255)\" style=\"width: 5px; height: 5px;background-color: rgb(0, 41, 255);\"></td><td title=\"Index: [0, 81]&#10;Color: (0, 0, 255)\" style=\"width: 5px; height: 5px;background-color: rgb(0, 0, 255);\"></td><td title=\"Index: [0, 82]&#10;Color: (0, 0, 223)\" style=\"width: 5px; height: 5px;background-color: rgb(0, 0, 223);\"></td><td title=\"Index: [0, 83]&#10;Color: (0, 0, 187)\" style=\"width: 5px; height: 5px;background-color: rgb(0, 0, 187);\"></td><td title=\"Index: [0, 84]&#10;Color: (0, 0, 159)\" style=\"width: 5px; height: 5px;background-color: rgb(0, 0, 159);\"></td><td title=\"Index: [0, 85]&#10;Color: (0, 0, 137)\" style=\"width: 5px; height: 5px;background-color: rgb(0, 0, 137);\"></td><td title=\"Index: [0, 86]&#10;Color: (0, 0, 128)\" style=\"width: 5px; height: 5px;background-color: rgb(0, 0, 128);\"></td><td title=\"Index: [0, 87]&#10;Color: (0, 0, 128)\" style=\"width: 5px; height: 5px;background-color: rgb(0, 0, 128);\"></td><td title=\"Index: [0, 88]&#10;Color: (0, 0, 132)\" style=\"width: 5px; height: 5px;background-color: rgb(0, 0, 132);\"></td><td title=\"Index: [0, 89]&#10;Color: (0, 0, 150)\" style=\"width: 5px; height: 5px;background-color: rgb(0, 0, 150);\"></td><td title=\"Index: [0, 90]&#10;Color: (0, 0, 178)\" style=\"width: 5px; height: 5px;background-color: rgb(0, 0, 178);\"></td><td title=\"Index: [0, 91]&#10;Color: (0, 0, 214)\" style=\"width: 5px; height: 5px;background-color: rgb(0, 0, 214);\"></td><td title=\"Index: [0, 92]&#10;Color: (0, 0, 255)\" style=\"width: 5px; height: 5px;background-color: rgb(0, 0, 255);\"></td><td title=\"Index: [0, 93]&#10;Color: (0, 29, 255)\" style=\"width: 5px; height: 5px;background-color: rgb(0, 29, 255);\"></td><td title=\"Index: [0, 94]&#10;Color: (0, 81, 255)\" style=\"width: 5px; height: 5px;background-color: rgb(0, 81, 255);\"></td><td title=\"Index: [0, 95]&#10;Color: (0, 133, 255)\" style=\"width: 5px; height: 5px;background-color: rgb(0, 133, 255);\"></td><td title=\"Index: [0, 96]&#10;Color: (0, 193, 255)\" style=\"width: 5px; height: 5px;background-color: rgb(0, 193, 255);\"></td><td title=\"Index: [0, 97]&#10;Color: (19, 253, 228)\" style=\"width: 5px; height: 5px;background-color: rgb(19, 253, 228);\"></td><td title=\"Index: [0, 98]&#10;Color: (70, 255, 177)\" style=\"width: 5px; height: 5px;background-color: rgb(70, 255, 177);\"></td><td title=\"Index: [0, 99]&#10;Color: (122, 255, 125)\" style=\"width: 5px; height: 5px;background-color: rgb(122, 255, 125);\"></td></tr></tbody></table>"
       ],
       "metadata": {},
       "output_type": "pyout",
       "prompt_number": 187,
       "text": [
        "array([  0.00000000e+00,   1.26592454e-01,   2.51147987e-01,\n",
        "         3.71662456e-01,   4.86196736e-01,   5.92907929e-01,\n",
        "         6.90079011e-01,   7.76146464e-01,   8.49725430e-01,\n",
        "         9.09631995e-01,   9.54902241e-01,   9.84807753e-01,\n",
        "         9.98867339e-01,   9.96854776e-01,   9.78802446e-01,\n",
        "         9.45000819e-01,   8.95993774e-01,   8.32569855e-01,\n",
        "         7.55749574e-01,   6.66769001e-01,   5.67059864e-01,\n",
        "         4.58226522e-01,   3.42020143e-01,   2.20310533e-01,\n",
        "         9.50560433e-02,  -3.17279335e-02,  -1.58001396e-01,\n",
        "        -2.81732557e-01,  -4.00930535e-01,  -5.13677392e-01,\n",
        "        -6.18158986e-01,  -7.12694171e-01,  -7.95761841e-01,\n",
        "        -8.66025404e-01,  -9.22354294e-01,  -9.63842159e-01,\n",
        "        -9.89821442e-01,  -9.99874128e-01,  -9.93838464e-01,\n",
        "        -9.71811568e-01,  -9.34147860e-01,  -8.81453363e-01,\n",
        "        -8.14575952e-01,  -7.34591709e-01,  -6.42787610e-01,\n",
        "        -5.40640817e-01,  -4.29794912e-01,  -3.12033446e-01,\n",
        "        -1.89251244e-01,  -6.34239197e-02,   6.34239197e-02,\n",
        "         1.89251244e-01,   3.12033446e-01,   4.29794912e-01,\n",
        "         5.40640817e-01,   6.42787610e-01,   7.34591709e-01,\n",
        "         8.14575952e-01,   8.81453363e-01,   9.34147860e-01,\n",
        "         9.71811568e-01,   9.93838464e-01,   9.99874128e-01,\n",
        "         9.89821442e-01,   9.63842159e-01,   9.22354294e-01,\n",
        "         8.66025404e-01,   7.95761841e-01,   7.12694171e-01,\n",
        "         6.18158986e-01,   5.13677392e-01,   4.00930535e-01,\n",
        "         2.81732557e-01,   1.58001396e-01,   3.17279335e-02,\n",
        "        -9.50560433e-02,  -2.20310533e-01,  -3.42020143e-01,\n",
        "        -4.58226522e-01,  -5.67059864e-01,  -6.66769001e-01,\n",
        "        -7.55749574e-01,  -8.32569855e-01,  -8.95993774e-01,\n",
        "        -9.45000819e-01,  -9.78802446e-01,  -9.96854776e-01,\n",
        "        -9.98867339e-01,  -9.84807753e-01,  -9.54902241e-01,\n",
        "        -9.09631995e-01,  -8.49725430e-01,  -7.76146464e-01,\n",
        "        -6.90079011e-01,  -5.92907929e-01,  -4.86196736e-01,\n",
        "        -3.71662456e-01,  -2.51147987e-01,  -1.26592454e-01,\n",
        "        -4.89858720e-16])"
       ]
      }
     ],
     "prompt_number": 187
    },
    {
     "cell_type": "code",
     "collapsed": false,
     "input": [
      "np.exp(t)"
     ],
     "language": "python",
     "metadata": {},
     "outputs": [
      {
       "html": [
        "<style type=\"text/css\">table.blockgrid {border: none;} .blockgrid tr {border: none;} .blockgrid td {padding: 0px;} #blocksb9a31fe9-2c07-4be6-9222-ef807dbf6db2 td {border: 1px solid white;}</style><table id=\"blocksb9a31fe9-2c07-4be6-9222-ef807dbf6db2\" class=\"blockgrid\"><tbody><tr><td title=\"Index: [0, 0]&#10;Color: (0, 0, 128)\" style=\"width: 5px; height: 5px;background-color: rgb(0, 0, 128);\"></td><td title=\"Index: [0, 1]&#10;Color: (0, 0, 128)\" style=\"width: 5px; height: 5px;background-color: rgb(0, 0, 128);\"></td><td title=\"Index: [0, 2]&#10;Color: (0, 0, 128)\" style=\"width: 5px; height: 5px;background-color: rgb(0, 0, 128);\"></td><td title=\"Index: [0, 3]&#10;Color: (0, 0, 128)\" style=\"width: 5px; height: 5px;background-color: rgb(0, 0, 128);\"></td><td title=\"Index: [0, 4]&#10;Color: (0, 0, 128)\" style=\"width: 5px; height: 5px;background-color: rgb(0, 0, 128);\"></td><td title=\"Index: [0, 5]&#10;Color: (0, 0, 128)\" style=\"width: 5px; height: 5px;background-color: rgb(0, 0, 128);\"></td><td title=\"Index: [0, 6]&#10;Color: (0, 0, 128)\" style=\"width: 5px; height: 5px;background-color: rgb(0, 0, 128);\"></td><td title=\"Index: [0, 7]&#10;Color: (0, 0, 128)\" style=\"width: 5px; height: 5px;background-color: rgb(0, 0, 128);\"></td><td title=\"Index: [0, 8]&#10;Color: (0, 0, 128)\" style=\"width: 5px; height: 5px;background-color: rgb(0, 0, 128);\"></td><td title=\"Index: [0, 9]&#10;Color: (0, 0, 128)\" style=\"width: 5px; height: 5px;background-color: rgb(0, 0, 128);\"></td><td title=\"Index: [0, 10]&#10;Color: (0, 0, 128)\" style=\"width: 5px; height: 5px;background-color: rgb(0, 0, 128);\"></td><td title=\"Index: [0, 11]&#10;Color: (0, 0, 128)\" style=\"width: 5px; height: 5px;background-color: rgb(0, 0, 128);\"></td><td title=\"Index: [0, 12]&#10;Color: (0, 0, 128)\" style=\"width: 5px; height: 5px;background-color: rgb(0, 0, 128);\"></td><td title=\"Index: [0, 13]&#10;Color: (0, 0, 128)\" style=\"width: 5px; height: 5px;background-color: rgb(0, 0, 128);\"></td><td title=\"Index: [0, 14]&#10;Color: (0, 0, 128)\" style=\"width: 5px; height: 5px;background-color: rgb(0, 0, 128);\"></td><td title=\"Index: [0, 15]&#10;Color: (0, 0, 128)\" style=\"width: 5px; height: 5px;background-color: rgb(0, 0, 128);\"></td><td title=\"Index: [0, 16]&#10;Color: (0, 0, 128)\" style=\"width: 5px; height: 5px;background-color: rgb(0, 0, 128);\"></td><td title=\"Index: [0, 17]&#10;Color: (0, 0, 128)\" style=\"width: 5px; height: 5px;background-color: rgb(0, 0, 128);\"></td><td title=\"Index: [0, 18]&#10;Color: (0, 0, 128)\" style=\"width: 5px; height: 5px;background-color: rgb(0, 0, 128);\"></td><td title=\"Index: [0, 19]&#10;Color: (0, 0, 128)\" style=\"width: 5px; height: 5px;background-color: rgb(0, 0, 128);\"></td><td title=\"Index: [0, 20]&#10;Color: (0, 0, 128)\" style=\"width: 5px; height: 5px;background-color: rgb(0, 0, 128);\"></td><td title=\"Index: [0, 21]&#10;Color: (0, 0, 128)\" style=\"width: 5px; height: 5px;background-color: rgb(0, 0, 128);\"></td><td title=\"Index: [0, 22]&#10;Color: (0, 0, 128)\" style=\"width: 5px; height: 5px;background-color: rgb(0, 0, 128);\"></td><td title=\"Index: [0, 23]&#10;Color: (0, 0, 128)\" style=\"width: 5px; height: 5px;background-color: rgb(0, 0, 128);\"></td><td title=\"Index: [0, 24]&#10;Color: (0, 0, 128)\" style=\"width: 5px; height: 5px;background-color: rgb(0, 0, 128);\"></td><td title=\"Index: [0, 25]&#10;Color: (0, 0, 128)\" style=\"width: 5px; height: 5px;background-color: rgb(0, 0, 128);\"></td><td title=\"Index: [0, 26]&#10;Color: (0, 0, 128)\" style=\"width: 5px; height: 5px;background-color: rgb(0, 0, 128);\"></td><td title=\"Index: [0, 27]&#10;Color: (0, 0, 128)\" style=\"width: 5px; height: 5px;background-color: rgb(0, 0, 128);\"></td><td title=\"Index: [0, 28]&#10;Color: (0, 0, 128)\" style=\"width: 5px; height: 5px;background-color: rgb(0, 0, 128);\"></td><td title=\"Index: [0, 29]&#10;Color: (0, 0, 128)\" style=\"width: 5px; height: 5px;background-color: rgb(0, 0, 128);\"></td><td title=\"Index: [0, 30]&#10;Color: (0, 0, 128)\" style=\"width: 5px; height: 5px;background-color: rgb(0, 0, 128);\"></td><td title=\"Index: [0, 31]&#10;Color: (0, 0, 128)\" style=\"width: 5px; height: 5px;background-color: rgb(0, 0, 128);\"></td><td title=\"Index: [0, 32]&#10;Color: (0, 0, 128)\" style=\"width: 5px; height: 5px;background-color: rgb(0, 0, 128);\"></td><td title=\"Index: [0, 33]&#10;Color: (0, 0, 128)\" style=\"width: 5px; height: 5px;background-color: rgb(0, 0, 128);\"></td><td title=\"Index: [0, 34]&#10;Color: (0, 0, 128)\" style=\"width: 5px; height: 5px;background-color: rgb(0, 0, 128);\"></td><td title=\"Index: [0, 35]&#10;Color: (0, 0, 128)\" style=\"width: 5px; height: 5px;background-color: rgb(0, 0, 128);\"></td><td title=\"Index: [0, 36]&#10;Color: (0, 0, 128)\" style=\"width: 5px; height: 5px;background-color: rgb(0, 0, 128);\"></td><td title=\"Index: [0, 37]&#10;Color: (0, 0, 128)\" style=\"width: 5px; height: 5px;background-color: rgb(0, 0, 128);\"></td><td title=\"Index: [0, 38]&#10;Color: (0, 0, 128)\" style=\"width: 5px; height: 5px;background-color: rgb(0, 0, 128);\"></td><td title=\"Index: [0, 39]&#10;Color: (0, 0, 128)\" style=\"width: 5px; height: 5px;background-color: rgb(0, 0, 128);\"></td><td title=\"Index: [0, 40]&#10;Color: (0, 0, 128)\" style=\"width: 5px; height: 5px;background-color: rgb(0, 0, 128);\"></td><td title=\"Index: [0, 41]&#10;Color: (0, 0, 128)\" style=\"width: 5px; height: 5px;background-color: rgb(0, 0, 128);\"></td><td title=\"Index: [0, 42]&#10;Color: (0, 0, 128)\" style=\"width: 5px; height: 5px;background-color: rgb(0, 0, 128);\"></td><td title=\"Index: [0, 43]&#10;Color: (0, 0, 128)\" style=\"width: 5px; height: 5px;background-color: rgb(0, 0, 128);\"></td><td title=\"Index: [0, 44]&#10;Color: (0, 0, 128)\" style=\"width: 5px; height: 5px;background-color: rgb(0, 0, 128);\"></td><td title=\"Index: [0, 45]&#10;Color: (0, 0, 128)\" style=\"width: 5px; height: 5px;background-color: rgb(0, 0, 128);\"></td><td title=\"Index: [0, 46]&#10;Color: (0, 0, 128)\" style=\"width: 5px; height: 5px;background-color: rgb(0, 0, 128);\"></td><td title=\"Index: [0, 47]&#10;Color: (0, 0, 128)\" style=\"width: 5px; height: 5px;background-color: rgb(0, 0, 128);\"></td><td title=\"Index: [0, 48]&#10;Color: (0, 0, 128)\" style=\"width: 5px; height: 5px;background-color: rgb(0, 0, 128);\"></td><td title=\"Index: [0, 49]&#10;Color: (0, 0, 128)\" style=\"width: 5px; height: 5px;background-color: rgb(0, 0, 128);\"></td><td title=\"Index: [0, 50]&#10;Color: (0, 0, 128)\" style=\"width: 5px; height: 5px;background-color: rgb(0, 0, 128);\"></td><td title=\"Index: [0, 51]&#10;Color: (0, 0, 128)\" style=\"width: 5px; height: 5px;background-color: rgb(0, 0, 128);\"></td><td title=\"Index: [0, 52]&#10;Color: (0, 0, 128)\" style=\"width: 5px; height: 5px;background-color: rgb(0, 0, 128);\"></td><td title=\"Index: [0, 53]&#10;Color: (0, 0, 128)\" style=\"width: 5px; height: 5px;background-color: rgb(0, 0, 128);\"></td><td title=\"Index: [0, 54]&#10;Color: (0, 0, 128)\" style=\"width: 5px; height: 5px;background-color: rgb(0, 0, 128);\"></td><td title=\"Index: [0, 55]&#10;Color: (0, 0, 128)\" style=\"width: 5px; height: 5px;background-color: rgb(0, 0, 128);\"></td><td title=\"Index: [0, 56]&#10;Color: (0, 0, 132)\" style=\"width: 5px; height: 5px;background-color: rgb(0, 0, 132);\"></td><td title=\"Index: [0, 57]&#10;Color: (0, 0, 132)\" style=\"width: 5px; height: 5px;background-color: rgb(0, 0, 132);\"></td><td title=\"Index: [0, 58]&#10;Color: (0, 0, 132)\" style=\"width: 5px; height: 5px;background-color: rgb(0, 0, 132);\"></td><td title=\"Index: [0, 59]&#10;Color: (0, 0, 132)\" style=\"width: 5px; height: 5px;background-color: rgb(0, 0, 132);\"></td><td title=\"Index: [0, 60]&#10;Color: (0, 0, 132)\" style=\"width: 5px; height: 5px;background-color: rgb(0, 0, 132);\"></td><td title=\"Index: [0, 61]&#10;Color: (0, 0, 137)\" style=\"width: 5px; height: 5px;background-color: rgb(0, 0, 137);\"></td><td title=\"Index: [0, 62]&#10;Color: (0, 0, 137)\" style=\"width: 5px; height: 5px;background-color: rgb(0, 0, 137);\"></td><td title=\"Index: [0, 63]&#10;Color: (0, 0, 137)\" style=\"width: 5px; height: 5px;background-color: rgb(0, 0, 137);\"></td><td title=\"Index: [0, 64]&#10;Color: (0, 0, 141)\" style=\"width: 5px; height: 5px;background-color: rgb(0, 0, 141);\"></td><td title=\"Index: [0, 65]&#10;Color: (0, 0, 141)\" style=\"width: 5px; height: 5px;background-color: rgb(0, 0, 141);\"></td><td title=\"Index: [0, 66]&#10;Color: (0, 0, 141)\" style=\"width: 5px; height: 5px;background-color: rgb(0, 0, 141);\"></td><td title=\"Index: [0, 67]&#10;Color: (0, 0, 146)\" style=\"width: 5px; height: 5px;background-color: rgb(0, 0, 146);\"></td><td title=\"Index: [0, 68]&#10;Color: (0, 0, 150)\" style=\"width: 5px; height: 5px;background-color: rgb(0, 0, 150);\"></td><td title=\"Index: [0, 69]&#10;Color: (0, 0, 150)\" style=\"width: 5px; height: 5px;background-color: rgb(0, 0, 150);\"></td><td title=\"Index: [0, 70]&#10;Color: (0, 0, 155)\" style=\"width: 5px; height: 5px;background-color: rgb(0, 0, 155);\"></td><td title=\"Index: [0, 71]&#10;Color: (0, 0, 159)\" style=\"width: 5px; height: 5px;background-color: rgb(0, 0, 159);\"></td><td title=\"Index: [0, 72]&#10;Color: (0, 0, 164)\" style=\"width: 5px; height: 5px;background-color: rgb(0, 0, 164);\"></td><td title=\"Index: [0, 73]&#10;Color: (0, 0, 168)\" style=\"width: 5px; height: 5px;background-color: rgb(0, 0, 168);\"></td><td title=\"Index: [0, 74]&#10;Color: (0, 0, 173)\" style=\"width: 5px; height: 5px;background-color: rgb(0, 0, 173);\"></td><td title=\"Index: [0, 75]&#10;Color: (0, 0, 182)\" style=\"width: 5px; height: 5px;background-color: rgb(0, 0, 182);\"></td><td title=\"Index: [0, 76]&#10;Color: (0, 0, 187)\" style=\"width: 5px; height: 5px;background-color: rgb(0, 0, 187);\"></td><td title=\"Index: [0, 77]&#10;Color: (0, 0, 196)\" style=\"width: 5px; height: 5px;background-color: rgb(0, 0, 196);\"></td><td title=\"Index: [0, 78]&#10;Color: (0, 0, 205)\" style=\"width: 5px; height: 5px;background-color: rgb(0, 0, 205);\"></td><td title=\"Index: [0, 79]&#10;Color: (0, 0, 218)\" style=\"width: 5px; height: 5px;background-color: rgb(0, 0, 218);\"></td><td title=\"Index: [0, 80]&#10;Color: (0, 0, 227)\" style=\"width: 5px; height: 5px;background-color: rgb(0, 0, 227);\"></td><td title=\"Index: [0, 81]&#10;Color: (0, 0, 246)\" style=\"width: 5px; height: 5px;background-color: rgb(0, 0, 246);\"></td><td title=\"Index: [0, 82]&#10;Color: (0, 0, 255)\" style=\"width: 5px; height: 5px;background-color: rgb(0, 0, 255);\"></td><td title=\"Index: [0, 83]&#10;Color: (0, 4, 255)\" style=\"width: 5px; height: 5px;background-color: rgb(0, 4, 255);\"></td><td title=\"Index: [0, 84]&#10;Color: (0, 25, 255)\" style=\"width: 5px; height: 5px;background-color: rgb(0, 25, 255);\"></td><td title=\"Index: [0, 85]&#10;Color: (0, 45, 255)\" style=\"width: 5px; height: 5px;background-color: rgb(0, 45, 255);\"></td><td title=\"Index: [0, 86]&#10;Color: (0, 68, 255)\" style=\"width: 5px; height: 5px;background-color: rgb(0, 68, 255);\"></td><td title=\"Index: [0, 87]&#10;Color: (0, 93, 255)\" style=\"width: 5px; height: 5px;background-color: rgb(0, 93, 255);\"></td><td title=\"Index: [0, 88]&#10;Color: (0, 125, 255)\" style=\"width: 5px; height: 5px;background-color: rgb(0, 125, 255);\"></td><td title=\"Index: [0, 89]&#10;Color: (0, 157, 255)\" style=\"width: 5px; height: 5px;background-color: rgb(0, 157, 255);\"></td><td title=\"Index: [0, 90]&#10;Color: (0, 197, 255)\" style=\"width: 5px; height: 5px;background-color: rgb(0, 197, 255);\"></td><td title=\"Index: [0, 91]&#10;Color: (9, 241, 238)\" style=\"width: 5px; height: 5px;background-color: rgb(9, 241, 238);\"></td><td title=\"Index: [0, 92]&#10;Color: (51, 255, 196)\" style=\"width: 5px; height: 5px;background-color: rgb(51, 255, 196);\"></td><td title=\"Index: [0, 93]&#10;Color: (96, 255, 151)\" style=\"width: 5px; height: 5px;background-color: rgb(96, 255, 151);\"></td><td title=\"Index: [0, 94]&#10;Color: (148, 255, 99)\" style=\"width: 5px; height: 5px;background-color: rgb(148, 255, 99);\"></td><td title=\"Index: [0, 95]&#10;Color: (209, 255, 38)\" style=\"width: 5px; height: 5px;background-color: rgb(209, 255, 38);\"></td><td title=\"Index: [0, 96]&#10;Color: (255, 215, 0)\" style=\"width: 5px; height: 5px;background-color: rgb(255, 215, 0);\"></td><td title=\"Index: [0, 97]&#10;Color: (255, 126, 0)\" style=\"width: 5px; height: 5px;background-color: rgb(255, 126, 0);\"></td><td title=\"Index: [0, 98]&#10;Color: (255, 26, 0)\" style=\"width: 5px; height: 5px;background-color: rgb(255, 26, 0);\"></td><td title=\"Index: [0, 99]&#10;Color: (128, 0, 0)\" style=\"width: 5px; height: 5px;background-color: rgb(128, 0, 0);\"></td></tr></tbody></table>"
       ],
       "metadata": {},
       "output_type": "pyout",
       "prompt_number": 188,
       "text": [
        "array([  1.00000000e+00,   1.13534099e+00,   1.28899916e+00,\n",
        "         1.46345358e+00,   1.66151884e+00,   1.88639044e+00,\n",
        "         2.14169639e+00,   2.43155569e+00,   2.76064485e+00,\n",
        "         3.13427325e+00,   3.55846889e+00,   4.04007559e+00,\n",
        "         4.58686341e+00,   5.20765404e+00,   5.91246309e+00,\n",
        "         6.71266169e+00,   7.62115996e+00,   8.65261529e+00,\n",
        "         9.82366880e+00,   1.11532138e+01,   1.26627008e+01,\n",
        "         1.43764833e+01,   1.63222108e+01,   1.85312749e+01,\n",
        "         2.10393160e+01,   2.38867978e+01,   2.71196606e+01,\n",
        "         3.07900623e+01,   3.49572198e+01,   3.96883645e+01,\n",
        "         4.50598270e+01,   5.11582685e+01,   5.80820792e+01,\n",
        "         6.59429652e+01,   7.48677513e+01,   8.50004268e+01,\n",
        "         9.65044686e+01,   1.09565479e+02,   1.24394179e+02,\n",
        "         1.41229810e+02,   1.60343992e+02,   1.82045107e+02,\n",
        "         2.06683272e+02,   2.34655990e+02,   2.66414564e+02,\n",
        "         3.02471374e+02,   3.43408149e+02,   3.89885348e+02,\n",
        "         4.42652816e+02,   5.02561886e+02,   5.70579109e+02,\n",
        "         6.47801850e+02,   7.35475993e+02,   8.35016041e+02,\n",
        "         9.48027937e+02,   1.07633498e+03,   1.22200722e+03,\n",
        "         1.38739488e+03,   1.57516628e+03,   1.78835084e+03,\n",
        "         2.03038801e+03,   2.30518273e+03,   2.61716844e+03,\n",
        "         2.97137860e+03,   3.37352792e+03,   3.83010453e+03,\n",
        "         4.34847466e+03,   4.93700152e+03,   5.60518019e+03,\n",
        "         6.36379082e+03,   7.22507256e+03,   8.20292102e+03,\n",
        "         9.31311247e+03,   1.05735583e+04,   1.20045942e+04,\n",
        "         1.36293078e+04,   1.54739118e+04,   1.75681663e+04,\n",
        "         1.99458593e+04,   2.26453516e+04,   2.57101959e+04,\n",
        "         2.91898393e+04,   3.31404210e+04,   3.76256783e+04,\n",
        "         4.27179748e+04,   4.84994678e+04,   5.50634337e+04,\n",
        "         6.25157733e+04,   7.09767198e+04,   8.05827793e+04,\n",
        "         9.14889323e+04,   1.03871135e+05,   1.17929157e+05,\n",
        "         1.33889806e+05,   1.52010584e+05,   1.72583847e+05,\n",
        "         1.95941516e+05,   2.22460434e+05,   2.52568449e+05,\n",
        "         2.86751313e+05])"
       ]
      }
     ],
     "prompt_number": 188
    },
    {
     "cell_type": "code",
     "collapsed": false,
     "input": [
      "vz.disable()\n",
      "vz.set_block_size(30)"
     ],
     "language": "python",
     "metadata": {},
     "outputs": [],
     "prompt_number": 218
    },
    {
     "cell_type": "code",
     "collapsed": false,
     "input": [
      "plt.plot(t, np.exp(-0.1*t)*np.sin(t))"
     ],
     "language": "python",
     "metadata": {},
     "outputs": [
      {
       "metadata": {},
       "output_type": "pyout",
       "prompt_number": 191,
       "text": [
        "[<matplotlib.lines.Line2D at 0x107f09150>]"
       ]
      },
      {
       "metadata": {},
       "output_type": "display_data",
       "png": "[encoded data removed]",
       "text": [
        "<matplotlib.figure.Figure at 0x10892fd10>"
       ]
      }
     ],
     "prompt_number": 191
    },
    {
     "cell_type": "markdown",
     "metadata": {},
     "source": [
      "## Basic data processing"
     ]
    },
    {
     "cell_type": "code",
     "collapsed": false,
     "input": [
      "ages = np.array([23,56,67,89,23,56,27,12,8,72])\n",
      "genders = np.array(['m','m','f','f','m','f','m','m','m','f'])"
     ],
     "language": "python",
     "metadata": {},
     "outputs": [],
     "prompt_number": 258
    },
    {
     "cell_type": "markdown",
     "metadata": {},
     "source": [
      "Numpy has a basic set of methods and function for computing basic quantities about data."
     ]
    },
    {
     "cell_type": "code",
     "collapsed": false,
     "input": [
      "ages.min(), ages.max()"
     ],
     "language": "python",
     "metadata": {},
     "outputs": [
      {
       "metadata": {},
       "output_type": "pyout",
       "prompt_number": 239,
       "text": [
        "(8, 89)"
       ]
      }
     ],
     "prompt_number": 239
    },
    {
     "cell_type": "code",
     "collapsed": false,
     "input": [
      "ages.mean()"
     ],
     "language": "python",
     "metadata": {},
     "outputs": [
      {
       "metadata": {},
       "output_type": "pyout",
       "prompt_number": 240,
       "text": [
        "43.299999999999997"
       ]
      }
     ],
     "prompt_number": 240
    },
    {
     "cell_type": "code",
     "collapsed": false,
     "input": [
      "ages.var(), ages.std()"
     ],
     "language": "python",
     "metadata": {},
     "outputs": [
      {
       "metadata": {},
       "output_type": "pyout",
       "prompt_number": 241,
       "text": [
        "(711.21000000000004, 26.668520768876554)"
       ]
      }
     ],
     "prompt_number": 241
    },
    {
     "cell_type": "code",
     "collapsed": false,
     "input": [
      "np.bincount(ages)"
     ],
     "language": "python",
     "metadata": {},
     "outputs": [
      {
       "metadata": {},
       "output_type": "pyout",
       "prompt_number": 242,
       "text": [
        "array([0, 0, 0, 0, 0, 0, 0, 0, 1, 0, 0, 0, 1, 0, 0, 0, 0, 0, 0, 0, 0, 0, 0,\n",
        "       2, 0, 0, 0, 1, 0, 0, 0, 0, 0, 0, 0, 0, 0, 0, 0, 0, 0, 0, 0, 0, 0, 0,\n",
        "       0, 0, 0, 0, 0, 0, 0, 0, 0, 0, 2, 0, 0, 0, 0, 0, 0, 0, 0, 0, 0, 1, 0,\n",
        "       0, 0, 0, 1, 0, 0, 0, 0, 0, 0, 0, 0, 0, 0, 0, 0, 0, 0, 0, 0, 1])"
       ]
      }
     ],
     "prompt_number": 242
    },
    {
     "cell_type": "markdown",
     "metadata": {},
     "source": [
      "The `cumsum` and `cumprod` methods compute cumulative sums and products:"
     ]
    },
    {
     "cell_type": "code",
     "collapsed": false,
     "input": [
      "ages.cumsum()"
     ],
     "language": "python",
     "metadata": {},
     "outputs": [
      {
       "metadata": {},
       "output_type": "pyout",
       "prompt_number": 245,
       "text": [
        "array([ 23,  79, 146, 235, 258, 314, 341, 353, 361, 433])"
       ]
      }
     ],
     "prompt_number": 245
    },
    {
     "cell_type": "code",
     "collapsed": false,
     "input": [
      "ages.cumprod()"
     ],
     "language": "python",
     "metadata": {},
     "outputs": [
      {
       "metadata": {},
       "output_type": "pyout",
       "prompt_number": 251,
       "text": [
        "array([              23,             1288,            86296,\n",
        "                7680344,        176647912,       9892283072,\n",
        "           267091642944,    3205099715328,   25640797722624,\n",
        "       1846137436028928])"
       ]
      }
     ],
     "prompt_number": 251
    },
    {
     "cell_type": "markdown",
     "metadata": {},
     "source": [
      "Most of the functions and methods above take an `axis` argument that will apply the action along a particular axis:"
     ]
    },
    {
     "cell_type": "code",
     "collapsed": false,
     "input": [
      "a = np.random.randint(0,10,(3,4))\n",
      "a"
     ],
     "language": "python",
     "metadata": {},
     "outputs": [
      {
       "metadata": {},
       "output_type": "pyout",
       "prompt_number": 273,
       "text": [
        "array([[8, 3, 4, 3],\n",
        "       [3, 0, 2, 4],\n",
        "       [3, 7, 9, 9]])"
       ]
      }
     ],
     "prompt_number": 273
    },
    {
     "cell_type": "markdown",
     "metadata": {},
     "source": [
      "With `axis=0` the action takes place along rows:"
     ]
    },
    {
     "cell_type": "code",
     "collapsed": false,
     "input": [
      "a.sum(axis=0)"
     ],
     "language": "python",
     "metadata": {},
     "outputs": [
      {
       "metadata": {},
       "output_type": "pyout",
       "prompt_number": 275,
       "text": [
        "array([14, 10, 15, 16])"
       ]
      }
     ],
     "prompt_number": 275
    },
    {
     "cell_type": "markdown",
     "metadata": {},
     "source": [
      "With `axis=1` the action takes place along columns:"
     ]
    },
    {
     "cell_type": "code",
     "collapsed": false,
     "input": [
      "a.sum(axis=1)"
     ],
     "language": "python",
     "metadata": {},
     "outputs": [
      {
       "metadata": {},
       "output_type": "pyout",
       "prompt_number": 276,
       "text": [
        "array([18,  9, 28])"
       ]
      }
     ],
     "prompt_number": 276
    },
    {
     "cell_type": "markdown",
     "metadata": {},
     "source": [
      "The `unique` function is extremely useful in working with categorical data:"
     ]
    },
    {
     "cell_type": "code",
     "collapsed": false,
     "input": [
      "np.unique(genders)"
     ],
     "language": "python",
     "metadata": {},
     "outputs": [
      {
       "metadata": {},
       "output_type": "pyout",
       "prompt_number": 252,
       "text": [
        "array(['f', 'm'], \n",
        "      dtype='|S1')"
       ]
      }
     ],
     "prompt_number": 252
    },
    {
     "cell_type": "code",
     "collapsed": false,
     "input": [
      "np.unique(genders, return_counts=True)"
     ],
     "language": "python",
     "metadata": {},
     "outputs": [
      {
       "metadata": {},
       "output_type": "pyout",
       "prompt_number": 253,
       "text": [
        "(array(['f', 'm'], \n",
        "       dtype='|S1'), array([4, 6]))"
       ]
      }
     ],
     "prompt_number": 253
    },
    {
     "cell_type": "markdown",
     "metadata": {},
     "source": [
      "The where function allows you to apply conditional logic to arrays. Here is a rough sketch of how it works:\n",
      "\n",
      "```python\n",
      "def where(condition, if_false, if_true):\n",
      "```"
     ]
    },
    {
     "cell_type": "code",
     "collapsed": false,
     "input": [
      "np.where(ages>30, 0, 1)"
     ],
     "language": "python",
     "metadata": {},
     "outputs": [
      {
       "metadata": {},
       "output_type": "pyout",
       "prompt_number": 262,
       "text": [
        "array([1, 0, 0, 0, 1, 0, 1, 1, 1, 0])"
       ]
      }
     ],
     "prompt_number": 262
    },
    {
     "cell_type": "markdown",
     "metadata": {},
     "source": [
      "The `if_false` and `if_true` values can be arrays themselves:"
     ]
    },
    {
     "cell_type": "code",
     "collapsed": false,
     "input": [
      "np.where(ages<30, 0, ages)"
     ],
     "language": "python",
     "metadata": {},
     "outputs": [
      {
       "metadata": {},
       "output_type": "pyout",
       "prompt_number": 267,
       "text": [
        "array([ 0, 56, 67, 89,  0, 56,  0,  0,  0, 72])"
       ]
      }
     ],
     "prompt_number": 267
    },
    {
     "cell_type": "markdown",
     "metadata": {},
     "source": [
      "## File IO"
     ]
    },
    {
     "cell_type": "markdown",
     "metadata": {},
     "source": [
      "NumPy has a a number of different function to reading and writing arrays to and from disk."
     ]
    },
    {
     "cell_type": "markdown",
     "metadata": {},
     "source": [
      "### Single array, binary format"
     ]
    },
    {
     "cell_type": "code",
     "collapsed": false,
     "input": [
      "a = np.random.rand(10)\n",
      "a"
     ],
     "language": "python",
     "metadata": {},
     "outputs": [
      {
       "metadata": {},
       "output_type": "pyout",
       "prompt_number": 285,
       "text": [
        "array([ 0.34303094,  0.54917379,  0.41026957,  0.26825807,  0.86198446,\n",
        "        0.25824694,  0.85209936,  0.4984963 ,  0.29707469,  0.54891709])"
       ]
      }
     ],
     "prompt_number": 285
    },
    {
     "cell_type": "code",
     "collapsed": false,
     "input": [
      "np.save('array1', a)"
     ],
     "language": "python",
     "metadata": {},
     "outputs": [],
     "prompt_number": 281
    },
    {
     "cell_type": "code",
     "collapsed": false,
     "input": [
      "ls"
     ],
     "language": "python",
     "metadata": {},
     "outputs": [
      {
       "output_type": "stream",
       "stream": "stdout",
       "text": [
        "NumPy.ipynb            Numpy Exercises.ipynb  array1.npy             vizarray.py            vizarray.pyc\r\n"
       ]
      }
     ],
     "prompt_number": 282
    },
    {
     "cell_type": "markdown",
     "metadata": {},
     "source": [
      "Using `%pycat` to look at the file shows that it is binary:"
     ]
    },
    {
     "cell_type": "code",
     "collapsed": false,
     "input": [
      "%pycat array1.npy"
     ],
     "language": "python",
     "metadata": {},
     "outputs": [
      {
       "output_type": "stream",
       "stream": "stdout",
       "text": [
        "\u001b[0;31m\u0093\u001b[0m\u001b[0mNUMPY\u001b[0m\u001b[0;31m\u0001\u001b[0m\u001b[0;31m\u0000\u001b[0m\u001b[0mF\u001b[0m\u001b[0;31m\u0000\u001b[0m\u001b[0;34m{\u001b[0m\u001b[0;34m'descr'\u001b[0m\u001b[0;34m:\u001b[0m \u001b[0;34m'<f8'\u001b[0m\u001b[0;34m,\u001b[0m \u001b[0;34m'fortran_order'\u001b[0m\u001b[0;34m:\u001b[0m \u001b[0mFalse\u001b[0m\u001b[0;34m,\u001b[0m \u001b[0;34m'shape'\u001b[0m\u001b[0;34m:\u001b[0m \u001b[0;34m(\u001b[0m\u001b[0;36m10\u001b[0m\u001b[0;34m,\u001b[0m\u001b[0;34m)\u001b[0m\u001b[0;34m,\u001b[0m \u001b[0;34m}\u001b[0m           \u001b[0;34m\u001b[0m\n",
        "\u001b[0;34m\u001b[0m\u001b[0;31m\u00de\u001b[0m\u001b[0;31m\u0086\u001b[0m\u001b[0mlwC\u001b[0m\u001b[0;31m\u0088\u001b[0m\u001b[0;31m\u00d6\u001b[0m\u001b[0;31m?\u001b[0m\u001b[0;31m\u00a4\u001b[0m\u001b[0;36m4\u001b[0m\u001b[0;31m\u0094\u001b[0m\u001b[0;31m\u00ca\u001b[0m\u001b[0;36m2\u001b[0m\u001b[0;31m\u00b3\u001b[0m\u001b[0;31m\u00e2\u001b[0m\u001b[0;31m?\u001b[0m\u001b[0mk\u001b[0m\u001b[0;31m\u0001\u001b[0m\u001b[0;31m\u00e8\u001b[0m\u001b[0;31m\u0017\u001b[0m\u001b[0;34m=\u001b[0m\u001b[0ms\u001b[0m\u001b[0;31m\u00e0\u001b[0m\u001b[0;31m?\u001b[0m\u001b[0;36m0\u001b[0m\u001b[0;34m'*\u00aeP\u0093\u00bc?\u00b4\u00ab/     G       \u00d3?\u00bb`\u00cf\u0019\u00c7\u00fc\u00ea?L\u00e6x\u00aa,\u00b5\u00c2?0C\u0098\u00e6T\u0012\u00e4?\u00aeJ\u00dc\u00b1.\u0002\u00ec?\u0095\u00cf\u00cc\u00e3'\u001b[0m\u001b[0;31m\u00a7\u001b[0m\u001b[0;31m\u00e6\u001b[0m\u001b[0;31m?\u001b[0m\u001b[0;34m\u001b[0m\u001b[0m\n",
        "\n"
       ]
      }
     ],
     "prompt_number": 329
    },
    {
     "cell_type": "code",
     "collapsed": false,
     "input": [
      "a_copy = np.load('array1.npy')"
     ],
     "language": "python",
     "metadata": {},
     "outputs": [],
     "prompt_number": 287
    },
    {
     "cell_type": "code",
     "collapsed": false,
     "input": [
      "a_copy"
     ],
     "language": "python",
     "metadata": {},
     "outputs": [
      {
       "metadata": {},
       "output_type": "pyout",
       "prompt_number": 288,
       "text": [
        "array([ 0.35206687,  0.58437481,  0.51406722,  0.11162285,  0.29744125,\n",
        "        0.84335666,  0.14615401,  0.62723775,  0.87526641,  0.70790476])"
       ]
      }
     ],
     "prompt_number": 288
    },
    {
     "cell_type": "markdown",
     "metadata": {},
     "source": [
      "### Single array, text format"
     ]
    },
    {
     "cell_type": "code",
     "collapsed": false,
     "input": [
      "b = np.random.randint(0,10,(5,3))\n",
      "b"
     ],
     "language": "python",
     "metadata": {},
     "outputs": [
      {
       "metadata": {},
       "output_type": "pyout",
       "prompt_number": 316,
       "text": [
        "array([[6, 9, 7],\n",
        "       [4, 4, 2],\n",
        "       [4, 4, 2],\n",
        "       [7, 0, 4],\n",
        "       [7, 1, 5]])"
       ]
      }
     ],
     "prompt_number": 316
    },
    {
     "cell_type": "code",
     "collapsed": false,
     "input": [
      "np.savetxt('array2.txt', b)"
     ],
     "language": "python",
     "metadata": {},
     "outputs": [],
     "prompt_number": 323
    },
    {
     "cell_type": "code",
     "collapsed": false,
     "input": [
      "ls"
     ],
     "language": "python",
     "metadata": {},
     "outputs": [
      {
       "output_type": "stream",
       "stream": "stdout",
       "text": [
        "NumPy.ipynb            array1.npy             arrays.npz             vizarray.pyc\r\n",
        "Numpy Exercises.ipynb  array2.txt             vizarray.py\r\n"
       ]
      }
     ],
     "prompt_number": 324
    },
    {
     "cell_type": "markdown",
     "metadata": {},
     "source": [
      "Using `%pycat` to look at the contents shows that the files is indeed a plain text file:"
     ]
    },
    {
     "cell_type": "code",
     "collapsed": false,
     "input": [
      "%pycat array2.txt"
     ],
     "language": "python",
     "metadata": {},
     "outputs": [
      {
       "output_type": "stream",
       "stream": "stdout",
       "text": [
        "\u001b[0;36m6.000000000000000000e+00\u001b[0m \u001b[0;36m9.000000000000000000e+00\u001b[0m \u001b[0;36m7.000000000000000000e+00\u001b[0m\u001b[0;34m\u001b[0m\n",
        "\u001b[0;34m\u001b[0m\u001b[0;36m4.000000000000000000e+00\u001b[0m \u001b[0;36m4.000000000000000000e+00\u001b[0m \u001b[0;36m2.000000000000000000e+00\u001b[0m\u001b[0;34m\u001b[0m\n",
        "\u001b[0;34m\u001b[0m\u001b[0;36m4.000000000000000000e+00\u001b[0m \u001b[0;36m4.000000000000000000e+00\u001b[0m \u001b[0;36m2.000000000000000000e+00\u001b[0m\u001b[0;34m\u001b[0m\n",
        "\u001b[0;34m\u001b[0m\u001b[0;36m7.000000000000000000e+00\u001b[0m \u001b[0;36m0.000000000000000000e+00\u001b[0m \u001b[0;36m4.000000000000000000e+00\u001b[0m\u001b[0;34m\u001b[0m\n",
        "\u001b[0;34m\u001b[0m\u001b[0;36m7.000000000000000000e+00\u001b[0m \u001b[0;36m1.000000000000000000e+00\u001b[0m \u001b[0;36m5.000000000000000000e+00\u001b[0m\u001b[0;34m\u001b[0m\u001b[0m\n",
        "\n"
       ]
      }
     ],
     "prompt_number": 328
    },
    {
     "cell_type": "code",
     "collapsed": false,
     "input": [
      "np.loadtxt('array2.txt')"
     ],
     "language": "python",
     "metadata": {},
     "outputs": [
      {
       "metadata": {},
       "output_type": "pyout",
       "prompt_number": 327,
       "text": [
        "array([[ 6.,  9.,  7.],\n",
        "       [ 4.,  4.,  2.],\n",
        "       [ 4.,  4.,  2.],\n",
        "       [ 7.,  0.,  4.],\n",
        "       [ 7.,  1.,  5.]])"
       ]
      }
     ],
     "prompt_number": 327
    },
    {
     "cell_type": "markdown",
     "metadata": {},
     "source": [
      "### Multiple arrays, binary format"
     ]
    },
    {
     "cell_type": "code",
     "collapsed": false,
     "input": [
      "np.savez('arrays.npz', a=a, b=b)"
     ],
     "language": "python",
     "metadata": {},
     "outputs": [],
     "prompt_number": 292
    },
    {
     "cell_type": "code",
     "collapsed": false,
     "input": [
      "a_and_b = np.load('arrays.npz')"
     ],
     "language": "python",
     "metadata": {},
     "outputs": [],
     "prompt_number": 295
    },
    {
     "cell_type": "code",
     "collapsed": false,
     "input": [
      "a_and_b['a']"
     ],
     "language": "python",
     "metadata": {},
     "outputs": [
      {
       "metadata": {},
       "output_type": "pyout",
       "prompt_number": 296,
       "text": [
        "array([ 0.34303094,  0.54917379,  0.41026957,  0.26825807,  0.86198446,\n",
        "        0.25824694,  0.85209936,  0.4984963 ,  0.29707469,  0.54891709])"
       ]
      }
     ],
     "prompt_number": 296
    },
    {
     "cell_type": "code",
     "collapsed": false,
     "input": [
      "a_and_b['b']"
     ],
     "language": "python",
     "metadata": {},
     "outputs": [
      {
       "metadata": {},
       "output_type": "pyout",
       "prompt_number": 297,
       "text": [
        "array([[1, 7, 4, 2, 8],\n",
        "       [3, 4, 8, 1, 7],\n",
        "       [9, 5, 0, 8, 8],\n",
        "       [1, 9, 9, 1, 0],\n",
        "       [7, 1, 7, 4, 0]])"
       ]
      }
     ],
     "prompt_number": 297
    },
    {
     "cell_type": "markdown",
     "metadata": {},
     "source": [
      "## Linear algebra"
     ]
    },
    {
     "cell_type": "markdown",
     "metadata": {},
     "source": [
      "NumPy has excellent linear algebra capabilities."
     ]
    },
    {
     "cell_type": "code",
     "collapsed": false,
     "input": [
      "a = np.random.rand(5,5)\n",
      "b = np.random.rand(5,5)"
     ],
     "language": "python",
     "metadata": {},
     "outputs": [],
     "prompt_number": 192
    },
    {
     "cell_type": "markdown",
     "metadata": {},
     "source": [
      "Remember that array operations are elementwise. Thus, this is **not** matrix multiplication:"
     ]
    },
    {
     "cell_type": "code",
     "collapsed": false,
     "input": [
      "a*b"
     ],
     "language": "python",
     "metadata": {},
     "outputs": [
      {
       "metadata": {},
       "output_type": "pyout",
       "prompt_number": 193,
       "text": [
        "array([[ 0.25393222,  0.21835222,  0.06538365,  0.19593537,  0.02356957],\n",
        "       [ 0.14543736,  0.08245128,  0.47734972,  0.77306169,  0.07245593],\n",
        "       [ 0.33022526,  0.60203065,  0.15009719,  0.15494522,  0.07804419],\n",
        "       [ 0.12837929,  0.70701142,  0.01138602,  0.19525242,  0.03857401],\n",
        "       [ 0.14750584,  0.26839417,  0.66985897,  0.09880151,  0.09235018]])"
       ]
      }
     ],
     "prompt_number": 193
    },
    {
     "cell_type": "markdown",
     "metadata": {},
     "source": [
      "To get matrix multiplication use `np.dot`:"
     ]
    },
    {
     "cell_type": "code",
     "collapsed": false,
     "input": [
      "np.dot(a, b)"
     ],
     "language": "python",
     "metadata": {},
     "outputs": [
      {
       "metadata": {},
       "output_type": "pyout",
       "prompt_number": 194,
       "text": [
        "array([[ 0.53502992,  0.73478796,  0.719084  ,  0.74896027,  0.27976005],\n",
        "       [ 1.68584337,  2.1333923 ,  2.32002574,  1.43638608,  0.56154709],\n",
        "       [ 1.39270484,  2.59898639,  2.66372258,  2.07312918,  0.57158361],\n",
        "       [ 0.71749175,  1.84103621,  1.78737521,  1.45587033,  0.41238547],\n",
        "       [ 1.71641642,  2.42132697,  2.51499999,  1.65365007,  0.75051161]])"
       ]
      }
     ],
     "prompt_number": 194
    },
    {
     "cell_type": "markdown",
     "metadata": {},
     "source": [
      "Or, NumPy as a `matrix` subclass for which matrix operations are the default:"
     ]
    },
    {
     "cell_type": "code",
     "collapsed": false,
     "input": [
      "m1 = np.matrix(a)\n",
      "m2 = np.matrix(b)"
     ],
     "language": "python",
     "metadata": {},
     "outputs": [],
     "prompt_number": 195
    },
    {
     "cell_type": "code",
     "collapsed": false,
     "input": [
      "m1*m2"
     ],
     "language": "python",
     "metadata": {},
     "outputs": [
      {
       "metadata": {},
       "output_type": "pyout",
       "prompt_number": 196,
       "text": [
        "matrix([[ 0.53502992,  0.73478796,  0.719084  ,  0.74896027,  0.27976005],\n",
        "        [ 1.68584337,  2.1333923 ,  2.32002574,  1.43638608,  0.56154709],\n",
        "        [ 1.39270484,  2.59898639,  2.66372258,  2.07312918,  0.57158361],\n",
        "        [ 0.71749175,  1.84103621,  1.78737521,  1.45587033,  0.41238547],\n",
        "        [ 1.71641642,  2.42132697,  2.51499999,  1.65365007,  0.75051161]])"
       ]
      }
     ],
     "prompt_number": 196
    },
    {
     "cell_type": "markdown",
     "metadata": {},
     "source": [
      "The `np.linalg` package has a wide range of fast linear algebra operations.\n",
      "\n",
      "Here is determinant:"
     ]
    },
    {
     "cell_type": "code",
     "collapsed": false,
     "input": [
      "np.linalg.det(a)"
     ],
     "language": "python",
     "metadata": {},
     "outputs": [
      {
       "metadata": {},
       "output_type": "pyout",
       "prompt_number": 197,
       "text": [
        "0.041671564245617118"
       ]
      }
     ],
     "prompt_number": 197
    },
    {
     "cell_type": "markdown",
     "metadata": {},
     "source": [
      "Matrix inverse:"
     ]
    },
    {
     "cell_type": "code",
     "collapsed": false,
     "input": [
      "np.linalg.inv(a)"
     ],
     "language": "python",
     "metadata": {},
     "outputs": [
      {
       "metadata": {},
       "output_type": "pyout",
       "prompt_number": 198,
       "text": [
        "array([[ 1.23274061, -3.11139511,  1.65118686, -2.50276908,  2.81483287],\n",
        "       [ 2.46894326,  2.40916492, -2.2388855 ,  2.94323391, -2.41381195],\n",
        "       [ 0.34461835,  4.04567557, -3.22085389,  3.19031121, -2.34431455],\n",
        "       [-0.25059113,  0.18316358,  1.53865807, -1.20803918, -0.4969818 ],\n",
        "       [-2.59744871, -1.72647083,  1.36226369, -0.88437947,  1.87191856]])"
       ]
      }
     ],
     "prompt_number": 198
    },
    {
     "cell_type": "markdown",
     "metadata": {},
     "source": [
      "Eigenvalues:"
     ]
    },
    {
     "cell_type": "code",
     "collapsed": false,
     "input": [
      "np.linalg.eigvals(a)"
     ],
     "language": "python",
     "metadata": {},
     "outputs": [
      {
       "metadata": {},
       "output_type": "pyout",
       "prompt_number": 199,
       "text": [
        "array([ 2.51045550+0.j        ,  0.12326017+0.20268868j,\n",
        "        0.12326017-0.20268868j, -0.58763995+0.j        , -0.50194313+0.j        ])"
       ]
      }
     ],
     "prompt_number": 199
    },
    {
     "cell_type": "markdown",
     "metadata": {},
     "source": [
      "NumPy can be built against fast BLAS/LAPACK implementation for these linear algebra operations."
     ]
    },
    {
     "cell_type": "code",
     "collapsed": false,
     "input": [
      "c = np.random.rand(2000,2000)"
     ],
     "language": "python",
     "metadata": {},
     "outputs": [],
     "prompt_number": 200
    },
    {
     "cell_type": "code",
     "collapsed": false,
     "input": [
      "%timeit -n1 -r1 evs = np.linalg.eigvals(c)"
     ],
     "language": "python",
     "metadata": {},
     "outputs": [
      {
       "output_type": "stream",
       "stream": "stdout",
       "text": [
        "1 loops, best of 1: 5.04 s per loop\n"
       ]
      }
     ],
     "prompt_number": 201
    },
    {
     "cell_type": "markdown",
     "metadata": {},
     "source": [
      "## Random numbers"
     ]
    },
    {
     "cell_type": "markdown",
     "metadata": {},
     "source": [
      "NumPy has functions for creating arrays of random numbers from different distributions in `np.random`, as well as handling things like permutation and shuffling.\n",
      "\n",
      "Here is the [numpy.random documentation](http://docs.scipy.org/doc/numpy/reference/routines.random.html)."
     ]
    },
    {
     "cell_type": "code",
     "collapsed": false,
     "input": [
      "plt.hist(np.random.random(250))"
     ],
     "language": "python",
     "metadata": {},
     "outputs": [
      {
       "metadata": {},
       "output_type": "pyout",
       "prompt_number": 332,
       "text": [
        "(array([ 23.,  26.,  25.,  26.,  24.,  28.,  25.,  20.,  25.,  28.]),\n",
        " array([ 0.00186383,  0.10154775,  0.20123167,  0.30091559,  0.40059951,\n",
        "         0.50028343,  0.59996735,  0.69965127,  0.79933519,  0.89901911,\n",
        "         0.99870303]),\n",
        " <a list of 10 Patch objects>)"
       ]
      },
      {
       "metadata": {},
       "output_type": "display_data",
       "png": "[encoded data removed]",
       "text": [
        "<matplotlib.figure.Figure at 0x10ae3cd10>"
       ]
      }
     ],
     "prompt_number": 332
    },
    {
     "cell_type": "code",
     "collapsed": false,
     "input": [
      "plt.hist(np.random.randn(250))"
     ],
     "language": "python",
     "metadata": {},
     "outputs": [
      {
       "metadata": {},
       "output_type": "pyout",
       "prompt_number": 335,
       "text": [
        "(array([  5.,  17.,  33.,  45.,  62.,  46.,  18.,  19.,   3.,   2.]),\n",
        " array([-2.49126248, -1.92063496, -1.35000745, -0.77937993, -0.20875241,\n",
        "         0.3618751 ,  0.93250262,  1.50313014,  2.07375765,  2.64438517,\n",
        "         3.21501269]),\n",
        " <a list of 10 Patch objects>)"
       ]
      },
      {
       "metadata": {},
       "output_type": "display_data",
       "png": "[encoded data removed]",
       "text": [
        "<matplotlib.figure.Figure at 0x10e164f50>"
       ]
      }
     ],
     "prompt_number": 335
    },
    {
     "cell_type": "markdown",
     "metadata": {},
     "source": [
      "The `shuffle` function shuffles an array in place:"
     ]
    },
    {
     "cell_type": "code",
     "collapsed": false,
     "input": [
      "a = np.arange(0,10)\n",
      "np.random.shuffle(a)\n",
      "a"
     ],
     "language": "python",
     "metadata": {},
     "outputs": [
      {
       "metadata": {},
       "output_type": "pyout",
       "prompt_number": 338,
       "text": [
        "array([4, 2, 8, 9, 0, 6, 1, 3, 7, 5])"
       ]
      }
     ],
     "prompt_number": 338
    },
    {
     "cell_type": "markdown",
     "metadata": {},
     "source": [
      "The `permutation` function does the same thing but first makes a copy:"
     ]
    },
    {
     "cell_type": "code",
     "collapsed": false,
     "input": [
      "a = np.arange(0,10)\n",
      "print(np.random.permutation(a))\n",
      "print(a)"
     ],
     "language": "python",
     "metadata": {},
     "outputs": [
      {
       "output_type": "stream",
       "stream": "stdout",
       "text": [
        "[6 9 8 7 0 5 3 4 2 1]\n",
        "[0 1 2 3 4 5 6 7 8 9]\n"
       ]
      }
     ],
     "prompt_number": 342
    },
    {
     "cell_type": "markdown",
     "metadata": {},
     "source": [
      "## Resources"
     ]
    },
    {
     "cell_type": "markdown",
     "metadata": {},
     "source": [
      "* Main NumPy [Documentation](http://docs.scipy.org/doc/numpy/reference/)"
     ]
    }
   ],
   "metadata": {}
  }
 ]
}