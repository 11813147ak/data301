{
 "metadata": {
  "language_info": {
   "codemirror_mode": {
    "name": "ipython",
    "version": 2
   },
   "mimetype": "text/x-python",
   "name": "python",
   "pygments_lexer": "ipython2"
  },
  "name": "",
  "signature": "sha256:3ede273699ac7ee7226c0c6a0263c2c3dfd51a104495f7bc53c26d6778f7611b"
 },
 "nbformat": 3,
 "nbformat_minor": 0,
 "worksheets": [
  {
   "cells": [
    {
     "cell_type": "markdown",
     "metadata": {},
     "source": [
      "# Grouping and Aggregation Exercises"
     ]
    },
    {
     "cell_type": "code",
     "collapsed": true,
     "input": [
      "%matplotlib inline\n",
      "from matplotlib import pyplot as plt\n",
      "import pandas as pd\n",
      "from pandas import DataFrame, Series\n",
      "import numpy as np\n",
      "import seaborn as sns"
     ],
     "language": "python",
     "metadata": {},
     "outputs": [],
     "prompt_number": 1
    },
    {
     "cell_type": "markdown",
     "metadata": {},
     "source": [
      "## Load the Titanic data set"
     ]
    },
    {
     "cell_type": "code",
     "collapsed": true,
     "input": [
      "titanic = sns.load_dataset('titanic').dropna()"
     ],
     "language": "python",
     "metadata": {},
     "outputs": [],
     "prompt_number": 4
    },
    {
     "cell_type": "code",
     "collapsed": false,
     "input": [
      "titanic.head()"
     ],
     "language": "python",
     "metadata": {},
     "outputs": [
      {
       "html": [
        "<div style=\"max-height:1000px;max-width:1500px;overflow:auto;\">\n",
        "<table border=\"1\" class=\"dataframe\">\n",
        "  <thead>\n",
        "    <tr style=\"text-align: right;\">\n",
        "      <th></th>\n",
        "      <th>survived</th>\n",
        "      <th>pclass</th>\n",
        "      <th>sex</th>\n",
        "      <th>age</th>\n",
        "      <th>sibsp</th>\n",
        "      <th>parch</th>\n",
        "      <th>fare</th>\n",
        "      <th>embarked</th>\n",
        "      <th>class</th>\n",
        "      <th>who</th>\n",
        "      <th>adult_male</th>\n",
        "      <th>deck</th>\n",
        "      <th>embark_town</th>\n",
        "      <th>alive</th>\n",
        "      <th>alone</th>\n",
        "    </tr>\n",
        "  </thead>\n",
        "  <tbody>\n",
        "    <tr>\n",
        "      <th>1 </th>\n",
        "      <td> 1</td>\n",
        "      <td> 1</td>\n",
        "      <td> female</td>\n",
        "      <td> 38</td>\n",
        "      <td> 1</td>\n",
        "      <td> 0</td>\n",
        "      <td> 71.2833</td>\n",
        "      <td> C</td>\n",
        "      <td> First</td>\n",
        "      <td> woman</td>\n",
        "      <td> False</td>\n",
        "      <td> C</td>\n",
        "      <td>   Cherbourg</td>\n",
        "      <td> yes</td>\n",
        "      <td> False</td>\n",
        "    </tr>\n",
        "    <tr>\n",
        "      <th>3 </th>\n",
        "      <td> 1</td>\n",
        "      <td> 1</td>\n",
        "      <td> female</td>\n",
        "      <td> 35</td>\n",
        "      <td> 1</td>\n",
        "      <td> 0</td>\n",
        "      <td> 53.1000</td>\n",
        "      <td> S</td>\n",
        "      <td> First</td>\n",
        "      <td> woman</td>\n",
        "      <td> False</td>\n",
        "      <td> C</td>\n",
        "      <td> Southampton</td>\n",
        "      <td> yes</td>\n",
        "      <td> False</td>\n",
        "    </tr>\n",
        "    <tr>\n",
        "      <th>6 </th>\n",
        "      <td> 0</td>\n",
        "      <td> 1</td>\n",
        "      <td>   male</td>\n",
        "      <td> 54</td>\n",
        "      <td> 0</td>\n",
        "      <td> 0</td>\n",
        "      <td> 51.8625</td>\n",
        "      <td> S</td>\n",
        "      <td> First</td>\n",
        "      <td>   man</td>\n",
        "      <td>  True</td>\n",
        "      <td> E</td>\n",
        "      <td> Southampton</td>\n",
        "      <td>  no</td>\n",
        "      <td>  True</td>\n",
        "    </tr>\n",
        "    <tr>\n",
        "      <th>10</th>\n",
        "      <td> 1</td>\n",
        "      <td> 3</td>\n",
        "      <td> female</td>\n",
        "      <td>  4</td>\n",
        "      <td> 1</td>\n",
        "      <td> 1</td>\n",
        "      <td> 16.7000</td>\n",
        "      <td> S</td>\n",
        "      <td> Third</td>\n",
        "      <td> child</td>\n",
        "      <td> False</td>\n",
        "      <td> G</td>\n",
        "      <td> Southampton</td>\n",
        "      <td> yes</td>\n",
        "      <td> False</td>\n",
        "    </tr>\n",
        "    <tr>\n",
        "      <th>11</th>\n",
        "      <td> 1</td>\n",
        "      <td> 1</td>\n",
        "      <td> female</td>\n",
        "      <td> 58</td>\n",
        "      <td> 0</td>\n",
        "      <td> 0</td>\n",
        "      <td> 26.5500</td>\n",
        "      <td> S</td>\n",
        "      <td> First</td>\n",
        "      <td> woman</td>\n",
        "      <td> False</td>\n",
        "      <td> C</td>\n",
        "      <td> Southampton</td>\n",
        "      <td> yes</td>\n",
        "      <td>  True</td>\n",
        "    </tr>\n",
        "  </tbody>\n",
        "</table>\n",
        "</div>"
       ],
       "metadata": {},
       "output_type": "pyout",
       "prompt_number": 5,
       "text": [
        "    survived  pclass     sex  age  sibsp  parch     fare embarked  class  \\\n",
        "1          1       1  female   38      1      0  71.2833        C  First   \n",
        "3          1       1  female   35      1      0  53.1000        S  First   \n",
        "6          0       1    male   54      0      0  51.8625        S  First   \n",
        "10         1       3  female    4      1      1  16.7000        S  Third   \n",
        "11         1       1  female   58      0      0  26.5500        S  First   \n",
        "\n",
        "      who adult_male deck  embark_town alive  alone  \n",
        "1   woman      False    C    Cherbourg   yes  False  \n",
        "3   woman      False    C  Southampton   yes  False  \n",
        "6     man       True    E  Southampton    no   True  \n",
        "10  child      False    G  Southampton   yes  False  \n",
        "11  woman      False    C  Southampton   yes   True  "
       ]
      }
     ],
     "prompt_number": 5
    },
    {
     "cell_type": "markdown",
     "metadata": {},
     "source": [
      "## Basic grouping"
     ]
    },
    {
     "cell_type": "markdown",
     "metadata": {},
     "source": [
      "Compute the mean of the `age` column grouped by `sex`:"
     ]
    },
    {
     "cell_type": "code",
     "collapsed": false,
     "input": [
      "titanic.groupby('sex')['age',].mean()"
     ],
     "language": "python",
     "metadata": {},
     "outputs": [
      {
       "html": [
        "<div style=\"max-height:1000px;max-width:1500px;overflow:auto;\">\n",
        "<table border=\"1\" class=\"dataframe\">\n",
        "  <thead>\n",
        "    <tr style=\"text-align: right;\">\n",
        "      <th></th>\n",
        "      <th>age</th>\n",
        "    </tr>\n",
        "    <tr>\n",
        "      <th>sex</th>\n",
        "      <th></th>\n",
        "    </tr>\n",
        "  </thead>\n",
        "  <tbody>\n",
        "    <tr>\n",
        "      <th>female</th>\n",
        "      <td> 32.676136</td>\n",
        "    </tr>\n",
        "    <tr>\n",
        "      <th>male</th>\n",
        "      <td> 38.382128</td>\n",
        "    </tr>\n",
        "  </tbody>\n",
        "</table>\n",
        "</div>"
       ],
       "metadata": {},
       "output_type": "pyout",
       "prompt_number": 9,
       "text": [
        "              age\n",
        "sex              \n",
        "female  32.676136\n",
        "male    38.382128"
       ]
      }
     ],
     "prompt_number": 9
    },
    {
     "cell_type": "markdown",
     "metadata": {},
     "source": [
      "Compute the mean and standard deviation of the `age` column, grouped by the `sex` and `alive` columns. How did age and sex play a role in who survived?"
     ]
    },
    {
     "cell_type": "code",
     "collapsed": false,
     "input": [
      "titanic.groupby(['sex','alive'])['age'].agg(['mean','std'])"
     ],
     "language": "python",
     "metadata": {},
     "outputs": [
      {
       "html": [
        "<div style=\"max-height:1000px;max-width:1500px;overflow:auto;\">\n",
        "<table border=\"1\" class=\"dataframe\">\n",
        "  <thead>\n",
        "    <tr style=\"text-align: right;\">\n",
        "      <th></th>\n",
        "      <th></th>\n",
        "      <th>mean</th>\n",
        "      <th>std</th>\n",
        "    </tr>\n",
        "    <tr>\n",
        "      <th>sex</th>\n",
        "      <th>alive</th>\n",
        "      <th></th>\n",
        "      <th></th>\n",
        "    </tr>\n",
        "  </thead>\n",
        "  <tbody>\n",
        "    <tr>\n",
        "      <th rowspan=\"2\" valign=\"top\">female</th>\n",
        "      <th>no</th>\n",
        "      <td> 27.500000</td>\n",
        "      <td> 23.175418</td>\n",
        "    </tr>\n",
        "    <tr>\n",
        "      <th>yes</th>\n",
        "      <td> 33.054878</td>\n",
        "      <td> 13.510400</td>\n",
        "    </tr>\n",
        "    <tr>\n",
        "      <th rowspan=\"2\" valign=\"top\">male</th>\n",
        "      <th>no</th>\n",
        "      <td> 42.849057</td>\n",
        "      <td> 14.309285</td>\n",
        "    </tr>\n",
        "    <tr>\n",
        "      <th>yes</th>\n",
        "      <td> 32.607805</td>\n",
        "      <td> 17.506299</td>\n",
        "    </tr>\n",
        "  </tbody>\n",
        "</table>\n",
        "</div>"
       ],
       "metadata": {},
       "output_type": "pyout",
       "prompt_number": 10,
       "text": [
        "                   mean        std\n",
        "sex    alive                      \n",
        "female no     27.500000  23.175418\n",
        "       yes    33.054878  13.510400\n",
        "male   no     42.849057  14.309285\n",
        "       yes    32.607805  17.506299"
       ]
      }
     ],
     "prompt_number": 10
    },
    {
     "cell_type": "markdown",
     "metadata": {},
     "source": [
      "## Looking at a categorical variable"
     ]
    },
    {
     "cell_type": "markdown",
     "metadata": {},
     "source": [
      "Use `value_counts` to count the number of people who where alone, grouped by `sex` and `alive`."
     ]
    },
    {
     "cell_type": "code",
     "collapsed": false,
     "input": [
      "titanic.groupby(['sex','alive'])['alone'].value_counts()"
     ],
     "language": "python",
     "metadata": {},
     "outputs": [
      {
       "metadata": {},
       "output_type": "pyout",
       "prompt_number": 18,
       "text": [
        "sex     alive       \n",
        "female  no     False     4\n",
        "               True      2\n",
        "        yes    False    52\n",
        "               True     30\n",
        "male    no     True     28\n",
        "               False    25\n",
        "        yes    False    23\n",
        "               True     18\n",
        "dtype: int64"
       ]
      }
     ],
     "prompt_number": 18
    },
    {
     "cell_type": "markdown",
     "metadata": {},
     "source": [
      "To get a better idea of how being alone made a difference, use the `apply` method to compute for each group in the above query how many more people lived who were not alone than were alone."
     ]
    },
    {
     "cell_type": "code",
     "collapsed": true,
     "input": [
      "def alone_diff(g):\n",
      "    \"\"\"Compute the value_counts of each group g and then return the different in the max and min.\"\"\"\n",
      "    vc = g.value_counts()\n",
      "    return vc.max()-vc.min()"
     ],
     "language": "python",
     "metadata": {},
     "outputs": [],
     "prompt_number": 28
    },
    {
     "cell_type": "code",
     "collapsed": false,
     "input": [
      "titanic.groupby(['sex','alive'])['alone'].apply(alone_diff)"
     ],
     "language": "python",
     "metadata": {},
     "outputs": [
      {
       "metadata": {},
       "output_type": "pyout",
       "prompt_number": 29,
       "text": [
        "sex     alive\n",
        "female  no        2\n",
        "        yes      22\n",
        "male    no        3\n",
        "        yes       5\n",
        "Name: alone, dtype: int64"
       ]
      }
     ],
     "prompt_number": 29
    },
    {
     "cell_type": "markdown",
     "metadata": {},
     "source": [
      "## Something"
     ]
    },
    {
     "cell_type": "code",
     "collapsed": false,
     "input": [
      "titanic.head()"
     ],
     "language": "python",
     "metadata": {},
     "outputs": [
      {
       "html": [
        "<div style=\"max-height:1000px;max-width:1500px;overflow:auto;\">\n",
        "<table border=\"1\" class=\"dataframe\">\n",
        "  <thead>\n",
        "    <tr style=\"text-align: right;\">\n",
        "      <th></th>\n",
        "      <th>survived</th>\n",
        "      <th>pclass</th>\n",
        "      <th>sex</th>\n",
        "      <th>age</th>\n",
        "      <th>sibsp</th>\n",
        "      <th>parch</th>\n",
        "      <th>fare</th>\n",
        "      <th>embarked</th>\n",
        "      <th>class</th>\n",
        "      <th>who</th>\n",
        "      <th>adult_male</th>\n",
        "      <th>deck</th>\n",
        "      <th>embark_town</th>\n",
        "      <th>alive</th>\n",
        "      <th>alone</th>\n",
        "    </tr>\n",
        "  </thead>\n",
        "  <tbody>\n",
        "    <tr>\n",
        "      <th>1 </th>\n",
        "      <td> 1</td>\n",
        "      <td> 1</td>\n",
        "      <td> female</td>\n",
        "      <td> 38</td>\n",
        "      <td> 1</td>\n",
        "      <td> 0</td>\n",
        "      <td> 71.2833</td>\n",
        "      <td> C</td>\n",
        "      <td> First</td>\n",
        "      <td> woman</td>\n",
        "      <td> False</td>\n",
        "      <td> C</td>\n",
        "      <td>   Cherbourg</td>\n",
        "      <td> yes</td>\n",
        "      <td> False</td>\n",
        "    </tr>\n",
        "    <tr>\n",
        "      <th>3 </th>\n",
        "      <td> 1</td>\n",
        "      <td> 1</td>\n",
        "      <td> female</td>\n",
        "      <td> 35</td>\n",
        "      <td> 1</td>\n",
        "      <td> 0</td>\n",
        "      <td> 53.1000</td>\n",
        "      <td> S</td>\n",
        "      <td> First</td>\n",
        "      <td> woman</td>\n",
        "      <td> False</td>\n",
        "      <td> C</td>\n",
        "      <td> Southampton</td>\n",
        "      <td> yes</td>\n",
        "      <td> False</td>\n",
        "    </tr>\n",
        "    <tr>\n",
        "      <th>6 </th>\n",
        "      <td> 0</td>\n",
        "      <td> 1</td>\n",
        "      <td>   male</td>\n",
        "      <td> 54</td>\n",
        "      <td> 0</td>\n",
        "      <td> 0</td>\n",
        "      <td> 51.8625</td>\n",
        "      <td> S</td>\n",
        "      <td> First</td>\n",
        "      <td>   man</td>\n",
        "      <td>  True</td>\n",
        "      <td> E</td>\n",
        "      <td> Southampton</td>\n",
        "      <td>  no</td>\n",
        "      <td>  True</td>\n",
        "    </tr>\n",
        "    <tr>\n",
        "      <th>10</th>\n",
        "      <td> 1</td>\n",
        "      <td> 3</td>\n",
        "      <td> female</td>\n",
        "      <td>  4</td>\n",
        "      <td> 1</td>\n",
        "      <td> 1</td>\n",
        "      <td> 16.7000</td>\n",
        "      <td> S</td>\n",
        "      <td> Third</td>\n",
        "      <td> child</td>\n",
        "      <td> False</td>\n",
        "      <td> G</td>\n",
        "      <td> Southampton</td>\n",
        "      <td> yes</td>\n",
        "      <td> False</td>\n",
        "    </tr>\n",
        "    <tr>\n",
        "      <th>11</th>\n",
        "      <td> 1</td>\n",
        "      <td> 1</td>\n",
        "      <td> female</td>\n",
        "      <td> 58</td>\n",
        "      <td> 0</td>\n",
        "      <td> 0</td>\n",
        "      <td> 26.5500</td>\n",
        "      <td> S</td>\n",
        "      <td> First</td>\n",
        "      <td> woman</td>\n",
        "      <td> False</td>\n",
        "      <td> C</td>\n",
        "      <td> Southampton</td>\n",
        "      <td> yes</td>\n",
        "      <td>  True</td>\n",
        "    </tr>\n",
        "  </tbody>\n",
        "</table>\n",
        "</div>"
       ],
       "metadata": {},
       "output_type": "pyout",
       "prompt_number": 30,
       "text": [
        "    survived  pclass     sex  age  sibsp  parch     fare embarked  class  \\\n",
        "1          1       1  female   38      1      0  71.2833        C  First   \n",
        "3          1       1  female   35      1      0  53.1000        S  First   \n",
        "6          0       1    male   54      0      0  51.8625        S  First   \n",
        "10         1       3  female    4      1      1  16.7000        S  Third   \n",
        "11         1       1  female   58      0      0  26.5500        S  First   \n",
        "\n",
        "      who adult_male deck  embark_town alive  alone  \n",
        "1   woman      False    C    Cherbourg   yes  False  \n",
        "3   woman      False    C  Southampton   yes  False  \n",
        "6     man       True    E  Southampton    no   True  \n",
        "10  child      False    G  Southampton   yes  False  \n",
        "11  woman      False    C  Southampton   yes   True  "
       ]
      }
     ],
     "prompt_number": 30
    },
    {
     "cell_type": "markdown",
     "metadata": {},
     "source": [
      "Let's study how the `age` and `class` variables affects the price individuals paid. Let's start out by binning the age data as follows:"
     ]
    },
    {
     "cell_type": "code",
     "collapsed": false,
     "input": [
      "age_bins = pd.cut(titanic.age, range(0,70,10))"
     ],
     "language": "python",
     "metadata": {},
     "outputs": [],
     "prompt_number": 37
    },
    {
     "cell_type": "markdown",
     "metadata": {},
     "source": [
      "Now compute the mean of the `fare` grouped by the age bins. "
     ]
    },
    {
     "cell_type": "code",
     "collapsed": false,
     "input": [
      "titanic.groupby(age_bins)['fare'].mean()"
     ],
     "language": "python",
     "metadata": {},
     "outputs": [
      {
       "metadata": {},
       "output_type": "pyout",
       "prompt_number": 38,
       "text": [
        "age\n",
        "(0, 10]      55.459580\n",
        "(10, 20]    108.503289\n",
        "(20, 30]     82.212085\n",
        "(30, 40]     86.389200\n",
        "(40, 50]     65.891672\n",
        "(50, 60]     66.346968\n",
        "Name: fare, dtype: float64"
       ]
      }
     ],
     "prompt_number": 38
    },
    {
     "cell_type": "markdown",
     "metadata": {},
     "source": [
      "Another obvious factor in the `fare` in the `class` of cabin. To study its affect alongside of sage, compute the `mean` and `count` of the `fare` grouped by the age bins and `class`:"
     ]
    },
    {
     "cell_type": "code",
     "collapsed": false,
     "input": [
      "titanic.groupby([age_bins,'class'])['fare'].agg(['mean','count'])"
     ],
     "language": "python",
     "metadata": {},
     "outputs": [
      {
       "html": [
        "<div style=\"max-height:1000px;max-width:1500px;overflow:auto;\">\n",
        "<table border=\"1\" class=\"dataframe\">\n",
        "  <thead>\n",
        "    <tr style=\"text-align: right;\">\n",
        "      <th></th>\n",
        "      <th></th>\n",
        "      <th>mean</th>\n",
        "      <th>count</th>\n",
        "    </tr>\n",
        "    <tr>\n",
        "      <th>age</th>\n",
        "      <th>class</th>\n",
        "      <th></th>\n",
        "      <th></th>\n",
        "    </tr>\n",
        "  </thead>\n",
        "  <tbody>\n",
        "    <tr>\n",
        "      <th rowspan=\"3\" valign=\"top\">(0, 10]</th>\n",
        "      <th>First</th>\n",
        "      <td> 128.319433</td>\n",
        "      <td>  3</td>\n",
        "    </tr>\n",
        "    <tr>\n",
        "      <th>Second</th>\n",
        "      <td>  32.500000</td>\n",
        "      <td>  4</td>\n",
        "    </tr>\n",
        "    <tr>\n",
        "      <th>Third</th>\n",
        "      <td>  13.212500</td>\n",
        "      <td>  3</td>\n",
        "    </tr>\n",
        "    <tr>\n",
        "      <th rowspan=\"2\" valign=\"top\">(10, 20]</th>\n",
        "      <th>First</th>\n",
        "      <td> 114.106250</td>\n",
        "      <td> 18</td>\n",
        "    </tr>\n",
        "    <tr>\n",
        "      <th>Third</th>\n",
        "      <td>   7.650000</td>\n",
        "      <td>  1</td>\n",
        "    </tr>\n",
        "    <tr>\n",
        "      <th rowspan=\"3\" valign=\"top\">(20, 30]</th>\n",
        "      <th>First</th>\n",
        "      <td>  99.793881</td>\n",
        "      <td> 32</td>\n",
        "    </tr>\n",
        "    <tr>\n",
        "      <th>Second</th>\n",
        "      <td>  11.947925</td>\n",
        "      <td>  4</td>\n",
        "    </tr>\n",
        "    <tr>\n",
        "      <th>Third</th>\n",
        "      <td>  11.821875</td>\n",
        "      <td>  4</td>\n",
        "    </tr>\n",
        "    <tr>\n",
        "      <th rowspan=\"3\" valign=\"top\">(30, 40]</th>\n",
        "      <th>First</th>\n",
        "      <td>  98.491567</td>\n",
        "      <td> 42</td>\n",
        "    </tr>\n",
        "    <tr>\n",
        "      <th>Second</th>\n",
        "      <td>  14.729167</td>\n",
        "      <td>  6</td>\n",
        "    </tr>\n",
        "    <tr>\n",
        "      <th>Third</th>\n",
        "      <td>   8.050000</td>\n",
        "      <td>  1</td>\n",
        "    </tr>\n",
        "    <tr>\n",
        "      <th rowspan=\"2\" valign=\"top\">(40, 50]</th>\n",
        "      <th>First</th>\n",
        "      <td>  67.770435</td>\n",
        "      <td> 31</td>\n",
        "    </tr>\n",
        "    <tr>\n",
        "      <th>Third</th>\n",
        "      <td>   7.650000</td>\n",
        "      <td>  1</td>\n",
        "    </tr>\n",
        "    <tr>\n",
        "      <th rowspan=\"2\" valign=\"top\">(50, 60]</th>\n",
        "      <th>First</th>\n",
        "      <td>  69.006348</td>\n",
        "      <td> 21</td>\n",
        "    </tr>\n",
        "    <tr>\n",
        "      <th>Second</th>\n",
        "      <td>  10.500000</td>\n",
        "      <td>  1</td>\n",
        "    </tr>\n",
        "  </tbody>\n",
        "</table>\n",
        "</div>"
       ],
       "metadata": {},
       "output_type": "pyout",
       "prompt_number": 41,
       "text": [
        "                       mean  count\n",
        "age      class                    \n",
        "(0, 10]  First   128.319433      3\n",
        "         Second   32.500000      4\n",
        "         Third    13.212500      3\n",
        "(10, 20] First   114.106250     18\n",
        "         Third     7.650000      1\n",
        "(20, 30] First    99.793881     32\n",
        "         Second   11.947925      4\n",
        "         Third    11.821875      4\n",
        "(30, 40] First    98.491567     42\n",
        "         Second   14.729167      6\n",
        "         Third     8.050000      1\n",
        "(40, 50] First    67.770435     31\n",
        "         Third     7.650000      1\n",
        "(50, 60] First    69.006348     21\n",
        "         Second   10.500000      1"
       ]
      }
     ],
     "prompt_number": 41
    },
    {
     "cell_type": "markdown",
     "metadata": {},
     "source": [
      "What other variables might affect the price someone paid? Use `groupby` to study the affect of two other variables on the `fare`."
     ]
    },
    {
     "cell_type": "code",
     "collapsed": true,
     "input": [],
     "language": "python",
     "metadata": {},
     "outputs": []
    }
   ],
   "metadata": {}
  }
 ]
}