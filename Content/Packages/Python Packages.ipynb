{
 "metadata": {
  "kernelspec": {
   "codemirror_mode": {
    "name": "ipython",
    "version": 2
   },
   "display_name": "IPython (Python 2)",
   "language": "python",
   "name": "python2"
  },
  "name": "",
  "signature": "sha256:49ef4bf94c184489e5f76b5b87143e793eee910c6d71f5c1bf40a534784f9430"
 },
 "nbformat": 3,
 "nbformat_minor": 0,
 "worksheets": [
  {
   "cells": [
    {
     "cell_type": "markdown",
     "metadata": {},
     "source": [
      "# Python Packages"
     ]
    },
    {
     "cell_type": "markdown",
     "metadata": {},
     "source": [
      "**Learning Objective:** Learn what a Python package is and how to manage and import them on your system using pip and conda.\n",
      "\n",
      "This notebook assumes that you are using the [Anaconda Python Distribution](http://continuum.io/downloads). To verify that this is the case, run the following code:"
     ]
    },
    {
     "cell_type": "code",
     "collapsed": false,
     "input": [
      "import math\n",
      "if 'naconda' in math.__file__:\n",
      "    print(\"You are using Anaconda\")\n",
      "else:\n",
      "    print(\"You are not using Anaconda\")"
     ],
     "language": "python",
     "metadata": {},
     "outputs": [
      {
       "output_type": "stream",
       "stream": "stdout",
       "text": [
        "You are using Anaconda\n"
       ]
      }
     ],
     "prompt_number": 1
    },
    {
     "cell_type": "markdown",
     "metadata": {},
     "source": [
      "## Built-ins"
     ]
    },
    {
     "cell_type": "markdown",
     "metadata": {},
     "source": [
      "The Python programming language offers a very minimal set of objects and functions. These are called **built-ins**"
     ]
    },
    {
     "cell_type": "code",
     "collapsed": false,
     "input": [
      "dir(__builtins__)"
     ],
     "language": "python",
     "metadata": {},
     "outputs": [
      {
       "metadata": {},
       "output_type": "pyout",
       "prompt_number": 2,
       "text": [
        "['ArithmeticError',\n",
        " 'AssertionError',\n",
        " 'AttributeError',\n",
        " 'BaseException',\n",
        " 'BufferError',\n",
        " 'BytesWarning',\n",
        " 'DeprecationWarning',\n",
        " 'EOFError',\n",
        " 'Ellipsis',\n",
        " 'EnvironmentError',\n",
        " 'Exception',\n",
        " 'False',\n",
        " 'FloatingPointError',\n",
        " 'FutureWarning',\n",
        " 'GeneratorExit',\n",
        " 'IOError',\n",
        " 'ImportError',\n",
        " 'ImportWarning',\n",
        " 'IndentationError',\n",
        " 'IndexError',\n",
        " 'KeyError',\n",
        " 'KeyboardInterrupt',\n",
        " 'LookupError',\n",
        " 'MemoryError',\n",
        " 'NameError',\n",
        " 'None',\n",
        " 'NotImplemented',\n",
        " 'NotImplementedError',\n",
        " 'OSError',\n",
        " 'OverflowError',\n",
        " 'PendingDeprecationWarning',\n",
        " 'ReferenceError',\n",
        " 'RuntimeError',\n",
        " 'RuntimeWarning',\n",
        " 'StandardError',\n",
        " 'StopIteration',\n",
        " 'SyntaxError',\n",
        " 'SyntaxWarning',\n",
        " 'SystemError',\n",
        " 'SystemExit',\n",
        " 'TabError',\n",
        " 'True',\n",
        " 'TypeError',\n",
        " 'UnboundLocalError',\n",
        " 'UnicodeDecodeError',\n",
        " 'UnicodeEncodeError',\n",
        " 'UnicodeError',\n",
        " 'UnicodeTranslateError',\n",
        " 'UnicodeWarning',\n",
        " 'UserWarning',\n",
        " 'ValueError',\n",
        " 'Warning',\n",
        " 'ZeroDivisionError',\n",
        " '__IPYTHON__',\n",
        " '__IPYTHON__active',\n",
        " '__debug__',\n",
        " '__doc__',\n",
        " '__import__',\n",
        " '__name__',\n",
        " '__package__',\n",
        " 'abs',\n",
        " 'all',\n",
        " 'any',\n",
        " 'apply',\n",
        " 'basestring',\n",
        " 'bin',\n",
        " 'bool',\n",
        " 'buffer',\n",
        " 'bytearray',\n",
        " 'bytes',\n",
        " 'callable',\n",
        " 'chr',\n",
        " 'classmethod',\n",
        " 'cmp',\n",
        " 'coerce',\n",
        " 'compile',\n",
        " 'complex',\n",
        " 'copyright',\n",
        " 'credits',\n",
        " 'delattr',\n",
        " 'dict',\n",
        " 'dir',\n",
        " 'divmod',\n",
        " 'dreload',\n",
        " 'enumerate',\n",
        " 'eval',\n",
        " 'execfile',\n",
        " 'file',\n",
        " 'filter',\n",
        " 'float',\n",
        " 'format',\n",
        " 'frozenset',\n",
        " 'get_ipython',\n",
        " 'getattr',\n",
        " 'globals',\n",
        " 'hasattr',\n",
        " 'hash',\n",
        " 'help',\n",
        " 'hex',\n",
        " 'id',\n",
        " 'input',\n",
        " 'int',\n",
        " 'intern',\n",
        " 'isinstance',\n",
        " 'issubclass',\n",
        " 'iter',\n",
        " 'len',\n",
        " 'license',\n",
        " 'list',\n",
        " 'locals',\n",
        " 'long',\n",
        " 'map',\n",
        " 'max',\n",
        " 'memoryview',\n",
        " 'min',\n",
        " 'next',\n",
        " 'object',\n",
        " 'oct',\n",
        " 'open',\n",
        " 'ord',\n",
        " 'pow',\n",
        " 'print',\n",
        " 'property',\n",
        " 'range',\n",
        " 'raw_input',\n",
        " 'reduce',\n",
        " 'reload',\n",
        " 'repr',\n",
        " 'reversed',\n",
        " 'round',\n",
        " 'set',\n",
        " 'setattr',\n",
        " 'slice',\n",
        " 'sorted',\n",
        " 'staticmethod',\n",
        " 'str',\n",
        " 'sum',\n",
        " 'super',\n",
        " 'tuple',\n",
        " 'type',\n",
        " 'unichr',\n",
        " 'unicode',\n",
        " 'vars',\n",
        " 'xrange',\n",
        " 'zip']"
       ]
      }
     ],
     "prompt_number": 2
    },
    {
     "cell_type": "markdown",
     "metadata": {},
     "source": [
      "All other capabilities are shipped as **packages** that have to be **imported** before you can use them."
     ]
    },
    {
     "cell_type": "markdown",
     "metadata": {},
     "source": [
      "## Packages"
     ]
    },
    {
     "cell_type": "markdown",
     "metadata": {},
     "source": [
      "* A Python **package** is one of two things:\n",
      "  - A single file with a `.py` (pure Python) extension or `.so` extension (compiled).\n",
      "  - A directory of files with `.py`/`.so` extensions and `__init__.py` files.\n",
      "* To use a package you must first **import** it.\n",
      "* The files within packages are called **modules**.\n",
      "* Once you import a package, you can see what files it comes from using the `__file__` attribute.\n",
      "\n",
      "Let's import the `math` package and see what file it is coming from:"
     ]
    },
    {
     "cell_type": "code",
     "collapsed": false,
     "input": [
      "import math"
     ],
     "language": "python",
     "metadata": {},
     "outputs": [],
     "prompt_number": 3
    },
    {
     "cell_type": "code",
     "collapsed": false,
     "input": [
      "math.cos(1.0)"
     ],
     "language": "python",
     "metadata": {},
     "outputs": [
      {
       "metadata": {},
       "output_type": "pyout",
       "prompt_number": 4,
       "text": [
        "0.5403023058681398"
       ]
      }
     ],
     "prompt_number": 4
    },
    {
     "cell_type": "code",
     "collapsed": false,
     "input": [
      "math.__file__"
     ],
     "language": "python",
     "metadata": {},
     "outputs": [
      {
       "metadata": {},
       "output_type": "pyout",
       "prompt_number": 5,
       "text": [
        "'/Users/bgranger/anaconda/lib/python2.7/lib-dynload/math.so'"
       ]
      }
     ],
     "prompt_number": 5
    },
    {
     "cell_type": "markdown",
     "metadata": {},
     "source": [
      "You can see that the `math` package is a compiled package because of the `.so` extension.\n",
      "\n",
      "You can also use `from` to import specific names from a package:"
     ]
    },
    {
     "cell_type": "code",
     "collapsed": false,
     "input": [
      "from math import cos"
     ],
     "language": "python",
     "metadata": {},
     "outputs": [],
     "prompt_number": 6
    },
    {
     "cell_type": "code",
     "collapsed": false,
     "input": [
      "cos(1.0)"
     ],
     "language": "python",
     "metadata": {},
     "outputs": [
      {
       "metadata": {},
       "output_type": "pyout",
       "prompt_number": 7,
       "text": [
        "0.5403023058681398"
       ]
      }
     ],
     "prompt_number": 7
    },
    {
     "cell_type": "markdown",
     "metadata": {},
     "source": [
      "Packages and import statements can also be nested:"
     ]
    },
    {
     "cell_type": "code",
     "collapsed": false,
     "input": [
      "from numpy.random import rand"
     ],
     "language": "python",
     "metadata": {},
     "outputs": []
    },
    {
     "cell_type": "markdown",
     "metadata": {},
     "source": [
      "You can also use tab completion in import statements!"
     ]
    },
    {
     "cell_type": "markdown",
     "metadata": {},
     "source": [
      "Python ships with a large set of packages, which together are often called the **standard library**. Any Python distribution has all of these packages, but you still have to import them before you can use them. A full list, along with documentation of the standard library can be found in the [Python Library Documentation](https://docs.python.org/2/library/index.html). All packages that are not in the standard library are called **external packages**. Examples of external packages that we will use in this course are NumPy, SciPy, Matplotlib and Pandas."
     ]
    },
    {
     "cell_type": "markdown",
     "metadata": {},
     "source": [
      "## conda"
     ]
    },
    {
     "cell_type": "markdown",
     "metadata": {},
     "source": [
      "* `conda` is an open-source, cross-platform package manager for externnal Python packages.\n",
      "* It is the preferred way of managing packages with the Anaconda Python Distribution.\n",
      "\n",
      "List the packages that are installed with `conda`:"
     ]
    },
    {
     "cell_type": "code",
     "collapsed": false,
     "input": [
      "!conda list"
     ],
     "language": "python",
     "metadata": {},
     "outputs": [
      {
       "output_type": "stream",
       "stream": "stdout",
       "text": [
        "# packages in environment at /Users/bgranger/anaconda:\n",
        "#\n",
        "_license                  1.1                      py27_0  \n",
        "anaconda                  2.0.1                np18py27_0  \n",
        "ansible                   1.5.3                     <pip>\n",
        "apptools                  4.2.1                    py27_0  \n",
        "argcomplete               0.6.7                    py27_0  \n",
        "astropy                   0.3.2                np18py27_0  \n",
        "atom                      0.3.7                    py27_0  \n",
        "backports.ssl-match-hostname 3.4.0.2                   <pip>\n",
        "beautiful-soup            4.3.1                    py27_0  \n",
        "beautifulsoup4            4.3.1                     <pip>\n",
        "binstar                   0.5.3                    py27_0  \n",
        "biopython                 1.63                 np18py27_0  \n",
        "bitarray                  0.8.1                    py27_0  \n",
        "blaze                     0.6.3                np19py27_0  \n",
        "blz                       0.6.2                np18py27_0  \n",
        "bokeh                     0.4.4                np18py27_1  \n",
        "boto                      2.28.0                   py27_0  \n",
        "brewer2mpl                1.4                       <pip>\n",
        "casuarius                 1.1                      py27_0  \n",
        "cdecimal                  2.3                      py27_0  \n",
        "chaco                     4.4.1                np18py27_0  \n",
        "colorama                  0.2.7                    py27_0  \n",
        "conda                     3.7.0                    py27_0  \n",
        "conda-build               1.8.2                    py27_0  \n",
        "configobj                 5.0.5                    py27_0  \n",
        "cssselect                 0.9.1                     <pip>\n",
        "cubes                     0.10.2                   py27_4  \n",
        "curl                      7.30.0                        2  \n",
        "cython                    0.20.1                   py27_0  \n",
        "cytoolz (/Users/bgranger/github/ellisonbg/cytoolz) 0.6.2dev                  <pip>\n",
        "cytoolz                   0.7.0                    py27_0  \n",
        "datashape                 0.3.0                np19py27_1  \n",
        "dateutil                  2.1                      py27_2  \n",
        "distribute                0.6.45                   py27_0  \n",
        "docutils                  0.11                     py27_0  \n",
        "dynd-python               0.6.5                np19py27_0  \n",
        "ecdsa                     0.10                      <pip>\n",
        "enable                    4.3.0                np18py27_2  \n",
        "enaml                     0.9.1                    py27_1  \n",
        "envisage                  4.4.0                    py27_1  \n",
        "fabric                    1.8.2                     <pip>\n",
        "flask                     0.10.1                   py27_1  \n",
        "folium (/Users/bgranger/github/ellisonbg/folium) 0.1.2                     <pip>\n",
        "freetype                  2.4.10                        1  \n",
        "future                    0.12.1                   py27_0  \n",
        "futures                   2.1.6                     <pip>\n",
        "gevent                    1.0.1                    py27_0  \n",
        "gevent-websocket          0.9.3                    py27_0  \n",
        "gevent-zeromq             0.2.2                     <pip>\n",
        "gevent_zeromq             0.2.5                    py27_3  \n",
        "ggplot (/Users/bgranger/github/ellisonbg/ggplot) 0.5.9                     <pip>\n",
        "gnureadline               6.2.5                     <pip>\n",
        "greenlet                  0.4.2                    py27_0  \n",
        "grin                      1.2.1                    py27_1  \n",
        "h5py                      2.3.1                np19py27_0  \n",
        "hdf5                      1.8.13                        0  \n",
        "husl                      2.1.0                     <pip>\n",
        "imaging                   1.1.7                    py27_2  \n",
        "invoke                    0.9.0                     <pip>\n",
        "ipython (/Users/bgranger/github/ipython/ipython) 3.0.0 dev                 <pip>\n",
        "ipythonblocks             1.6.1                     <pip>\n",
        "itsdangerous              0.24                     py27_0  \n",
        "jdcal                     1.0                      py27_0  \n",
        "jinja2                    2.7.3                    py27_1  \n",
        "jpeg                      8d                            1  \n",
        "jsonpointer               1.3                       <pip>\n",
        "jsonschema                2.3.0                     <pip>\n",
        "jupyterhub (/Users/bgranger/github/jupyter/jupyterhub) 0.0.1 dev                 <pip>\n",
        "keyring                   3.3                      py27_0  \n",
        "kiwisolver                0.1.2                    py27_0  \n",
        "launcher                  0.1.5                    py27_0  \n",
        "lcms                      1.19                          0  \n",
        "leafletwidget (/Users/bgranger/github/ellisonbg/leaftletwidget) 0.1                       <pip>\n",
        "libdynd                   0.6.5                         0  \n",
        "libevent                  2.0.20                        1  \n",
        "libnetcdf                 4.2.1.1                       2  \n",
        "libpng                    1.5.13                        1  \n",
        "libsodium                 0.4.5                         0  \n",
        "libtiff                   4.0.2                         0  \n",
        "libxml2                   2.9.0                         1  \n",
        "libxslt                   1.1.28                        2  \n",
        "llvm                      3.3                           0  \n",
        "llvmmath                  0.1.1                np17py27_2  \n",
        "llvmpy                    0.12.6                   py27_0  \n",
        "lxml                      3.3.5                    py27_0  \n",
        "markdown                  2.4                       <pip>\n",
        "markupsafe                0.23                     py27_0  \n",
        "matplotlib                1.4.0                np19py27_0  \n",
        "mayavi                    4.3.1                np18py27_0  \n",
        "mdp                       3.3                  np18py27_0  \n",
        "meta                      0.4.2.dev                py27_0  \n",
        "mistune                   0.3.1                     <pip>\n",
        "mock                      1.0.1                    py27_0  \n",
        "moss                      0.2.0                     <pip>\n",
        "mpld3 (/Users/bgranger/github/ellisonbg/mpld3) 0.3git                    <pip>\n",
        "multipledispatch (/Users/bgranger/github/ellisonbg/multipledispatch) 0.4.0                     <pip>\n",
        "multipledispatch          0.4.7                    py27_0  \n",
        "music21                   1.7.1                     <pip>\n",
        "nbgrader (/Users/bgranger/github/jupyter/nbgrader) 0.1                       <pip>\n",
        "nbviewer (/Users/bgranger/github/ipython/nbviewer) 0.2.0                     <pip>\n",
        "netcdf4                   1.0.7                np18py27_0  \n",
        "networkx                  1.8.1                    py27_0  \n",
        "newrelic                  2.18.1.15                 <pip>\n",
        "nltk                      2.0.4                np18py27_0  \n",
        "nose                      1.3.3                    py27_0  \n",
        "numba                     0.13.2               np18py27_0  \n",
        "numexpr                   2.3.1                np19py27_0  \n",
        "numpy                     1.9.0                    py27_0  \n",
        "numpydoc                  0.5                       <pip>\n",
        "openpyxl                  1.8.5                    py27_0  \n",
        "openssl                   1.0.1h                        1  \n",
        "pandas                    0.14.1               np19py27_0  \n",
        "paramiko                  1.12.2                    <pip>\n",
        "patsy                     0.2.1                np18py27_0  \n",
        "pep8                      1.5.6                    py27_0  \n",
        "pexpect                   3.3                       <pip>\n",
        "pil                       1.1.7                    py27_1  \n",
        "pip                       1.5.6                    py27_0  \n",
        "plotly (/Users/bgranger/github/ellisonbg/python-api) 0.5.7                     <pip>\n",
        "ply                       3.4                      py27_0  \n",
        "psutil                    2.1.1                    py27_0  \n",
        "py                        1.4.20                   py27_0  \n",
        "pyaudio                   0.2.7                    py27_0  \n",
        "pycosat                   0.6.1                    py27_0  \n",
        "pycparser                 2.10                     py27_0  \n",
        "pycrypto                  2.6.1                    py27_0  \n",
        "pycurl                    7.19.3.1                 py27_2  \n",
        "pyface                    4.4.0                    py27_0  \n",
        "pyflakes                  0.8.1                    py27_0  \n",
        "pygments                  1.6                      py27_0  \n",
        "pykit                     0.1.0                np18py27_2  \n",
        "pyparsing                 2.0.1                    py27_0  \n",
        "pyqt                      4.10.4                   py27_0  \n",
        "pyquery                   1.2.9                     <pip>\n",
        "pysal                     1.6.0                np18py27_1  \n",
        "pysam                     0.6                      py27_0  \n",
        "pyside                    1.1.2                    py27_1  \n",
        "pystache                  0.5.4                     <pip>\n",
        "pytables                  3.1.1                np19py27_0  \n",
        "pytest                    2.5.2                    py27_0  \n",
        "python                    2.7.8                         1  \n",
        "python-dateutil           2.2                       <pip>\n",
        "python.app                1.2                      py27_2  \n",
        "pytz                      2014.7                   py27_0  \n",
        "pyyaml                    3.11                     py27_0  \n",
        "pyzmq                     14.3.0                   py27_0  \n",
        "qt                        4.8.5                         3  \n",
        "readline                  6.2                           2  \n",
        "redis                     2.6.9                         0  \n",
        "redis-py                  2.9.1                    py27_0  \n",
        "requests                  2.4.1                    py27_0  \n",
        "rope                      0.9.4                    py27_1  \n",
        "rpy2                      2.3.9                     <pip>\n",
        "runipy                    0.1.0                    py27_0  \n",
        "scikit-image              0.10.0               np18py27_0  \n",
        "scikit-learn              0.14.1               np18py27_1  \n",
        "scipy                     0.14.0               np19py27_0  \n",
        "seaborn (/Users/bgranger/github/ellisonbg/seaborn) 0.4.dev                   <pip>\n",
        "setuptools                5.8                      py27_0  \n",
        "shiboken                  1.1.2                    py27_0  \n",
        "simplepam                 0.1.5                     <pip>\n",
        "sip                       4.15.5                   py27_0  \n",
        "six                       1.8.0                    py27_0  \n",
        "sphinx                    1.2.2                    py27_0  \n",
        "spyder                    2.3.0rc1                 py27_0  \n",
        "spyder-app                2.3.0rc1                 py27_0  \n",
        "sqlalchemy                0.9.7                    py27_0  \n",
        "sqlite                    3.8.4.1                       0  \n",
        "ssl_match_hostname        3.4.0.2                  py27_0  \n",
        "statsmodels               0.5.0                np18py27_0  \n",
        "sympy (/Users/bgranger/github/sympy/sympy) 0.7.5 git                 <pip>\n",
        "sympy                     0.7.5                    py27_0  \n",
        "tables                    3.1.1                     <pip>\n",
        "tk                        8.5.15                        0  \n",
        "toolz (/Users/bgranger/github/ellisonbg/toolz) 0.6.0                     <pip>\n",
        "toolz                     0.7.0                    py27_0  \n",
        "tornado                   3.2.1                    py27_0  \n",
        "traits                    4.4.0                    py27_0  \n",
        "traitsui                  4.4.0                    py27_0  \n",
        "ujson                     1.33                     py27_0  \n",
        "unicodecsv                0.9.4                    py27_0  \n",
        "vincent (/Users/bgranger/github/ellisonbg/vincent) 0.4.3                     <pip>\n",
        "vtk                       5.10.1                   py27_0  \n",
        "websocket                 0.2.1                     <pip>\n",
        "werkzeug                  0.9.6                    py27_1  \n",
        "wsgiref                   0.1.2                     <pip>\n",
        "xlrd                      0.9.3                    py27_0  \n",
        "xlsxwriter                0.5.5                    py27_0  \n",
        "xlwt                      0.7.5                    py27_0  \n",
        "yaml                      0.1.4                         1  \n",
        "zeromq                    4.0.4                         0  \n",
        "zlib                      1.2.7                         1  \n",
        "zpyrpc (/Users/bgranger/github/ellisonbg/zpyrpc) 0.1                       <pip>\n"
       ]
      }
     ],
     "prompt_number": 17
    },
    {
     "cell_type": "markdown",
     "metadata": {},
     "source": [
      "Show information about a package:"
     ]
    },
    {
     "cell_type": "code",
     "collapsed": false,
     "input": [
      "!conda info numpy"
     ],
     "language": "python",
     "metadata": {},
     "outputs": [
      {
       "output_type": "stream",
       "stream": "stdout",
       "text": [
        "Fetching package metadata: ..\n",
        "numpy\n",
        "    1.5.1                    py27_0  \n",
        "    1.5.1                    py26_0  \n",
        "    1.5.1                   py27_p4  [mkl]\n",
        "    1.5.1                    py27_4  \n",
        "    1.5.1                   py26_p4  [mkl]\n",
        "    1.5.1                    py26_4  \n",
        "    1.6.2                    py27_0  \n",
        "    1.6.2                    py26_0  \n",
        "    1.6.2                   py27_p4  [mkl]\n",
        "    1.6.2                    py27_4  \n",
        "    1.6.2                   py26_p4  [mkl]\n",
        "    1.6.2                    py26_4  \n",
        "    1.6.2                   py27_p5  [mkl]\n",
        "    1.6.2                   py26_p5  [mkl]\n",
        "    1.7.0b2                  py27_0  \n",
        "    1.7.0b2                  py26_0  \n",
        "    1.7.0rc1                 py33_0  \n",
        "    1.7.0rc1                 py27_0  \n",
        "    1.7.0rc1                 py26_0  \n",
        "    1.7.0                    py33_0  \n",
        "    1.7.0                    py27_0  \n",
        "    1.7.0                    py26_0  \n",
        "    1.7.1                    py33_0  \n",
        "    1.7.1                   py27_p0  [mkl]\n",
        "    1.7.1                    py27_0  \n",
        "    1.7.1                   py26_p0  [mkl]\n",
        "    1.7.1                    py26_0  \n",
        "    1.7.1                    py33_2  \n",
        "    1.7.1                   py27_p2  [mkl]\n",
        "    1.7.1                    py27_2  \n",
        "    1.7.1                   py26_p2  [mkl]\n",
        "    1.7.1                    py26_2  \n",
        "    1.8.0                    py33_0  \n",
        "    1.8.0                   py27_p0  [mkl]\n",
        "    1.8.0                    py27_0  \n",
        "    1.8.0                   py26_p0  [mkl]\n",
        "    1.8.0                    py26_0  \n",
        "    1.8.1                   py34_p0  [mkl]\n",
        "    1.8.1                    py34_0  \n",
        "    1.8.1                   py33_p0  [mkl]\n",
        "    1.8.1                    py33_0  \n",
        "    1.8.1                   py27_p0  [mkl]\n",
        "    1.8.1                    py27_0  \n",
        "    1.8.1                   py26_p0  [mkl]\n",
        "    1.8.1                    py26_0  \n",
        "    1.8.2                   py34_p0  [mkl]\n",
        "    1.8.2                    py34_0  \n",
        "    1.8.2                   py33_p0  [mkl]\n",
        "    1.8.2                    py33_0  \n",
        "    1.8.2                   py27_p0  [mkl]\n",
        "    1.8.2                    py27_0  \n",
        "    1.8.2                   py26_p0  [mkl]\n",
        "    1.8.2                    py26_0  \n",
        "    1.9.0                   py34_p0  [mkl]\n",
        "    1.9.0                    py34_0  \n",
        "    1.9.0                   py33_p0  [mkl]\n",
        "    1.9.0                    py33_0  \n",
        "    1.9.0                   py27_p0  [mkl]\n",
        "    1.9.0                    py27_0  \n",
        "    1.9.0                   py26_p0  [mkl]\n",
        "    1.9.0                    py26_0  \n"
       ]
      }
     ],
     "prompt_number": 11
    },
    {
     "cell_type": "markdown",
     "metadata": {},
     "source": [
      "Here is a package that is not available through `conda`:"
     ]
    },
    {
     "cell_type": "code",
     "collapsed": false,
     "input": [
      "!conda info ipythonblocks"
     ],
     "language": "python",
     "metadata": {},
     "outputs": [
      {
       "output_type": "stream",
       "stream": "stdout",
       "text": [
        "Fetching package metadata: ..\n",
        "ipythonblocks\n",
        "    not available\n"
       ]
      }
     ],
     "prompt_number": 12
    },
    {
     "cell_type": "markdown",
     "metadata": {},
     "source": [
      "Let's remove the `blaze` package so we can show how to install a package:"
     ]
    },
    {
     "cell_type": "code",
     "collapsed": false,
     "input": [
      "!conda remove --yes blaze"
     ],
     "language": "python",
     "metadata": {},
     "outputs": [
      {
       "output_type": "stream",
       "stream": "stdout",
       "text": [
        "Fetching package metadata: ..\n",
        "\n",
        "Package plan for package removal in environment /Users/bgranger/anaconda:\n",
        "\n",
        "The following packages will be REMOVED:\n",
        "\n",
        "    blaze: 0.6.3-np19py27_0\n",
        "\n",
        "Unlinking packages ...\n",
        "[      COMPLETE      ] |##################################################| 100%\n"
       ]
      }
     ],
     "prompt_number": 13
    },
    {
     "cell_type": "markdown",
     "metadata": {},
     "source": [
      "Now, install `blaze`. In the notebook, you must pass the `--yes` option:"
     ]
    },
    {
     "cell_type": "code",
     "collapsed": false,
     "input": [
      "!conda install --yes blaze"
     ],
     "language": "python",
     "metadata": {},
     "outputs": [
      {
       "output_type": "stream",
       "stream": "stdout",
       "text": [
        "Fetching package metadata: ..\n",
        "Solving package specifications: .\n",
        "Package plan for installation in environment /Users/bgranger/anaconda:\n",
        "\n",
        "The following NEW packages will be INSTALLED:\n",
        "\n",
        "    blaze: 0.6.3-np19py27_0\n",
        "\n",
        "Linking packages ...\n",
        "[      COMPLETE      ] |##################################################| 100%\n"
       ]
      }
     ],
     "prompt_number": 14
    },
    {
     "cell_type": "markdown",
     "metadata": {},
     "source": [
      "To update an already installed package, use the `update` subcommand:"
     ]
    },
    {
     "cell_type": "code",
     "collapsed": false,
     "input": [
      "!conda update --yes blaze"
     ],
     "language": "python",
     "metadata": {},
     "outputs": [
      {
       "output_type": "stream",
       "stream": "stdout",
       "text": [
        "Fetching package metadata: ..\n",
        "# All requested packages already installed.\n",
        "# packages in environment at /Users/bgranger/anaconda:\n",
        "#\n",
        "blaze                     0.6.3                np19py27_0  \n"
       ]
      }
     ],
     "prompt_number": 15
    },
    {
     "cell_type": "markdown",
     "metadata": {},
     "source": [
      "To update all packages in your Anaconda distribution do the following:"
     ]
    },
    {
     "cell_type": "code",
     "collapsed": false,
     "input": [
      "!conda update --yes conda\n",
      "!conda update --yes anaconda"
     ],
     "language": "python",
     "metadata": {},
     "outputs": []
    },
    {
     "cell_type": "markdown",
     "metadata": {},
     "source": [
      "## pip"
     ]
    },
    {
     "cell_type": "markdown",
     "metadata": {},
     "source": [
      "* `pip` is a command line program for managing external Python packages.\n",
      "* `pip` has limitations compared to `conda`, but works in all Python distributions (outside of Anaconda).\n",
      "* You should only use `pip` if:\n",
      "  - `conda` doesn't have the package you want.\n",
      "  - You are using a Python distribution other than Anaconda.\n",
      "* You can run `pip` in a couple of ways:\n",
      "  - On Mac OS X or Linux, from the Terminal application.\n",
      "  - On Windows, from the `Cmd.exe` application.\n",
      "  - Within the IPython Notebook using the `!` prefix.\n",
      "\n",
      "List the packages that are installed with `pip`:"
     ]
    },
    {
     "cell_type": "code",
     "collapsed": false,
     "input": [
      "!pip list"
     ],
     "language": "python",
     "metadata": {},
     "outputs": [
      {
       "output_type": "stream",
       "stream": "stdout",
       "text": [
        "ansible (1.5.3)\n",
        "apptools (4.2.1)\n",
        "argcomplete (0.6.7)\n",
        "astropy (0.3.2)\n",
        "atom (0.3.7)\n",
        "backports.ssl-match-hostname (3.4.0.2)\n",
        "beautifulsoup4 (4.3.1)\n",
        "binstar (0.5.3)\n",
        "biopython (1.63)\n",
        "bitarray (0.8.1)\n",
        "blaze (0.6.3)\n",
        "blz (0.6.2)\n",
        "bokeh (0.4.4)\n",
        "boto (2.28.0)\n",
        "brewer2mpl (1.4)\n",
        "casuarius (1.1)\n",
        "cdecimal (2.3)\n",
        "chaco (4.4.1)\n",
        "colorama (0.2.7)\n",
        "conda (3.7.0)\n",
        "conda-build (1.8.2)\n",
        "configobj (5.0.5)\n",
        "cssselect (0.9.1)\n",
        "cubes (0.10.2)\n",
        "Cython (0.20.1)\n",
        "cytoolz (0.6.2dev, /Users/bgranger/github/ellisonbg/cytoolz)\n",
        "DataShape (0.3.0)\n",
        "distribute (0.6.45)\n",
        "docutils (0.11)\n",
        "ecdsa (0.10)\n",
        "enable (4.3.0)\n",
        "enaml (0.9.1)\n",
        "envisage (4.4.0)\n",
        "Fabric (1.8.2)\n",
        "Flask (0.10.1)\n",
        "folium (0.1.2, /Users/bgranger/github/ellisonbg/folium)\n",
        "future (0.12.1)\n",
        "futures (2.1.6)\n",
        "gevent (1.0.1)\n",
        "gevent-websocket (0.9.3)\n",
        "gevent-zeromq (0.2.2)\n",
        "ggplot (0.5.9, /Users/bgranger/github/ellisonbg/ggplot)\n",
        "gnureadline (6.2.5)\n",
        "greenlet (0.4.2)\n",
        "grin (1.2.1)\n",
        "h5py (2.3.1)\n",
        "husl (2.1.0)\n",
        "invoke (0.9.0)\n",
        "ipython (3.0.0-dev, /Users/bgranger/github/ipython/ipython)\n",
        "ipythonblocks (1.6.1)\n",
        "itsdangerous (0.24)\n",
        "jdcal (1.0)\n",
        "Jinja2 (2.7.3)\n",
        "jsonpointer (1.3)\n",
        "jsonschema (2.3.0)\n",
        "jupyterhub (0.0.1-dev, /Users/bgranger/github/jupyter/jupyterhub)\n",
        "keyring (3.3)\n",
        "kiwisolver (0.1.2)\n",
        "leafletwidget (0.1, /Users/bgranger/github/ellisonbg/leaftletwidget)\n",
        "llvmmath (0.1)\n",
        "llvmpy (0.12.6)\n",
        "lxml (3.3.5)\n",
        "Markdown (2.4)\n",
        "MarkupSafe (0.23)\n",
        "matplotlib (1.4.0)\n",
        "mayavi (4.3.1)\n",
        "MDP (3.3)\n",
        "meta (development)\n",
        "mistune (0.3.1)\n",
        "mock (1.0.1)\n",
        "moss (0.2.0)\n",
        "mpld3 (0.3git, /Users/bgranger/github/ellisonbg/mpld3)\n",
        "multipledispatch (0.4.0, /Users/bgranger/github/ellisonbg/multipledispatch)\n",
        "music21 (1.7.1)\n",
        "nbgrader (0.1, /Users/bgranger/github/jupyter/nbgrader)\n",
        "nbviewer (0.2.0, /Users/bgranger/github/ipython/nbviewer)\n",
        "netCDF4 (1.0.7)\n",
        "networkx (1.8.1)\n",
        "newrelic (2.18.1.15)\n",
        "nltk (2.0.4)\n",
        "nose (1.3.3)\n",
        "numba (0.13.2)\n",
        "numexpr (2.3.1)\n",
        "numpy (1.9.0)\n",
        "numpydoc (0.5)\n",
        "openpyxl (1.8.5)\n",
        "pandas (0.14.1)\n",
        "paramiko (1.12.2)\n",
        "patsy (0.2.1)\n",
        "pep8 (1.5.6)\n",
        "pexpect (3.3)\n",
        "PIL (1.1.7)\n",
        "pip (1.5.6)\n",
        "plotly (0.5.7, /Users/bgranger/github/ellisonbg/python-api)\n",
        "ply (3.4)\n",
        "psutil (2.1.1)\n",
        "py (1.4.20)\n",
        "PyAudio (0.2.7)\n",
        "pycosat (0.6.1)\n",
        "pycparser (2.10)\n",
        "pycrypto (2.6.1)\n",
        "pycurl (7.19.3.1)\n",
        "pyface (4.4.0)\n",
        "pyflakes (0.8.1)\n",
        "Pygments (1.6)\n",
        "pykit (0.1)\n",
        "pyparsing (2.0.1)\n",
        "pyquery (1.2.9)\n",
        "PySAL (1.6.0)\n",
        "pysam (0.6)\n",
        "pystache (0.5.4)\n",
        "pytest (2.5.2)\n",
        "python-dateutil (2.2)\n",
        "pytz (2014.7)\n",
        "PyYAML (3.11)\n",
        "pyzmq (14.3.0)\n",
        "redis (2.9.1)\n",
        "requests (2.4.1)\n",
        "rope (0.9.4)\n",
        "rpy2 (2.3.9)\n",
        "runipy (0.1.0)\n",
        "scikit-image (0.10.0)\n",
        "scikit-learn (0.14.1)\n",
        "scipy (0.14.0)\n",
        "seaborn (0.4.dev, /Users/bgranger/github/ellisonbg/seaborn)\n",
        "setuptools (0.6c11)\n",
        "simplepam (0.1.5)\n",
        "six (1.8.0)\n",
        "Sphinx (1.2.2)\n",
        "spyder (2.3.0rc)\n",
        "SQLAlchemy (0.9.7)\n",
        "statsmodels (0.5.0)\n",
        "sympy (0.7.5-git, /Users/bgranger/github/sympy/sympy)\n",
        "tables (3.1.1)\n",
        "toolz (0.6.0, /Users/bgranger/github/ellisonbg/toolz)\n",
        "tornado (3.2.1)\n",
        "traits (4.4.0)\n",
        "traitsui (4.4.0)\n",
        "ujson (1.33)\n",
        "unicodecsv (0.9.4)\n",
        "vincent (0.4.3, /Users/bgranger/github/ellisonbg/vincent)\n",
        "VTK (5.10.1)\n",
        "websocket (0.2.1)\n",
        "Werkzeug (0.9.6)\n",
        "wsgiref (0.1.2)\n",
        "xlrd (0.9.3)\n",
        "XlsxWriter (0.5.5)\n",
        "xlwt (0.7.5)\n",
        "zpyrpc (0.1, /Users/bgranger/github/ellisonbg/zpyrpc)\n"
       ]
      }
     ],
     "prompt_number": 16
    },
    {
     "cell_type": "markdown",
     "metadata": {},
     "source": [
      "Show information about an installed package:"
     ]
    },
    {
     "cell_type": "code",
     "collapsed": false,
     "input": [
      "!pip show numpy"
     ],
     "language": "python",
     "metadata": {},
     "outputs": [
      {
       "output_type": "stream",
       "stream": "stdout",
       "text": [
        "---\r\n",
        "Name: numpy\r\n",
        "Version: 1.9.0\r\n",
        "Location: /Users/bgranger/anaconda/lib/python2.7/site-packages\r\n",
        "Requires: \r\n"
       ]
      }
     ],
     "prompt_number": 18
    },
    {
     "cell_type": "code",
     "collapsed": false,
     "input": [
      "!pip show ipythonblocks"
     ],
     "language": "python",
     "metadata": {},
     "outputs": [
      {
       "output_type": "stream",
       "stream": "stdout",
       "text": [
        "---\r\n",
        "Name: ipythonblocks\r\n",
        "Version: 1.6.1\r\n",
        "Location: /Users/bgranger/anaconda/lib/python2.7/site-packages\r\n",
        "Requires: requests\r\n"
       ]
      }
     ],
     "prompt_number": 19
    },
    {
     "cell_type": "markdown",
     "metadata": {},
     "source": [
      "Uninstall an installed package. Notice that in IPython we have to give the `--yes` option:"
     ]
    },
    {
     "cell_type": "code",
     "collapsed": false,
     "input": [
      "!pip uninstall --yes ipythonblocks"
     ],
     "language": "python",
     "metadata": {},
     "outputs": [
      {
       "output_type": "stream",
       "stream": "stdout",
       "text": [
        "Uninstalling ipythonblocks:\n",
        "  Successfully uninstalled ipythonblocks\n"
       ]
      }
     ],
     "prompt_number": 20
    },
    {
     "cell_type": "markdown",
     "metadata": {},
     "source": [
      "Install a package. The `--upgrade` option will update it if it is already installed. In the notebook, this option is required so it doesn't prompt for confirmation."
     ]
    },
    {
     "cell_type": "code",
     "collapsed": false,
     "input": [
      "!pip install --upgrade ipythonblocks"
     ],
     "language": "python",
     "metadata": {},
     "outputs": [
      {
       "output_type": "stream",
       "stream": "stdout",
       "text": [
        "Downloading/unpacking ipythonblocks\n",
        "  Downloading ipythonblocks-1.6.1.tar.gz\n",
        "  Running setup.py (path:/private/var/folders/qr/pbw2l4q51hgfb4h8m7n8852c0000gn/T/pip_build_bgranger/ipythonblocks/setup.py) egg_info for package ipythonblocks\n",
        "    \n",
        "Requirement already up-to-date: requests>=1.0 in /Users/bgranger/anaconda/lib/python2.7/site-packages (from ipythonblocks)\n",
        "Installing collected packages: ipythonblocks\n",
        "  Running setup.py install for ipythonblocks\n",
        "    \n",
        "Successfully installed ipythonblocks\n",
        "Cleaning up...\n"
       ]
      }
     ],
     "prompt_number": 21
    },
    {
     "cell_type": "markdown",
     "metadata": {},
     "source": [
      "To see the command line help for `pip` use the `--help` option:"
     ]
    },
    {
     "cell_type": "code",
     "collapsed": false,
     "input": [
      "!pip --help"
     ],
     "language": "python",
     "metadata": {},
     "outputs": [
      {
       "output_type": "stream",
       "stream": "stdout",
       "text": [
        "\r\n",
        "Usage:   \r\n",
        "  pip <command> [options]\r\n",
        "\r\n",
        "Commands:\r\n",
        "  install                     Install packages.\r\n",
        "  uninstall                   Uninstall packages.\r\n",
        "  freeze                      Output installed packages in requirements format.\r\n",
        "  list                        List installed packages.\r\n",
        "  show                        Show information about installed packages.\r\n",
        "  search                      Search PyPI for packages.\r\n",
        "  wheel                       Build wheels from your requirements.\r\n",
        "  zip                         DEPRECATED. Zip individual packages.\r\n",
        "  unzip                       DEPRECATED. Unzip individual packages.\r\n",
        "  bundle                      DEPRECATED. Create pybundles.\r\n",
        "  help                        Show help for commands.\r\n",
        "\r\n",
        "General Options:\r\n",
        "  -h, --help                  Show help.\r\n",
        "  -v, --verbose               Give more output. Option is additive, and can be\r\n",
        "                              used up to 3 times.\r\n",
        "  -V, --version               Show version and exit.\r\n",
        "  -q, --quiet                 Give less output.\r\n",
        "  --log-file <path>           Path to a verbose non-appending log, that only\r\n",
        "                              logs failures. This log is active by default at\r\n",
        "                              /Users/bgranger/.pip/pip.log.\r\n",
        "  --log <path>                Path to a verbose appending log. This log is\r\n",
        "                              inactive by default.\r\n",
        "  --proxy <proxy>             Specify a proxy in the form\r\n",
        "                              [user:passwd@]proxy.server:port.\r\n",
        "  --timeout <sec>             Set the socket timeout (default 15 seconds).\r\n",
        "  --exists-action <action>    Default action when a path already exists:\r\n",
        "                              (s)witch, (i)gnore, (w)ipe, (b)ackup.\r\n",
        "  --cert <path>               Path to alternate CA bundle.\r\n"
       ]
      }
     ],
     "prompt_number": 22
    },
    {
     "cell_type": "markdown",
     "metadata": {},
     "source": [
      "## Resources"
     ]
    },
    {
     "cell_type": "markdown",
     "metadata": {},
     "source": [
      "* [Python Library Documentation](https://docs.python.org/2/library/index.html)\n",
      "* [conda Documentation](http://conda.pydata.org/docs/)\n",
      "* [pip Documentation](https://pip.pypa.io/en/latest/index.html)"
     ]
    }
   ],
   "metadata": {}
  }
 ]
}