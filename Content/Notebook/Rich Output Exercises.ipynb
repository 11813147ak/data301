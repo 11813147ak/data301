{
 "metadata": {
  "name": "",
  "signature": "sha256:79ff44a245e9b4faaabb848a660b418a2896780badbf1c0b023649f55ec22aaa"
 },
 "nbformat": 3,
 "nbformat_minor": 0,
 "worksheets": [
  {
   "cells": [
    {
     "cell_type": "heading",
     "level": 2,
     "metadata": {},
     "source": [
      "Basic display objects"
     ]
    },
    {
     "cell_type": "code",
     "collapsed": false,
     "input": [
      "from IPython.display import display, Image, HTML, Javascript"
     ],
     "language": "python",
     "metadata": {},
     "outputs": []
    },
    {
     "cell_type": "markdown",
     "metadata": {},
     "source": [
      "Try using the basic display classes in a notebook:\n",
      "\n",
      "* Find an image on the internet and display it in a notebook using the `Image` class. You can either save the image in the notebook's directory or load it by its URL.\n",
      "* Use the `HTML` class and the `%%html` cell magic to display a snippet of HTML.\n",
      "* Use the `JavaScript` class and the `%%javascript` cell magic to run a snippet of JavaScript.\n",
      "* Try displaying these objects by both returning them from an expression and by passing them to `display`."
     ]
    },
    {
     "cell_type": "code",
     "collapsed": true,
     "input": [],
     "language": "python",
     "metadata": {},
     "outputs": []
    },
    {
     "cell_type": "heading",
     "level": 2,
     "metadata": {},
     "source": [
      "SoundCloud"
     ]
    },
    {
     "cell_type": "markdown",
     "metadata": {},
     "source": [
      "Go to [SoundCloud](http://soundcloud.com) and search for a sound clip you want to embed in your notebook.  To find the HTML code to embed the sound, click on the \"Share\" link and copy the \"Embed\" URL. Paste it into a cell using the `%%html` magic."
     ]
    },
    {
     "cell_type": "code",
     "collapsed": false,
     "input": [],
     "language": "python",
     "metadata": {},
     "outputs": []
    }
   ],
   "metadata": {}
  }
 ]
}