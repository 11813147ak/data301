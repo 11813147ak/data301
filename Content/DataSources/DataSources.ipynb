{
 "metadata": {
  "kernelspec": {
   "display_name": "IPython (Python 2)",
   "name": "python2"
  },
  "language_info": {
   "codemirror_mode": {
    "name": "ipython",
    "version": 2
   },
   "mimetype": "text/x-python",
   "name": "python",
   "pygments_lexer": "ipython2"
  },
  "name": "",
  "signature": "sha256:69a6fe51305c347f921874b3866008f27439d19012ff5a4f8e170b49fe3d7019"
 },
 "nbformat": 3,
 "nbformat_minor": 0,
 "worksheets": [
  {
   "cells": [
    {
     "cell_type": "markdown",
     "metadata": {},
     "source": [
      "# Interesting Datasets"
     ]
    },
    {
     "cell_type": "markdown",
     "metadata": {},
     "source": [
      "### usa.gov bit.ly data\n",
      "\n",
      "* http://www.usa.gov/About/developer-resources/1usagov.shtml\n",
      "* http://1usagov.measuredvoice.com/2013/\n",
      "\n",
      "The U.S government and https://bitly.com/ provide a data set of clicks on the different U.S government web sites."
     ]
    },
    {
     "cell_type": "markdown",
     "metadata": {},
     "source": [
      "### MovieLens\n",
      "\n",
      "http://grouplens.org/datasets/movielens/\n",
      "\n",
      "The MovieLens data set consists of large collections of movie ratings from the MovieLens web site http://movielens.org/."
     ]
    },
    {
     "cell_type": "markdown",
     "metadata": {},
     "source": [
      "### Armchair Analysis\n",
      "\n",
      "http://armchairanalysis.com/\n",
      "\n",
      "Armchair Analysis provides high quality, play-by-play data for all NFL football games."
     ]
    },
    {
     "cell_type": "markdown",
     "metadata": {},
     "source": [
      "### SNAP (Stanford Large Network Dataset Collection)\n",
      "\n",
      "http://snap.stanford.edu/data/\n",
      "\n",
      "SNAP provide a number of large network data sets from social networks, citation networks, collaboration networks, etc."
     ]
    },
    {
     "cell_type": "markdown",
     "metadata": {},
     "source": [
      "### GDELT\n",
      "\n",
      "http://gdeltproject.org/\n",
      "\n",
      "> Supported by Google Ideas, the GDELT Project monitors the world's broadcast, \n",
      "> print, and web news from nearly every corner of every country in over \n",
      "> 100 languages and identifies the people, locations, organizations, counts, \n",
      "> themes, sources, and events driving our global society every second of every day, \n",
      "> creating a free open platform for computing on the entire world."
     ]
    },
    {
     "cell_type": "markdown",
     "metadata": {},
     "source": [
      "### Poplular Baby Names\n",
      "\n",
      "http://www.ssa.gov/oact/babynames/\n",
      "\n",
      "The U.S Social Security Administration maintains a database of the most popular baby names over time."
     ]
    },
    {
     "cell_type": "markdown",
     "metadata": {},
     "source": [
      "### Quandl\n",
      "\n",
      "https://www.quandl.com/\n",
      "\n",
      "Quandl is a (mostly) free and open data aggregator. It offers over 10 million data sets on wide range of topics in a wide range of formats (JSON, CSV, Excel, REST API, Python, R, etc.)."
     ]
    },
    {
     "cell_type": "markdown",
     "metadata": {},
     "source": [
      "### Hilary Mason's Bitly collection\n",
      "\n",
      "https://bitly.com/bundles/hmason/1\n",
      "\n",
      "Hilary Mason offers a curated list of research quality data sets."
     ]
    },
    {
     "cell_type": "markdown",
     "metadata": {},
     "source": [
      "### Home Mortgage Disclosure Act (HMDA)\n",
      "\n",
      "http://www.ffiec.gov/hmda/hmdaproducts.htm\n",
      "\n",
      "This HMDA provides extensive data related to home mortgages in the U.S."
     ]
    },
    {
     "cell_type": "markdown",
     "metadata": {},
     "source": [
      "### ASA Data Exposition\n",
      "\n",
      "http://stat-computing.org/dataexpo/\n",
      "\n",
      "The The Americal Statistical Association runs a bi-annual Data Exposition. Each Data Expo focuses on a single data set and the historical data sets are available. In particular the data set of historical airline flight information is interesting:\n",
      "\n",
      "http://stat-computing.org/dataexpo/2009/"
     ]
    },
    {
     "cell_type": "markdown",
     "metadata": {},
     "source": [
      "### Kaggle\n",
      "\n",
      "https://www.kaggle.com/\n",
      "\n",
      "Kaggle runs Data Science competitions and has a number of interesting data sets."
     ]
    }
   ],
   "metadata": {}
  }
 ]
}